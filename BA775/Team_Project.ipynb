{
  "cells": [
    {
      "cell_type": "markdown",
      "id": "62cb01c4",
      "metadata": {
        "id": "62cb01c4"
      },
      "source": [
        "## US Traffic Accident Analysis"
      ]
    },
    {
      "cell_type": "markdown",
      "id": "2f0aa8d0",
      "metadata": {
        "id": "2f0aa8d0"
      },
      "source": [
        "### Team Member:\n",
        "  Yinghao Wang, Keshuo Liu, Yu Shu, Zhenyang Gai, Simeng Li, Kratik Gupta"
      ]
    },
    {
      "cell_type": "markdown",
      "id": "0f67e8dc",
      "metadata": {
        "id": "0f67e8dc"
      },
      "source": [
        "### Problem Definition:"
      ]
    },
    {
      "cell_type": "markdown",
      "id": "fad0133e",
      "metadata": {
        "id": "fad0133e"
      },
      "source": [
        "Our goal is to find out the factors that influence the occurrence of the number of accidents happening in the United States. We will take factors such as location, weather, and daytime into consideration and use Tableau to provide geographical related visualization. We will make analysis through a large-scale dataset to increase the accuracy of detecting relationships between factors and accident rate. We aim at providing suggestions to DMV and drivers about safe driving. "
      ]
    },
    {
      "cell_type": "markdown",
      "id": "d4f6e8cb",
      "metadata": {
        "id": "d4f6e8cb"
      },
      "source": [
        "### Data Source Link:"
      ]
    },
    {
      "cell_type": "markdown",
      "id": "3f6995d9",
      "metadata": {
        "id": "3f6995d9"
      },
      "source": [
        "1. \"US Traffic Accident\": A Countrywide Traffic Accident Dataset (2016 - 2020). https://www.kaggle.com/sobhanmoosavi/us-accidents\n",
        "2. \"US Population\": United States Census Bureau. https://www.census.gov/"
      ]
    },
    {
      "cell_type": "markdown",
      "id": "a26d50eb",
      "metadata": {
        "id": "a26d50eb"
      },
      "source": [
        "### Data Cleaning Process:"
      ]
    },
    {
      "cell_type": "markdown",
      "id": "00c63d38",
      "metadata": {
        "id": "00c63d38"
      },
      "source": [
        "On Kaggle we found a countrywide car accident dataset, which covers 49 states of the USA. The accident data are collected from February 2016 to Dec 2020, using multiple APIs that provide streaming traffic incident (or event) data. These APIs broadcast traffic data captured by a variety of entities, such as the US and state departments of transportation, law enforcement agencies, traffic cameras, and traffic sensors within the road-networks. Currently, there are about 3 million accident records in this dataset; therefore, datasets need to be cleaned before conducting analysis. With available dataset, we selected records in each year to see how number of accidents changes in 5 years. \n",
        "In the us accident table, each year contains a great number of data. There is more than 3 million accident records. Considering efficiency when performing analysis on datasets and limitations in terms of data size and budget on Google Cloud Platform, 10% of the data in each year is randomly sampled and unioned into one table.\n",
        "Below is an example of random selection process for 2017 datasets:"
      ]
    },
    {
      "cell_type": "code",
      "execution_count": null,
      "id": "c0c2ec96",
      "metadata": {
        "id": "c0c2ec96",
        "outputId": "7a043e2d-a81e-4436-85ed-d9d7e275c554"
      },
      "outputs": [
        {
          "name": "stderr",
          "output_type": "stream",
          "text": [
            "Query complete after 0.00s: 100%|██████████| 2/2 [00:00<00:00, 689.34query/s]                         \n",
            "Downloading: 100%|██████████| 5/5 [00:01<00:00,  3.29rows/s]\n"
          ]
        },
        {
          "data": {
            "text/html": [
              "<div>\n",
              "<style scoped>\n",
              "    .dataframe tbody tr th:only-of-type {\n",
              "        vertical-align: middle;\n",
              "    }\n",
              "\n",
              "    .dataframe tbody tr th {\n",
              "        vertical-align: top;\n",
              "    }\n",
              "\n",
              "    .dataframe thead th {\n",
              "        text-align: right;\n",
              "    }\n",
              "</style>\n",
              "<table border=\"1\" class=\"dataframe\">\n",
              "  <thead>\n",
              "    <tr style=\"text-align: right;\">\n",
              "      <th></th>\n",
              "      <th>ID</th>\n",
              "      <th>Severity</th>\n",
              "      <th>Start_Time</th>\n",
              "      <th>End_Time</th>\n",
              "      <th>Start_Lat</th>\n",
              "      <th>Start_Lng</th>\n",
              "      <th>End_Lat</th>\n",
              "      <th>End_Lng</th>\n",
              "      <th>Distance_mi_</th>\n",
              "      <th>Description</th>\n",
              "      <th>...</th>\n",
              "      <th>Roundabout</th>\n",
              "      <th>Station</th>\n",
              "      <th>Stop</th>\n",
              "      <th>Traffic_Calming</th>\n",
              "      <th>Traffic_Signal</th>\n",
              "      <th>Turning_Loop</th>\n",
              "      <th>Sunrise_Sunset</th>\n",
              "      <th>Civil_Twilight</th>\n",
              "      <th>Nautical_Twilight</th>\n",
              "      <th>Astronomical_Twilight</th>\n",
              "    </tr>\n",
              "  </thead>\n",
              "  <tbody>\n",
              "    <tr>\n",
              "      <th>0</th>\n",
              "      <td>A-1829991</td>\n",
              "      <td>4</td>\n",
              "      <td>2017-02-05 12:01:14+00:00</td>\n",
              "      <td>2017-02-05 18:01:14+00:00</td>\n",
              "      <td>32.604144</td>\n",
              "      <td>-112.869644</td>\n",
              "      <td>32.381274</td>\n",
              "      <td>-112.872400</td>\n",
              "      <td>15.40</td>\n",
              "      <td>Closed between Gilbert and Ajo Well Rd - Road ...</td>\n",
              "      <td>...</td>\n",
              "      <td>False</td>\n",
              "      <td>False</td>\n",
              "      <td>False</td>\n",
              "      <td>False</td>\n",
              "      <td>False</td>\n",
              "      <td>False</td>\n",
              "      <td>Day</td>\n",
              "      <td>Day</td>\n",
              "      <td>Day</td>\n",
              "      <td>Day</td>\n",
              "    </tr>\n",
              "    <tr>\n",
              "      <th>1</th>\n",
              "      <td>A-24095</td>\n",
              "      <td>3</td>\n",
              "      <td>2017-04-12 08:42:05+00:00</td>\n",
              "      <td>2017-04-12 09:24:52+00:00</td>\n",
              "      <td>27.925198</td>\n",
              "      <td>-82.593422</td>\n",
              "      <td>NaN</td>\n",
              "      <td>NaN</td>\n",
              "      <td>0.01</td>\n",
              "      <td>Right lane blocked due to accident on I-275 No...</td>\n",
              "      <td>...</td>\n",
              "      <td>False</td>\n",
              "      <td>False</td>\n",
              "      <td>False</td>\n",
              "      <td>False</td>\n",
              "      <td>False</td>\n",
              "      <td>False</td>\n",
              "      <td>Day</td>\n",
              "      <td>Day</td>\n",
              "      <td>Day</td>\n",
              "      <td>Day</td>\n",
              "    </tr>\n",
              "    <tr>\n",
              "      <th>2</th>\n",
              "      <td>A-1795739</td>\n",
              "      <td>2</td>\n",
              "      <td>2017-08-23 16:12:20+00:00</td>\n",
              "      <td>2017-08-23 16:41:48+00:00</td>\n",
              "      <td>37.885376</td>\n",
              "      <td>-122.516586</td>\n",
              "      <td>37.885376</td>\n",
              "      <td>-122.516586</td>\n",
              "      <td>0.00</td>\n",
              "      <td>#1 lane blocked due to accident on US-101 Nort...</td>\n",
              "      <td>...</td>\n",
              "      <td>False</td>\n",
              "      <td>False</td>\n",
              "      <td>False</td>\n",
              "      <td>False</td>\n",
              "      <td>False</td>\n",
              "      <td>False</td>\n",
              "      <td>Day</td>\n",
              "      <td>Day</td>\n",
              "      <td>Day</td>\n",
              "      <td>Day</td>\n",
              "    </tr>\n",
              "    <tr>\n",
              "      <th>3</th>\n",
              "      <td>A-28611</td>\n",
              "      <td>2</td>\n",
              "      <td>2017-05-31 14:51:29+00:00</td>\n",
              "      <td>2017-05-31 20:51:29+00:00</td>\n",
              "      <td>42.212128</td>\n",
              "      <td>-72.613529</td>\n",
              "      <td>42.212128</td>\n",
              "      <td>-72.613529</td>\n",
              "      <td>0.00</td>\n",
              "      <td>At Linden St - Accident.</td>\n",
              "      <td>...</td>\n",
              "      <td>False</td>\n",
              "      <td>False</td>\n",
              "      <td>False</td>\n",
              "      <td>False</td>\n",
              "      <td>False</td>\n",
              "      <td>False</td>\n",
              "      <td>Day</td>\n",
              "      <td>Day</td>\n",
              "      <td>Day</td>\n",
              "      <td>Day</td>\n",
              "    </tr>\n",
              "    <tr>\n",
              "      <th>4</th>\n",
              "      <td>A-1497379</td>\n",
              "      <td>2</td>\n",
              "      <td>2017-11-17 13:18:57+00:00</td>\n",
              "      <td>2017-11-17 14:33:44+00:00</td>\n",
              "      <td>42.114193</td>\n",
              "      <td>-72.621414</td>\n",
              "      <td>42.114193</td>\n",
              "      <td>-72.621414</td>\n",
              "      <td>0.00</td>\n",
              "      <td>Slow traffic due to serious accident on US-5 R...</td>\n",
              "      <td>...</td>\n",
              "      <td>False</td>\n",
              "      <td>False</td>\n",
              "      <td>False</td>\n",
              "      <td>False</td>\n",
              "      <td>False</td>\n",
              "      <td>False</td>\n",
              "      <td>Day</td>\n",
              "      <td>Day</td>\n",
              "      <td>Day</td>\n",
              "      <td>Day</td>\n",
              "    </tr>\n",
              "  </tbody>\n",
              "</table>\n",
              "<p>5 rows × 47 columns</p>\n",
              "</div>"
            ],
            "text/plain": [
              "          ID  Severity                Start_Time                  End_Time  \\\n",
              "0  A-1829991         4 2017-02-05 12:01:14+00:00 2017-02-05 18:01:14+00:00   \n",
              "1    A-24095         3 2017-04-12 08:42:05+00:00 2017-04-12 09:24:52+00:00   \n",
              "2  A-1795739         2 2017-08-23 16:12:20+00:00 2017-08-23 16:41:48+00:00   \n",
              "3    A-28611         2 2017-05-31 14:51:29+00:00 2017-05-31 20:51:29+00:00   \n",
              "4  A-1497379         2 2017-11-17 13:18:57+00:00 2017-11-17 14:33:44+00:00   \n",
              "\n",
              "   Start_Lat   Start_Lng    End_Lat     End_Lng  Distance_mi_  \\\n",
              "0  32.604144 -112.869644  32.381274 -112.872400         15.40   \n",
              "1  27.925198  -82.593422        NaN         NaN          0.01   \n",
              "2  37.885376 -122.516586  37.885376 -122.516586          0.00   \n",
              "3  42.212128  -72.613529  42.212128  -72.613529          0.00   \n",
              "4  42.114193  -72.621414  42.114193  -72.621414          0.00   \n",
              "\n",
              "                                         Description  ...  Roundabout Station  \\\n",
              "0  Closed between Gilbert and Ajo Well Rd - Road ...  ...       False   False   \n",
              "1  Right lane blocked due to accident on I-275 No...  ...       False   False   \n",
              "2  #1 lane blocked due to accident on US-101 Nort...  ...       False   False   \n",
              "3                           At Linden St - Accident.  ...       False   False   \n",
              "4  Slow traffic due to serious accident on US-5 R...  ...       False   False   \n",
              "\n",
              "    Stop Traffic_Calming Traffic_Signal Turning_Loop Sunrise_Sunset  \\\n",
              "0  False           False          False        False            Day   \n",
              "1  False           False          False        False            Day   \n",
              "2  False           False          False        False            Day   \n",
              "3  False           False          False        False            Day   \n",
              "4  False           False          False        False            Day   \n",
              "\n",
              "  Civil_Twilight Nautical_Twilight Astronomical_Twilight  \n",
              "0            Day               Day                   Day  \n",
              "1            Day               Day                   Day  \n",
              "2            Day               Day                   Day  \n",
              "3            Day               Day                   Day  \n",
              "4            Day               Day                   Day  \n",
              "\n",
              "[5 rows x 47 columns]"
            ]
          },
          "execution_count": 293,
          "metadata": {},
          "output_type": "execute_result"
        }
      ],
      "source": [
        "%%bigquery\n",
        "SELECT * FROM `ba775-project-team1.dataset_demo.us_traffic_accidents`\n",
        "WHERE rand() <= 0.1 AND  extract(year from start_time) = 2017\n",
        "LIMIT 5;"
      ]
    },
    {
      "cell_type": "markdown",
      "id": "42106406",
      "metadata": {
        "id": "42106406"
      },
      "source": [
        "After the first step of selecting sample data, some invalid rows were observed. Furthermore, we don't need all 47 columns from the orignal dataset. For example we don't need \"country\" column since all records happened only in the United States. We also need to exclude some invalid data when the state name is null or weather condition is unknown if we want to process related analysis.\n",
        "The filtering process is presented below:"
      ]
    },
    {
      "cell_type": "code",
      "execution_count": null,
      "id": "0a7ae439",
      "metadata": {
        "id": "0a7ae439",
        "outputId": "d919e348-4d32-4fa9-824e-cf7f56a9f90c"
      },
      "outputs": [
        {
          "name": "stderr",
          "output_type": "stream",
          "text": [
            "Query complete after 0.00s: 100%|██████████| 1/1 [00:00<00:00, 651.59query/s] \n",
            "Downloading: 100%|██████████| 5/5 [00:01<00:00,  3.12rows/s]\n"
          ]
        },
        {
          "data": {
            "text/html": [
              "<div>\n",
              "<style scoped>\n",
              "    .dataframe tbody tr th:only-of-type {\n",
              "        vertical-align: middle;\n",
              "    }\n",
              "\n",
              "    .dataframe tbody tr th {\n",
              "        vertical-align: top;\n",
              "    }\n",
              "\n",
              "    .dataframe thead th {\n",
              "        text-align: right;\n",
              "    }\n",
              "</style>\n",
              "<table border=\"1\" class=\"dataframe\">\n",
              "  <thead>\n",
              "    <tr style=\"text-align: right;\">\n",
              "      <th></th>\n",
              "      <th>ID</th>\n",
              "      <th>Severity</th>\n",
              "      <th>State</th>\n",
              "      <th>Time</th>\n",
              "      <th>Month</th>\n",
              "      <th>Hour</th>\n",
              "      <th>Weekday</th>\n",
              "      <th>Weather</th>\n",
              "      <th>Temp</th>\n",
              "      <th>Visibility</th>\n",
              "      <th>Preciputation</th>\n",
              "      <th>Railway</th>\n",
              "      <th>Station</th>\n",
              "      <th>Traffic_Signal</th>\n",
              "    </tr>\n",
              "  </thead>\n",
              "  <tbody>\n",
              "    <tr>\n",
              "      <th>0</th>\n",
              "      <td>A-38249</td>\n",
              "      <td>2</td>\n",
              "      <td>NY</td>\n",
              "      <td>2016-09-01 09:14:56+00:00</td>\n",
              "      <td>9</td>\n",
              "      <td>9</td>\n",
              "      <td>Thursday</td>\n",
              "      <td>Light Rain</td>\n",
              "      <td>72.0</td>\n",
              "      <td>5.00</td>\n",
              "      <td>0.02</td>\n",
              "      <td>False</td>\n",
              "      <td>False</td>\n",
              "      <td>False</td>\n",
              "    </tr>\n",
              "    <tr>\n",
              "      <th>1</th>\n",
              "      <td>A-1164713</td>\n",
              "      <td>3</td>\n",
              "      <td>NY</td>\n",
              "      <td>2020-04-18 07:13:47+00:00</td>\n",
              "      <td>4</td>\n",
              "      <td>7</td>\n",
              "      <td>Saturday</td>\n",
              "      <td>Fog</td>\n",
              "      <td>40.0</td>\n",
              "      <td>0.75</td>\n",
              "      <td>0.00</td>\n",
              "      <td>False</td>\n",
              "      <td>False</td>\n",
              "      <td>False</td>\n",
              "    </tr>\n",
              "    <tr>\n",
              "      <th>2</th>\n",
              "      <td>A-1251601</td>\n",
              "      <td>2</td>\n",
              "      <td>NY</td>\n",
              "      <td>2017-10-09 15:46:08+00:00</td>\n",
              "      <td>10</td>\n",
              "      <td>15</td>\n",
              "      <td>Monday</td>\n",
              "      <td>Light Rain</td>\n",
              "      <td>72.0</td>\n",
              "      <td>1.20</td>\n",
              "      <td>0.00</td>\n",
              "      <td>False</td>\n",
              "      <td>False</td>\n",
              "      <td>False</td>\n",
              "    </tr>\n",
              "    <tr>\n",
              "      <th>3</th>\n",
              "      <td>A-597940</td>\n",
              "      <td>2</td>\n",
              "      <td>NY</td>\n",
              "      <td>2016-07-25 08:53:43+00:00</td>\n",
              "      <td>7</td>\n",
              "      <td>8</td>\n",
              "      <td>Monday</td>\n",
              "      <td>Light Rain</td>\n",
              "      <td>78.1</td>\n",
              "      <td>10.00</td>\n",
              "      <td>0.00</td>\n",
              "      <td>False</td>\n",
              "      <td>False</td>\n",
              "      <td>False</td>\n",
              "    </tr>\n",
              "    <tr>\n",
              "      <th>4</th>\n",
              "      <td>A-2587815</td>\n",
              "      <td>2</td>\n",
              "      <td>DC</td>\n",
              "      <td>2020-11-12 15:55:38+00:00</td>\n",
              "      <td>11</td>\n",
              "      <td>15</td>\n",
              "      <td>Thursday</td>\n",
              "      <td>Cloudy</td>\n",
              "      <td>52.0</td>\n",
              "      <td>10.00</td>\n",
              "      <td>0.01</td>\n",
              "      <td>False</td>\n",
              "      <td>False</td>\n",
              "      <td>False</td>\n",
              "    </tr>\n",
              "  </tbody>\n",
              "</table>\n",
              "</div>"
            ],
            "text/plain": [
              "          ID  Severity State                      Time  Month  Hour   Weekday  \\\n",
              "0    A-38249         2    NY 2016-09-01 09:14:56+00:00      9     9  Thursday   \n",
              "1  A-1164713         3    NY 2020-04-18 07:13:47+00:00      4     7  Saturday   \n",
              "2  A-1251601         2    NY 2017-10-09 15:46:08+00:00     10    15    Monday   \n",
              "3   A-597940         2    NY 2016-07-25 08:53:43+00:00      7     8    Monday   \n",
              "4  A-2587815         2    DC 2020-11-12 15:55:38+00:00     11    15  Thursday   \n",
              "\n",
              "      Weather  Temp  Visibility  Preciputation  Railway  Station  \\\n",
              "0  Light Rain  72.0        5.00           0.02    False    False   \n",
              "1         Fog  40.0        0.75           0.00    False    False   \n",
              "2  Light Rain  72.0        1.20           0.00    False    False   \n",
              "3  Light Rain  78.1       10.00           0.00    False    False   \n",
              "4      Cloudy  52.0       10.00           0.01    False    False   \n",
              "\n",
              "   Traffic_Signal  \n",
              "0           False  \n",
              "1           False  \n",
              "2           False  \n",
              "3           False  \n",
              "4           False  "
            ]
          },
          "execution_count": 294,
          "metadata": {},
          "output_type": "execute_result"
        }
      ],
      "source": [
        "%%bigquery\n",
        "select ID, Severity, State, Start_Time as Time, EXTRACT(month from Start_Time) Month,  EXTRACT(hour FROM Start_Time) Hour, FORMAT_DATE('%A', EXTRACT(date FROM Start_Time)) AS Weekday, Weather_Condition as Weather, Temperature_F_ as Temp, \n",
        "Visibility_mi_ as Visibility, Precipitation_in_ as Preciputation, Railway, Station, Traffic_Signal\n",
        "from `ba775-project-team1.dataset_demo.us_traffic_accidents` \n",
        "where Weather_Condition <> 'nan' \n",
        "and Visibility_mi_ >= 0 \n",
        "and Precipitation_in_ >= 0\n",
        "LIMIT 5;"
      ]
    },
    {
      "cell_type": "markdown",
      "id": "90304367",
      "metadata": {
        "id": "90304367"
      },
      "source": [
        "Note that for all cleaning and filtering processes, a total of around 5000 accidents were filtered, which  accounts for 0.17% of our observing dataset. With such small amount of data eliminated, we can still produce reliable output since it does not influence the analysis output significantlly."
      ]
    },
    {
      "cell_type": "markdown",
      "id": "a9513a40",
      "metadata": {
        "id": "a9513a40"
      },
      "source": [
        "### Analysis Topics"
      ]
    },
    {
      "cell_type": "markdown",
      "id": "9b412f09",
      "metadata": {
        "id": "9b412f09"
      },
      "source": [
        "To achieve our objective and get into project proposal, we chose aspects in time of a day, weekday, location (in State and some particular places) and weather to observe underlying affects on traffic accidents and corresponding severity. All data processing performed on Google Big Query."
      ]
    },
    {
      "cell_type": "markdown",
      "id": "001c7f88",
      "metadata": {
        "id": "001c7f88"
      },
      "source": [
        "### Location:"
      ]
    },
    {
      "cell_type": "markdown",
      "id": "b9b7d8b2",
      "metadata": {
        "id": "b9b7d8b2"
      },
      "source": [
        "**Which state has the highest number of traffic accidents happened?**"
      ]
    },
    {
      "cell_type": "markdown",
      "id": "24d850c8",
      "metadata": {
        "id": "24d850c8"
      },
      "source": [
        "We analyzed the data to find which state of the country has the highest accidents happened. We found out that California is the state where most of accidents occured at, and number of accidents happended in CA is doubled than the second highest state Florida."
      ]
    },
    {
      "cell_type": "code",
      "execution_count": null,
      "id": "8390333a",
      "metadata": {
        "id": "8390333a",
        "outputId": "457d484d-3ffa-49b7-cb20-df306ce16258"
      },
      "outputs": [
        {
          "name": "stderr",
          "output_type": "stream",
          "text": [
            "Query complete after 0.00s: 100%|██████████| 1/1 [00:00<00:00, 1001.03query/s]\n",
            "Downloading: 100%|██████████| 5/5 [00:01<00:00,  2.76rows/s]\n"
          ]
        },
        {
          "data": {
            "text/html": [
              "<div>\n",
              "<style scoped>\n",
              "    .dataframe tbody tr th:only-of-type {\n",
              "        vertical-align: middle;\n",
              "    }\n",
              "\n",
              "    .dataframe tbody tr th {\n",
              "        vertical-align: top;\n",
              "    }\n",
              "\n",
              "    .dataframe thead th {\n",
              "        text-align: right;\n",
              "    }\n",
              "</style>\n",
              "<table border=\"1\" class=\"dataframe\">\n",
              "  <thead>\n",
              "    <tr style=\"text-align: right;\">\n",
              "      <th></th>\n",
              "      <th>State</th>\n",
              "      <th>num_of_accidents</th>\n",
              "    </tr>\n",
              "  </thead>\n",
              "  <tbody>\n",
              "    <tr>\n",
              "      <th>0</th>\n",
              "      <td>CA</td>\n",
              "      <td>39209</td>\n",
              "    </tr>\n",
              "    <tr>\n",
              "      <th>1</th>\n",
              "      <td>FL</td>\n",
              "      <td>16078</td>\n",
              "    </tr>\n",
              "    <tr>\n",
              "      <th>2</th>\n",
              "      <td>TX</td>\n",
              "      <td>9688</td>\n",
              "    </tr>\n",
              "    <tr>\n",
              "      <th>3</th>\n",
              "      <td>NY</td>\n",
              "      <td>7161</td>\n",
              "    </tr>\n",
              "    <tr>\n",
              "      <th>4</th>\n",
              "      <td>OR</td>\n",
              "      <td>7123</td>\n",
              "    </tr>\n",
              "  </tbody>\n",
              "</table>\n",
              "</div>"
            ],
            "text/plain": [
              "  State  num_of_accidents\n",
              "0    CA             39209\n",
              "1    FL             16078\n",
              "2    TX              9688\n",
              "3    NY              7161\n",
              "4    OR              7123"
            ]
          },
          "execution_count": 314,
          "metadata": {},
          "output_type": "execute_result"
        }
      ],
      "source": [
        "%%bigquery\n",
        "SELECT State, count(ID) as num_of_accidents\n",
        "FROM `ba775-project-team1.dataset_demo.sample_table_wpopulation`\n",
        "GROUP BY State\n",
        "ORDER BY num_of_accidents DESC\n",
        "LIMIT 5;"
      ]
    },
    {
      "cell_type": "markdown",
      "id": "f75c853c",
      "metadata": {
        "id": "f75c853c"
      },
      "source": [
        "<img src=\"https://github.com/yinghaow525/BA775-teamproject/blob/charts/Traffic%20Accidents%20Count%20National%20Map.png?raw=True\" width=\"500\" align=\"left\" />"
      ]
    },
    {
      "cell_type": "markdown",
      "id": "401db3b1",
      "metadata": {
        "id": "401db3b1"
      },
      "source": [
        "Since state's population varies from each other, the number of private motor vehicle ownership would have an impact on number of accidents records. If we want to factor out state population to normalize the count, and generating new calculation field as accidents per million. California is not the state having the highest traffic accident number. We can see California now has a same accidents_per_million value with Minnesota!"
      ]
    },
    {
      "cell_type": "code",
      "execution_count": null,
      "id": "36f3a3af",
      "metadata": {
        "id": "36f3a3af",
        "outputId": "526ea054-b108-435d-a180-bc0f367ed934"
      },
      "outputs": [
        {
          "name": "stderr",
          "output_type": "stream",
          "text": [
            "Query complete after 0.00s: 100%|██████████| 1/1 [00:00<00:00, 764.27query/s] \n",
            "Downloading: 100%|██████████| 5/5 [00:01<00:00,  3.25rows/s]\n"
          ]
        },
        {
          "data": {
            "text/html": [
              "<div>\n",
              "<style scoped>\n",
              "    .dataframe tbody tr th:only-of-type {\n",
              "        vertical-align: middle;\n",
              "    }\n",
              "\n",
              "    .dataframe tbody tr th {\n",
              "        vertical-align: top;\n",
              "    }\n",
              "\n",
              "    .dataframe thead th {\n",
              "        text-align: right;\n",
              "    }\n",
              "</style>\n",
              "<table border=\"1\" class=\"dataframe\">\n",
              "  <thead>\n",
              "    <tr style=\"text-align: right;\">\n",
              "      <th></th>\n",
              "      <th>State</th>\n",
              "      <th>num_of_accidents</th>\n",
              "      <th>population</th>\n",
              "      <th>accidents_per_million</th>\n",
              "    </tr>\n",
              "  </thead>\n",
              "  <tbody>\n",
              "    <tr>\n",
              "      <th>0</th>\n",
              "      <td>OR</td>\n",
              "      <td>7123</td>\n",
              "      <td>4217737</td>\n",
              "      <td>1689</td>\n",
              "    </tr>\n",
              "    <tr>\n",
              "      <th>1</th>\n",
              "      <td>SC</td>\n",
              "      <td>7121</td>\n",
              "      <td>5148714</td>\n",
              "      <td>1383</td>\n",
              "    </tr>\n",
              "    <tr>\n",
              "      <th>2</th>\n",
              "      <td>CA</td>\n",
              "      <td>39209</td>\n",
              "      <td>39512223</td>\n",
              "      <td>992</td>\n",
              "    </tr>\n",
              "    <tr>\n",
              "      <th>3</th>\n",
              "      <td>MN</td>\n",
              "      <td>5594</td>\n",
              "      <td>5639632</td>\n",
              "      <td>992</td>\n",
              "    </tr>\n",
              "    <tr>\n",
              "      <th>4</th>\n",
              "      <td>UT</td>\n",
              "      <td>2779</td>\n",
              "      <td>3205958</td>\n",
              "      <td>867</td>\n",
              "    </tr>\n",
              "  </tbody>\n",
              "</table>\n",
              "</div>"
            ],
            "text/plain": [
              "  State  num_of_accidents  population  accidents_per_million\n",
              "0    OR              7123     4217737                   1689\n",
              "1    SC              7121     5148714                   1383\n",
              "2    CA             39209    39512223                    992\n",
              "3    MN              5594     5639632                    992\n",
              "4    UT              2779     3205958                    867"
            ]
          },
          "execution_count": 315,
          "metadata": {},
          "output_type": "execute_result"
        }
      ],
      "source": [
        "%%bigquery\n",
        "SELECT State, count(ID) as num_of_accidents, population, cast(count(ID)/population*1000000 as INTEGER) accidents_per_million\n",
        "FROM `ba775-project-team1.dataset_demo.sample_table_wpopulation`\n",
        "GROUP BY State, population\n",
        "ORDER BY accidents_per_million DESC\n",
        "limit 5;"
      ]
    },
    {
      "cell_type": "markdown",
      "id": "979425cf",
      "metadata": {
        "id": "979425cf"
      },
      "source": [
        "<img src=\"https://github.com/yinghaow525/BA775-teamproject/blob/charts/Accidents%20per%20Million%20National%20Map.png?raw=True\" width=\"500\" align =\"left\" />"
      ]
    },
    {
      "cell_type": "markdown",
      "id": "007164c9",
      "metadata": {
        "id": "007164c9"
      },
      "source": [
        "**Which state is more prone to have more serious traffic accidents?**"
      ]
    },
    {
      "cell_type": "markdown",
      "id": "2781e385",
      "metadata": {
        "id": "2781e385"
      },
      "source": [
        "The distribution changes again when we take level of severity into account. We can observe that several states such as Montana, South and North Dakota do not have level-1 severity reocrds. The number of serious accidents happened in Florida, California and  New York is larger than that of other states."
      ]
    },
    {
      "cell_type": "code",
      "execution_count": null,
      "id": "c242138e",
      "metadata": {
        "id": "c242138e",
        "outputId": "0d1ac317-c7d1-4dff-f318-4f671ea0dc1c"
      },
      "outputs": [
        {
          "name": "stderr",
          "output_type": "stream",
          "text": [
            "Query complete after 0.00s: 100%|██████████| 3/3 [00:00<00:00, 1618.80query/s]                        \n",
            "Downloading: 100%|██████████| 5/5 [00:01<00:00,  3.07rows/s]\n"
          ]
        },
        {
          "data": {
            "text/html": [
              "<div>\n",
              "<style scoped>\n",
              "    .dataframe tbody tr th:only-of-type {\n",
              "        vertical-align: middle;\n",
              "    }\n",
              "\n",
              "    .dataframe tbody tr th {\n",
              "        vertical-align: top;\n",
              "    }\n",
              "\n",
              "    .dataframe thead th {\n",
              "        text-align: right;\n",
              "    }\n",
              "</style>\n",
              "<table border=\"1\" class=\"dataframe\">\n",
              "  <thead>\n",
              "    <tr style=\"text-align: right;\">\n",
              "      <th></th>\n",
              "      <th>State</th>\n",
              "      <th>num_of_accidents</th>\n",
              "    </tr>\n",
              "  </thead>\n",
              "  <tbody>\n",
              "    <tr>\n",
              "      <th>0</th>\n",
              "      <td>FL</td>\n",
              "      <td>457</td>\n",
              "    </tr>\n",
              "    <tr>\n",
              "      <th>1</th>\n",
              "      <td>CA</td>\n",
              "      <td>354</td>\n",
              "    </tr>\n",
              "    <tr>\n",
              "      <th>2</th>\n",
              "      <td>NY</td>\n",
              "      <td>350</td>\n",
              "    </tr>\n",
              "    <tr>\n",
              "      <th>3</th>\n",
              "      <td>PA</td>\n",
              "      <td>342</td>\n",
              "    </tr>\n",
              "    <tr>\n",
              "      <th>4</th>\n",
              "      <td>GA</td>\n",
              "      <td>332</td>\n",
              "    </tr>\n",
              "  </tbody>\n",
              "</table>\n",
              "</div>"
            ],
            "text/plain": [
              "  State  num_of_accidents\n",
              "0    FL               457\n",
              "1    CA               354\n",
              "2    NY               350\n",
              "3    PA               342\n",
              "4    GA               332"
            ]
          },
          "execution_count": 30,
          "metadata": {},
          "output_type": "execute_result"
        }
      ],
      "source": [
        "%%bigquery\n",
        "SELECT State, count(ID) as num_of_accidents\n",
        "FROM `ba775-project-team1.dataset_demo.sample_table_wpopulation`\n",
        "WHERE Severity=4\n",
        "GROUP BY State\n",
        "ORDER BY num_of_accidents DESC\n",
        "LIMIT 5;"
      ]
    },
    {
      "cell_type": "markdown",
      "id": "560d0c4e",
      "metadata": {
        "id": "560d0c4e"
      },
      "source": [
        "<img src='https://github.com/yinghaow525/BA775-teamproject/blob/charts/Sevirity%20Counts.png?raw=True' align='left' width='500' />"
      ]
    },
    {
      "cell_type": "markdown",
      "id": "63850245",
      "metadata": {
        "id": "63850245"
      },
      "source": [
        "**What characteristics were associated with more traffic accidents?**"
      ]
    },
    {
      "cell_type": "markdown",
      "id": "abebb3aa",
      "metadata": {
        "id": "abebb3aa"
      },
      "source": [
        "By comparing the number of accidents that happened around the location factors between 2016 and 2020, it is clear that traffic signals were the most frequent spots. Junctions and Crossings were the next. "
      ]
    },
    {
      "cell_type": "code",
      "execution_count": null,
      "id": "bb3480cc",
      "metadata": {
        "id": "bb3480cc",
        "outputId": "a5c11008-7978-42d1-c73d-914e931555d8"
      },
      "outputs": [
        {
          "name": "stderr",
          "output_type": "stream",
          "text": [
            "Query complete after 0.00s: 100%|██████████| 2/2 [00:00<00:00, 1038.32query/s]                        \n",
            "Downloading: 100%|██████████| 1/1 [00:01<00:00,  1.55s/rows]\n"
          ]
        },
        {
          "data": {
            "text/html": [
              "<div>\n",
              "<style scoped>\n",
              "    .dataframe tbody tr th:only-of-type {\n",
              "        vertical-align: middle;\n",
              "    }\n",
              "\n",
              "    .dataframe tbody tr th {\n",
              "        vertical-align: top;\n",
              "    }\n",
              "\n",
              "    .dataframe thead th {\n",
              "        text-align: right;\n",
              "    }\n",
              "</style>\n",
              "<table border=\"1\" class=\"dataframe\">\n",
              "  <thead>\n",
              "    <tr style=\"text-align: right;\">\n",
              "      <th></th>\n",
              "      <th>Amenity</th>\n",
              "      <th>Bump</th>\n",
              "      <th>Crossing</th>\n",
              "      <th>Give_Way</th>\n",
              "      <th>Junction</th>\n",
              "      <th>Railway</th>\n",
              "      <th>Roundabout</th>\n",
              "      <th>Station</th>\n",
              "      <th>Stop</th>\n",
              "      <th>Traffic_Calming</th>\n",
              "      <th>Traffic_Signal</th>\n",
              "      <th>Turning_Loop</th>\n",
              "    </tr>\n",
              "  </thead>\n",
              "  <tbody>\n",
              "    <tr>\n",
              "      <th>0</th>\n",
              "      <td>1694</td>\n",
              "      <td>48</td>\n",
              "      <td>11960</td>\n",
              "      <td>402</td>\n",
              "      <td>13911</td>\n",
              "      <td>1403</td>\n",
              "      <td>11</td>\n",
              "      <td>3244</td>\n",
              "      <td>2436</td>\n",
              "      <td>97</td>\n",
              "      <td>23981</td>\n",
              "      <td>0</td>\n",
              "    </tr>\n",
              "  </tbody>\n",
              "</table>\n",
              "</div>"
            ],
            "text/plain": [
              "   Amenity  Bump  Crossing  Give_Way  Junction  Railway  Roundabout  Station  \\\n",
              "0     1694    48     11960       402     13911     1403          11     3244   \n",
              "\n",
              "   Stop  Traffic_Calming  Traffic_Signal  Turning_Loop  \n",
              "0  2436               97           23981             0  "
            ]
          },
          "execution_count": 23,
          "metadata": {},
          "output_type": "execute_result"
        }
      ],
      "source": [
        "%%bigquery\n",
        "SELECT  Sum(case when (Amenity=TRUE and Amenity IS NOT NULL) then 1 else 0 end) Amenity,\n",
        "    Sum(case when (Bump=TRUE and Bump IS NOT NULL) then 1 else 0 end) Bump,\n",
        "    Sum(case when (Crossing=TRUE and Crossing IS NOT NULL) then 1 else 0 end) Crossing,\n",
        "    Sum(case when (Give_Way=TRUE and Give_Way IS NOT NULL) then 1 else 0 end) Give_Way,\n",
        "    Sum(case when (Junction=TRUE and Junction IS NOT NULL) then 1 else 0 end)Junction,\n",
        "    Sum(case when (Railway=TRUE and Railway IS NOT NULL) then 1 else 0 end) Railway,\n",
        "    Sum(case when (Roundabout=TRUE and Roundabout IS NOT NULL) then 1 else 0 end) Roundabout,\n",
        "    Sum(case when (Station=TRUE and Station IS NOT NULL) then 1 else 0 end) Station,\n",
        "    Sum(case when (Stop=TRUE and Stop IS NOT NULL) then 1 else 0 end) Stop,\n",
        "    Sum(case when (Traffic_Calming=TRUE and Traffic_Calming IS NOT NULL) then 1 else 0 end) Traffic_Calming,\n",
        "    Sum(case when (Traffic_Signal=TRUE and Traffic_Signal IS NOT NULL) then 1 else 0 end) Traffic_Signal,\n",
        "    Sum(case when (Turning_Loop=TRUE and Turning_Loop IS NOT NULL) then 1 else 0 end) Turning_Loop\n",
        "    from `ba775-project-team1.dataset_demo.sample_table_wpopulation`;"
      ]
    },
    {
      "cell_type": "markdown",
      "id": "cc05edb0",
      "metadata": {
        "id": "cc05edb0"
      },
      "source": [
        "<img src=\"https://github.com/KeshuoLiu/ba775-project-team1/blob/main/location.png?raw=True\" align=\"left\" width=\"500\"/>"
      ]
    },
    {
      "cell_type": "markdown",
      "id": "76c55e95",
      "metadata": {
        "id": "76c55e95"
      },
      "source": [
        "**Since around traffic signals were the most frequent traffic accident spots as shown above, when did traffic accidents occur more often around traffic signals?**"
      ]
    },
    {
      "cell_type": "markdown",
      "id": "b10dd100",
      "metadata": {
        "id": "b10dd100"
      },
      "source": [
        "From the sampled data, traffic accidents occurred more often around traffic signals during the morning peak and noon break periods."
      ]
    },
    {
      "cell_type": "code",
      "execution_count": null,
      "id": "c32f4f45",
      "metadata": {
        "id": "c32f4f45",
        "outputId": "d98242e3-9a9f-4fe8-8a38-4e8c495174fa"
      },
      "outputs": [
        {
          "name": "stderr",
          "output_type": "stream",
          "text": [
            "Query complete after 0.00s: 100%|██████████| 6/6 [00:00<00:00, 2810.57query/s]                        \n",
            "Downloading: 100%|██████████| 6/6 [00:01<00:00,  3.77rows/s]\n"
          ]
        },
        {
          "data": {
            "text/html": [
              "<div>\n",
              "<style scoped>\n",
              "    .dataframe tbody tr th:only-of-type {\n",
              "        vertical-align: middle;\n",
              "    }\n",
              "\n",
              "    .dataframe tbody tr th {\n",
              "        vertical-align: top;\n",
              "    }\n",
              "\n",
              "    .dataframe thead th {\n",
              "        text-align: right;\n",
              "    }\n",
              "</style>\n",
              "<table border=\"1\" class=\"dataframe\">\n",
              "  <thead>\n",
              "    <tr style=\"text-align: right;\">\n",
              "      <th></th>\n",
              "      <th>Weekday</th>\n",
              "      <th>Hour</th>\n",
              "      <th>Traffic_Signal</th>\n",
              "      <th>Percentage</th>\n",
              "    </tr>\n",
              "  </thead>\n",
              "  <tbody>\n",
              "    <tr>\n",
              "      <th>0</th>\n",
              "      <td>Tuesday</td>\n",
              "      <td>11</td>\n",
              "      <td>True</td>\n",
              "      <td>22.58</td>\n",
              "    </tr>\n",
              "    <tr>\n",
              "      <th>1</th>\n",
              "      <td>Wednesday</td>\n",
              "      <td>10</td>\n",
              "      <td>True</td>\n",
              "      <td>21.10</td>\n",
              "    </tr>\n",
              "    <tr>\n",
              "      <th>2</th>\n",
              "      <td>Tuesday</td>\n",
              "      <td>8</td>\n",
              "      <td>True</td>\n",
              "      <td>20.74</td>\n",
              "    </tr>\n",
              "    <tr>\n",
              "      <th>3</th>\n",
              "      <td>Friday</td>\n",
              "      <td>10</td>\n",
              "      <td>True</td>\n",
              "      <td>20.33</td>\n",
              "    </tr>\n",
              "    <tr>\n",
              "      <th>4</th>\n",
              "      <td>Friday</td>\n",
              "      <td>11</td>\n",
              "      <td>True</td>\n",
              "      <td>20.20</td>\n",
              "    </tr>\n",
              "    <tr>\n",
              "      <th>5</th>\n",
              "      <td>Wednesday</td>\n",
              "      <td>7</td>\n",
              "      <td>True</td>\n",
              "      <td>19.97</td>\n",
              "    </tr>\n",
              "  </tbody>\n",
              "</table>\n",
              "</div>"
            ],
            "text/plain": [
              "     Weekday  Hour  Traffic_Signal  Percentage\n",
              "0    Tuesday    11            True       22.58\n",
              "1  Wednesday    10            True       21.10\n",
              "2    Tuesday     8            True       20.74\n",
              "3     Friday    10            True       20.33\n",
              "4     Friday    11            True       20.20\n",
              "5  Wednesday     7            True       19.97"
            ]
          },
          "execution_count": 308,
          "metadata": {},
          "output_type": "execute_result"
        }
      ],
      "source": [
        "%%bigquery\n",
        "SELECT Weekday, Hour, Traffic_Signal, ROUND(COUNT(ID)/SUM(COUNT(ID)) OVER(PARTITION BY Weekday, Hour) * 100,2) Percentage\n",
        "FROM `ba775-project-team1.dataset_demo.sample_table_wpopulation`\n",
        "GROUP BY Weekday, Traffic_Signal, Hour\n",
        "ORDER BY Traffic_Signal DESC, Percentage DESC\n",
        "LIMIT 6"
      ]
    },
    {
      "cell_type": "markdown",
      "id": "cb287531",
      "metadata": {
        "id": "cb287531"
      },
      "source": [
        "<img src=\"https://github.com/KeshuoLiu/ba775-project-team1/blob/d544ec67edabf2fa033fa6c20cfa443f91d8a44d/temperature.jpg?raw=True\" align=\"left\" width=\"400\"/>"
      ]
    },
    {
      "cell_type": "markdown",
      "id": "eb75c3d4",
      "metadata": {
        "id": "eb75c3d4"
      },
      "source": [
        "### Weather Conditions:"
      ]
    },
    {
      "cell_type": "markdown",
      "id": "81cfc7a5",
      "metadata": {
        "id": "81cfc7a5"
      },
      "source": [
        "In this section, we will discuss the frequency of traffic accidents occurance on different weather conditions. "
      ]
    },
    {
      "cell_type": "markdown",
      "id": "5d7672f7",
      "metadata": {
        "id": "5d7672f7"
      },
      "source": [
        "**In which weather condition doest the traffic accident occure more?**"
      ]
    },
    {
      "cell_type": "markdown",
      "id": "c42f6d29",
      "metadata": {
        "id": "c42f6d29"
      },
      "source": [
        "The top 5 weather conditions that most of traffic accidents occured are, fair, cloudy, most cloudy, partly cloudy and light rain. These 5 conditions represent over 80% of traffic accidents. </br>\n",
        "Nearly half of the accidents happened in fair days, others were in cloudy, rainy or snowy days. Out of which cloudy occupies the highest portion. "
      ]
    },
    {
      "cell_type": "code",
      "execution_count": null,
      "id": "dc2381e0",
      "metadata": {
        "id": "dc2381e0",
        "outputId": "3d46e503-a35a-4d5f-850a-75a3cab8aea6"
      },
      "outputs": [
        {
          "name": "stderr",
          "output_type": "stream",
          "text": [
            "Query complete after 0.00s: 100%|██████████| 5/5 [00:00<00:00, 2683.50query/s]                        \n",
            "Downloading: 100%|██████████| 10/10 [00:01<00:00,  7.76rows/s]\n"
          ]
        },
        {
          "data": {
            "text/html": [
              "<div>\n",
              "<style scoped>\n",
              "    .dataframe tbody tr th:only-of-type {\n",
              "        vertical-align: middle;\n",
              "    }\n",
              "\n",
              "    .dataframe tbody tr th {\n",
              "        vertical-align: top;\n",
              "    }\n",
              "\n",
              "    .dataframe thead th {\n",
              "        text-align: right;\n",
              "    }\n",
              "</style>\n",
              "<table border=\"1\" class=\"dataframe\">\n",
              "  <thead>\n",
              "    <tr style=\"text-align: right;\">\n",
              "      <th></th>\n",
              "      <th>Weather_Condition</th>\n",
              "      <th>number</th>\n",
              "      <th>percentage</th>\n",
              "    </tr>\n",
              "  </thead>\n",
              "  <tbody>\n",
              "    <tr>\n",
              "      <th>0</th>\n",
              "      <td>Fair</td>\n",
              "      <td>65596</td>\n",
              "      <td>0.413578</td>\n",
              "    </tr>\n",
              "    <tr>\n",
              "      <th>1</th>\n",
              "      <td>Cloudy</td>\n",
              "      <td>23714</td>\n",
              "      <td>0.149515</td>\n",
              "    </tr>\n",
              "    <tr>\n",
              "      <th>2</th>\n",
              "      <td>Mostly Cloudy</td>\n",
              "      <td>20088</td>\n",
              "      <td>0.126653</td>\n",
              "    </tr>\n",
              "    <tr>\n",
              "      <th>3</th>\n",
              "      <td>Partly Cloudy</td>\n",
              "      <td>13350</td>\n",
              "      <td>0.084171</td>\n",
              "    </tr>\n",
              "    <tr>\n",
              "      <th>4</th>\n",
              "      <td>Light Rain</td>\n",
              "      <td>13241</td>\n",
              "      <td>0.083484</td>\n",
              "    </tr>\n",
              "    <tr>\n",
              "      <th>5</th>\n",
              "      <td>Light Snow</td>\n",
              "      <td>3513</td>\n",
              "      <td>0.022149</td>\n",
              "    </tr>\n",
              "    <tr>\n",
              "      <th>6</th>\n",
              "      <td>Overcast</td>\n",
              "      <td>3360</td>\n",
              "      <td>0.021185</td>\n",
              "    </tr>\n",
              "    <tr>\n",
              "      <th>7</th>\n",
              "      <td>Rain</td>\n",
              "      <td>2968</td>\n",
              "      <td>0.018713</td>\n",
              "    </tr>\n",
              "    <tr>\n",
              "      <th>8</th>\n",
              "      <td>Fog</td>\n",
              "      <td>2591</td>\n",
              "      <td>0.016336</td>\n",
              "    </tr>\n",
              "    <tr>\n",
              "      <th>9</th>\n",
              "      <td>Haze</td>\n",
              "      <td>1537</td>\n",
              "      <td>0.009691</td>\n",
              "    </tr>\n",
              "  </tbody>\n",
              "</table>\n",
              "</div>"
            ],
            "text/plain": [
              "  Weather_Condition  number  percentage\n",
              "0              Fair   65596    0.413578\n",
              "1            Cloudy   23714    0.149515\n",
              "2     Mostly Cloudy   20088    0.126653\n",
              "3     Partly Cloudy   13350    0.084171\n",
              "4        Light Rain   13241    0.083484\n",
              "5        Light Snow    3513    0.022149\n",
              "6          Overcast    3360    0.021185\n",
              "7              Rain    2968    0.018713\n",
              "8               Fog    2591    0.016336\n",
              "9              Haze    1537    0.009691"
            ]
          },
          "execution_count": 8,
          "metadata": {},
          "output_type": "execute_result"
        }
      ],
      "source": [
        "%%bigquery\n",
        "SELECT Weather_Condition,  COUNT(ID) as number, ROUND( COUNT(ID)/(SELECT COUNT(ID) FROM `ba775-project-team1.dataset_demo.sample_table`  ),6) AS percentage FROM `ba775-project-team1.dataset_demo.sample_table` \n",
        "GROUP BY Weather_Condition\n",
        "ORDER BY number desc\n",
        "LIMIT 10"
      ]
    },
    {
      "cell_type": "code",
      "execution_count": null,
      "id": "ac410872",
      "metadata": {
        "id": "ac410872",
        "outputId": "15f35d49-6f11-486d-847f-33b83cfd3f47"
      },
      "outputs": [
        {
          "name": "stderr",
          "output_type": "stream",
          "text": [
            "Query complete after 0.00s: 100%|██████████| 1/1 [00:00<00:00, 969.56query/s] \n",
            "Downloading: 100%|██████████| 1/1 [00:01<00:00,  1.31s/rows]\n"
          ]
        },
        {
          "data": {
            "text/html": [
              "<div>\n",
              "<style scoped>\n",
              "    .dataframe tbody tr th:only-of-type {\n",
              "        vertical-align: middle;\n",
              "    }\n",
              "\n",
              "    .dataframe tbody tr th {\n",
              "        vertical-align: top;\n",
              "    }\n",
              "\n",
              "    .dataframe thead th {\n",
              "        text-align: right;\n",
              "    }\n",
              "</style>\n",
              "<table border=\"1\" class=\"dataframe\">\n",
              "  <thead>\n",
              "    <tr style=\"text-align: right;\">\n",
              "      <th></th>\n",
              "      <th>f0_</th>\n",
              "    </tr>\n",
              "  </thead>\n",
              "  <tbody>\n",
              "    <tr>\n",
              "      <th>0</th>\n",
              "      <td>0.857401</td>\n",
              "    </tr>\n",
              "  </tbody>\n",
              "</table>\n",
              "</div>"
            ],
            "text/plain": [
              "        f0_\n",
              "0  0.857401"
            ]
          },
          "execution_count": 13,
          "metadata": {},
          "output_type": "execute_result"
        }
      ],
      "source": [
        "%%bigquery\n",
        "select SUM(percentage) FROM \n",
        "( SELECT Weather_Condition,  COUNT(ID) as number, ROUND( COUNT(ID)/(SELECT COUNT(ID) FROM `ba775-project-team1.dataset_demo.sample_table`  ),6) AS percentage FROM `ba775-project-team1.dataset_demo.sample_table` \n",
        "GROUP BY Weather_Condition\n",
        "ORDER BY number desc\n",
        "LIMIT 5 )"
      ]
    },
    {
      "cell_type": "markdown",
      "id": "43d068c2",
      "metadata": {
        "id": "43d068c2"
      },
      "source": [
        "<img src=\"https://github.com/yinghaow525/BA775-teamproject/blob/charts/weather_condition%20pie%20chart.png?raw=True\" align=\"left\" width=\"500\"/>"
      ]
    },
    {
      "cell_type": "markdown",
      "id": "1e8efc45",
      "metadata": {
        "id": "1e8efc45"
      },
      "source": [
        "**How severe the traffic accident is under different weather conditions?**\n",
        "</br>\n",
        "Most of the traffic accidents happened in all kinds of weather conditions are in a severity of 2."
      ]
    },
    {
      "cell_type": "code",
      "execution_count": null,
      "id": "1f67ba37",
      "metadata": {
        "id": "1f67ba37",
        "outputId": "d17d57b4-79ae-491c-a2f2-6ff6df461ac6"
      },
      "outputs": [
        {
          "name": "stderr",
          "output_type": "stream",
          "text": [
            "Query complete after 0.00s: 100%|██████████| 1/1 [00:00<00:00, 862.14query/s] \n",
            "Downloading: 100%|██████████| 10/10 [00:01<00:00,  7.31rows/s]\n"
          ]
        },
        {
          "data": {
            "text/html": [
              "<div>\n",
              "<style scoped>\n",
              "    .dataframe tbody tr th:only-of-type {\n",
              "        vertical-align: middle;\n",
              "    }\n",
              "\n",
              "    .dataframe tbody tr th {\n",
              "        vertical-align: top;\n",
              "    }\n",
              "\n",
              "    .dataframe thead th {\n",
              "        text-align: right;\n",
              "    }\n",
              "</style>\n",
              "<table border=\"1\" class=\"dataframe\">\n",
              "  <thead>\n",
              "    <tr style=\"text-align: right;\">\n",
              "      <th></th>\n",
              "      <th>Severity</th>\n",
              "      <th>Weather_Condition</th>\n",
              "      <th>number</th>\n",
              "      <th>percentage</th>\n",
              "    </tr>\n",
              "  </thead>\n",
              "  <tbody>\n",
              "    <tr>\n",
              "      <th>0</th>\n",
              "      <td>2</td>\n",
              "      <td>Fair</td>\n",
              "      <td>53899</td>\n",
              "      <td>0.339830</td>\n",
              "    </tr>\n",
              "    <tr>\n",
              "      <th>1</th>\n",
              "      <td>2</td>\n",
              "      <td>Cloudy</td>\n",
              "      <td>19035</td>\n",
              "      <td>0.120014</td>\n",
              "    </tr>\n",
              "    <tr>\n",
              "      <th>2</th>\n",
              "      <td>2</td>\n",
              "      <td>Mostly Cloudy</td>\n",
              "      <td>15198</td>\n",
              "      <td>0.095822</td>\n",
              "    </tr>\n",
              "    <tr>\n",
              "      <th>3</th>\n",
              "      <td>2</td>\n",
              "      <td>Partly Cloudy</td>\n",
              "      <td>10374</td>\n",
              "      <td>0.065407</td>\n",
              "    </tr>\n",
              "    <tr>\n",
              "      <th>4</th>\n",
              "      <td>2</td>\n",
              "      <td>Light Rain</td>\n",
              "      <td>9315</td>\n",
              "      <td>0.058730</td>\n",
              "    </tr>\n",
              "    <tr>\n",
              "      <th>5</th>\n",
              "      <td>3</td>\n",
              "      <td>Fair</td>\n",
              "      <td>8396</td>\n",
              "      <td>0.052936</td>\n",
              "    </tr>\n",
              "    <tr>\n",
              "      <th>6</th>\n",
              "      <td>3</td>\n",
              "      <td>Mostly Cloudy</td>\n",
              "      <td>3730</td>\n",
              "      <td>0.023517</td>\n",
              "    </tr>\n",
              "    <tr>\n",
              "      <th>7</th>\n",
              "      <td>3</td>\n",
              "      <td>Cloudy</td>\n",
              "      <td>3513</td>\n",
              "      <td>0.022149</td>\n",
              "    </tr>\n",
              "    <tr>\n",
              "      <th>8</th>\n",
              "      <td>3</td>\n",
              "      <td>Light Rain</td>\n",
              "      <td>3285</td>\n",
              "      <td>0.020712</td>\n",
              "    </tr>\n",
              "    <tr>\n",
              "      <th>9</th>\n",
              "      <td>2</td>\n",
              "      <td>Light Snow</td>\n",
              "      <td>2414</td>\n",
              "      <td>0.015220</td>\n",
              "    </tr>\n",
              "  </tbody>\n",
              "</table>\n",
              "</div>"
            ],
            "text/plain": [
              "   Severity Weather_Condition  number  percentage\n",
              "0         2              Fair   53899    0.339830\n",
              "1         2            Cloudy   19035    0.120014\n",
              "2         2     Mostly Cloudy   15198    0.095822\n",
              "3         2     Partly Cloudy   10374    0.065407\n",
              "4         2        Light Rain    9315    0.058730\n",
              "5         3              Fair    8396    0.052936\n",
              "6         3     Mostly Cloudy    3730    0.023517\n",
              "7         3            Cloudy    3513    0.022149\n",
              "8         3        Light Rain    3285    0.020712\n",
              "9         2        Light Snow    2414    0.015220"
            ]
          },
          "execution_count": 14,
          "metadata": {},
          "output_type": "execute_result"
        }
      ],
      "source": [
        "%%bigquery\n",
        "SELECT Severity,Weather_Condition,  COUNT(ID) as number, ROUND( COUNT(ID)/(SELECT COUNT(ID) FROM `ba775-project-team1.dataset_demo.sample_table`  ),6) AS percentage FROM `ba775-project-team1.dataset_demo.sample_table` \n",
        "GROUP BY Weather_Condition, Severity \n",
        "ORDER BY number DESC\n",
        "LIMIT 10"
      ]
    },
    {
      "cell_type": "markdown",
      "id": "69c5e763",
      "metadata": {
        "id": "69c5e763"
      },
      "source": [
        "<img src=\"https://github.com/yinghaow525/BA775-teamproject/blob/charts/Severity%20barchart.png?raw=True\" align=\"left\" width=\"600\"/>"
      ]
    },
    {
      "cell_type": "markdown",
      "id": "70bbe66c",
      "metadata": {
        "id": "70bbe66c"
      },
      "source": [
        "We put several weather factors into consideration: visibility, precipitation, temperature and wind speed."
      ]
    },
    {
      "cell_type": "markdown",
      "id": "57cb5331",
      "metadata": {
        "id": "57cb5331"
      },
      "source": [
        "<img src='https://github.com/yinghaow525/BA775-teamproject/blob/charts/Weather%20Conditions.png?raw=True' width='800' align='left' />"
      ]
    },
    {
      "cell_type": "markdown",
      "id": "86bc82e1",
      "metadata": {
        "id": "86bc82e1"
      },
      "source": [
        "**Take visibility distance as an factor first, do more accidents happen when visibility distance is shorter(<=5miles)?**"
      ]
    },
    {
      "cell_type": "code",
      "execution_count": null,
      "id": "6dbc9c06",
      "metadata": {
        "id": "6dbc9c06",
        "outputId": "5d473fa2-59a8-432f-94ae-d56012867398"
      },
      "outputs": [
        {
          "name": "stderr",
          "output_type": "stream",
          "text": [
            "Query complete after 0.00s: 100%|██████████| 3/3 [00:00<00:00, 1171.70query/s]                        \n",
            "Downloading: 100%|██████████| 12/12 [00:01<00:00,  7.62rows/s]\n"
          ]
        },
        {
          "data": {
            "text/html": [
              "<div>\n",
              "<style scoped>\n",
              "    .dataframe tbody tr th:only-of-type {\n",
              "        vertical-align: middle;\n",
              "    }\n",
              "\n",
              "    .dataframe tbody tr th {\n",
              "        vertical-align: top;\n",
              "    }\n",
              "\n",
              "    .dataframe thead th {\n",
              "        text-align: right;\n",
              "    }\n",
              "</style>\n",
              "<table border=\"1\" class=\"dataframe\">\n",
              "  <thead>\n",
              "    <tr style=\"text-align: right;\">\n",
              "      <th></th>\n",
              "      <th>Month</th>\n",
              "      <th>Visibility</th>\n",
              "      <th>num_of_accidents</th>\n",
              "    </tr>\n",
              "  </thead>\n",
              "  <tbody>\n",
              "    <tr>\n",
              "      <th>0</th>\n",
              "      <td>1</td>\n",
              "      <td>7.72</td>\n",
              "      <td>8796</td>\n",
              "    </tr>\n",
              "    <tr>\n",
              "      <th>1</th>\n",
              "      <td>2</td>\n",
              "      <td>7.71</td>\n",
              "      <td>8222</td>\n",
              "    </tr>\n",
              "    <tr>\n",
              "      <th>2</th>\n",
              "      <td>3</td>\n",
              "      <td>8.17</td>\n",
              "      <td>8257</td>\n",
              "    </tr>\n",
              "    <tr>\n",
              "      <th>3</th>\n",
              "      <td>4</td>\n",
              "      <td>8.92</td>\n",
              "      <td>12394</td>\n",
              "    </tr>\n",
              "    <tr>\n",
              "      <th>4</th>\n",
              "      <td>5</td>\n",
              "      <td>9.20</td>\n",
              "      <td>12073</td>\n",
              "    </tr>\n",
              "    <tr>\n",
              "      <th>5</th>\n",
              "      <td>6</td>\n",
              "      <td>9.51</td>\n",
              "      <td>12374</td>\n",
              "    </tr>\n",
              "    <tr>\n",
              "      <th>6</th>\n",
              "      <td>7</td>\n",
              "      <td>9.46</td>\n",
              "      <td>6195</td>\n",
              "    </tr>\n",
              "    <tr>\n",
              "      <th>7</th>\n",
              "      <td>8</td>\n",
              "      <td>9.23</td>\n",
              "      <td>7552</td>\n",
              "    </tr>\n",
              "    <tr>\n",
              "      <th>8</th>\n",
              "      <td>9</td>\n",
              "      <td>9.13</td>\n",
              "      <td>13388</td>\n",
              "    </tr>\n",
              "    <tr>\n",
              "      <th>9</th>\n",
              "      <td>10</td>\n",
              "      <td>8.98</td>\n",
              "      <td>19422</td>\n",
              "    </tr>\n",
              "    <tr>\n",
              "      <th>10</th>\n",
              "      <td>11</td>\n",
              "      <td>8.93</td>\n",
              "      <td>22432</td>\n",
              "    </tr>\n",
              "    <tr>\n",
              "      <th>11</th>\n",
              "      <td>12</td>\n",
              "      <td>8.56</td>\n",
              "      <td>27501</td>\n",
              "    </tr>\n",
              "  </tbody>\n",
              "</table>\n",
              "</div>"
            ],
            "text/plain": [
              "    Month  Visibility  num_of_accidents\n",
              "0       1        7.72              8796\n",
              "1       2        7.71              8222\n",
              "2       3        8.17              8257\n",
              "3       4        8.92             12394\n",
              "4       5        9.20             12073\n",
              "5       6        9.51             12374\n",
              "6       7        9.46              6195\n",
              "7       8        9.23              7552\n",
              "8       9        9.13             13388\n",
              "9      10        8.98             19422\n",
              "10     11        8.93             22432\n",
              "11     12        8.56             27501"
            ]
          },
          "execution_count": 15,
          "metadata": {},
          "output_type": "execute_result"
        }
      ],
      "source": [
        "%%bigquery\n",
        "SELECT Month, round(avg(Visibility_mi_),2) Visibility, count(*) num_of_accidents\n",
        "from `ba775-project-team1.dataset_demo.sample_table`\n",
        "GROUP BY Month\n",
        "ORDER BY Month"
      ]
    },
    {
      "cell_type": "markdown",
      "id": "f5ddc3ad",
      "metadata": {
        "id": "f5ddc3ad"
      },
      "source": [
        "There is no significant negative relationship between average visibility distance and num of accidents in different months. we can observe that when visibility distance is slightly shorter than 10 miles (very clear view), the number of accidents is higher than that of longer ones. Also, when visibility distance is lower than 8 miles, the portion of severity level 3 and 4 is larger than that of longer visibility distance. To further discover that whether low visibility distance (manually defined as <= 5 miles), we use the following charts:"
      ]
    },
    {
      "cell_type": "markdown",
      "id": "99859766",
      "metadata": {
        "id": "99859766"
      },
      "source": [
        "<img src='https://github.com/yinghaow525/BA775-teamproject/blob/charts/Number%20of%20Accidents%20Happened%20with%20Low%20Visibility%20Distance.png?raw=True' align='left' width='800' />"
      ]
    },
    {
      "cell_type": "markdown",
      "id": "73aa0296",
      "metadata": {
        "id": "73aa0296"
      },
      "source": [
        "In this way, we can observe a clear and repeated pattern of accidents happened with low visibility distance. It seems that traffic accidents counts tend to be far more in the first and forth quarter of a year, when visibility distance is less than or equal to 5 miles. "
      ]
    },
    {
      "cell_type": "markdown",
      "id": "4621c92b",
      "metadata": {
        "id": "4621c92b"
      },
      "source": [
        "**Did temperature affect the number of traffic accidents and severity accordingly?**"
      ]
    },
    {
      "cell_type": "markdown",
      "id": "70de0ea0",
      "metadata": {
        "id": "70de0ea0"
      },
      "source": [
        "The number of traffic accidents increased at the end of the year when temperatures were low. Level-2 severity accidents accounted for most of these late-year accidents, and the proportions of other level severity decreased."
      ]
    },
    {
      "cell_type": "code",
      "execution_count": null,
      "id": "8ea2fbf9",
      "metadata": {
        "id": "8ea2fbf9",
        "outputId": "3c6a79c0-868f-45f8-a696-dc7606996135"
      },
      "outputs": [
        {
          "name": "stderr",
          "output_type": "stream",
          "text": [
            "Query complete after 0.00s: 100%|██████████| 1/1 [00:00<00:00, 956.73query/s] \n",
            "Downloading: 100%|██████████| 5/5 [00:01<00:00,  3.25rows/s]\n"
          ]
        },
        {
          "data": {
            "text/html": [
              "<div>\n",
              "<style scoped>\n",
              "    .dataframe tbody tr th:only-of-type {\n",
              "        vertical-align: middle;\n",
              "    }\n",
              "\n",
              "    .dataframe tbody tr th {\n",
              "        vertical-align: top;\n",
              "    }\n",
              "\n",
              "    .dataframe thead th {\n",
              "        text-align: right;\n",
              "    }\n",
              "</style>\n",
              "<table border=\"1\" class=\"dataframe\">\n",
              "  <thead>\n",
              "    <tr style=\"text-align: right;\">\n",
              "      <th></th>\n",
              "      <th>Month</th>\n",
              "      <th>Temperature</th>\n",
              "      <th>Severity</th>\n",
              "      <th>Count</th>\n",
              "    </tr>\n",
              "  </thead>\n",
              "  <tbody>\n",
              "    <tr>\n",
              "      <th>0</th>\n",
              "      <td>12</td>\n",
              "      <td>50.0</td>\n",
              "      <td>2</td>\n",
              "      <td>773</td>\n",
              "    </tr>\n",
              "    <tr>\n",
              "      <th>1</th>\n",
              "      <td>12</td>\n",
              "      <td>46.0</td>\n",
              "      <td>2</td>\n",
              "      <td>664</td>\n",
              "    </tr>\n",
              "    <tr>\n",
              "      <th>2</th>\n",
              "      <td>12</td>\n",
              "      <td>48.0</td>\n",
              "      <td>2</td>\n",
              "      <td>654</td>\n",
              "    </tr>\n",
              "    <tr>\n",
              "      <th>3</th>\n",
              "      <td>12</td>\n",
              "      <td>54.0</td>\n",
              "      <td>2</td>\n",
              "      <td>646</td>\n",
              "    </tr>\n",
              "    <tr>\n",
              "      <th>4</th>\n",
              "      <td>12</td>\n",
              "      <td>45.0</td>\n",
              "      <td>2</td>\n",
              "      <td>645</td>\n",
              "    </tr>\n",
              "  </tbody>\n",
              "</table>\n",
              "</div>"
            ],
            "text/plain": [
              "   Month  Temperature  Severity  Count\n",
              "0     12         50.0         2    773\n",
              "1     12         46.0         2    664\n",
              "2     12         48.0         2    654\n",
              "3     12         54.0         2    646\n",
              "4     12         45.0         2    645"
            ]
          },
          "execution_count": 310,
          "metadata": {},
          "output_type": "execute_result"
        }
      ],
      "source": [
        "%%bigquery\n",
        "SELECT Month, Temperature_F_ Temperature, Severity, COUNT(ID) Count\n",
        "FROM `ba775-project-team1.dataset_demo.sample_table_wpopulation`\n",
        "WHERE is_nan(Temperature_F_) = False\n",
        "GROUP BY Month, Severity, Temperature_F_\n",
        "ORDER BY COUNT(ID) DESC, Severity DESC, Month\n",
        "LIMIT 5"
      ]
    },
    {
      "cell_type": "markdown",
      "id": "e7fbcb20",
      "metadata": {
        "id": "e7fbcb20"
      },
      "source": [
        "<img src=\"https://github.com/yinghaow525/BA775-teamproject/blob/charts/Temperature_Severity_Month.png?raw=True\" align=\"left\" width=\"500\"/>"
      ]
    },
    {
      "cell_type": "markdown",
      "id": "a764ea5d",
      "metadata": {
        "id": "a764ea5d"
      },
      "source": [
        "### Time:"
      ]
    },
    {
      "cell_type": "markdown",
      "id": "7396f18e",
      "metadata": {
        "id": "7396f18e"
      },
      "source": [
        "**Does total number of accidents increase year by year?**"
      ]
    },
    {
      "cell_type": "markdown",
      "id": "61810a26",
      "metadata": {
        "id": "61810a26"
      },
      "source": [
        "The number of accidents in the U.S. has been increasing every year since 2016, and the number of traffic accidents happened in 2020 is twice than that happened in 2019."
      ]
    },
    {
      "cell_type": "code",
      "execution_count": null,
      "id": "05540260",
      "metadata": {
        "id": "05540260",
        "outputId": "0cfa1e94-8f3f-4e63-b775-074209c56bdb"
      },
      "outputs": [
        {
          "name": "stderr",
          "output_type": "stream",
          "text": [
            "Query complete after 0.00s: 100%|██████████| 3/3 [00:00<00:00, 1593.98query/s]                        \n",
            "Downloading: 100%|██████████| 5/5 [00:01<00:00,  3.18rows/s]\n"
          ]
        },
        {
          "data": {
            "text/html": [
              "<div>\n",
              "<style scoped>\n",
              "    .dataframe tbody tr th:only-of-type {\n",
              "        vertical-align: middle;\n",
              "    }\n",
              "\n",
              "    .dataframe tbody tr th {\n",
              "        vertical-align: top;\n",
              "    }\n",
              "\n",
              "    .dataframe thead th {\n",
              "        text-align: right;\n",
              "    }\n",
              "</style>\n",
              "<table border=\"1\" class=\"dataframe\">\n",
              "  <thead>\n",
              "    <tr style=\"text-align: right;\">\n",
              "      <th></th>\n",
              "      <th>Year</th>\n",
              "      <th>Year_accidents_n</th>\n",
              "    </tr>\n",
              "  </thead>\n",
              "  <tbody>\n",
              "    <tr>\n",
              "      <th>0</th>\n",
              "      <td>2016</td>\n",
              "      <td>2371</td>\n",
              "    </tr>\n",
              "    <tr>\n",
              "      <th>1</th>\n",
              "      <td>2017</td>\n",
              "      <td>5295</td>\n",
              "    </tr>\n",
              "    <tr>\n",
              "      <th>2</th>\n",
              "      <td>2018</td>\n",
              "      <td>7143</td>\n",
              "    </tr>\n",
              "    <tr>\n",
              "      <th>3</th>\n",
              "      <td>2019</td>\n",
              "      <td>47490</td>\n",
              "    </tr>\n",
              "    <tr>\n",
              "      <th>4</th>\n",
              "      <td>2020</td>\n",
              "      <td>96307</td>\n",
              "    </tr>\n",
              "  </tbody>\n",
              "</table>\n",
              "</div>"
            ],
            "text/plain": [
              "   Year  Year_accidents_n\n",
              "0  2016              2371\n",
              "1  2017              5295\n",
              "2  2018              7143\n",
              "3  2019             47490\n",
              "4  2020             96307"
            ]
          },
          "execution_count": 5,
          "metadata": {},
          "output_type": "execute_result"
        }
      ],
      "source": [
        "%%bigquery\n",
        "SELECT Year, COUNT(Year) AS Year_accidents_n\n",
        "FROM `ba775-project-team1.dataset_demo.sample_table_wpopulation`\n",
        "GROUP BY Year\n",
        "ORDER BY Year_accidents_n;"
      ]
    },
    {
      "cell_type": "markdown",
      "id": "3ba11b20",
      "metadata": {
        "id": "3ba11b20"
      },
      "source": [
        "**In which months do more traffic accidents happen? Does the pattern vary year from year?**"
      ]
    },
    {
      "cell_type": "markdown",
      "id": "e150ccd8",
      "metadata": {
        "id": "e150ccd8"
      },
      "source": [
        "In 2016, the most accidents occurred in December; \n",
        "In 2017, the most accidents in January;\n",
        "In 2018, the most accidents in November; \n",
        "In 2019, the most accidents in October; \n",
        "In 2020, the most accidents in December.\n",
        "This shows that the most accidents occur in the United States in the last quarter of the year."
      ]
    },
    {
      "cell_type": "code",
      "execution_count": null,
      "id": "9a565da6",
      "metadata": {
        "id": "9a565da6",
        "outputId": "e2659f4a-54d3-4c99-87d5-2f6669d12b08"
      },
      "outputs": [
        {
          "name": "stderr",
          "output_type": "stream",
          "text": [
            "Query complete after 0.00s: 100%|██████████| 1/1 [00:00<00:00, 784.42query/s] \n",
            "Downloading: 100%|██████████| 5/5 [00:02<00:00,  1.82rows/s]\n"
          ]
        },
        {
          "data": {
            "text/html": [
              "<div>\n",
              "<style scoped>\n",
              "    .dataframe tbody tr th:only-of-type {\n",
              "        vertical-align: middle;\n",
              "    }\n",
              "\n",
              "    .dataframe tbody tr th {\n",
              "        vertical-align: top;\n",
              "    }\n",
              "\n",
              "    .dataframe thead th {\n",
              "        text-align: right;\n",
              "    }\n",
              "</style>\n",
              "<table border=\"1\" class=\"dataframe\">\n",
              "  <thead>\n",
              "    <tr style=\"text-align: right;\">\n",
              "      <th></th>\n",
              "      <th>Year</th>\n",
              "      <th>Jan</th>\n",
              "      <th>Feb</th>\n",
              "      <th>Mar</th>\n",
              "      <th>Apr</th>\n",
              "      <th>May</th>\n",
              "      <th>Jun</th>\n",
              "      <th>Jul</th>\n",
              "      <th>Aug</th>\n",
              "      <th>Sep</th>\n",
              "      <th>Oct</th>\n",
              "      <th>Nov</th>\n",
              "      <th>Dec</th>\n",
              "    </tr>\n",
              "  </thead>\n",
              "  <tbody>\n",
              "    <tr>\n",
              "      <th>0</th>\n",
              "      <td>2016</td>\n",
              "      <td>0</td>\n",
              "      <td>23</td>\n",
              "      <td>36</td>\n",
              "      <td>120</td>\n",
              "      <td>65</td>\n",
              "      <td>112</td>\n",
              "      <td>199</td>\n",
              "      <td>302</td>\n",
              "      <td>309</td>\n",
              "      <td>319</td>\n",
              "      <td>376</td>\n",
              "      <td>510</td>\n",
              "    </tr>\n",
              "    <tr>\n",
              "      <th>1</th>\n",
              "      <td>2017</td>\n",
              "      <td>702</td>\n",
              "      <td>449</td>\n",
              "      <td>532</td>\n",
              "      <td>383</td>\n",
              "      <td>324</td>\n",
              "      <td>319</td>\n",
              "      <td>216</td>\n",
              "      <td>545</td>\n",
              "      <td>350</td>\n",
              "      <td>468</td>\n",
              "      <td>407</td>\n",
              "      <td>600</td>\n",
              "    </tr>\n",
              "    <tr>\n",
              "      <th>2</th>\n",
              "      <td>2018</td>\n",
              "      <td>794</td>\n",
              "      <td>626</td>\n",
              "      <td>736</td>\n",
              "      <td>524</td>\n",
              "      <td>478</td>\n",
              "      <td>379</td>\n",
              "      <td>270</td>\n",
              "      <td>373</td>\n",
              "      <td>590</td>\n",
              "      <td>639</td>\n",
              "      <td>900</td>\n",
              "      <td>834</td>\n",
              "    </tr>\n",
              "    <tr>\n",
              "      <th>3</th>\n",
              "      <td>2019</td>\n",
              "      <td>869</td>\n",
              "      <td>1289</td>\n",
              "      <td>549</td>\n",
              "      <td>4337</td>\n",
              "      <td>4223</td>\n",
              "      <td>3748</td>\n",
              "      <td>3833</td>\n",
              "      <td>4481</td>\n",
              "      <td>5737</td>\n",
              "      <td>6921</td>\n",
              "      <td>4851</td>\n",
              "      <td>6652</td>\n",
              "    </tr>\n",
              "    <tr>\n",
              "      <th>4</th>\n",
              "      <td>2020</td>\n",
              "      <td>6431</td>\n",
              "      <td>5835</td>\n",
              "      <td>6404</td>\n",
              "      <td>7030</td>\n",
              "      <td>6983</td>\n",
              "      <td>7816</td>\n",
              "      <td>1677</td>\n",
              "      <td>1851</td>\n",
              "      <td>6402</td>\n",
              "      <td>11075</td>\n",
              "      <td>15898</td>\n",
              "      <td>18905</td>\n",
              "    </tr>\n",
              "  </tbody>\n",
              "</table>\n",
              "</div>"
            ],
            "text/plain": [
              "   Year   Jan   Feb   Mar   Apr   May   Jun   Jul   Aug   Sep    Oct    Nov  \\\n",
              "0  2016     0    23    36   120    65   112   199   302   309    319    376   \n",
              "1  2017   702   449   532   383   324   319   216   545   350    468    407   \n",
              "2  2018   794   626   736   524   478   379   270   373   590    639    900   \n",
              "3  2019   869  1289   549  4337  4223  3748  3833  4481  5737   6921   4851   \n",
              "4  2020  6431  5835  6404  7030  6983  7816  1677  1851  6402  11075  15898   \n",
              "\n",
              "     Dec  \n",
              "0    510  \n",
              "1    600  \n",
              "2    834  \n",
              "3   6652  \n",
              "4  18905  "
            ]
          },
          "execution_count": 3,
          "metadata": {},
          "output_type": "execute_result"
        }
      ],
      "source": [
        "%%bigquery\n",
        "SELECT Year, \n",
        "   SUM(CASE WHEN Month = 1 THEN 1 ELSE 0 END) AS Jan,\n",
        "   SUM(CASE WHEN Month = 2 THEN 1 ELSE 0 END) AS Feb,\n",
        "   SUM(CASE WHEN Month = 3 THEN 1 ELSE 0 END) AS Mar,\n",
        "   SUM(CASE WHEN Month = 4 THEN 1 ELSE 0 END) AS Apr,\n",
        "   SUM(CASE WHEN Month = 5 THEN 1 ELSE 0 END) AS May,\n",
        "   SUM(CASE WHEN Month = 6 THEN 1 ELSE 0 END) AS Jun,\n",
        "   SUM(CASE WHEN Month = 7 THEN 1 ELSE 0 END) AS Jul,\n",
        "   SUM(CASE WHEN Month = 8 THEN 1 ELSE 0 END) AS Aug,\n",
        "   SUM(CASE WHEN Month = 9 THEN 1 ELSE 0 END) AS Sep,\n",
        "   SUM(CASE WHEN Month = 10 THEN 1 ELSE 0 END) AS Oct,\n",
        "   SUM(CASE WHEN Month = 11 THEN 1 ELSE 0 END) AS Nov,\n",
        "   SUM(CASE WHEN Month = 12 THEN 1 ELSE 0 END) AS Dec\n",
        "FROM `ba775-project-team1.dataset_demo.sample_table_wpopulation`\n",
        "GROUP BY Year\n",
        "ORDER BY Year;"
      ]
    },
    {
      "cell_type": "markdown",
      "id": "eb60d04c",
      "metadata": {
        "id": "eb60d04c"
      },
      "source": [
        "**In which hour of a day do more traffic accidents happen? Is number of accidents related to morning and evening traffic peak?**"
      ]
    },
    {
      "cell_type": "markdown",
      "id": "84dcfb70",
      "metadata": {
        "id": "84dcfb70"
      },
      "source": [
        "The hours of the day from 7:00 a.m. to 8:00 a.m. and 4:00 p.m. to 5:00 p.m. belong to the time of day when there are more accidents. These time periods are with heavy traffic when people usually go to work and school. The government and police can enforce traffic regulation and road transportation in these specific time periods."
      ]
    },
    {
      "cell_type": "code",
      "execution_count": null,
      "id": "5597478c",
      "metadata": {
        "id": "5597478c"
      },
      "outputs": [],
      "source": [
        "%%bigquery\n",
        "SELECT Hour, Severity, COUNT(ID) AS Hour_accidents_n\n",
        "FROM `ba775-project-team1.dataset_demo.sample_table_wpopulation`\n",
        "GROUP BY Hour, Severity\n",
        "ORDER BY Hour;"
      ]
    },
    {
      "cell_type": "markdown",
      "id": "9a82f166",
      "metadata": {
        "id": "9a82f166"
      },
      "source": [
        "<img src=\"https://github.com/yinghaow525/BA775-teamproject/blob/charts/Hour%20%26%20Counts.png?raw=True\" align=\"left\" width=\"400\"/>"
      ]
    },
    {
      "cell_type": "markdown",
      "id": "efb59d57",
      "metadata": {
        "id": "efb59d57"
      },
      "source": [
        "<img src=\"https://github.com/yinghaow525/BA775-teamproject/blob/charts/Accidents%20with%20Level%20of%20Severity%20by%20%20Hour.png?raw=True\" align=\"left\" width=\"500\"/>"
      ]
    },
    {
      "cell_type": "markdown",
      "id": "773fd653",
      "metadata": {
        "id": "773fd653"
      },
      "source": [
        "The severity of the accident was greatest at 5 p.m. The severity of accidents is higher during from 7:00 a.m. to 8:00 a.m. and 4:00 p.m. to 5:00 p.m."
      ]
    },
    {
      "cell_type": "markdown",
      "id": "71b4d4b1",
      "metadata": {
        "id": "71b4d4b1"
      },
      "source": [
        "**Does the number of traffic accidents relate to day of week: more accidents happen in weekdays rather than weekends? and how is the severity distribution?**"
      ]
    },
    {
      "cell_type": "markdown",
      "id": "af5ecef6",
      "metadata": {
        "id": "af5ecef6"
      },
      "source": [
        "The number of accidents on weekends is far more less than that of weekdays. And Most of the traffic accidents with severity level 2 or 3 also occurred on weekdays."
      ]
    },
    {
      "cell_type": "code",
      "execution_count": null,
      "id": "df4843f7",
      "metadata": {
        "id": "df4843f7"
      },
      "outputs": [],
      "source": [
        "%%bigquery\n",
        "SELECT Weekday, Severity, COUNT(ID) AS Weekday_accidents_n\n",
        "FROM `ba775-project-team1.dataset_demo.sample_table_wpopulation`\n",
        "GROUP BY Weekday, Severity\n",
        "ORDER BY Weekday_accidents_n;"
      ]
    },
    {
      "cell_type": "markdown",
      "id": "41db882b",
      "metadata": {
        "id": "41db882b"
      },
      "source": [
        "<img src=\"https://github.com/yinghaow525/BA775-teamproject/blob/charts/Accidents%20with%20Level%20of%20Severity%20by%20Day%20of%20Week.png?raw=True|\" align=\"left\" width=\"500\"/>"
      ]
    },
    {
      "cell_type": "markdown",
      "id": "b4c36daf",
      "metadata": {
        "id": "b4c36daf"
      },
      "source": [
        "### Use Bigquery Machine Learning To Predict Level of Severity for Accidents"
      ]
    },
    {
      "cell_type": "markdown",
      "id": "e0f17931",
      "metadata": {
        "id": "e0f17931"
      },
      "source": [
        "To help the government and drivers to better utilitize our analysis, we have decided to predict the level of severity of traffic accidents with given weather conditions and time factors."
      ]
    },
    {
      "cell_type": "markdown",
      "id": "8ff03954",
      "metadata": {
        "id": "8ff03954"
      },
      "source": [
        "**What are the factors that influence the level of severity of traffic accidents?**"
      ]
    },
    {
      "cell_type": "markdown",
      "id": "45a0bbbc",
      "metadata": {
        "id": "45a0bbbc"
      },
      "source": [
        "Now, we are trying to predict the level of severity of traffic accidents given some representative features. We select the sampled dataset with over 1,561 thousand of records as evaluating and training data.\n",
        "\n",
        "Since we want to predict the level of severity of traffic accidents at a given weather condition, at a certain place, and at a certain time of a year using Big Query machine learning, and the level of severity is a multi-class variable. We decided to use a Logistic Regression model with multi class option. We consider several factors listed below:"
      ]
    },
    {
      "cell_type": "markdown",
      "id": "a794e6ee",
      "metadata": {
        "id": "a794e6ee"
      },
      "source": [
        "Month: 1, 2, 3, 4, 5, 6, 7, 8, 9, 10, 11, 12\n",
        "</br>\n",
        "Hour: 0-23\n",
        "</br>\n",
        "Visibility: 0-10 miles\n",
        "</br>\n",
        "Precipitation: 0-24 inches\n",
        "</br>\n",
        "Wind Speed: 0-150 mph\n",
        "</br>\n",
        "Temperature: 0-174 °F\n",
        "</br>\n",
        "Railway: 0(False), 1(True)\n",
        "</br>\n",
        "Station: 0(False), 1(True)\n",
        "</br>\n",
        "Traffic_Signal: 0(False), 1(True)"
      ]
    },
    {
      "cell_type": "markdown",
      "id": "71b346c0",
      "metadata": {
        "id": "71b346c0"
      },
      "source": [
        "We select **level of severity** to be the dependent variable, and other factors to be the independent ones. Excluding ID because ID is unique for each traffic accident record and this unwillingly influences the overall accuracy of prediction model."
      ]
    },
    {
      "cell_type": "code",
      "execution_count": null,
      "id": "88f5e685",
      "metadata": {
        "id": "88f5e685",
        "outputId": "96ed1f72-c5af-46a4-85a9-3b62f9c60dee"
      },
      "outputs": [
        {
          "name": "stderr",
          "output_type": "stream",
          "text": [
            "Query complete after 0.00s: 100%|██████████| 3/3 [00:00<00:00, 1613.61query/s]                        \n"
          ]
        },
        {
          "data": {
            "text/html": [
              "<div>\n",
              "<style scoped>\n",
              "    .dataframe tbody tr th:only-of-type {\n",
              "        vertical-align: middle;\n",
              "    }\n",
              "\n",
              "    .dataframe tbody tr th {\n",
              "        vertical-align: top;\n",
              "    }\n",
              "\n",
              "    .dataframe thead th {\n",
              "        text-align: right;\n",
              "    }\n",
              "</style>\n",
              "<table border=\"1\" class=\"dataframe\">\n",
              "  <thead>\n",
              "    <tr style=\"text-align: right;\">\n",
              "      <th></th>\n",
              "    </tr>\n",
              "  </thead>\n",
              "  <tbody>\n",
              "  </tbody>\n",
              "</table>\n",
              "</div>"
            ],
            "text/plain": [
              "Empty DataFrame\n",
              "Columns: []\n",
              "Index: []"
            ]
          },
          "execution_count": 31,
          "metadata": {},
          "output_type": "execute_result"
        }
      ],
      "source": [
        "%%bigquery\n",
        "CREATE OR REPLACE MODEL `ba775-project-team1.dataset_demo.model`\n",
        "OPTIONS(model_type='logistic_reg', labels = ['Severity'])\n",
        "AS\n",
        "SELECT * EXCEPT(ID) from `ba775-project-team1.dataset_demo.data_model`"
      ]
    },
    {
      "cell_type": "markdown",
      "id": "d1ec1bc6",
      "metadata": {
        "id": "d1ec1bc6"
      },
      "source": [
        "**Evaluation of the logistic regression model**:"
      ]
    },
    {
      "cell_type": "code",
      "execution_count": null,
      "id": "17a1ba8b",
      "metadata": {
        "id": "17a1ba8b",
        "outputId": "db44cf47-37d0-41a3-aa75-c2ad3a72de09"
      },
      "outputs": [
        {
          "name": "stderr",
          "output_type": "stream",
          "text": [
            "Query complete after 0.00s: 100%|██████████| 9/9 [00:00<00:00, 4928.03query/s]                        \n",
            "Downloading: 100%|██████████| 1/1 [00:01<00:00,  1.45s/rows]\n"
          ]
        },
        {
          "data": {
            "text/html": [
              "<div>\n",
              "<style scoped>\n",
              "    .dataframe tbody tr th:only-of-type {\n",
              "        vertical-align: middle;\n",
              "    }\n",
              "\n",
              "    .dataframe tbody tr th {\n",
              "        vertical-align: top;\n",
              "    }\n",
              "\n",
              "    .dataframe thead th {\n",
              "        text-align: right;\n",
              "    }\n",
              "</style>\n",
              "<table border=\"1\" class=\"dataframe\">\n",
              "  <thead>\n",
              "    <tr style=\"text-align: right;\">\n",
              "      <th></th>\n",
              "      <th>precision</th>\n",
              "      <th>recall</th>\n",
              "      <th>accuracy</th>\n",
              "      <th>f1_score</th>\n",
              "      <th>log_loss</th>\n",
              "      <th>roc_auc</th>\n",
              "    </tr>\n",
              "  </thead>\n",
              "  <tbody>\n",
              "    <tr>\n",
              "      <th>0</th>\n",
              "      <td>0.279207</td>\n",
              "      <td>0.250272</td>\n",
              "      <td>0.784562</td>\n",
              "      <td>0.220693</td>\n",
              "      <td>2.090181</td>\n",
              "      <td>0.691139</td>\n",
              "    </tr>\n",
              "  </tbody>\n",
              "</table>\n",
              "</div>"
            ],
            "text/plain": [
              "   precision    recall  accuracy  f1_score  log_loss   roc_auc\n",
              "0   0.279207  0.250272  0.784562  0.220693  2.090181  0.691139"
            ]
          },
          "execution_count": 32,
          "metadata": {},
          "output_type": "execute_result"
        }
      ],
      "source": [
        "%%bigquery\n",
        "SELECT *\n",
        "FROM ML.EVALUATE\n",
        "(\n",
        "    MODEL dataset_demo.model,\n",
        "    (SELECT * EXCEPT(ID) FROM `ba775-project-team1.dataset_demo.data_model`)\n",
        ")"
      ]
    },
    {
      "cell_type": "markdown",
      "id": "e93923e0",
      "metadata": {
        "id": "e93923e0"
      },
      "source": [
        "Now, we obtain the bigquery machine model and the evaluation results. The precision is about 0.28 and roc_auc is about 0.69. The higher the roc_auc score is, the better the performance of the model at distinguishing classes."
      ]
    },
    {
      "cell_type": "markdown",
      "id": "8e182b51",
      "metadata": {
        "id": "8e182b51"
      },
      "source": [
        "**Using logistic regression model to make predictions on level of severity** (with existing data):"
      ]
    },
    {
      "cell_type": "code",
      "execution_count": null,
      "id": "391be947",
      "metadata": {
        "id": "391be947",
        "outputId": "7dd82cbc-ed06-4431-fc7f-79989d557788"
      },
      "outputs": [
        {
          "name": "stderr",
          "output_type": "stream",
          "text": [
            "Query complete after 0.00s: 100%|██████████| 9/9 [00:00<00:00, 5126.12query/s]                        \n"
          ]
        },
        {
          "data": {
            "text/html": [
              "<div>\n",
              "<style scoped>\n",
              "    .dataframe tbody tr th:only-of-type {\n",
              "        vertical-align: middle;\n",
              "    }\n",
              "\n",
              "    .dataframe tbody tr th {\n",
              "        vertical-align: top;\n",
              "    }\n",
              "\n",
              "    .dataframe thead th {\n",
              "        text-align: right;\n",
              "    }\n",
              "</style>\n",
              "<table border=\"1\" class=\"dataframe\">\n",
              "  <thead>\n",
              "    <tr style=\"text-align: right;\">\n",
              "      <th></th>\n",
              "    </tr>\n",
              "  </thead>\n",
              "  <tbody>\n",
              "  </tbody>\n",
              "</table>\n",
              "</div>"
            ],
            "text/plain": [
              "Empty DataFrame\n",
              "Columns: []\n",
              "Index: []"
            ]
          },
          "execution_count": 40,
          "metadata": {},
          "output_type": "execute_result"
        }
      ],
      "source": [
        "%%bigquery\n",
        "CREATE OR REPLACE TABLE dataset_demo.severity_predictions\n",
        "AS\n",
        "SELECT \n",
        "    predicted_Severity, \n",
        "    predicted_Severity_probs[OFFSET(0)].prob,\n",
        "    Severity,\n",
        "    Visibility,\n",
        "    Temperature,\n",
        "    Precipitation,\n",
        "    Wind_speed,\n",
        "    Hour, Month, Railway, Traffic_Signal, Station\n",
        "FROM ML.PREDICT\n",
        "(\n",
        "    MODEL `dataset_demo.model`,\n",
        "    (SELECT *  FROM `ba775-project-team1.dataset_demo.data_model`)\n",
        ")\n",
        "ORDER BY prob DESC"
      ]
    },
    {
      "cell_type": "markdown",
      "id": "df1d6eb1",
      "metadata": {
        "id": "df1d6eb1"
      },
      "source": [
        "The table created from the above query returns the result for the prediction of severity concluded by the factors we used as parameters defining the logistic regression, and the resulting table includes the probability of predicted severity to be true based on the selected parameters. The results we got as part of logistic regression is saved in severity_predictions."
      ]
    },
    {
      "cell_type": "code",
      "execution_count": null,
      "id": "c8d72a45",
      "metadata": {
        "id": "c8d72a45",
        "outputId": "fc8cc95f-481f-4903-da58-7508bfa5f01d"
      },
      "outputs": [
        {
          "name": "stderr",
          "output_type": "stream",
          "text": [
            "Query complete after 0.00s: 100%|██████████| 1/1 [00:00<00:00, 445.30query/s]                          \n",
            "Downloading: 100%|██████████| 10/10 [00:01<00:00,  7.17rows/s]\n"
          ]
        },
        {
          "data": {
            "text/html": [
              "<div>\n",
              "<style scoped>\n",
              "    .dataframe tbody tr th:only-of-type {\n",
              "        vertical-align: middle;\n",
              "    }\n",
              "\n",
              "    .dataframe tbody tr th {\n",
              "        vertical-align: top;\n",
              "    }\n",
              "\n",
              "    .dataframe thead th {\n",
              "        text-align: right;\n",
              "    }\n",
              "</style>\n",
              "<table border=\"1\" class=\"dataframe\">\n",
              "  <thead>\n",
              "    <tr style=\"text-align: right;\">\n",
              "      <th></th>\n",
              "      <th>predicted_Severity</th>\n",
              "      <th>prob</th>\n",
              "      <th>Severity</th>\n",
              "      <th>Visibility</th>\n",
              "      <th>Temperature</th>\n",
              "      <th>Precipitation</th>\n",
              "      <th>Wind_speed</th>\n",
              "      <th>Hour</th>\n",
              "      <th>Month</th>\n",
              "      <th>Railway</th>\n",
              "      <th>Traffic_Signal</th>\n",
              "      <th>Station</th>\n",
              "    </tr>\n",
              "  </thead>\n",
              "  <tbody>\n",
              "    <tr>\n",
              "      <th>0</th>\n",
              "      <td>3</td>\n",
              "      <td>1.000000</td>\n",
              "      <td>2</td>\n",
              "      <td>7.0</td>\n",
              "      <td>84.0</td>\n",
              "      <td>0.00</td>\n",
              "      <td>984.0</td>\n",
              "      <td>14</td>\n",
              "      <td>3</td>\n",
              "      <td>0</td>\n",
              "      <td>0</td>\n",
              "      <td>0</td>\n",
              "    </tr>\n",
              "    <tr>\n",
              "      <th>1</th>\n",
              "      <td>3</td>\n",
              "      <td>0.999071</td>\n",
              "      <td>2</td>\n",
              "      <td>10.0</td>\n",
              "      <td>50.0</td>\n",
              "      <td>24.00</td>\n",
              "      <td>5.0</td>\n",
              "      <td>18</td>\n",
              "      <td>12</td>\n",
              "      <td>0</td>\n",
              "      <td>0</td>\n",
              "      <td>0</td>\n",
              "    </tr>\n",
              "    <tr>\n",
              "      <th>2</th>\n",
              "      <td>3</td>\n",
              "      <td>0.999071</td>\n",
              "      <td>2</td>\n",
              "      <td>10.0</td>\n",
              "      <td>50.0</td>\n",
              "      <td>24.00</td>\n",
              "      <td>5.0</td>\n",
              "      <td>18</td>\n",
              "      <td>12</td>\n",
              "      <td>0</td>\n",
              "      <td>0</td>\n",
              "      <td>0</td>\n",
              "    </tr>\n",
              "    <tr>\n",
              "      <th>3</th>\n",
              "      <td>3</td>\n",
              "      <td>0.999071</td>\n",
              "      <td>2</td>\n",
              "      <td>10.0</td>\n",
              "      <td>50.0</td>\n",
              "      <td>24.00</td>\n",
              "      <td>5.0</td>\n",
              "      <td>18</td>\n",
              "      <td>12</td>\n",
              "      <td>0</td>\n",
              "      <td>0</td>\n",
              "      <td>0</td>\n",
              "    </tr>\n",
              "    <tr>\n",
              "      <th>4</th>\n",
              "      <td>3</td>\n",
              "      <td>0.992937</td>\n",
              "      <td>4</td>\n",
              "      <td>10.0</td>\n",
              "      <td>84.0</td>\n",
              "      <td>0.00</td>\n",
              "      <td>232.0</td>\n",
              "      <td>15</td>\n",
              "      <td>5</td>\n",
              "      <td>0</td>\n",
              "      <td>0</td>\n",
              "      <td>0</td>\n",
              "    </tr>\n",
              "    <tr>\n",
              "      <th>5</th>\n",
              "      <td>3</td>\n",
              "      <td>0.984456</td>\n",
              "      <td>2</td>\n",
              "      <td>10.0</td>\n",
              "      <td>75.0</td>\n",
              "      <td>0.00</td>\n",
              "      <td>211.0</td>\n",
              "      <td>15</td>\n",
              "      <td>9</td>\n",
              "      <td>0</td>\n",
              "      <td>0</td>\n",
              "      <td>0</td>\n",
              "    </tr>\n",
              "    <tr>\n",
              "      <th>6</th>\n",
              "      <td>3</td>\n",
              "      <td>0.980789</td>\n",
              "      <td>2</td>\n",
              "      <td>10.0</td>\n",
              "      <td>37.0</td>\n",
              "      <td>0.00</td>\n",
              "      <td>230.0</td>\n",
              "      <td>7</td>\n",
              "      <td>12</td>\n",
              "      <td>0</td>\n",
              "      <td>0</td>\n",
              "      <td>0</td>\n",
              "    </tr>\n",
              "    <tr>\n",
              "      <th>7</th>\n",
              "      <td>3</td>\n",
              "      <td>0.972629</td>\n",
              "      <td>3</td>\n",
              "      <td>5.0</td>\n",
              "      <td>37.4</td>\n",
              "      <td>10.00</td>\n",
              "      <td>26.5</td>\n",
              "      <td>19</td>\n",
              "      <td>1</td>\n",
              "      <td>0</td>\n",
              "      <td>0</td>\n",
              "      <td>0</td>\n",
              "    </tr>\n",
              "    <tr>\n",
              "      <th>8</th>\n",
              "      <td>3</td>\n",
              "      <td>0.969474</td>\n",
              "      <td>3</td>\n",
              "      <td>8.0</td>\n",
              "      <td>39.2</td>\n",
              "      <td>9.99</td>\n",
              "      <td>26.5</td>\n",
              "      <td>17</td>\n",
              "      <td>1</td>\n",
              "      <td>0</td>\n",
              "      <td>0</td>\n",
              "      <td>0</td>\n",
              "    </tr>\n",
              "    <tr>\n",
              "      <th>9</th>\n",
              "      <td>3</td>\n",
              "      <td>0.966376</td>\n",
              "      <td>3</td>\n",
              "      <td>7.0</td>\n",
              "      <td>79.0</td>\n",
              "      <td>0.00</td>\n",
              "      <td>157.0</td>\n",
              "      <td>12</td>\n",
              "      <td>4</td>\n",
              "      <td>0</td>\n",
              "      <td>0</td>\n",
              "      <td>0</td>\n",
              "    </tr>\n",
              "  </tbody>\n",
              "</table>\n",
              "</div>"
            ],
            "text/plain": [
              "   predicted_Severity      prob  Severity  Visibility  Temperature  \\\n",
              "0                   3  1.000000         2         7.0         84.0   \n",
              "1                   3  0.999071         2        10.0         50.0   \n",
              "2                   3  0.999071         2        10.0         50.0   \n",
              "3                   3  0.999071         2        10.0         50.0   \n",
              "4                   3  0.992937         4        10.0         84.0   \n",
              "5                   3  0.984456         2        10.0         75.0   \n",
              "6                   3  0.980789         2        10.0         37.0   \n",
              "7                   3  0.972629         3         5.0         37.4   \n",
              "8                   3  0.969474         3         8.0         39.2   \n",
              "9                   3  0.966376         3         7.0         79.0   \n",
              "\n",
              "   Precipitation  Wind_speed  Hour  Month  Railway  Traffic_Signal  Station  \n",
              "0           0.00       984.0    14      3        0               0        0  \n",
              "1          24.00         5.0    18     12        0               0        0  \n",
              "2          24.00         5.0    18     12        0               0        0  \n",
              "3          24.00         5.0    18     12        0               0        0  \n",
              "4           0.00       232.0    15      5        0               0        0  \n",
              "5           0.00       211.0    15      9        0               0        0  \n",
              "6           0.00       230.0     7     12        0               0        0  \n",
              "7          10.00        26.5    19      1        0               0        0  \n",
              "8           9.99        26.5    17      1        0               0        0  \n",
              "9           0.00       157.0    12      4        0               0        0  "
            ]
          },
          "execution_count": 41,
          "metadata": {},
          "output_type": "execute_result"
        }
      ],
      "source": [
        "%%bigquery\n",
        "SELECT * FROM dataset_demo.severity_predictions\n",
        "LIMIT 10"
      ]
    },
    {
      "cell_type": "markdown",
      "id": "baac6ce7",
      "metadata": {
        "id": "baac6ce7"
      },
      "source": [
        "**Overall accuracy of the predictions on each level of severity**:"
      ]
    },
    {
      "cell_type": "markdown",
      "id": "987767c8",
      "metadata": {
        "id": "987767c8"
      },
      "source": [
        "We determined the accuracy of our predicted results. The logistic regression model returned us a table with a 78% accurately predicted level of severity. The dataset we used was clustered around severity levels of 2 and 3, providing very few data points within level 1 and level 4 severity, which makes it difficult for the training of the model and maybe the reason our model has predicted 0 entries to lie within level 1 and level 4."
      ]
    },
    {
      "cell_type": "code",
      "execution_count": null,
      "id": "b6f55fa0",
      "metadata": {
        "id": "b6f55fa0",
        "outputId": "a10b3726-848d-4a6d-8532-d41d5dbb1a13"
      },
      "outputs": [
        {
          "name": "stderr",
          "output_type": "stream",
          "text": [
            "Query complete after 0.00s: 100%|██████████| 2/2 [00:00<00:00, 883.01query/s]                         \n",
            "Downloading: 100%|██████████| 1/1 [00:01<00:00,  1.40s/rows]\n"
          ]
        },
        {
          "data": {
            "text/html": [
              "<div>\n",
              "<style scoped>\n",
              "    .dataframe tbody tr th:only-of-type {\n",
              "        vertical-align: middle;\n",
              "    }\n",
              "\n",
              "    .dataframe tbody tr th {\n",
              "        vertical-align: top;\n",
              "    }\n",
              "\n",
              "    .dataframe thead th {\n",
              "        text-align: right;\n",
              "    }\n",
              "</style>\n",
              "<table border=\"1\" class=\"dataframe\">\n",
              "  <thead>\n",
              "    <tr style=\"text-align: right;\">\n",
              "      <th></th>\n",
              "      <th>total_accidents</th>\n",
              "      <th>actual_level1</th>\n",
              "      <th>actual_level2</th>\n",
              "      <th>actual_level3</th>\n",
              "      <th>actual_level4</th>\n",
              "      <th>level1_rate_percent</th>\n",
              "      <th>level2_rate_percent</th>\n",
              "      <th>level3_rate_percent</th>\n",
              "      <th>level4_rate_percent</th>\n",
              "      <th>predicted_level1</th>\n",
              "      <th>predicted_level2</th>\n",
              "      <th>predicted_level3</th>\n",
              "      <th>predicted_level4</th>\n",
              "      <th>true_predicted_level1</th>\n",
              "      <th>true_predicted_level2</th>\n",
              "      <th>true_predicted_level3</th>\n",
              "      <th>true_predicted_level4</th>\n",
              "      <th>all_levels_rate_percent_predicted</th>\n",
              "    </tr>\n",
              "  </thead>\n",
              "  <tbody>\n",
              "    <tr>\n",
              "      <th>0</th>\n",
              "      <td>1561074</td>\n",
              "      <td>25805</td>\n",
              "      <td>1225135</td>\n",
              "      <td>256827</td>\n",
              "      <td>53307</td>\n",
              "      <td>1.653029</td>\n",
              "      <td>78.480264</td>\n",
              "      <td>16.451943</td>\n",
              "      <td>3.414764</td>\n",
              "      <td>0</td>\n",
              "      <td>1559709</td>\n",
              "      <td>1365</td>\n",
              "      <td>0</td>\n",
              "      <td>0</td>\n",
              "      <td>1224306</td>\n",
              "      <td>453</td>\n",
              "      <td>0</td>\n",
              "      <td>78.456178</td>\n",
              "    </tr>\n",
              "  </tbody>\n",
              "</table>\n",
              "</div>"
            ],
            "text/plain": [
              "   total_accidents  actual_level1  actual_level2  actual_level3  \\\n",
              "0          1561074          25805        1225135         256827   \n",
              "\n",
              "   actual_level4  level1_rate_percent  level2_rate_percent  \\\n",
              "0          53307             1.653029            78.480264   \n",
              "\n",
              "   level3_rate_percent  level4_rate_percent  predicted_level1  \\\n",
              "0            16.451943             3.414764                 0   \n",
              "\n",
              "   predicted_level2  predicted_level3  predicted_level4  \\\n",
              "0           1559709              1365                 0   \n",
              "\n",
              "   true_predicted_level1  true_predicted_level2  true_predicted_level3  \\\n",
              "0                      0                1224306                    453   \n",
              "\n",
              "   true_predicted_level4  all_levels_rate_percent_predicted  \n",
              "0                      0                          78.456178  "
            ]
          },
          "execution_count": 35,
          "metadata": {},
          "output_type": "execute_result"
        }
      ],
      "source": [
        "%%bigquery\n",
        "SELECT \n",
        "    COUNT(*) total_accidents,\n",
        "    COUNTIF(Severity=1) actual_level1, \n",
        "    COUNTIF(Severity=2) actual_level2, \n",
        "    COUNTIF(Severity=3) actual_level3, \n",
        "    COUNTIF(Severity=4) actual_level4, \n",
        "    COUNTIF(Severity=1)/COUNT(*)*100 level1_rate_percent,\n",
        "    COUNTIF(Severity=2)/COUNT(*)*100 level2_rate_percent,\n",
        "    COUNTIF(Severity=3)/COUNT(*)*100 level3_rate_percent,\n",
        "    COUNTIF(Severity=4)/COUNT(*)*100 level4_rate_percent,\n",
        "    COUNTIF(predicted_Severity=1) predicted_level1,\n",
        "    COUNTIF(predicted_Severity=2) predicted_level2,\n",
        "    COUNTIF(predicted_Severity=3) predicted_level3,\n",
        "    COUNTIF(predicted_Severity=4) predicted_level4,\n",
        "    COUNTIF(Severity=1 AND predicted_Severity=1) true_predicted_level1,\n",
        "    COUNTIF(Severity=2 AND predicted_Severity=2) true_predicted_level2,\n",
        "    COUNTIF(Severity=3 AND predicted_Severity=3) true_predicted_level3,\n",
        "    COUNTIF(Severity=4 AND predicted_Severity=4) true_predicted_level4,\n",
        "    (COUNTIF(Severity=1 AND predicted_Severity=1) + COUNTIF(Severity=2 AND predicted_Severity=2) + COUNTIF(Severity=3 AND predicted_Severity=3) + COUNTIF(Severity=4 AND predicted_Severity=4))\n",
        "    /(COUNTIF(predicted_Severity=1)+COUNTIF(predicted_Severity=2)+COUNTIF(predicted_Severity=3)+ COUNTIF(predicted_Severity=4))*100 all_levels_rate_percent_predicted\n",
        "FROM `ba775-project-team1.dataset_demo.severity_predictions`"
      ]
    },
    {
      "cell_type": "markdown",
      "id": "36648318",
      "metadata": {
        "id": "36648318"
      },
      "source": [
        "**Prediction on level of severity in unknown Future**:"
      ]
    },
    {
      "cell_type": "markdown",
      "id": "021ac628",
      "metadata": {
        "id": "021ac628"
      },
      "source": [
        "We used our model with some manually defined factors to foresee predicted level of severity. The logistic regression model analyzed the results based on the training data and gave us predicted results. We used following parameters:\n",
        "1) Month : March <br>\n",
        "2) Hour : 12 <br>\n",
        "3) Visibility : 7 <br> \n",
        "4) Precipitation : 0 in <br>\n",
        "5) Wind_speed : 10 mph <br>\n",
        "6) Temperature 17 C <br>\n",
        "7) Railway : False <br>\n",
        "8) Station : False <br>\n",
        "9) Traffic_Signal : True <br>"
      ]
    },
    {
      "cell_type": "code",
      "execution_count": null,
      "id": "2e2351d7",
      "metadata": {
        "id": "2e2351d7",
        "outputId": "c62e71f6-b341-4c62-e30d-7c2dbbf3d93e"
      },
      "outputs": [
        {
          "name": "stderr",
          "output_type": "stream",
          "text": [
            "Query complete after 0.00s: 100%|██████████| 7/7 [00:00<00:00, 4117.83query/s]                        \n",
            "Downloading: 100%|██████████| 1/1 [00:01<00:00,  1.39s/rows]\n"
          ]
        },
        {
          "data": {
            "text/html": [
              "<div>\n",
              "<style scoped>\n",
              "    .dataframe tbody tr th:only-of-type {\n",
              "        vertical-align: middle;\n",
              "    }\n",
              "\n",
              "    .dataframe tbody tr th {\n",
              "        vertical-align: top;\n",
              "    }\n",
              "\n",
              "    .dataframe thead th {\n",
              "        text-align: right;\n",
              "    }\n",
              "</style>\n",
              "<table border=\"1\" class=\"dataframe\">\n",
              "  <thead>\n",
              "    <tr style=\"text-align: right;\">\n",
              "      <th></th>\n",
              "      <th>predicted_Severity</th>\n",
              "      <th>prob</th>\n",
              "      <th>Visibility</th>\n",
              "      <th>Temperature</th>\n",
              "      <th>Precipitation</th>\n",
              "      <th>Wind_speed</th>\n",
              "      <th>Hour</th>\n",
              "      <th>Month</th>\n",
              "      <th>Traffic_Signal</th>\n",
              "    </tr>\n",
              "  </thead>\n",
              "  <tbody>\n",
              "    <tr>\n",
              "      <th>0</th>\n",
              "      <td>2</td>\n",
              "      <td>0.835499</td>\n",
              "      <td>7</td>\n",
              "      <td>17</td>\n",
              "      <td>0</td>\n",
              "      <td>10</td>\n",
              "      <td>12</td>\n",
              "      <td>3</td>\n",
              "      <td>1</td>\n",
              "    </tr>\n",
              "  </tbody>\n",
              "</table>\n",
              "</div>"
            ],
            "text/plain": [
              "   predicted_Severity      prob  Visibility  Temperature  Precipitation  \\\n",
              "0                   2  0.835499           7           17              0   \n",
              "\n",
              "   Wind_speed  Hour  Month  Traffic_Signal  \n",
              "0          10    12      3               1  "
            ]
          },
          "execution_count": 38,
          "metadata": {},
          "output_type": "execute_result"
        }
      ],
      "source": [
        "%%bigquery\n",
        "SELECT \n",
        "    predicted_Severity, \n",
        "    predicted_Severity_probs[OFFSET(0)].prob,\n",
        " #   Severity,\n",
        "    Visibility,\n",
        "    Temperature,\n",
        "    Precipitation,\n",
        "    Wind_speed,\n",
        "    Hour, Month, Traffic_Signal\n",
        "FROM ML.PREDICT\n",
        "(\n",
        "    MODEL `dataset_demo.model`,\n",
        "    (SELECT 3 Month, 12 Hour, 7 Visibility,  0 Precipitation, 10 Wind_speed, 17 Temperature, 0 Railway,0 Station, 1 Traffic_Signal)\n",
        ")"
      ]
    },
    {
      "cell_type": "markdown",
      "id": "494af554",
      "metadata": {
        "id": "494af554"
      },
      "source": [
        "Based on our sql logistic regression model, we predict that in March at 12pm, the level of severity of a traffic accident happens near a traffic signal with specific weather condition factors is 2, and the probability is 83.55%. "
      ]
    },
    {
      "cell_type": "markdown",
      "id": "c7d3f2da",
      "metadata": {
        "id": "c7d3f2da"
      },
      "source": [
        "### Use Python Machine Learning To Predict Level of Severity for Accidents"
      ]
    },
    {
      "cell_type": "markdown",
      "id": "9e632d5e",
      "metadata": {
        "id": "9e632d5e"
      },
      "source": [
        "**CONCEPTS：**\n",
        "\n",
        "- **Why do we use Python machine learning based on python here?**<br>\n",
        "  \n",
        "  Previously using sql logistic regression model to make predictions on the level of severity, but we find out that even if the overall  model accuracy is 80%, there is NO CORRECT prediction on level 1 and 4.\n",
        "\n",
        "- **By working on machine learning, we can also anwser question below:**<br>\n",
        "Which feature is more closely related to traffic accident? <br>\n",
        "How to predict severity from this combination of important features?\n",
        "\n",
        "- **Why the output model  is important?**<br>\n",
        "Make sound driving advices to the situation may lead to  serious accident.<br>\n",
        "Help the Traffic Regulatory Bureau to effectively reduce the traffic accident rate."
      ]
    },
    {
      "cell_type": "markdown",
      "id": "2b249a7b",
      "metadata": {
        "id": "2b249a7b"
      },
      "source": [
        "STEP 1: **Processing Dataset with SQL**"
      ]
    },
    {
      "cell_type": "markdown",
      "id": "74d61a23",
      "metadata": {
        "id": "74d61a23"
      },
      "source": [
        "- **4 factors correspond to traffic accident:** <br>\n",
        "  Location/Time/Weather/Places<br>\n",
        "- **12 important features:** <br>\n",
        "  -- Location: State<br>\n",
        "  -- Time: Month/Hour/Weekday<br>\n",
        "  -- Weather: Weather/Visibility/Precipitation/Windspead/Temperature<br>\n",
        "  -- Places: Crossing/Junction/Traffic_Signal<br>\n",
        "- **For each severity level choose 10000 rows of data. The overall features data are 40000 rows.**"
      ]
    },
    {
      "cell_type": "markdown",
      "id": "ca1c225b",
      "metadata": {
        "id": "ca1c225b"
      },
      "source": [
        "<img src='https://github.com/yinghaow525/BA775-teamproject/blob/b0f2ec7f731968afd1da35ada7b9a4f1458ba527/Factors&Features.png?raw=Ture' align='left' width='1000' />"
      ]
    },
    {
      "cell_type": "code",
      "execution_count": null,
      "id": "1e9edf5b",
      "metadata": {
        "id": "1e9edf5b",
        "outputId": "42bf7533-bca9-4707-a287-d0f5d4f2a5dc"
      },
      "outputs": [
        {
          "name": "stderr",
          "output_type": "stream",
          "text": [
            "Query complete after 0.00s: 100%|██████████| 6/6 [00:00<00:00, 2708.04query/s]                        \n",
            "Downloading: 100%|██████████| 40000/40000 [00:01<00:00, 35451.27rows/s]\n"
          ]
        },
        {
          "data": {
            "text/html": [
              "<div>\n",
              "<style scoped>\n",
              "    .dataframe tbody tr th:only-of-type {\n",
              "        vertical-align: middle;\n",
              "    }\n",
              "\n",
              "    .dataframe tbody tr th {\n",
              "        vertical-align: top;\n",
              "    }\n",
              "\n",
              "    .dataframe thead th {\n",
              "        text-align: right;\n",
              "    }\n",
              "</style>\n",
              "<table border=\"1\" class=\"dataframe\">\n",
              "  <thead>\n",
              "    <tr style=\"text-align: right;\">\n",
              "      <th></th>\n",
              "      <th>ID</th>\n",
              "      <th>Severity</th>\n",
              "      <th>State</th>\n",
              "      <th>Month</th>\n",
              "      <th>Hour</th>\n",
              "      <th>Weekday</th>\n",
              "      <th>Weather_Condition</th>\n",
              "      <th>Visibility</th>\n",
              "      <th>Preciputation</th>\n",
              "      <th>Windspead</th>\n",
              "      <th>Temperature</th>\n",
              "      <th>Crossing</th>\n",
              "      <th>Junction</th>\n",
              "      <th>Traffic_Signal</th>\n",
              "    </tr>\n",
              "  </thead>\n",
              "  <tbody>\n",
              "    <tr>\n",
              "      <th>0</th>\n",
              "      <td>A-1251601</td>\n",
              "      <td>2</td>\n",
              "      <td>NY</td>\n",
              "      <td>10</td>\n",
              "      <td>15</td>\n",
              "      <td>Monday</td>\n",
              "      <td>Light Rain</td>\n",
              "      <td>1.2</td>\n",
              "      <td>0.00</td>\n",
              "      <td>10.4</td>\n",
              "      <td>72.0</td>\n",
              "      <td>0</td>\n",
              "      <td>1</td>\n",
              "      <td>0</td>\n",
              "    </tr>\n",
              "    <tr>\n",
              "      <th>1</th>\n",
              "      <td>A-597940</td>\n",
              "      <td>2</td>\n",
              "      <td>NY</td>\n",
              "      <td>7</td>\n",
              "      <td>8</td>\n",
              "      <td>Monday</td>\n",
              "      <td>Light Rain</td>\n",
              "      <td>10.0</td>\n",
              "      <td>0.00</td>\n",
              "      <td>3.5</td>\n",
              "      <td>78.1</td>\n",
              "      <td>0</td>\n",
              "      <td>1</td>\n",
              "      <td>0</td>\n",
              "    </tr>\n",
              "    <tr>\n",
              "      <th>2</th>\n",
              "      <td>A-2587815</td>\n",
              "      <td>2</td>\n",
              "      <td>DC</td>\n",
              "      <td>11</td>\n",
              "      <td>15</td>\n",
              "      <td>Thursday</td>\n",
              "      <td>Cloudy</td>\n",
              "      <td>10.0</td>\n",
              "      <td>0.01</td>\n",
              "      <td>13.0</td>\n",
              "      <td>52.0</td>\n",
              "      <td>0</td>\n",
              "      <td>0</td>\n",
              "      <td>0</td>\n",
              "    </tr>\n",
              "    <tr>\n",
              "      <th>3</th>\n",
              "      <td>A-589139</td>\n",
              "      <td>2</td>\n",
              "      <td>DC</td>\n",
              "      <td>12</td>\n",
              "      <td>13</td>\n",
              "      <td>Tuesday</td>\n",
              "      <td>Mostly Cloudy / Windy</td>\n",
              "      <td>10.0</td>\n",
              "      <td>0.00</td>\n",
              "      <td>24.0</td>\n",
              "      <td>48.0</td>\n",
              "      <td>0</td>\n",
              "      <td>0</td>\n",
              "      <td>0</td>\n",
              "    </tr>\n",
              "    <tr>\n",
              "      <th>4</th>\n",
              "      <td>A-31739</td>\n",
              "      <td>2</td>\n",
              "      <td>DC</td>\n",
              "      <td>12</td>\n",
              "      <td>12</td>\n",
              "      <td>Tuesday</td>\n",
              "      <td>Mostly Cloudy</td>\n",
              "      <td>10.0</td>\n",
              "      <td>0.00</td>\n",
              "      <td>18.0</td>\n",
              "      <td>45.0</td>\n",
              "      <td>0</td>\n",
              "      <td>0</td>\n",
              "      <td>0</td>\n",
              "    </tr>\n",
              "    <tr>\n",
              "      <th>...</th>\n",
              "      <td>...</td>\n",
              "      <td>...</td>\n",
              "      <td>...</td>\n",
              "      <td>...</td>\n",
              "      <td>...</td>\n",
              "      <td>...</td>\n",
              "      <td>...</td>\n",
              "      <td>...</td>\n",
              "      <td>...</td>\n",
              "      <td>...</td>\n",
              "      <td>...</td>\n",
              "      <td>...</td>\n",
              "      <td>...</td>\n",
              "      <td>...</td>\n",
              "    </tr>\n",
              "    <tr>\n",
              "      <th>39995</th>\n",
              "      <td>A-1429346</td>\n",
              "      <td>1</td>\n",
              "      <td>FL</td>\n",
              "      <td>4</td>\n",
              "      <td>16</td>\n",
              "      <td>Tuesday</td>\n",
              "      <td>Fair</td>\n",
              "      <td>10.0</td>\n",
              "      <td>0.00</td>\n",
              "      <td>12.0</td>\n",
              "      <td>82.0</td>\n",
              "      <td>1</td>\n",
              "      <td>0</td>\n",
              "      <td>1</td>\n",
              "    </tr>\n",
              "    <tr>\n",
              "      <th>39996</th>\n",
              "      <td>A-397197</td>\n",
              "      <td>1</td>\n",
              "      <td>FL</td>\n",
              "      <td>5</td>\n",
              "      <td>18</td>\n",
              "      <td>Friday</td>\n",
              "      <td>Fair</td>\n",
              "      <td>10.0</td>\n",
              "      <td>0.00</td>\n",
              "      <td>10.0</td>\n",
              "      <td>85.0</td>\n",
              "      <td>1</td>\n",
              "      <td>0</td>\n",
              "      <td>1</td>\n",
              "    </tr>\n",
              "    <tr>\n",
              "      <th>39997</th>\n",
              "      <td>A-2444855</td>\n",
              "      <td>1</td>\n",
              "      <td>FL</td>\n",
              "      <td>4</td>\n",
              "      <td>19</td>\n",
              "      <td>Wednesday</td>\n",
              "      <td>Fair</td>\n",
              "      <td>10.0</td>\n",
              "      <td>0.00</td>\n",
              "      <td>15.0</td>\n",
              "      <td>86.0</td>\n",
              "      <td>0</td>\n",
              "      <td>0</td>\n",
              "      <td>0</td>\n",
              "    </tr>\n",
              "    <tr>\n",
              "      <th>39998</th>\n",
              "      <td>A-363667</td>\n",
              "      <td>1</td>\n",
              "      <td>FL</td>\n",
              "      <td>3</td>\n",
              "      <td>17</td>\n",
              "      <td>Wednesday</td>\n",
              "      <td>Mostly Cloudy</td>\n",
              "      <td>10.0</td>\n",
              "      <td>0.00</td>\n",
              "      <td>16.0</td>\n",
              "      <td>88.0</td>\n",
              "      <td>1</td>\n",
              "      <td>0</td>\n",
              "      <td>1</td>\n",
              "    </tr>\n",
              "    <tr>\n",
              "      <th>39999</th>\n",
              "      <td>A-1117605</td>\n",
              "      <td>1</td>\n",
              "      <td>FL</td>\n",
              "      <td>4</td>\n",
              "      <td>17</td>\n",
              "      <td>Thursday</td>\n",
              "      <td>Fair</td>\n",
              "      <td>10.0</td>\n",
              "      <td>0.00</td>\n",
              "      <td>5.0</td>\n",
              "      <td>79.0</td>\n",
              "      <td>1</td>\n",
              "      <td>0</td>\n",
              "      <td>1</td>\n",
              "    </tr>\n",
              "  </tbody>\n",
              "</table>\n",
              "<p>40000 rows × 14 columns</p>\n",
              "</div>"
            ],
            "text/plain": [
              "              ID  Severity State  Month  Hour    Weekday  \\\n",
              "0      A-1251601         2    NY     10    15     Monday   \n",
              "1       A-597940         2    NY      7     8     Monday   \n",
              "2      A-2587815         2    DC     11    15   Thursday   \n",
              "3       A-589139         2    DC     12    13    Tuesday   \n",
              "4        A-31739         2    DC     12    12    Tuesday   \n",
              "...          ...       ...   ...    ...   ...        ...   \n",
              "39995  A-1429346         1    FL      4    16    Tuesday   \n",
              "39996   A-397197         1    FL      5    18     Friday   \n",
              "39997  A-2444855         1    FL      4    19  Wednesday   \n",
              "39998   A-363667         1    FL      3    17  Wednesday   \n",
              "39999  A-1117605         1    FL      4    17   Thursday   \n",
              "\n",
              "           Weather_Condition  Visibility  Preciputation  Windspead  \\\n",
              "0                 Light Rain         1.2           0.00       10.4   \n",
              "1                 Light Rain        10.0           0.00        3.5   \n",
              "2                     Cloudy        10.0           0.01       13.0   \n",
              "3      Mostly Cloudy / Windy        10.0           0.00       24.0   \n",
              "4              Mostly Cloudy        10.0           0.00       18.0   \n",
              "...                      ...         ...            ...        ...   \n",
              "39995                   Fair        10.0           0.00       12.0   \n",
              "39996                   Fair        10.0           0.00       10.0   \n",
              "39997                   Fair        10.0           0.00       15.0   \n",
              "39998          Mostly Cloudy        10.0           0.00       16.0   \n",
              "39999                   Fair        10.0           0.00        5.0   \n",
              "\n",
              "       Temperature  Crossing  Junction  Traffic_Signal  \n",
              "0             72.0         0         1               0  \n",
              "1             78.1         0         1               0  \n",
              "2             52.0         0         0               0  \n",
              "3             48.0         0         0               0  \n",
              "4             45.0         0         0               0  \n",
              "...            ...       ...       ...             ...  \n",
              "39995         82.0         1         0               1  \n",
              "39996         85.0         1         0               1  \n",
              "39997         86.0         0         0               0  \n",
              "39998         88.0         1         0               1  \n",
              "39999         79.0         1         0               1  \n",
              "\n",
              "[40000 rows x 14 columns]"
            ]
          },
          "execution_count": 42,
          "metadata": {},
          "output_type": "execute_result"
        }
      ],
      "source": [
        "%%bigquery\n",
        "(SELECT ID, Severity, State, extract(month from Start_Time) Month, extract(hour from Start_Time) Hour, FORMAT_DATE('%A', EXTRACT(date FROM Start_Time)) Weekday,\n",
        "Weather_Condition, Visibility_mi_ as Visibility, Precipitation_in_ as Preciputation, Wind_Speed_mph_ as Windspead, Temperature_F_ as Temperature, \n",
        "case when Crossing = True then 1 else 0 end Crossing, \n",
        "case when Junction = True then 1 else 0 end Junction, \n",
        "case when Traffic_Signal = True then 1 else 0 end Traffic_Signal\n",
        "FROM `ba775-project-team1.dataset_demo.us_traffic_accidents`\n",
        "WHERE Visibility_mi_ >=0 and Precipitation_in_>=0 and Temperature_F_>=0 and Wind_Speed_mph_>=0\n",
        "      and Severity = 1\n",
        "      limit 10000)\n",
        "union all\n",
        "(SELECT ID, Severity, State, extract(month from Start_Time) Month, extract(hour from Start_Time) Hour, FORMAT_DATE('%A', EXTRACT(date FROM Start_Time)) Weekday,\n",
        "Weather_Condition, Visibility_mi_ as Visibility, Precipitation_in_ as Preciputation, Wind_Speed_mph_ as Windspead, Temperature_F_ as Temperature, \n",
        "case when Crossing = True then 1 else 0 end Crossing, \n",
        "case when Junction = True then 1 else 0 end Junction, \n",
        "case when Traffic_Signal = True then 1 else 0 end Traffic_Signal\n",
        "FROM `ba775-project-team1.dataset_demo.us_traffic_accidents`\n",
        "WHERE Visibility_mi_ >=0 and Precipitation_in_>=0 and Temperature_F_>=0 and Wind_Speed_mph_>=0\n",
        "      and Severity = 2\n",
        "      limit 10000)\n",
        "union all\n",
        "(SELECT ID, Severity, State, extract(month from Start_Time) Month, extract(hour from Start_Time) Hour, FORMAT_DATE('%A', EXTRACT(date FROM Start_Time)) Weekday,\n",
        "Weather_Condition, Visibility_mi_ as Visibility, Precipitation_in_ as Preciputation, Wind_Speed_mph_ as Windspead, Temperature_F_ as Temperature, \n",
        "case when Crossing = True then 1 else 0 end Crossing, \n",
        "case when Junction = True then 1 else 0 end Junction, \n",
        "case when Traffic_Signal = True then 1 else 0 end Traffic_Signal\n",
        "FROM `ba775-project-team1.dataset_demo.us_traffic_accidents`\n",
        "WHERE Visibility_mi_ >=0 and Precipitation_in_>=0 and Temperature_F_>=0 and Wind_Speed_mph_>=0\n",
        "      and Severity = 3\n",
        "      limit 10000)\n",
        "union all\n",
        "(SELECT ID, Severity, State, extract(month from Start_Time) Month, extract(hour from Start_Time) Hour, FORMAT_DATE('%A', EXTRACT(date FROM Start_Time)) Weekday,\n",
        "Weather_Condition, Visibility_mi_ as Visibility, Precipitation_in_ as Preciputation, Wind_Speed_mph_ as Windspead, Temperature_F_ as Temperature, \n",
        "case when Crossing = True then 1 else 0 end Crossing, \n",
        "case when Junction = True then 1 else 0 end Junction, \n",
        "case when Traffic_Signal = True then 1 else 0 end Traffic_Signal\n",
        "FROM `ba775-project-team1.dataset_demo.us_traffic_accidents`\n",
        "WHERE Visibility_mi_ >=0 and Precipitation_in_>=0 and Temperature_F_>=0 and Wind_Speed_mph_>=0\n",
        "      and Severity = 4\n",
        "      limit 10000)"
      ]
    },
    {
      "cell_type": "markdown",
      "id": "70b6d0eb",
      "metadata": {
        "id": "70b6d0eb"
      },
      "source": [
        "STEP 2: **Processing Dataset with Python**"
      ]
    },
    {
      "cell_type": "markdown",
      "id": "9b39d4fa",
      "metadata": {
        "id": "9b39d4fa"
      },
      "source": [
        "- **Use python process text type features into ID type features.**\n",
        "- **Use python process ID type features into ONE-HOT encoding features. (Why?)**<br>\n",
        "  -- The integer values have a natural ordered relationship between each other and machine learning algorithms may be able to understand and harness this relationship.<br>\n",
        "  -- A one-hot encoding can avoid the model to assume a natural ordering between categories which may result in poor performance or unexpected results.<br>\n",
        "- **Split all data into 80% train dataset and 20% test dataset**"
      ]
    },
    {
      "cell_type": "markdown",
      "id": "3f3e746c",
      "metadata": {
        "id": "3f3e746c"
      },
      "source": [
        "<img src='https://github.com/yinghaow525/BA775-teamproject/blob/b0f2ec7f731968afd1da35ada7b9a4f1458ba527/Process%20Data%20by%20Python.png?raw=Ture' align='left' width='1000' />"
      ]
    },
    {
      "cell_type": "code",
      "execution_count": null,
      "id": "d4375e8d",
      "metadata": {
        "id": "d4375e8d",
        "outputId": "e46c4dc2-3808-400f-a4b8-197f869cc62e"
      },
      "outputs": [
        {
          "name": "stdout",
          "output_type": "stream",
          "text": [
            "     0    1    2    3    4    5    6    7    8    9  ...  272  273  274    0  \\\n",
            "0  0.0  0.0  0.0  0.0  0.0  0.0  0.0  0.0  0.0  0.0  ...  0.0  0.0  0.0  0.0   \n",
            "1  0.0  0.0  0.0  0.0  0.0  0.0  0.0  0.0  0.0  0.0  ...  0.0  0.0  0.0  0.0   \n",
            "2  0.0  0.0  0.0  0.0  0.0  0.0  0.0  0.0  0.0  0.0  ...  0.0  0.0  0.0  1.0   \n",
            "3  0.0  0.0  0.0  0.0  0.0  0.0  0.0  0.0  0.0  0.0  ...  0.0  0.0  0.0  1.0   \n",
            "4  0.0  0.0  0.0  0.0  0.0  0.0  0.0  0.0  0.0  0.0  ...  0.0  0.0  0.0  1.0   \n",
            "\n",
            "     1    0    1    0    1  severity  \n",
            "0  1.0  1.0  0.0  1.0  0.0         2  \n",
            "1  1.0  1.0  0.0  1.0  0.0         2  \n",
            "2  0.0  1.0  0.0  1.0  0.0         2  \n",
            "3  0.0  1.0  0.0  1.0  0.0         2  \n",
            "4  0.0  1.0  0.0  1.0  0.0         2  \n",
            "\n",
            "[5 rows x 666 columns]\n",
            "40000\n",
            "666\n"
          ]
        }
      ],
      "source": [
        "import pandas as pd\n",
        "import random\n",
        "import numpy as np\n",
        "\n",
        "# col_types = {}\n",
        "features = [\"State\", \"Month\", \"Hour\", \"Weekday\", \"Weather\", \"Visibility\", \"Preciputation\", \"Windspead\", \"Temperature\",\n",
        "            \"Junction\", \"Crossing\", \"Traffic_Signal\"]\n",
        "\n",
        "def open_file(filename, mode='r'):\n",
        "    return open(filename, mode, encoding='utf-8', errors='ignore')\n",
        "\n",
        "def write_file(filename, content):\n",
        "    open_file(filename, mode=\"w\").write(content)\n",
        "\n",
        "# split features data into 80% train dataset and 20% test dataset   \n",
        "def random_sample(filename):\n",
        "    with open_file(filename) as f_:\n",
        "        lines = f_.readlines()\n",
        "    random.shuffle(lines)\n",
        "    len_test = int(len(lines) * 0.2)\n",
        "    lines_test = lines[0:len_test]\n",
        "    lines_train = lines[len_test:]\n",
        "    train_w = open_file(\"Untitled Folder/data/ft.train.txt\", mode=\"w\")\n",
        "    test_w = open_file(\"Untitled Folder/data/ft.test.txt\", mode=\"w\")\n",
        "    for i in lines_train:\n",
        "        train_w.write(i)\n",
        "    for j in lines_test:\n",
        "        test_w.write(j)\n",
        "\n",
        "# turn the features into id\n",
        "def feature_to_id(cate_list):\n",
        "    cates = list(set(cate_list))\n",
        "    cate_to_id = dict(zip(cates, range(len(cates))))\n",
        "    return cates, cate_to_id\n",
        "\n",
        "def process_all_data():\n",
        "    ft = pd.read_csv('Untitled Folder/data/all_data.txt', sep='\\t')\n",
        "    ft = ft.drop([\"ID\"], axis=1)\n",
        "\n",
        "    for col_ in features:\n",
        "        col_values = ft[col_].values\n",
        "        col_values = [\"NAN\" if pd.isnull(c) else c for c in col_values]\n",
        "        c_, word_to_id = feature_to_id(col_values)\n",
        "\n",
        "        # a = [word_to_id[cv] for cv in col_values]\n",
        "        a = to_categorical([word_to_id[cv] for cv in col_values], len(word_to_id))\n",
        "        ft = pd.concat([ft, pd.DataFrame(a)], axis=1)\n",
        "        ft = ft.drop([col_], axis=1)\n",
        "\n",
        "    severity = ft.pop('Severity')\n",
        "    ft.insert(loc=ft.shape[1], column='severity', value=severity, allow_duplicates=False)\n",
        "\n",
        "    print(ft.head())\n",
        "    print(ft.shape[0])\n",
        "    print(ft.shape[1])\n",
        "    ft.to_csv('Untitled Folder/data/ft.all.txt', sep='\\t', header=False, index=False)\n",
        "\n",
        "# turn the feature id into one-hot encode\n",
        "def to_categorical(y, num_classes=None):\n",
        "    y = np.array(y, dtype='int')\n",
        "    input_shape = y.shape\n",
        "    if input_shape and input_shape[-1] == 1 and len(input_shape) > 1:\n",
        "        input_shape = tuple(input_shape[:-1])\n",
        "    y = y.ravel()\n",
        "    if not num_classes:\n",
        "        num_classes = np.max(y) + 1\n",
        "    n = y.shape[0]\n",
        "    categorical = np.zeros((n, num_classes))\n",
        "    categorical[np.arange(n), y] = 1\n",
        "    output_shape = input_shape + (num_classes,)\n",
        "    categorical = np.reshape(categorical, output_shape)\n",
        "    return categorical.tolist()\n",
        "\n",
        "\n",
        "process_all_data()\n",
        "random_sample(\"Untitled Folder/data/ft.all.txt\")\n",
        "\n"
      ]
    },
    {
      "cell_type": "markdown",
      "id": "749354b6",
      "metadata": {
        "id": "749354b6"
      },
      "source": [
        "STEP 3&4: **Training&Testing Models**"
      ]
    },
    {
      "cell_type": "markdown",
      "id": "a9b2b4d2",
      "metadata": {
        "id": "a9b2b4d2"
      },
      "source": [
        "<img src='https://github.com/yinghaow525/BA775-teamproject/blob/b0f2ec7f731968afd1da35ada7b9a4f1458ba527/Train%20Models.png?raw=Ture' align='left' width='800' />"
      ]
    },
    {
      "cell_type": "code",
      "execution_count": null,
      "id": "2a2ab660",
      "metadata": {
        "id": "2a2ab660"
      },
      "outputs": [],
      "source": [
        "import pickle\n",
        "from sklearn import svm, neural_network, linear_model, naive_bayes, neighbors, tree, ensemble, metrics\n",
        "\n",
        "\n",
        "def process_file(filename):\n",
        "    conts, labs = [], []\n",
        "    with open_file(filename) as f_:\n",
        "        for line in f_:\n",
        "            cs = line.strip().split(\"\\t\")\n",
        "            conts.append(cs[:-1])\n",
        "            labs.append(cs[-1])\n",
        "    print(np.array(conts).shape)\n",
        "    return np.array(conts).astype(\"float\"), np.array(labs).astype(\"int\").tolist()\n",
        "\n",
        "\n",
        "def train(train_dir):\n",
        "    train_feature, train_target = process_file(train_dir)\n",
        "    print(np.array(train_feature).shape)\n",
        "    print(np.array(train_target).shape)\n",
        "\n",
        "    # train\n",
        "    print(\"training...\")\n",
        "    model.fit(train_feature, train_target)\n",
        "\n",
        "\n",
        "def test():\n",
        "    test_feature, test_target = process_file(\"Untitled Folder/data/ft.test.txt\")\n",
        "    test_predict = model.predict(test_feature)  # return predict classification\n",
        "\n",
        "\n",
        "    # accuracy\n",
        "    true_false = (test_predict == test_target)\n",
        "    accuracy = np.count_nonzero(true_false) / float(len(test_target))\n",
        "    print()\n",
        "    print(\"accuracy is %f\" % accuracy)\n",
        "\n",
        "    # precision    recall  f1-score\n",
        "    print()\n",
        "    print(metrics.classification_report(test_target, test_predict))\n",
        "\n",
        "    # Confusion Matrix\n",
        "    print(\"Confusion Matrix...\")\n",
        "    print(metrics.confusion_matrix(test_target, test_predict))\n",
        "    \n"
      ]
    },
    {
      "cell_type": "markdown",
      "id": "91277614",
      "metadata": {
        "id": "91277614"
      },
      "source": [
        "- Model 1: **Random Forest**"
      ]
    },
    {
      "cell_type": "code",
      "execution_count": null,
      "id": "111f5ca2",
      "metadata": {
        "id": "111f5ca2",
        "outputId": "b57fc2a2-8cd1-4af8-de3d-529aa09082bf"
      },
      "outputs": [
        {
          "name": "stdout",
          "output_type": "stream",
          "text": [
            "(32000, 665)\n",
            "(32000, 665)\n",
            "(32000,)\n",
            "training...\n",
            "(8000, 665)\n",
            "\n",
            "accuracy is 0.732375\n",
            "\n",
            "              precision    recall  f1-score   support\n",
            "\n",
            "           1       0.85      0.88      0.86      1976\n",
            "           2       0.67      0.79      0.72      2030\n",
            "           3       0.61      0.61      0.61      1984\n",
            "           4       0.82      0.66      0.73      2010\n",
            "\n",
            "    accuracy                           0.73      8000\n",
            "   macro avg       0.74      0.73      0.73      8000\n",
            "weighted avg       0.74      0.73      0.73      8000\n",
            "\n",
            "Confusion Matrix...\n",
            "[[1729   21   74  152]\n",
            " [   5 1595  406   24]\n",
            " [  22  649 1201  112]\n",
            " [ 279  125  272 1334]]\n"
          ]
        }
      ],
      "source": [
        "# ramdom forest\n",
        "model = ensemble.RandomForestClassifier()\n",
        "train(\"Untitled Folder/data/ft.train.txt\")\n",
        "# print(model.feature_importances_)  # only work for none one-hot and random forest\n",
        "test()"
      ]
    },
    {
      "cell_type": "markdown",
      "id": "789b3371",
      "metadata": {
        "id": "789b3371"
      },
      "source": [
        "- Model 2: **Logistic Regression**"
      ]
    },
    {
      "cell_type": "code",
      "execution_count": null,
      "id": "95204b47",
      "metadata": {
        "id": "95204b47",
        "outputId": "29ac22ec-9272-4224-e8dc-47d5a6ea79dd"
      },
      "outputs": [
        {
          "name": "stdout",
          "output_type": "stream",
          "text": [
            "(32000, 665)\n",
            "(32000, 665)\n",
            "(32000,)\n",
            "training...\n"
          ]
        },
        {
          "name": "stderr",
          "output_type": "stream",
          "text": [
            "/opt/conda/lib/python3.7/site-packages/sklearn/linear_model/_logistic.py:765: ConvergenceWarning: lbfgs failed to converge (status=1):\n",
            "STOP: TOTAL NO. of ITERATIONS REACHED LIMIT.\n",
            "\n",
            "Increase the number of iterations (max_iter) or scale the data as shown in:\n",
            "    https://scikit-learn.org/stable/modules/preprocessing.html\n",
            "Please also refer to the documentation for alternative solver options:\n",
            "    https://scikit-learn.org/stable/modules/linear_model.html#logistic-regression\n",
            "  extra_warning_msg=_LOGISTIC_SOLVER_CONVERGENCE_MSG)\n"
          ]
        },
        {
          "name": "stdout",
          "output_type": "stream",
          "text": [
            "(8000, 665)\n",
            "\n",
            "accuracy is 0.695375\n",
            "\n",
            "              precision    recall  f1-score   support\n",
            "\n",
            "           1       0.80      0.85      0.82      1976\n",
            "           2       0.66      0.77      0.71      2030\n",
            "           3       0.56      0.61      0.58      1984\n",
            "           4       0.82      0.55      0.66      2010\n",
            "\n",
            "    accuracy                           0.70      8000\n",
            "   macro avg       0.71      0.70      0.69      8000\n",
            "weighted avg       0.71      0.70      0.69      8000\n",
            "\n",
            "Confusion Matrix...\n",
            "[[1686   22  115  153]\n",
            " [   5 1562  456    7]\n",
            " [  47  653 1207   77]\n",
            " [ 376  144  382 1108]]\n"
          ]
        }
      ],
      "source": [
        "# logistic regression\n",
        "model = linear_model.LogisticRegression(multi_class=\"multinomial\", solver=\"lbfgs\")\n",
        "\n",
        "train(\"Untitled Folder/data/ft.train.txt\")\n",
        "test()"
      ]
    },
    {
      "cell_type": "markdown",
      "id": "1d98cd90",
      "metadata": {
        "id": "1d98cd90"
      },
      "source": [
        "- Model 3: **Support Vector Machine (SVM)**"
      ]
    },
    {
      "cell_type": "code",
      "execution_count": null,
      "id": "34150d34",
      "metadata": {
        "id": "34150d34",
        "outputId": "3489f4ea-616b-4828-ffba-277efd502f05"
      },
      "outputs": [
        {
          "name": "stdout",
          "output_type": "stream",
          "text": [
            "(32000, 665)\n",
            "(32000, 665)\n",
            "(32000,)\n",
            "training...\n",
            "(8000, 665)\n",
            "\n",
            "accuracy is 0.699500\n",
            "\n",
            "              precision    recall  f1-score   support\n",
            "\n",
            "           1       0.81      0.85      0.83      1976\n",
            "           2       0.65      0.78      0.71      2030\n",
            "           3       0.56      0.60      0.58      1984\n",
            "           4       0.83      0.57      0.67      2010\n",
            "\n",
            "    accuracy                           0.70      8000\n",
            "   macro avg       0.71      0.70      0.70      8000\n",
            "weighted avg       0.71      0.70      0.70      8000\n",
            "\n",
            "Confusion Matrix...\n",
            "[[1675   27  125  149]\n",
            " [   3 1586  434    7]\n",
            " [  35  681 1197   71]\n",
            " [ 353  156  363 1138]]\n"
          ]
        }
      ],
      "source": [
        "# SVM\n",
        "model = svm.LinearSVC()\n",
        "\n",
        "train(\"Untitled Folder/data/ft.train.txt\")\n",
        "test()"
      ]
    },
    {
      "cell_type": "markdown",
      "id": "63675c62",
      "metadata": {
        "id": "63675c62"
      },
      "source": [
        "- Model 4: **Neural Network**"
      ]
    },
    {
      "cell_type": "code",
      "execution_count": null,
      "id": "2bc69786",
      "metadata": {
        "id": "2bc69786",
        "outputId": "8b1bbaf7-bae3-4cfb-d13f-8016717783de"
      },
      "outputs": [
        {
          "name": "stdout",
          "output_type": "stream",
          "text": [
            "(32000, 665)\n",
            "(32000, 665)\n",
            "(32000,)\n",
            "training...\n",
            "Iteration 1, loss = 0.74865711\n",
            "Validation score: 0.697187\n",
            "Iteration 2, loss = 0.60890580\n",
            "Validation score: 0.698750\n",
            "Iteration 3, loss = 0.52429944\n",
            "Validation score: 0.702187\n",
            "Iteration 4, loss = 0.42935016\n",
            "Validation score: 0.699063\n",
            "Iteration 5, loss = 0.32662756\n",
            "Validation score: 0.694688\n",
            "Iteration 6, loss = 0.24469872\n",
            "Validation score: 0.688438\n",
            "Iteration 7, loss = 0.17598556\n",
            "Validation score: 0.696250\n",
            "Iteration 8, loss = 0.13310566\n",
            "Validation score: 0.670000\n",
            "Iteration 9, loss = 0.09692953\n",
            "Validation score: 0.699063\n",
            "Iteration 10, loss = 0.07682298\n",
            "Validation score: 0.682187\n",
            "Iteration 11, loss = 0.06248188\n",
            "Validation score: 0.688438\n",
            "Iteration 12, loss = 0.04879386\n",
            "Validation score: 0.692187\n",
            "Iteration 13, loss = 0.04217029\n",
            "Validation score: 0.695000\n",
            "Iteration 14, loss = 0.03824850\n",
            "Validation score: 0.686875\n",
            "Validation score did not improve more than tol=0.000100 for 10 consecutive epochs. Stopping.\n",
            "(8000, 665)\n",
            "\n",
            "accuracy is 0.704875\n",
            "\n",
            "              precision    recall  f1-score   support\n",
            "\n",
            "           1       0.82      0.85      0.83      1976\n",
            "           2       0.67      0.74      0.71      2030\n",
            "           3       0.58      0.59      0.58      1984\n",
            "           4       0.77      0.64      0.70      2010\n",
            "\n",
            "    accuracy                           0.70      8000\n",
            "   macro avg       0.71      0.71      0.70      8000\n",
            "weighted avg       0.71      0.70      0.70      8000\n",
            "\n",
            "Confusion Matrix...\n",
            "[[1680   20   84  192]\n",
            " [  24 1508  459   39]\n",
            " [  47  609 1164  164]\n",
            " [ 301  105  317 1287]]\n"
          ]
        }
      ],
      "source": [
        "# neural network\n",
        "model = neural_network.MLPClassifier(hidden_layer_sizes=(2048, 512), verbose=True, early_stopping=True)\n",
        "\n",
        "train(\"Untitled Folder/data/ft.train.txt\")\n",
        "test()"
      ]
    },
    {
      "cell_type": "markdown",
      "id": "2056a52f",
      "metadata": {
        "id": "2056a52f"
      },
      "source": [
        "STEP 5: **Optimize Models(Adjust Parameter)**"
      ]
    },
    {
      "cell_type": "markdown",
      "id": "f63e7614",
      "metadata": {
        "id": "f63e7614"
      },
      "source": [
        "- **Adjust Parameter (Neural Network)**<br>\n",
        "  -- Initialize hidden_layer_sizes=(4096, 1024)<br>\n",
        "  -- Adjust to hidden_layer_sizes=(2048, 512)<br>\n",
        "  -- Why adjust hidden_layer_sizes into smaller one?<br>\n",
        "      The training accuracy is better than the testing, so the output model might be overfitting.\n",
        "      So it is necessary to choose a smaller hidden_layer_sizes.\n",
        "      The outcome is better (you can see the chart below)."
      ]
    },
    {
      "cell_type": "markdown",
      "id": "9ecef553",
      "metadata": {
        "id": "9ecef553"
      },
      "source": [
        "<img src='https://github.com/yinghaow525/BA775-teamproject/blob/b0f2ec7f731968afd1da35ada7b9a4f1458ba527/Adjust%20Parameter(Neural%20Network).png?raw=Ture' align='left' width='800' />"
      ]
    },
    {
      "cell_type": "markdown",
      "id": "82fd1978",
      "metadata": {
        "id": "82fd1978"
      },
      "source": [
        "STEP 5: **Optimize Models(ONE-HOT encoding)**"
      ]
    },
    {
      "cell_type": "markdown",
      "id": "0bc55907",
      "metadata": {
        "id": "0bc55907"
      },
      "source": [
        "- **Turning ID features into ONE-HOT features**<br>\n",
        "  -- The integer values have a natural ordered relationship between each other and machine learning algorithms may be able to understand and harness this relationship.<br>\n",
        "  -- A one-hot encoding can avoid the model to assume a natural ordering between categories which may result in poor performance or unexpected results.<br>"
      ]
    },
    {
      "cell_type": "markdown",
      "id": "334ff03f",
      "metadata": {
        "id": "334ff03f"
      },
      "source": [
        "STEP 6: **Evaluating Model**"
      ]
    },
    {
      "cell_type": "markdown",
      "id": "c34e6744",
      "metadata": {
        "id": "c34e6744"
      },
      "source": [
        "**Precision**"
      ]
    },
    {
      "cell_type": "markdown",
      "id": "5f0b94e4",
      "metadata": {
        "id": "5f0b94e4"
      },
      "source": [
        "<img src='https://github.com/yinghaow525/BA775-teamproject/blob/b0f2ec7f731968afd1da35ada7b9a4f1458ba527/Precision.png?raw=Ture' align='left' width='800' />"
      ]
    },
    {
      "cell_type": "markdown",
      "id": "89310041",
      "metadata": {
        "id": "89310041"
      },
      "source": [
        "**Recall**"
      ]
    },
    {
      "cell_type": "markdown",
      "id": "23a92b1d",
      "metadata": {
        "id": "23a92b1d"
      },
      "source": [
        "<img src='https://github.com/yinghaow525/BA775-teamproject/blob/b0f2ec7f731968afd1da35ada7b9a4f1458ba527/Recall.png?raw=Ture' align='left' width='800' />"
      ]
    },
    {
      "cell_type": "markdown",
      "id": "5f2ad486",
      "metadata": {
        "id": "5f2ad486"
      },
      "source": [
        "**F1-score**"
      ]
    },
    {
      "cell_type": "markdown",
      "id": "6fb70075",
      "metadata": {
        "id": "6fb70075"
      },
      "source": [
        "<img src='https://github.com/yinghaow525/BA775-teamproject/blob/b0f2ec7f731968afd1da35ada7b9a4f1458ba527/F1-score.png?raw=Ture' align='left' width='800' />"
      ]
    },
    {
      "cell_type": "markdown",
      "id": "8d68aa94",
      "metadata": {
        "id": "8d68aa94"
      },
      "source": [
        "**Accuracy**"
      ]
    },
    {
      "cell_type": "markdown",
      "id": "02429f92",
      "metadata": {
        "id": "02429f92"
      },
      "source": [
        "<img src='https://github.com/yinghaow525/BA775-teamproject/blob/b0f2ec7f731968afd1da35ada7b9a4f1458ba527/Accuracy.png?raw=Ture' align='left' width='600' />"
      ]
    },
    {
      "cell_type": "markdown",
      "id": "cf34a43e",
      "metadata": {
        "id": "cf34a43e"
      },
      "source": [
        "**Accident Classification Model Conclusion:**"
      ]
    },
    {
      "cell_type": "markdown",
      "id": "c96286b5",
      "metadata": {
        "id": "c96286b5"
      },
      "source": [
        "- Random Forest has a higher accuracy to predict the level of severity. We have overall 73% confidence to say in which situation will lead to which leavel of severity.\n",
        "- The top three features corresponding to US traffic accident are State, Temperature and Month.(as below)"
      ]
    },
    {
      "cell_type": "markdown",
      "id": "b89d7488",
      "metadata": {
        "id": "b89d7488"
      },
      "source": [
        "<img src='https://github.com/SimengLi1998/BA775-teamproject/blob/fb3f8375b568dce09d0871572ef115d197c8cd44/%E6%88%AA%E5%B1%8F2021-08-30%20%E4%B8%8B%E5%8D%8810.52.30.png?raw=Ture' align='left' width='1000' />"
      ]
    },
    {
      "cell_type": "markdown",
      "id": "edd60ebb",
      "metadata": {
        "id": "edd60ebb"
      },
      "source": [
        "### Conclusion:"
      ]
    },
    {
      "cell_type": "markdown",
      "id": "c3285864",
      "metadata": {
        "id": "c3285864"
      },
      "source": [
        "After observing analysis on aspects in location, time and weather conditions, we report US traffic accidents the following:\n",
        "</br>\n",
        "Most traffic accidents occur in coastal areas, such as CA, OR, FL. However, the frequency of serious accidents in FL and NY is higher than that of other states. This might be caused by the excessive traffic and narrow roads in NY and non-pedestrian and bike-friendly roads in FL. Because traffic signal, crossing, and junction were the top 3 frequent locations for traffic accidents, we suggest that police strengthen traffic control at these 3 types of locations with heavy traffic by installing more monitors or warning signs and arranging more patrol officers. Moreover, we discovered that accidents occurred more often around traffic signals during morning peaks and noon breaks. Increasing the number of police to direct traffic flow around traffic signals may lower the occurrence of traffic accidents.\n",
        "</br></br>\n",
        "Over 80% of traffic accidents happened under the weather condition of fair, cloudy, mostly cloudy, partly cloudy and light rain. Most of these accidents have a severity of two, and we don’t see significant portion of accidents having severity of over two happened under other weather conditions. The number of traffic accidents increased as visibility distance went shorter, temperature and precipitation went lower. Thus, more accidents happened in winter. Therefore, DMV can make suggestions in the brochures to call on drive-safe attention specificly in winter.\n",
        "</br></br>\n",
        "In terms of time, we observed that the highest number of accidents occurred between 7:00a.m. and 8:00a.m. and 4:00p.m. and 5:00p.m. daily. The 4 - 5 pm is the peak time for leaving work. However, there were also a high number of accidents between 7am and 8am, at the peak time for work. The number of accidents on weekdays is higher than weekends, and the severity is correspondingly higher. Therefore, the DMV can alert people to be careful when they are out during these hours and drivers need to maintain a cautious attitude. Government can put more police during these hours to control the occurrence of accidents."
      ]
    },
    {
      "cell_type": "markdown",
      "id": "c3155229",
      "metadata": {
        "id": "c3155229"
      },
      "source": [
        "### Tableau Dashboard:"
      ]
    },
    {
      "cell_type": "markdown",
      "id": "bd10f64d",
      "metadata": {
        "id": "bd10f64d"
      },
      "source": [
        "<img src='https://github.com/yinghaow525/BA775-teamproject/blob/charts/Team1_Dashboard.png?raw=True' align='left' />"
      ]
    },
    {
      "cell_type": "markdown",
      "id": "6042ea7e",
      "metadata": {
        "id": "6042ea7e"
      },
      "source": [
        "#### Tableau Public Dashboard Link:"
      ]
    },
    {
      "cell_type": "markdown",
      "id": "3190e031",
      "metadata": {
        "id": "3190e031"
      },
      "source": [
        "https://public.tableau.com/app/profile/yinghao.wang3127/viz/BA775Team1ProjectDashboard/Team1_Dashboard?publish=yes"
      ]
    },
    {
      "cell_type": "markdown",
      "id": "4dec1377",
      "metadata": {
        "id": "4dec1377"
      },
      "source": [
        "#### Github Link:\n",
        "https://github.com/yinghaow525/BA775-teamproject/blob/main/Team%20Project.ipynb"
      ]
    }
  ],
  "metadata": {
    "environment": {
      "name": "tf2-gpu.2-3.m78",
      "type": "gcloud",
      "uri": "gcr.io/deeplearning-platform-release/tf2-gpu.2-3:m78"
    },
    "kernelspec": {
      "display_name": "Python [conda env:root] *",
      "language": "python",
      "name": "conda-root-py"
    },
    "language_info": {
      "codemirror_mode": {
        "name": "ipython",
        "version": 3
      },
      "file_extension": ".py",
      "mimetype": "text/x-python",
      "name": "python",
      "nbconvert_exporter": "python",
      "pygments_lexer": "ipython3",
      "version": "3.7.10"
    },
    "colab": {
      "name": "Team Project.ipynb",
      "provenance": []
    }
  },
  "nbformat": 4,
  "nbformat_minor": 5
}