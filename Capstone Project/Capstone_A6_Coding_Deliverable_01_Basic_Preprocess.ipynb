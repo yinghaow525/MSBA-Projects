{
  "cells": [
    {
      "cell_type": "markdown",
      "metadata": {
        "id": "view-in-github",
        "colab_type": "text"
      },
      "source": [
        "<a href=\"https://colab.research.google.com/github/yinghaow525/MSBA-Projects/blob/main/Capstone%20Project/Capstone_A6_Coding_Deliverable_01_Basic_Preprocess.ipynb\" target=\"_parent\"><img src=\"https://colab.research.google.com/assets/colab-badge.svg\" alt=\"Open In Colab\"/></a>"
      ]
    },
    {
      "cell_type": "markdown",
      "metadata": {
        "id": "saQXJZIV-SVo"
      },
      "source": [
        "# Capsone Project with Spinnaker Analytics\n",
        "Team A6: Yihan Jia, Yinghao Wang, Simeng Li, Xiangshan Mu, Kaiyu Wang\n",
        "> **Business Objectives**:\n",
        "- The objective of the exercise is to find a tradable signal in the dataset. \n",
        "\n",
        "> **Project Flow**:\n",
        "- Standard time series models can be used or non-parametric models like neural networks can be deployed. Suggested course of actions is as follows:\n",
        "  1. Understand the dataset and what it represents\n",
        "  2. Define the problem: what does 'a tradable signal' mean based on the data available (i.e. develop your modeling equation, if any)\n",
        "  3. Start with simple analysis to identify patterns and outliers\n",
        "  4. Develop models with increasing complexity - i.e. don't start with neural nets etc\n",
        "  5. Define your success criteria - i.e. when do you know you have a tradable signal - positive (buy)/negative (sell), both are signals\n"
      ]
    },
    {
      "cell_type": "markdown",
      "metadata": {
        "id": "rNhTWoQHAqcQ"
      },
      "source": [
        "# Library Imports"
      ]
    },
    {
      "cell_type": "code",
      "execution_count": 1,
      "metadata": {
        "id": "S8pGdPCUAu9f",
        "colab": {
          "base_uri": "https://localhost:8080/"
        },
        "outputId": "1d3c0e2c-f763-4728-bdae-f8e116586e65"
      },
      "outputs": [
        {
          "output_type": "stream",
          "name": "stderr",
          "text": [
            "/usr/local/lib/python3.7/dist-packages/statsmodels/tools/_testing.py:19: FutureWarning: pandas.util.testing is deprecated. Use the functions in the public API at pandas.testing instead.\n",
            "  import pandas.util.testing as tm\n"
          ]
        }
      ],
      "source": [
        "# imports\n",
        "import pandas as pd\n",
        "import seaborn as sns\n",
        "import matplotlib.pyplot as plt\n",
        "import numpy as np\n",
        "import datetime as dt\n",
        "\n",
        "from google.colab import drive\n",
        "\n",
        "from statsmodels.tsa.stattools import adfuller\n",
        "\n",
        "from statsmodels.tsa.api import ExponentialSmoothing\n",
        "\n",
        "from statsmodels.graphics.tsaplots import plot_pacf, plot_acf\n",
        "\n",
        "from statsmodels.tsa.arima_model import ARIMA\n",
        "\n",
        "\n",
        "\n",
        "from sklearn.neighbors import KNeighborsClassifier\n",
        "from sklearn.linear_model import LogisticRegression\n",
        "from sklearn.ensemble import RandomForestClassifier\n",
        "from sklearn import tree, neural_network\n",
        "from sklearn.ensemble import GradientBoostingClassifier\n",
        "from sklearn.ensemble import  AdaBoostClassifier\n",
        "from sklearn.naive_bayes import GaussianNB\n",
        "from sklearn.discriminant_analysis import LinearDiscriminantAnalysis\n",
        "from sklearn.discriminant_analysis import QuadraticDiscriminantAnalysis\n",
        "from sklearn.svm import SVC\n",
        "from sklearn.naive_bayes import MultinomialNB\n",
        "from sklearn.metrics import precision_recall_fscore_support\n",
        "\n",
        "#reset recursionlimit\n",
        "import sys\n",
        "sys.setrecursionlimit(10000)\n",
        "\n",
        "import torch #pytorch\n",
        "import torch.nn as nn\n",
        "from torch.autograd import Variable\n",
        "\n",
        "# supress filter warnings\n",
        "import warnings\n",
        "warnings.filterwarnings(\"ignore\")\n",
        "\n",
        "#plt style\n",
        "plt.style.use(\"seaborn\")"
      ]
    },
    {
      "cell_type": "markdown",
      "metadata": {
        "id": "HNmbSvAVAZFb"
      },
      "source": [
        "# Data Source"
      ]
    },
    {
      "cell_type": "markdown",
      "metadata": {
        "id": "6jVFVf1W-pLG"
      },
      "source": [
        "The dataset contains sectoral data for 3 separate types of investments made in the US  (no international funds are included) and represents 60-70% of activity in the overall asset classes for that week (not all investors report data at the same time). The weekly data spans 10 years from 2006 through end-Jan 2017. Not all sectors have data available for all the dates since new investment vehicles are introduced at various points in time. \n",
        "1. **Institutional Mutual Fund Holdings** (investments made/redeemed by institutional investors like Fidelity, Vanguard on behalf of insitutions like CALPERS etc)\n",
        "2. **Retail Mutual Fund Holdings** (investments made by individuals in their portfolios) \n",
        "3. **Exchange Traded Funds** - insitutional investors\n"
      ]
    },
    {
      "cell_type": "markdown",
      "source": [
        "## Data fields & descriptions:\n",
        "- `ReportDate`: Weekly data aggregated and released every Wednesday\t\n",
        "- `AssetClass`: Industry/Sector/Asset Class\t\n",
        "- `Flow`: Amount of positive (inflow) or negative (outflow) in Millions of USD \t\n",
        "- `FlowPct`: Flows as percent of assets at beginning of the week \t\n",
        "- `AssetsEnd`: Assets at end of the week in Millions of USD\t\n",
        "- `PortfolioChangePct`: Percent change in overall portfolio during the week"
      ],
      "metadata": {
        "id": "tLEwEvZKa_Hn"
      }
    },
    {
      "cell_type": "markdown",
      "metadata": {
        "id": "rEa2DdjnAbwx"
      },
      "source": [
        "## Data Imports"
      ]
    },
    {
      "cell_type": "code",
      "source": [
        "# read datasets\n",
        "# try:\n",
        "#   # mount my google drive\n",
        "#   drive.mount('/content/drive')\n",
        "#   # change directory to the path that contains dataset uploaded\n",
        "#   %cd /content/drive/My Drive/Capstone Project\n",
        "\n",
        "#   # read through google drive\n",
        "#   IMF = pd.read_csv('US Sector Inst ETF.csv')\n",
        "#   ETF = pd.read_csv('US Sector Inst ETF.csv')\n",
        "#   RMF  = pd.read_csv('US Sector Retail MF.csv')\n",
        "\n",
        "# except: \n",
        "  # or read through github\n",
        "ETF = pd.read_csv('https://raw.githubusercontent.com/yinghaow525/MSBA-Projects/main/Capstone%20Project/Datasets/US%20Sector%20Inst%20ETF.csv')\n",
        "IMF = pd.read_csv('https://raw.githubusercontent.com/yinghaow525/MSBA-Projects/main/Capstone%20Project/Datasets/US%20Sector%20Institutional%20MF.csv')\n",
        "RMF = pd.read_csv('https://raw.githubusercontent.com/yinghaow525/MSBA-Projects/main/Capstone%20Project/Datasets/US%20Sector%20Retail%20MF.csv')"
      ],
      "metadata": {
        "id": "yaGoyg8uZ9BI"
      },
      "execution_count": 2,
      "outputs": []
    },
    {
      "cell_type": "code",
      "execution_count": 3,
      "metadata": {
        "colab": {
          "base_uri": "https://localhost:8080/"
        },
        "id": "hZAD5Z7YB6XD",
        "outputId": "b2d7f159-6b46-46bf-9ff2-4e669b5d220b"
      },
      "outputs": [
        {
          "output_type": "stream",
          "name": "stdout",
          "text": [
            "             ReportDate                                         AssetClass  \\\n",
            "0  2/1/2017 12:00:00 AM  Commodities/Materials-North America-USA-North ...   \n",
            "1  2/1/2017 12:00:00 AM  Consumer Goods-North America-USA-North America...   \n",
            "2  2/1/2017 12:00:00 AM      Energy-North America-USA-North America-Equity   \n",
            "\n",
            "         Flow  FlowPct     AssetsEnd  PortfolioChangePct  \n",
            "0  380.126769   4.4676   8787.631717             -1.1853  \n",
            "1  332.526792   1.1479  28973.613065             -1.1231  \n",
            "2  217.857886   0.3460  62136.008339             -1.6441  \n",
            "--------------------------------------------------\n",
            "             ReportDate                                         AssetClass  \\\n",
            "0  2/1/2017 12:00:00 AM  Commodities/Materials-North America-USA-North ...   \n",
            "1  2/1/2017 12:00:00 AM  Consumer Goods-North America-USA-North America...   \n",
            "2  2/1/2017 12:00:00 AM      Energy-North America-USA-North America-Equity   \n",
            "\n",
            "         Flow  FlowPct     AssetsEnd  PortfolioChangePct  \n",
            "0  378.578706   4.5064   8679.056347             -1.1938  \n",
            "1  332.526792   1.1479  28973.613065             -1.1231  \n",
            "2  186.031374   0.3782  48446.700077             -1.8855  \n",
            "--------------------------------------------------\n",
            "             ReportDate                                         AssetClass  \\\n",
            "0  2/1/2017 12:00:00 AM  Commodities/Materials-North America-USA-North ...   \n",
            "1  2/1/2017 12:00:00 AM  Consumer Goods-North America-USA-North America...   \n",
            "2  2/1/2017 12:00:00 AM      Energy-North America-USA-North America-Equity   \n",
            "\n",
            "        Flow  FlowPct     AssetsEnd  PortfolioChangePct  \n",
            "0  25.681524   8.0046    344.521230             -0.6207  \n",
            "1  -3.951259  -1.1736    329.044261             -1.0916  \n",
            "2  73.933969   0.2713  27246.540015             -0.2297  \n"
          ]
        }
      ],
      "source": [
        "print(IMF.head(3))\n",
        "print('-'*50)\n",
        "print(ETF.head(3))\n",
        "print('-'*50)\n",
        "print(RMF.head(3))"
      ]
    },
    {
      "cell_type": "markdown",
      "metadata": {
        "id": "GKffU-ZT_2Az"
      },
      "source": [
        "# Concating & Preprocessing"
      ]
    },
    {
      "cell_type": "code",
      "execution_count": 4,
      "metadata": {
        "id": "YE7hdnCkUs7c"
      },
      "outputs": [],
      "source": [
        "# Create type colunm\n",
        "ETF['Type'] = 'ETF'\n",
        "IMF['Type'] = 'IMF'\n",
        "RMF['Type'] = 'RMF'\n",
        "\n",
        "# Concat 3 dadaset\n",
        "data = pd.concat([ETF, IMF, RMF], axis=0)"
      ]
    },
    {
      "cell_type": "code",
      "execution_count": 5,
      "metadata": {
        "colab": {
          "base_uri": "https://localhost:8080/"
        },
        "id": "7A_tmMglkKwB",
        "outputId": "24d77cf4-1b84-45b8-bcac-6d60df69a940"
      },
      "outputs": [
        {
          "output_type": "stream",
          "name": "stdout",
          "text": [
            "ReportDate            0\n",
            "AssetClass            0\n",
            "Flow                  0\n",
            "FlowPct               0\n",
            "AssetsEnd             0\n",
            "PortfolioChangePct    0\n",
            "Type                  0\n",
            "dtype: int64\n"
          ]
        }
      ],
      "source": [
        "# check NAs\n",
        "print(data.isna().sum())"
      ]
    },
    {
      "cell_type": "code",
      "execution_count": 6,
      "metadata": {
        "colab": {
          "base_uri": "https://localhost:8080/"
        },
        "id": "A2n-u6VSkMHw",
        "outputId": "423ad468-5796-4aa5-b79d-75f84fd6fc61"
      },
      "outputs": [
        {
          "output_type": "execute_result",
          "data": {
            "text/plain": [
              "0"
            ]
          },
          "metadata": {},
          "execution_count": 6
        }
      ],
      "source": [
        "# check duplicates\n",
        "data.duplicated().sum()"
      ]
    },
    {
      "cell_type": "code",
      "execution_count": 7,
      "metadata": {
        "id": "TiNpTQUnB7RX"
      },
      "outputs": [],
      "source": [
        "# convert report date to pandas datetime object\n",
        "data['ReportDate'] = pd.to_datetime(data['ReportDate'])"
      ]
    },
    {
      "cell_type": "code",
      "execution_count": 8,
      "metadata": {
        "colab": {
          "base_uri": "https://localhost:8080/"
        },
        "id": "bdz9ZmKQB8gQ",
        "outputId": "c5a27636-1f66-4dfe-a629-b399f89dfa5c"
      },
      "outputs": [
        {
          "output_type": "execute_result",
          "data": {
            "text/plain": [
              "Mid Cap Growth           1737\n",
              "Technology               1737\n",
              "Energy                   1737\n",
              "Financials               1737\n",
              "Health Care/Biotech      1737\n",
              "Utilities                1737\n",
              "Large Cap Blend          1737\n",
              "Large Cap Growth         1737\n",
              "Large Cap Value          1737\n",
              "Mid Cap Blend            1737\n",
              "Telecom                  1737\n",
              "Mid Cap Value            1737\n",
              "Real Estate              1737\n",
              "Small Cap Blend          1737\n",
              "Small Cap Growth         1737\n",
              "Small Cap Value          1737\n",
              "Commodities/Materials    1700\n",
              "Consumer Goods           1700\n",
              "Industrials              1435\n",
              "Infrastructure             61\n",
              "Name: Industry, dtype: int64"
            ]
          },
          "metadata": {},
          "execution_count": 8
        }
      ],
      "source": [
        "# since all the Asset and Sector values are the same (Equity, and within US)\n",
        "# we only keep Industry sector as features\n",
        "data['AssetClass'] = data['AssetClass'].str.split('-')\n",
        "data['Industry'] = data.AssetClass.apply(lambda x: x[0])\n",
        "\n",
        "# drop orignal AssetClass feature\n",
        "data.drop(columns='AssetClass', inplace=True)\n",
        "\n",
        "# types and number of Industry values\n",
        "data.Industry.value_counts()"
      ]
    },
    {
      "cell_type": "code",
      "execution_count": 9,
      "metadata": {
        "colab": {
          "base_uri": "https://localhost:8080/",
          "height": 206
        },
        "id": "lOwTt_Aj5QJ8",
        "outputId": "f89384ef-4957-4ffd-e9fb-e5c27a301a0b"
      },
      "outputs": [
        {
          "output_type": "execute_result",
          "data": {
            "text/plain": [
              "  ReportDate        Flow  FlowPct     AssetsEnd  PortfolioChangePct Type  \\\n",
              "0 2017-02-01  378.578706   4.5064   8679.056347             -1.1938  ETF   \n",
              "1 2017-02-01  332.526792   1.1479  28973.613065             -1.1231  ETF   \n",
              "2 2017-02-01  186.031374   0.3782  48446.700077             -1.8855  ETF   \n",
              "3 2017-02-01  968.885223   1.5139  64378.816729             -0.9202  ETF   \n",
              "4 2017-02-01  410.686628   1.1532  36846.852743              2.3119  ETF   \n",
              "\n",
              "                Industry  year  month  \n",
              "0  Commodities/Materials  2017      2  \n",
              "1         Consumer Goods  2017      2  \n",
              "2                 Energy  2017      2  \n",
              "3             Financials  2017      2  \n",
              "4    Health Care/Biotech  2017      2  "
            ],
            "text/html": [
              "\n",
              "  <div id=\"df-92a08791-9664-4bc2-92b7-96fe64082e68\">\n",
              "    <div class=\"colab-df-container\">\n",
              "      <div>\n",
              "<style scoped>\n",
              "    .dataframe tbody tr th:only-of-type {\n",
              "        vertical-align: middle;\n",
              "    }\n",
              "\n",
              "    .dataframe tbody tr th {\n",
              "        vertical-align: top;\n",
              "    }\n",
              "\n",
              "    .dataframe thead th {\n",
              "        text-align: right;\n",
              "    }\n",
              "</style>\n",
              "<table border=\"1\" class=\"dataframe\">\n",
              "  <thead>\n",
              "    <tr style=\"text-align: right;\">\n",
              "      <th></th>\n",
              "      <th>ReportDate</th>\n",
              "      <th>Flow</th>\n",
              "      <th>FlowPct</th>\n",
              "      <th>AssetsEnd</th>\n",
              "      <th>PortfolioChangePct</th>\n",
              "      <th>Type</th>\n",
              "      <th>Industry</th>\n",
              "      <th>year</th>\n",
              "      <th>month</th>\n",
              "    </tr>\n",
              "  </thead>\n",
              "  <tbody>\n",
              "    <tr>\n",
              "      <th>0</th>\n",
              "      <td>2017-02-01</td>\n",
              "      <td>378.578706</td>\n",
              "      <td>4.5064</td>\n",
              "      <td>8679.056347</td>\n",
              "      <td>-1.1938</td>\n",
              "      <td>ETF</td>\n",
              "      <td>Commodities/Materials</td>\n",
              "      <td>2017</td>\n",
              "      <td>2</td>\n",
              "    </tr>\n",
              "    <tr>\n",
              "      <th>1</th>\n",
              "      <td>2017-02-01</td>\n",
              "      <td>332.526792</td>\n",
              "      <td>1.1479</td>\n",
              "      <td>28973.613065</td>\n",
              "      <td>-1.1231</td>\n",
              "      <td>ETF</td>\n",
              "      <td>Consumer Goods</td>\n",
              "      <td>2017</td>\n",
              "      <td>2</td>\n",
              "    </tr>\n",
              "    <tr>\n",
              "      <th>2</th>\n",
              "      <td>2017-02-01</td>\n",
              "      <td>186.031374</td>\n",
              "      <td>0.3782</td>\n",
              "      <td>48446.700077</td>\n",
              "      <td>-1.8855</td>\n",
              "      <td>ETF</td>\n",
              "      <td>Energy</td>\n",
              "      <td>2017</td>\n",
              "      <td>2</td>\n",
              "    </tr>\n",
              "    <tr>\n",
              "      <th>3</th>\n",
              "      <td>2017-02-01</td>\n",
              "      <td>968.885223</td>\n",
              "      <td>1.5139</td>\n",
              "      <td>64378.816729</td>\n",
              "      <td>-0.9202</td>\n",
              "      <td>ETF</td>\n",
              "      <td>Financials</td>\n",
              "      <td>2017</td>\n",
              "      <td>2</td>\n",
              "    </tr>\n",
              "    <tr>\n",
              "      <th>4</th>\n",
              "      <td>2017-02-01</td>\n",
              "      <td>410.686628</td>\n",
              "      <td>1.1532</td>\n",
              "      <td>36846.852743</td>\n",
              "      <td>2.3119</td>\n",
              "      <td>ETF</td>\n",
              "      <td>Health Care/Biotech</td>\n",
              "      <td>2017</td>\n",
              "      <td>2</td>\n",
              "    </tr>\n",
              "  </tbody>\n",
              "</table>\n",
              "</div>\n",
              "      <button class=\"colab-df-convert\" onclick=\"convertToInteractive('df-92a08791-9664-4bc2-92b7-96fe64082e68')\"\n",
              "              title=\"Convert this dataframe to an interactive table.\"\n",
              "              style=\"display:none;\">\n",
              "        \n",
              "  <svg xmlns=\"http://www.w3.org/2000/svg\" height=\"24px\"viewBox=\"0 0 24 24\"\n",
              "       width=\"24px\">\n",
              "    <path d=\"M0 0h24v24H0V0z\" fill=\"none\"/>\n",
              "    <path d=\"M18.56 5.44l.94 2.06.94-2.06 2.06-.94-2.06-.94-.94-2.06-.94 2.06-2.06.94zm-11 1L8.5 8.5l.94-2.06 2.06-.94-2.06-.94L8.5 2.5l-.94 2.06-2.06.94zm10 10l.94 2.06.94-2.06 2.06-.94-2.06-.94-.94-2.06-.94 2.06-2.06.94z\"/><path d=\"M17.41 7.96l-1.37-1.37c-.4-.4-.92-.59-1.43-.59-.52 0-1.04.2-1.43.59L10.3 9.45l-7.72 7.72c-.78.78-.78 2.05 0 2.83L4 21.41c.39.39.9.59 1.41.59.51 0 1.02-.2 1.41-.59l7.78-7.78 2.81-2.81c.8-.78.8-2.07 0-2.86zM5.41 20L4 18.59l7.72-7.72 1.47 1.35L5.41 20z\"/>\n",
              "  </svg>\n",
              "      </button>\n",
              "      \n",
              "  <style>\n",
              "    .colab-df-container {\n",
              "      display:flex;\n",
              "      flex-wrap:wrap;\n",
              "      gap: 12px;\n",
              "    }\n",
              "\n",
              "    .colab-df-convert {\n",
              "      background-color: #E8F0FE;\n",
              "      border: none;\n",
              "      border-radius: 50%;\n",
              "      cursor: pointer;\n",
              "      display: none;\n",
              "      fill: #1967D2;\n",
              "      height: 32px;\n",
              "      padding: 0 0 0 0;\n",
              "      width: 32px;\n",
              "    }\n",
              "\n",
              "    .colab-df-convert:hover {\n",
              "      background-color: #E2EBFA;\n",
              "      box-shadow: 0px 1px 2px rgba(60, 64, 67, 0.3), 0px 1px 3px 1px rgba(60, 64, 67, 0.15);\n",
              "      fill: #174EA6;\n",
              "    }\n",
              "\n",
              "    [theme=dark] .colab-df-convert {\n",
              "      background-color: #3B4455;\n",
              "      fill: #D2E3FC;\n",
              "    }\n",
              "\n",
              "    [theme=dark] .colab-df-convert:hover {\n",
              "      background-color: #434B5C;\n",
              "      box-shadow: 0px 1px 3px 1px rgba(0, 0, 0, 0.15);\n",
              "      filter: drop-shadow(0px 1px 2px rgba(0, 0, 0, 0.3));\n",
              "      fill: #FFFFFF;\n",
              "    }\n",
              "  </style>\n",
              "\n",
              "      <script>\n",
              "        const buttonEl =\n",
              "          document.querySelector('#df-92a08791-9664-4bc2-92b7-96fe64082e68 button.colab-df-convert');\n",
              "        buttonEl.style.display =\n",
              "          google.colab.kernel.accessAllowed ? 'block' : 'none';\n",
              "\n",
              "        async function convertToInteractive(key) {\n",
              "          const element = document.querySelector('#df-92a08791-9664-4bc2-92b7-96fe64082e68');\n",
              "          const dataTable =\n",
              "            await google.colab.kernel.invokeFunction('convertToInteractive',\n",
              "                                                     [key], {});\n",
              "          if (!dataTable) return;\n",
              "\n",
              "          const docLinkHtml = 'Like what you see? Visit the ' +\n",
              "            '<a target=\"_blank\" href=https://colab.research.google.com/notebooks/data_table.ipynb>data table notebook</a>'\n",
              "            + ' to learn more about interactive tables.';\n",
              "          element.innerHTML = '';\n",
              "          dataTable['output_type'] = 'display_data';\n",
              "          await google.colab.output.renderOutput(dataTable, element);\n",
              "          const docLink = document.createElement('div');\n",
              "          docLink.innerHTML = docLinkHtml;\n",
              "          element.appendChild(docLink);\n",
              "        }\n",
              "      </script>\n",
              "    </div>\n",
              "  </div>\n",
              "  "
            ]
          },
          "metadata": {},
          "execution_count": 9
        }
      ],
      "source": [
        "# extract year & month \n",
        "data['year'], data['month'] = data['ReportDate'].dt.year, data['ReportDate'].dt.month\n",
        "data.head()"
      ]
    },
    {
      "cell_type": "code",
      "source": [
        "# max & min value for Flow\n",
        "print('Max value of Flow is {};'.format(data.Flow.max()), '\\n'\n",
        "      'Min value of Flow is {};'.format(data.Flow.min()),'\\n'\n",
        "      'Avg value of Flow is {}.'.format(data.Flow.mean()))"
      ],
      "metadata": {
        "colab": {
          "base_uri": "https://localhost:8080/"
        },
        "id": "xqIQRSiwCplH",
        "outputId": "c7d08a11-9935-4206-ec4b-37548388718d"
      },
      "execution_count": 10,
      "outputs": [
        {
          "output_type": "stream",
          "name": "stdout",
          "text": [
            "Max value of Flow is 23263.40489835; \n",
            "Min value of Flow is -13967.24062477; \n",
            "Avg value of Flow is 20.653445520794538.\n"
          ]
        }
      ]
    }
  ],
  "metadata": {
    "colab": {
      "collapsed_sections": [],
      "name": "Capstone_A6_Coding_Deliverable_01_Basic_Preprocess",
      "provenance": [],
      "toc_visible": true,
      "include_colab_link": true
    },
    "kernelspec": {
      "display_name": "Python 3",
      "name": "python3"
    },
    "language_info": {
      "name": "python"
    }
  },
  "nbformat": 4,
  "nbformat_minor": 0
}