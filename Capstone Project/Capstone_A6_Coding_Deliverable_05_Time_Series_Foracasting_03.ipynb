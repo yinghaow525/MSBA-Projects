{
  "cells": [
    {
      "cell_type": "markdown",
      "metadata": {
        "id": "view-in-github",
        "colab_type": "text"
      },
      "source": [
        "<a href=\"https://colab.research.google.com/github/yinghaow525/MSBA-Projects/blob/main/Capstone%20Project/Capstone_A6_Coding_Deliverable_05_Time_Series_Foracasting_03.ipynb\" target=\"_parent\"><img src=\"https://colab.research.google.com/assets/colab-badge.svg\" alt=\"Open In Colab\"/></a>"
      ]
    },
    {
      "cell_type": "markdown",
      "metadata": {
        "id": "saQXJZIV-SVo"
      },
      "source": [
        "# Capsone Project with Spinnaker Analytics\n",
        "Team A6: Yihan Jia, Yinghao Wang, Simeng Li, Xiangshan Mu, Kaiyu Wang\n",
        "> **Business Objectives**:\n",
        "- The objective of the exercise is to find a tradable signal in the dataset. \n",
        "\n",
        "> **Project Flow**:\n",
        "- Standard time series models can be used or non-parametric models like neural networks can be deployed. Suggested course of actions is as follows:\n",
        "  1. Understand the dataset and what it represents\n",
        "  2. Define the problem: what does 'a tradable signal' mean based on the data available (i.e. develop your modeling equation, if any)\n",
        "  3. Start with simple analysis to identify patterns and outliers\n",
        "  4. Develop models with increasing complexity - i.e. don't start with neural nets etc\n",
        "  5. Define your success criteria - i.e. when do you know you have a tradable signal - positive (buy)/negative (sell), both are signals\n"
      ]
    },
    {
      "cell_type": "code",
      "execution_count": null,
      "metadata": {
        "id": "S8pGdPCUAu9f",
        "colab": {
          "base_uri": "https://localhost:8080/"
        },
        "outputId": "9c6f372c-e246-48ce-984d-6920affa0ab3"
      },
      "outputs": [
        {
          "output_type": "stream",
          "name": "stderr",
          "text": [
            "/usr/local/lib/python3.7/dist-packages/statsmodels/tools/_testing.py:19: FutureWarning: pandas.util.testing is deprecated. Use the functions in the public API at pandas.testing instead.\n",
            "  import pandas.util.testing as tm\n"
          ]
        }
      ],
      "source": [
        "# imports\n",
        "import pandas as pd\n",
        "import seaborn as sns\n",
        "import matplotlib.pyplot as plt\n",
        "import numpy as np\n",
        "import datetime as dt\n",
        "\n",
        "from google.colab import drive\n",
        "\n",
        "from statsmodels.tsa.stattools import adfuller\n",
        "\n",
        "from statsmodels.tsa.api import ExponentialSmoothing\n",
        "\n",
        "from statsmodels.graphics.tsaplots import plot_pacf, plot_acf\n",
        "\n",
        "from statsmodels.tsa.arima_model import ARIMA\n",
        "\n",
        "\n",
        "#reset recursionlimit\n",
        "import sys\n",
        "sys.setrecursionlimit(10000)\n",
        "\n",
        "import torch #pytorch\n",
        "import torch.nn as nn\n",
        "from torch.autograd import Variable\n",
        "\n",
        "# supress filter warnings\n",
        "import warnings\n",
        "warnings.filterwarnings(\"ignore\")\n",
        "\n",
        "#plt style\n",
        "plt.style.use(\"seaborn\")"
      ]
    },
    {
      "cell_type": "code",
      "source": [
        "# read datasets\n",
        "\n",
        "ETF = pd.read_csv('https://raw.githubusercontent.com/yinghaow525/MSBA-Projects/main/Capstone%20Project/Datasets/US%20Sector%20Inst%20ETF.csv')\n",
        "IMF = pd.read_csv('https://raw.githubusercontent.com/yinghaow525/MSBA-Projects/main/Capstone%20Project/Datasets/US%20Sector%20Institutional%20MF.csv')\n",
        "RMF = pd.read_csv('https://raw.githubusercontent.com/yinghaow525/MSBA-Projects/main/Capstone%20Project/Datasets/US%20Sector%20Retail%20MF.csv')"
      ],
      "metadata": {
        "id": "yaGoyg8uZ9BI"
      },
      "execution_count": null,
      "outputs": []
    },
    {
      "cell_type": "code",
      "execution_count": null,
      "metadata": {
        "id": "YE7hdnCkUs7c"
      },
      "outputs": [],
      "source": [
        "# Create type colunm\n",
        "ETF['Type'] = 'ETF'\n",
        "IMF['Type'] = 'IMF'\n",
        "RMF['Type'] = 'RMF'\n",
        "\n",
        "# Concat 3 dadaset\n",
        "data = pd.concat([ETF, IMF, RMF], axis=0)"
      ]
    },
    {
      "cell_type": "code",
      "execution_count": null,
      "metadata": {
        "id": "TiNpTQUnB7RX"
      },
      "outputs": [],
      "source": [
        "# convert report date to pandas datetime object\n",
        "data['ReportDate'] = pd.to_datetime(data['ReportDate'])"
      ]
    },
    {
      "cell_type": "code",
      "execution_count": null,
      "metadata": {
        "id": "bdz9ZmKQB8gQ"
      },
      "outputs": [],
      "source": [
        "# since all the Asset and Sector values are the same (Equity, and within US)\n",
        "# we only keep Industry sector as features\n",
        "data['AssetClass'] = data['AssetClass'].str.split('-')\n",
        "data['Industry'] = data.AssetClass.apply(lambda x: x[0])\n",
        "\n",
        "# drop orignal AssetClass feature\n",
        "data.drop(columns='AssetClass', inplace=True)"
      ]
    },
    {
      "cell_type": "code",
      "execution_count": null,
      "metadata": {
        "id": "lOwTt_Aj5QJ8"
      },
      "outputs": [],
      "source": [
        "# extract year & month \n",
        "data['year'], data['month'] = data['ReportDate'].dt.year, data['ReportDate'].dt.month"
      ]
    },
    {
      "cell_type": "markdown",
      "metadata": {
        "id": "zprsvhWt_AVu"
      },
      "source": [
        "# Time Series Analysis - 2\n"
      ]
    },
    {
      "cell_type": "markdown",
      "source": [
        "## LSTM estimations\n",
        "Long Short Term Memory from Recurrent Neural Network architectures."
      ],
      "metadata": {
        "id": "OZZtS4Q7YKXm"
      }
    },
    {
      "cell_type": "code",
      "source": [
        "# drop all rows where industry == Infrastructure\n",
        "df = data.drop(data[data['Industry'] == 'Infrastructure'].index)"
      ],
      "metadata": {
        "id": "ZJiAHyJo2mNR"
      },
      "execution_count": null,
      "outputs": []
    },
    {
      "cell_type": "code",
      "source": [
        "data.Type.unique()"
      ],
      "metadata": {
        "colab": {
          "base_uri": "https://localhost:8080/"
        },
        "id": "wGZLRBvN5HbQ",
        "outputId": "3a9bf449-b2b9-4905-864d-05a82b279ddc"
      },
      "execution_count": null,
      "outputs": [
        {
          "output_type": "execute_result",
          "data": {
            "text/plain": [
              "array(['ETF', 'IMF', 'RMF'], dtype=object)"
            ]
          },
          "metadata": {},
          "execution_count": 8
        }
      ]
    },
    {
      "cell_type": "code",
      "source": [
        "data.Industry.unique()"
      ],
      "metadata": {
        "colab": {
          "base_uri": "https://localhost:8080/"
        },
        "id": "wkE8-RB0VNJ2",
        "outputId": "13389493-1ca5-4f36-e2f9-ea025ae08a1a"
      },
      "execution_count": null,
      "outputs": [
        {
          "output_type": "execute_result",
          "data": {
            "text/plain": [
              "array(['Commodities/Materials', 'Consumer Goods', 'Energy', 'Financials',\n",
              "       'Health Care/Biotech', 'Industrials', 'Large Cap Blend',\n",
              "       'Large Cap Growth', 'Large Cap Value', 'Mid Cap Blend',\n",
              "       'Mid Cap Growth', 'Mid Cap Value', 'Real Estate',\n",
              "       'Small Cap Blend', 'Small Cap Growth', 'Small Cap Value',\n",
              "       'Technology', 'Telecom', 'Utilities', 'Infrastructure'],\n",
              "      dtype=object)"
            ]
          },
          "metadata": {},
          "execution_count": 9
        }
      ]
    },
    {
      "cell_type": "code",
      "source": [
        "# exclude industries with missing data observations\n",
        "industries = ['Energy', 'Financials',\n",
        "       'Health Care/Biotech', 'Large Cap Blend',\n",
        "       'Large Cap Growth', 'Large Cap Value', 'Mid Cap Blend',\n",
        "       'Mid Cap Growth', 'Mid Cap Value', 'Real Estate',\n",
        "       'Small Cap Blend', 'Small Cap Growth', 'Small Cap Value',\n",
        "       'Technology', 'Telecom', 'Utilities']"
      ],
      "metadata": {
        "id": "HsDI72UMVSS4"
      },
      "execution_count": null,
      "outputs": []
    },
    {
      "cell_type": "code",
      "source": [
        "len(industries)"
      ],
      "metadata": {
        "colab": {
          "base_uri": "https://localhost:8080/"
        },
        "id": "b-NCgCYHXKrz",
        "outputId": "56b27ade-9e81-4f56-fc7c-cfc3565cedd4"
      },
      "execution_count": null,
      "outputs": [
        {
          "output_type": "execute_result",
          "data": {
            "text/plain": [
              "16"
            ]
          },
          "metadata": {},
          "execution_count": 11
        }
      ]
    },
    {
      "cell_type": "code",
      "source": [
        "LSTM_ETF=data[data['Type']== 'ETF']"
      ],
      "metadata": {
        "id": "yjnhl-TSQxk0"
      },
      "execution_count": null,
      "outputs": []
    },
    {
      "cell_type": "code",
      "source": [
        "LSTM_ETF.head(3)"
      ],
      "metadata": {
        "id": "dtIUakX-HJ9L",
        "colab": {
          "base_uri": "https://localhost:8080/",
          "height": 143
        },
        "outputId": "77e92ca3-6644-46f9-af60-b7773d2b2b50"
      },
      "execution_count": null,
      "outputs": [
        {
          "output_type": "execute_result",
          "data": {
            "text/plain": [
              "  ReportDate        Flow  FlowPct     AssetsEnd  PortfolioChangePct Type  \\\n",
              "0 2017-02-01  378.578706   4.5064   8679.056347             -1.1938  ETF   \n",
              "1 2017-02-01  332.526792   1.1479  28973.613065             -1.1231  ETF   \n",
              "2 2017-02-01  186.031374   0.3782  48446.700077             -1.8855  ETF   \n",
              "\n",
              "                Industry  year  month  \n",
              "0  Commodities/Materials  2017      2  \n",
              "1         Consumer Goods  2017      2  \n",
              "2                 Energy  2017      2  "
            ],
            "text/html": [
              "\n",
              "  <div id=\"df-5777a93f-f4f7-44d8-b6be-2fdcc62525ab\">\n",
              "    <div class=\"colab-df-container\">\n",
              "      <div>\n",
              "<style scoped>\n",
              "    .dataframe tbody tr th:only-of-type {\n",
              "        vertical-align: middle;\n",
              "    }\n",
              "\n",
              "    .dataframe tbody tr th {\n",
              "        vertical-align: top;\n",
              "    }\n",
              "\n",
              "    .dataframe thead th {\n",
              "        text-align: right;\n",
              "    }\n",
              "</style>\n",
              "<table border=\"1\" class=\"dataframe\">\n",
              "  <thead>\n",
              "    <tr style=\"text-align: right;\">\n",
              "      <th></th>\n",
              "      <th>ReportDate</th>\n",
              "      <th>Flow</th>\n",
              "      <th>FlowPct</th>\n",
              "      <th>AssetsEnd</th>\n",
              "      <th>PortfolioChangePct</th>\n",
              "      <th>Type</th>\n",
              "      <th>Industry</th>\n",
              "      <th>year</th>\n",
              "      <th>month</th>\n",
              "    </tr>\n",
              "  </thead>\n",
              "  <tbody>\n",
              "    <tr>\n",
              "      <th>0</th>\n",
              "      <td>2017-02-01</td>\n",
              "      <td>378.578706</td>\n",
              "      <td>4.5064</td>\n",
              "      <td>8679.056347</td>\n",
              "      <td>-1.1938</td>\n",
              "      <td>ETF</td>\n",
              "      <td>Commodities/Materials</td>\n",
              "      <td>2017</td>\n",
              "      <td>2</td>\n",
              "    </tr>\n",
              "    <tr>\n",
              "      <th>1</th>\n",
              "      <td>2017-02-01</td>\n",
              "      <td>332.526792</td>\n",
              "      <td>1.1479</td>\n",
              "      <td>28973.613065</td>\n",
              "      <td>-1.1231</td>\n",
              "      <td>ETF</td>\n",
              "      <td>Consumer Goods</td>\n",
              "      <td>2017</td>\n",
              "      <td>2</td>\n",
              "    </tr>\n",
              "    <tr>\n",
              "      <th>2</th>\n",
              "      <td>2017-02-01</td>\n",
              "      <td>186.031374</td>\n",
              "      <td>0.3782</td>\n",
              "      <td>48446.700077</td>\n",
              "      <td>-1.8855</td>\n",
              "      <td>ETF</td>\n",
              "      <td>Energy</td>\n",
              "      <td>2017</td>\n",
              "      <td>2</td>\n",
              "    </tr>\n",
              "  </tbody>\n",
              "</table>\n",
              "</div>\n",
              "      <button class=\"colab-df-convert\" onclick=\"convertToInteractive('df-5777a93f-f4f7-44d8-b6be-2fdcc62525ab')\"\n",
              "              title=\"Convert this dataframe to an interactive table.\"\n",
              "              style=\"display:none;\">\n",
              "        \n",
              "  <svg xmlns=\"http://www.w3.org/2000/svg\" height=\"24px\"viewBox=\"0 0 24 24\"\n",
              "       width=\"24px\">\n",
              "    <path d=\"M0 0h24v24H0V0z\" fill=\"none\"/>\n",
              "    <path d=\"M18.56 5.44l.94 2.06.94-2.06 2.06-.94-2.06-.94-.94-2.06-.94 2.06-2.06.94zm-11 1L8.5 8.5l.94-2.06 2.06-.94-2.06-.94L8.5 2.5l-.94 2.06-2.06.94zm10 10l.94 2.06.94-2.06 2.06-.94-2.06-.94-.94-2.06-.94 2.06-2.06.94z\"/><path d=\"M17.41 7.96l-1.37-1.37c-.4-.4-.92-.59-1.43-.59-.52 0-1.04.2-1.43.59L10.3 9.45l-7.72 7.72c-.78.78-.78 2.05 0 2.83L4 21.41c.39.39.9.59 1.41.59.51 0 1.02-.2 1.41-.59l7.78-7.78 2.81-2.81c.8-.78.8-2.07 0-2.86zM5.41 20L4 18.59l7.72-7.72 1.47 1.35L5.41 20z\"/>\n",
              "  </svg>\n",
              "      </button>\n",
              "      \n",
              "  <style>\n",
              "    .colab-df-container {\n",
              "      display:flex;\n",
              "      flex-wrap:wrap;\n",
              "      gap: 12px;\n",
              "    }\n",
              "\n",
              "    .colab-df-convert {\n",
              "      background-color: #E8F0FE;\n",
              "      border: none;\n",
              "      border-radius: 50%;\n",
              "      cursor: pointer;\n",
              "      display: none;\n",
              "      fill: #1967D2;\n",
              "      height: 32px;\n",
              "      padding: 0 0 0 0;\n",
              "      width: 32px;\n",
              "    }\n",
              "\n",
              "    .colab-df-convert:hover {\n",
              "      background-color: #E2EBFA;\n",
              "      box-shadow: 0px 1px 2px rgba(60, 64, 67, 0.3), 0px 1px 3px 1px rgba(60, 64, 67, 0.15);\n",
              "      fill: #174EA6;\n",
              "    }\n",
              "\n",
              "    [theme=dark] .colab-df-convert {\n",
              "      background-color: #3B4455;\n",
              "      fill: #D2E3FC;\n",
              "    }\n",
              "\n",
              "    [theme=dark] .colab-df-convert:hover {\n",
              "      background-color: #434B5C;\n",
              "      box-shadow: 0px 1px 3px 1px rgba(0, 0, 0, 0.15);\n",
              "      filter: drop-shadow(0px 1px 2px rgba(0, 0, 0, 0.3));\n",
              "      fill: #FFFFFF;\n",
              "    }\n",
              "  </style>\n",
              "\n",
              "      <script>\n",
              "        const buttonEl =\n",
              "          document.querySelector('#df-5777a93f-f4f7-44d8-b6be-2fdcc62525ab button.colab-df-convert');\n",
              "        buttonEl.style.display =\n",
              "          google.colab.kernel.accessAllowed ? 'block' : 'none';\n",
              "\n",
              "        async function convertToInteractive(key) {\n",
              "          const element = document.querySelector('#df-5777a93f-f4f7-44d8-b6be-2fdcc62525ab');\n",
              "          const dataTable =\n",
              "            await google.colab.kernel.invokeFunction('convertToInteractive',\n",
              "                                                     [key], {});\n",
              "          if (!dataTable) return;\n",
              "\n",
              "          const docLinkHtml = 'Like what you see? Visit the ' +\n",
              "            '<a target=\"_blank\" href=https://colab.research.google.com/notebooks/data_table.ipynb>data table notebook</a>'\n",
              "            + ' to learn more about interactive tables.';\n",
              "          element.innerHTML = '';\n",
              "          dataTable['output_type'] = 'display_data';\n",
              "          await google.colab.output.renderOutput(dataTable, element);\n",
              "          const docLink = document.createElement('div');\n",
              "          docLink.innerHTML = docLinkHtml;\n",
              "          element.appendChild(docLink);\n",
              "        }\n",
              "      </script>\n",
              "    </div>\n",
              "  </div>\n",
              "  "
            ]
          },
          "metadata": {},
          "execution_count": 13
        }
      ]
    },
    {
      "cell_type": "code",
      "source": [
        "LSTM_ETF_energy=LSTM_ETF[LSTM_ETF['Industry']=='Energy']"
      ],
      "metadata": {
        "id": "20i6hEy1HLp3"
      },
      "execution_count": null,
      "outputs": []
    },
    {
      "cell_type": "code",
      "source": [
        "LSTM_ETF_energy.head(3)"
      ],
      "metadata": {
        "id": "X-ty8_rlHNZt",
        "colab": {
          "base_uri": "https://localhost:8080/",
          "height": 143
        },
        "outputId": "8b1ee2e5-fa9f-478d-fc65-8bf69fceebb3"
      },
      "execution_count": null,
      "outputs": [
        {
          "output_type": "execute_result",
          "data": {
            "text/plain": [
              "   ReportDate        Flow  FlowPct     AssetsEnd  PortfolioChangePct Type  \\\n",
              "2  2017-02-01  186.031374   0.3782  48446.700077             -1.8855  ETF   \n",
              "21 2017-01-25  242.309208   0.5019  49187.639104              1.3951  ETF   \n",
              "40 2017-01-18  237.672693   0.4934  48270.885205             -0.2861  ETF   \n",
              "\n",
              "   Industry  year  month  \n",
              "2    Energy  2017      2  \n",
              "21   Energy  2017      1  \n",
              "40   Energy  2017      1  "
            ],
            "text/html": [
              "\n",
              "  <div id=\"df-98b3c298-144a-42f6-9a14-6f36b7c2119a\">\n",
              "    <div class=\"colab-df-container\">\n",
              "      <div>\n",
              "<style scoped>\n",
              "    .dataframe tbody tr th:only-of-type {\n",
              "        vertical-align: middle;\n",
              "    }\n",
              "\n",
              "    .dataframe tbody tr th {\n",
              "        vertical-align: top;\n",
              "    }\n",
              "\n",
              "    .dataframe thead th {\n",
              "        text-align: right;\n",
              "    }\n",
              "</style>\n",
              "<table border=\"1\" class=\"dataframe\">\n",
              "  <thead>\n",
              "    <tr style=\"text-align: right;\">\n",
              "      <th></th>\n",
              "      <th>ReportDate</th>\n",
              "      <th>Flow</th>\n",
              "      <th>FlowPct</th>\n",
              "      <th>AssetsEnd</th>\n",
              "      <th>PortfolioChangePct</th>\n",
              "      <th>Type</th>\n",
              "      <th>Industry</th>\n",
              "      <th>year</th>\n",
              "      <th>month</th>\n",
              "    </tr>\n",
              "  </thead>\n",
              "  <tbody>\n",
              "    <tr>\n",
              "      <th>2</th>\n",
              "      <td>2017-02-01</td>\n",
              "      <td>186.031374</td>\n",
              "      <td>0.3782</td>\n",
              "      <td>48446.700077</td>\n",
              "      <td>-1.8855</td>\n",
              "      <td>ETF</td>\n",
              "      <td>Energy</td>\n",
              "      <td>2017</td>\n",
              "      <td>2</td>\n",
              "    </tr>\n",
              "    <tr>\n",
              "      <th>21</th>\n",
              "      <td>2017-01-25</td>\n",
              "      <td>242.309208</td>\n",
              "      <td>0.5019</td>\n",
              "      <td>49187.639104</td>\n",
              "      <td>1.3951</td>\n",
              "      <td>ETF</td>\n",
              "      <td>Energy</td>\n",
              "      <td>2017</td>\n",
              "      <td>1</td>\n",
              "    </tr>\n",
              "    <tr>\n",
              "      <th>40</th>\n",
              "      <td>2017-01-18</td>\n",
              "      <td>237.672693</td>\n",
              "      <td>0.4934</td>\n",
              "      <td>48270.885205</td>\n",
              "      <td>-0.2861</td>\n",
              "      <td>ETF</td>\n",
              "      <td>Energy</td>\n",
              "      <td>2017</td>\n",
              "      <td>1</td>\n",
              "    </tr>\n",
              "  </tbody>\n",
              "</table>\n",
              "</div>\n",
              "      <button class=\"colab-df-convert\" onclick=\"convertToInteractive('df-98b3c298-144a-42f6-9a14-6f36b7c2119a')\"\n",
              "              title=\"Convert this dataframe to an interactive table.\"\n",
              "              style=\"display:none;\">\n",
              "        \n",
              "  <svg xmlns=\"http://www.w3.org/2000/svg\" height=\"24px\"viewBox=\"0 0 24 24\"\n",
              "       width=\"24px\">\n",
              "    <path d=\"M0 0h24v24H0V0z\" fill=\"none\"/>\n",
              "    <path d=\"M18.56 5.44l.94 2.06.94-2.06 2.06-.94-2.06-.94-.94-2.06-.94 2.06-2.06.94zm-11 1L8.5 8.5l.94-2.06 2.06-.94-2.06-.94L8.5 2.5l-.94 2.06-2.06.94zm10 10l.94 2.06.94-2.06 2.06-.94-2.06-.94-.94-2.06-.94 2.06-2.06.94z\"/><path d=\"M17.41 7.96l-1.37-1.37c-.4-.4-.92-.59-1.43-.59-.52 0-1.04.2-1.43.59L10.3 9.45l-7.72 7.72c-.78.78-.78 2.05 0 2.83L4 21.41c.39.39.9.59 1.41.59.51 0 1.02-.2 1.41-.59l7.78-7.78 2.81-2.81c.8-.78.8-2.07 0-2.86zM5.41 20L4 18.59l7.72-7.72 1.47 1.35L5.41 20z\"/>\n",
              "  </svg>\n",
              "      </button>\n",
              "      \n",
              "  <style>\n",
              "    .colab-df-container {\n",
              "      display:flex;\n",
              "      flex-wrap:wrap;\n",
              "      gap: 12px;\n",
              "    }\n",
              "\n",
              "    .colab-df-convert {\n",
              "      background-color: #E8F0FE;\n",
              "      border: none;\n",
              "      border-radius: 50%;\n",
              "      cursor: pointer;\n",
              "      display: none;\n",
              "      fill: #1967D2;\n",
              "      height: 32px;\n",
              "      padding: 0 0 0 0;\n",
              "      width: 32px;\n",
              "    }\n",
              "\n",
              "    .colab-df-convert:hover {\n",
              "      background-color: #E2EBFA;\n",
              "      box-shadow: 0px 1px 2px rgba(60, 64, 67, 0.3), 0px 1px 3px 1px rgba(60, 64, 67, 0.15);\n",
              "      fill: #174EA6;\n",
              "    }\n",
              "\n",
              "    [theme=dark] .colab-df-convert {\n",
              "      background-color: #3B4455;\n",
              "      fill: #D2E3FC;\n",
              "    }\n",
              "\n",
              "    [theme=dark] .colab-df-convert:hover {\n",
              "      background-color: #434B5C;\n",
              "      box-shadow: 0px 1px 3px 1px rgba(0, 0, 0, 0.15);\n",
              "      filter: drop-shadow(0px 1px 2px rgba(0, 0, 0, 0.3));\n",
              "      fill: #FFFFFF;\n",
              "    }\n",
              "  </style>\n",
              "\n",
              "      <script>\n",
              "        const buttonEl =\n",
              "          document.querySelector('#df-98b3c298-144a-42f6-9a14-6f36b7c2119a button.colab-df-convert');\n",
              "        buttonEl.style.display =\n",
              "          google.colab.kernel.accessAllowed ? 'block' : 'none';\n",
              "\n",
              "        async function convertToInteractive(key) {\n",
              "          const element = document.querySelector('#df-98b3c298-144a-42f6-9a14-6f36b7c2119a');\n",
              "          const dataTable =\n",
              "            await google.colab.kernel.invokeFunction('convertToInteractive',\n",
              "                                                     [key], {});\n",
              "          if (!dataTable) return;\n",
              "\n",
              "          const docLinkHtml = 'Like what you see? Visit the ' +\n",
              "            '<a target=\"_blank\" href=https://colab.research.google.com/notebooks/data_table.ipynb>data table notebook</a>'\n",
              "            + ' to learn more about interactive tables.';\n",
              "          element.innerHTML = '';\n",
              "          dataTable['output_type'] = 'display_data';\n",
              "          await google.colab.output.renderOutput(dataTable, element);\n",
              "          const docLink = document.createElement('div');\n",
              "          docLink.innerHTML = docLinkHtml;\n",
              "          element.appendChild(docLink);\n",
              "        }\n",
              "      </script>\n",
              "    </div>\n",
              "  </div>\n",
              "  "
            ]
          },
          "metadata": {},
          "execution_count": 15
        }
      ]
    },
    {
      "cell_type": "code",
      "source": [
        "LSTM_ETF_energy = LSTM_ETF_energy.sort_values(by='ReportDate', ascending=True)"
      ],
      "metadata": {
        "id": "s1ZO5UqTHOb5"
      },
      "execution_count": null,
      "outputs": []
    },
    {
      "cell_type": "code",
      "source": [
        "LSTM_ETF_energy.head(3)"
      ],
      "metadata": {
        "id": "mD4fKei6HP4Q",
        "colab": {
          "base_uri": "https://localhost:8080/",
          "height": 143
        },
        "outputId": "b5e089b6-d410-4d6e-a8ff-dc97ade7fcb0"
      },
      "execution_count": null,
      "outputs": [
        {
          "output_type": "execute_result",
          "data": {
            "text/plain": [
              "      ReportDate       Flow  FlowPct    AssetsEnd  PortfolioChangePct Type  \\\n",
              "10986 2006-01-04  12.115391   0.7262  1756.771759              4.5757  ETF   \n",
              "10967 2006-01-11  16.227106   0.9236  1808.084925              1.9971  ETF   \n",
              "10948 2006-01-18  20.685026   1.1440  1846.248449              0.9666  ETF   \n",
              "\n",
              "      Industry  year  month  \n",
              "10986   Energy  2006      1  \n",
              "10967   Energy  2006      1  \n",
              "10948   Energy  2006      1  "
            ],
            "text/html": [
              "\n",
              "  <div id=\"df-281f12e1-5e99-4c68-ad11-b9292eaeafce\">\n",
              "    <div class=\"colab-df-container\">\n",
              "      <div>\n",
              "<style scoped>\n",
              "    .dataframe tbody tr th:only-of-type {\n",
              "        vertical-align: middle;\n",
              "    }\n",
              "\n",
              "    .dataframe tbody tr th {\n",
              "        vertical-align: top;\n",
              "    }\n",
              "\n",
              "    .dataframe thead th {\n",
              "        text-align: right;\n",
              "    }\n",
              "</style>\n",
              "<table border=\"1\" class=\"dataframe\">\n",
              "  <thead>\n",
              "    <tr style=\"text-align: right;\">\n",
              "      <th></th>\n",
              "      <th>ReportDate</th>\n",
              "      <th>Flow</th>\n",
              "      <th>FlowPct</th>\n",
              "      <th>AssetsEnd</th>\n",
              "      <th>PortfolioChangePct</th>\n",
              "      <th>Type</th>\n",
              "      <th>Industry</th>\n",
              "      <th>year</th>\n",
              "      <th>month</th>\n",
              "    </tr>\n",
              "  </thead>\n",
              "  <tbody>\n",
              "    <tr>\n",
              "      <th>10986</th>\n",
              "      <td>2006-01-04</td>\n",
              "      <td>12.115391</td>\n",
              "      <td>0.7262</td>\n",
              "      <td>1756.771759</td>\n",
              "      <td>4.5757</td>\n",
              "      <td>ETF</td>\n",
              "      <td>Energy</td>\n",
              "      <td>2006</td>\n",
              "      <td>1</td>\n",
              "    </tr>\n",
              "    <tr>\n",
              "      <th>10967</th>\n",
              "      <td>2006-01-11</td>\n",
              "      <td>16.227106</td>\n",
              "      <td>0.9236</td>\n",
              "      <td>1808.084925</td>\n",
              "      <td>1.9971</td>\n",
              "      <td>ETF</td>\n",
              "      <td>Energy</td>\n",
              "      <td>2006</td>\n",
              "      <td>1</td>\n",
              "    </tr>\n",
              "    <tr>\n",
              "      <th>10948</th>\n",
              "      <td>2006-01-18</td>\n",
              "      <td>20.685026</td>\n",
              "      <td>1.1440</td>\n",
              "      <td>1846.248449</td>\n",
              "      <td>0.9666</td>\n",
              "      <td>ETF</td>\n",
              "      <td>Energy</td>\n",
              "      <td>2006</td>\n",
              "      <td>1</td>\n",
              "    </tr>\n",
              "  </tbody>\n",
              "</table>\n",
              "</div>\n",
              "      <button class=\"colab-df-convert\" onclick=\"convertToInteractive('df-281f12e1-5e99-4c68-ad11-b9292eaeafce')\"\n",
              "              title=\"Convert this dataframe to an interactive table.\"\n",
              "              style=\"display:none;\">\n",
              "        \n",
              "  <svg xmlns=\"http://www.w3.org/2000/svg\" height=\"24px\"viewBox=\"0 0 24 24\"\n",
              "       width=\"24px\">\n",
              "    <path d=\"M0 0h24v24H0V0z\" fill=\"none\"/>\n",
              "    <path d=\"M18.56 5.44l.94 2.06.94-2.06 2.06-.94-2.06-.94-.94-2.06-.94 2.06-2.06.94zm-11 1L8.5 8.5l.94-2.06 2.06-.94-2.06-.94L8.5 2.5l-.94 2.06-2.06.94zm10 10l.94 2.06.94-2.06 2.06-.94-2.06-.94-.94-2.06-.94 2.06-2.06.94z\"/><path d=\"M17.41 7.96l-1.37-1.37c-.4-.4-.92-.59-1.43-.59-.52 0-1.04.2-1.43.59L10.3 9.45l-7.72 7.72c-.78.78-.78 2.05 0 2.83L4 21.41c.39.39.9.59 1.41.59.51 0 1.02-.2 1.41-.59l7.78-7.78 2.81-2.81c.8-.78.8-2.07 0-2.86zM5.41 20L4 18.59l7.72-7.72 1.47 1.35L5.41 20z\"/>\n",
              "  </svg>\n",
              "      </button>\n",
              "      \n",
              "  <style>\n",
              "    .colab-df-container {\n",
              "      display:flex;\n",
              "      flex-wrap:wrap;\n",
              "      gap: 12px;\n",
              "    }\n",
              "\n",
              "    .colab-df-convert {\n",
              "      background-color: #E8F0FE;\n",
              "      border: none;\n",
              "      border-radius: 50%;\n",
              "      cursor: pointer;\n",
              "      display: none;\n",
              "      fill: #1967D2;\n",
              "      height: 32px;\n",
              "      padding: 0 0 0 0;\n",
              "      width: 32px;\n",
              "    }\n",
              "\n",
              "    .colab-df-convert:hover {\n",
              "      background-color: #E2EBFA;\n",
              "      box-shadow: 0px 1px 2px rgba(60, 64, 67, 0.3), 0px 1px 3px 1px rgba(60, 64, 67, 0.15);\n",
              "      fill: #174EA6;\n",
              "    }\n",
              "\n",
              "    [theme=dark] .colab-df-convert {\n",
              "      background-color: #3B4455;\n",
              "      fill: #D2E3FC;\n",
              "    }\n",
              "\n",
              "    [theme=dark] .colab-df-convert:hover {\n",
              "      background-color: #434B5C;\n",
              "      box-shadow: 0px 1px 3px 1px rgba(0, 0, 0, 0.15);\n",
              "      filter: drop-shadow(0px 1px 2px rgba(0, 0, 0, 0.3));\n",
              "      fill: #FFFFFF;\n",
              "    }\n",
              "  </style>\n",
              "\n",
              "      <script>\n",
              "        const buttonEl =\n",
              "          document.querySelector('#df-281f12e1-5e99-4c68-ad11-b9292eaeafce button.colab-df-convert');\n",
              "        buttonEl.style.display =\n",
              "          google.colab.kernel.accessAllowed ? 'block' : 'none';\n",
              "\n",
              "        async function convertToInteractive(key) {\n",
              "          const element = document.querySelector('#df-281f12e1-5e99-4c68-ad11-b9292eaeafce');\n",
              "          const dataTable =\n",
              "            await google.colab.kernel.invokeFunction('convertToInteractive',\n",
              "                                                     [key], {});\n",
              "          if (!dataTable) return;\n",
              "\n",
              "          const docLinkHtml = 'Like what you see? Visit the ' +\n",
              "            '<a target=\"_blank\" href=https://colab.research.google.com/notebooks/data_table.ipynb>data table notebook</a>'\n",
              "            + ' to learn more about interactive tables.';\n",
              "          element.innerHTML = '';\n",
              "          dataTable['output_type'] = 'display_data';\n",
              "          await google.colab.output.renderOutput(dataTable, element);\n",
              "          const docLink = document.createElement('div');\n",
              "          docLink.innerHTML = docLinkHtml;\n",
              "          element.appendChild(docLink);\n",
              "        }\n",
              "      </script>\n",
              "    </div>\n",
              "  </div>\n",
              "  "
            ]
          },
          "metadata": {},
          "execution_count": 17
        }
      ]
    },
    {
      "cell_type": "code",
      "source": [
        "input_data=LSTM_ETF_energy[['FlowPct','AssetsEnd','PortfolioChangePct','Flow']]"
      ],
      "metadata": {
        "id": "B-BSkBO0HQyC"
      },
      "execution_count": null,
      "outputs": []
    },
    {
      "cell_type": "code",
      "source": [
        "input_data=input_data.reset_index(drop=True)"
      ],
      "metadata": {
        "id": "megw5h-PHSO6"
      },
      "execution_count": null,
      "outputs": []
    },
    {
      "cell_type": "code",
      "source": [
        "input_data.head(3)"
      ],
      "metadata": {
        "id": "1XC_4QLfHTZv",
        "colab": {
          "base_uri": "https://localhost:8080/",
          "height": 143
        },
        "outputId": "e30c0673-1e09-478d-88d4-ced774f59aa6"
      },
      "execution_count": null,
      "outputs": [
        {
          "output_type": "execute_result",
          "data": {
            "text/plain": [
              "   FlowPct    AssetsEnd  PortfolioChangePct       Flow\n",
              "0   0.7262  1756.771759              4.5757  12.115391\n",
              "1   0.9236  1808.084925              1.9971  16.227106\n",
              "2   1.1440  1846.248449              0.9666  20.685026"
            ],
            "text/html": [
              "\n",
              "  <div id=\"df-07a72f3c-22bb-4d96-a1fa-20ae30ec0b6e\">\n",
              "    <div class=\"colab-df-container\">\n",
              "      <div>\n",
              "<style scoped>\n",
              "    .dataframe tbody tr th:only-of-type {\n",
              "        vertical-align: middle;\n",
              "    }\n",
              "\n",
              "    .dataframe tbody tr th {\n",
              "        vertical-align: top;\n",
              "    }\n",
              "\n",
              "    .dataframe thead th {\n",
              "        text-align: right;\n",
              "    }\n",
              "</style>\n",
              "<table border=\"1\" class=\"dataframe\">\n",
              "  <thead>\n",
              "    <tr style=\"text-align: right;\">\n",
              "      <th></th>\n",
              "      <th>FlowPct</th>\n",
              "      <th>AssetsEnd</th>\n",
              "      <th>PortfolioChangePct</th>\n",
              "      <th>Flow</th>\n",
              "    </tr>\n",
              "  </thead>\n",
              "  <tbody>\n",
              "    <tr>\n",
              "      <th>0</th>\n",
              "      <td>0.7262</td>\n",
              "      <td>1756.771759</td>\n",
              "      <td>4.5757</td>\n",
              "      <td>12.115391</td>\n",
              "    </tr>\n",
              "    <tr>\n",
              "      <th>1</th>\n",
              "      <td>0.9236</td>\n",
              "      <td>1808.084925</td>\n",
              "      <td>1.9971</td>\n",
              "      <td>16.227106</td>\n",
              "    </tr>\n",
              "    <tr>\n",
              "      <th>2</th>\n",
              "      <td>1.1440</td>\n",
              "      <td>1846.248449</td>\n",
              "      <td>0.9666</td>\n",
              "      <td>20.685026</td>\n",
              "    </tr>\n",
              "  </tbody>\n",
              "</table>\n",
              "</div>\n",
              "      <button class=\"colab-df-convert\" onclick=\"convertToInteractive('df-07a72f3c-22bb-4d96-a1fa-20ae30ec0b6e')\"\n",
              "              title=\"Convert this dataframe to an interactive table.\"\n",
              "              style=\"display:none;\">\n",
              "        \n",
              "  <svg xmlns=\"http://www.w3.org/2000/svg\" height=\"24px\"viewBox=\"0 0 24 24\"\n",
              "       width=\"24px\">\n",
              "    <path d=\"M0 0h24v24H0V0z\" fill=\"none\"/>\n",
              "    <path d=\"M18.56 5.44l.94 2.06.94-2.06 2.06-.94-2.06-.94-.94-2.06-.94 2.06-2.06.94zm-11 1L8.5 8.5l.94-2.06 2.06-.94-2.06-.94L8.5 2.5l-.94 2.06-2.06.94zm10 10l.94 2.06.94-2.06 2.06-.94-2.06-.94-.94-2.06-.94 2.06-2.06.94z\"/><path d=\"M17.41 7.96l-1.37-1.37c-.4-.4-.92-.59-1.43-.59-.52 0-1.04.2-1.43.59L10.3 9.45l-7.72 7.72c-.78.78-.78 2.05 0 2.83L4 21.41c.39.39.9.59 1.41.59.51 0 1.02-.2 1.41-.59l7.78-7.78 2.81-2.81c.8-.78.8-2.07 0-2.86zM5.41 20L4 18.59l7.72-7.72 1.47 1.35L5.41 20z\"/>\n",
              "  </svg>\n",
              "      </button>\n",
              "      \n",
              "  <style>\n",
              "    .colab-df-container {\n",
              "      display:flex;\n",
              "      flex-wrap:wrap;\n",
              "      gap: 12px;\n",
              "    }\n",
              "\n",
              "    .colab-df-convert {\n",
              "      background-color: #E8F0FE;\n",
              "      border: none;\n",
              "      border-radius: 50%;\n",
              "      cursor: pointer;\n",
              "      display: none;\n",
              "      fill: #1967D2;\n",
              "      height: 32px;\n",
              "      padding: 0 0 0 0;\n",
              "      width: 32px;\n",
              "    }\n",
              "\n",
              "    .colab-df-convert:hover {\n",
              "      background-color: #E2EBFA;\n",
              "      box-shadow: 0px 1px 2px rgba(60, 64, 67, 0.3), 0px 1px 3px 1px rgba(60, 64, 67, 0.15);\n",
              "      fill: #174EA6;\n",
              "    }\n",
              "\n",
              "    [theme=dark] .colab-df-convert {\n",
              "      background-color: #3B4455;\n",
              "      fill: #D2E3FC;\n",
              "    }\n",
              "\n",
              "    [theme=dark] .colab-df-convert:hover {\n",
              "      background-color: #434B5C;\n",
              "      box-shadow: 0px 1px 3px 1px rgba(0, 0, 0, 0.15);\n",
              "      filter: drop-shadow(0px 1px 2px rgba(0, 0, 0, 0.3));\n",
              "      fill: #FFFFFF;\n",
              "    }\n",
              "  </style>\n",
              "\n",
              "      <script>\n",
              "        const buttonEl =\n",
              "          document.querySelector('#df-07a72f3c-22bb-4d96-a1fa-20ae30ec0b6e button.colab-df-convert');\n",
              "        buttonEl.style.display =\n",
              "          google.colab.kernel.accessAllowed ? 'block' : 'none';\n",
              "\n",
              "        async function convertToInteractive(key) {\n",
              "          const element = document.querySelector('#df-07a72f3c-22bb-4d96-a1fa-20ae30ec0b6e');\n",
              "          const dataTable =\n",
              "            await google.colab.kernel.invokeFunction('convertToInteractive',\n",
              "                                                     [key], {});\n",
              "          if (!dataTable) return;\n",
              "\n",
              "          const docLinkHtml = 'Like what you see? Visit the ' +\n",
              "            '<a target=\"_blank\" href=https://colab.research.google.com/notebooks/data_table.ipynb>data table notebook</a>'\n",
              "            + ' to learn more about interactive tables.';\n",
              "          element.innerHTML = '';\n",
              "          dataTable['output_type'] = 'display_data';\n",
              "          await google.colab.output.renderOutput(dataTable, element);\n",
              "          const docLink = document.createElement('div');\n",
              "          docLink.innerHTML = docLinkHtml;\n",
              "          element.appendChild(docLink);\n",
              "        }\n",
              "      </script>\n",
              "    </div>\n",
              "  </div>\n",
              "  "
            ]
          },
          "metadata": {},
          "execution_count": 20
        }
      ]
    },
    {
      "cell_type": "code",
      "source": [
        "X = input_data.iloc[:, :-1]\n",
        "y = input_data.iloc[:, 3:4] "
      ],
      "metadata": {
        "id": "s8ymljjDHVXA"
      },
      "execution_count": null,
      "outputs": []
    },
    {
      "cell_type": "code",
      "source": [
        "from sklearn.preprocessing import StandardScaler, MinMaxScaler\n",
        "mm = MinMaxScaler()\n",
        "ss = StandardScaler()\n",
        "\n",
        "\n",
        "X_ss = ss.fit_transform(X)\n",
        "y_mm = mm.fit_transform(y) "
      ],
      "metadata": {
        "id": "ovwLmeZwHWnq"
      },
      "execution_count": null,
      "outputs": []
    },
    {
      "cell_type": "code",
      "source": [
        "#first 550 for training\n",
        "\n",
        "X_train = X_ss[:550, :]\n",
        "X_test = X_ss[550:, :]\n",
        "\n",
        "y_train = y_mm[:550, :]\n",
        "y_test = y_mm[550:, :] "
      ],
      "metadata": {
        "id": "jhZPRpguHX61"
      },
      "execution_count": null,
      "outputs": []
    },
    {
      "cell_type": "code",
      "source": [
        "print(\"Training Shape\", X_train.shape, y_train.shape)\n",
        "print(\"Testing Shape\", X_test.shape, y_test.shape) "
      ],
      "metadata": {
        "id": "LdyrsuP9HZTr",
        "colab": {
          "base_uri": "https://localhost:8080/"
        },
        "outputId": "0816a85c-8a25-4895-f56f-e9bb173117a8"
      },
      "execution_count": null,
      "outputs": [
        {
          "output_type": "stream",
          "name": "stdout",
          "text": [
            "Training Shape (550, 3) (550, 1)\n",
            "Testing Shape (29, 3) (29, 1)\n"
          ]
        }
      ]
    },
    {
      "cell_type": "code",
      "source": [
        "X_train_tensors = Variable(torch.Tensor(X_train))\n",
        "X_test_tensors = Variable(torch.Tensor(X_test))\n",
        "\n",
        "y_train_tensors = Variable(torch.Tensor(y_train))\n",
        "y_test_tensors = Variable(torch.Tensor(y_test)) "
      ],
      "metadata": {
        "id": "fzTzSKtUHb05"
      },
      "execution_count": null,
      "outputs": []
    },
    {
      "cell_type": "code",
      "source": [
        "#reshaping to rows, timestamps, features\n",
        "\n",
        "X_train_tensors_final = torch.reshape(X_train_tensors,   (X_train_tensors.shape[0], 1, X_train_tensors.shape[1]))\n",
        "\n",
        "\n",
        "X_test_tensors_final = torch.reshape(X_test_tensors,  (X_test_tensors.shape[0], 1, X_test_tensors.shape[1])) "
      ],
      "metadata": {
        "id": "CkxHiL-_HdGr"
      },
      "execution_count": null,
      "outputs": []
    },
    {
      "cell_type": "code",
      "source": [
        "print(\"Training Shape\", X_train_tensors_final.shape, y_train_tensors.shape)\n",
        "print(\"Testing Shape\", X_test_tensors_final.shape, y_test_tensors.shape) "
      ],
      "metadata": {
        "id": "VmYbPlEMHefe",
        "colab": {
          "base_uri": "https://localhost:8080/"
        },
        "outputId": "560063fb-b46c-49ba-ec55-00942b16bb7f"
      },
      "execution_count": null,
      "outputs": [
        {
          "output_type": "stream",
          "name": "stdout",
          "text": [
            "Training Shape torch.Size([550, 1, 3]) torch.Size([550, 1])\n",
            "Testing Shape torch.Size([29, 1, 3]) torch.Size([29, 1])\n"
          ]
        }
      ]
    },
    {
      "cell_type": "code",
      "source": [
        "class LSTM1(nn.Module):\n",
        "    def __init__(self, num_classes, input_size, hidden_size, num_layers, seq_length):\n",
        "        super(LSTM1, self).__init__()\n",
        "        self.num_classes = num_classes #number of classes\n",
        "        self.num_layers = num_layers #number of layers\n",
        "        self.input_size = input_size #input size\n",
        "        self.hidden_size = hidden_size #hidden state\n",
        "        self.seq_length = seq_length #sequence length\n",
        "\n",
        "        self.lstm = nn.LSTM(input_size=input_size, hidden_size=hidden_size,\n",
        "                          num_layers=num_layers, batch_first=True) #lstm\n",
        "        self.fc_1 =  nn.Linear(hidden_size, 128) #fully connected 1\n",
        "        self.fc = nn.Linear(128, num_classes) #fully connected last layer\n",
        "\n",
        "        self.relu = nn.ReLU()\n",
        "    \n",
        "    def forward(self,x):\n",
        "        h_0 = Variable(torch.zeros(self.num_layers, x.size(0), self.hidden_size)) #hidden state\n",
        "        c_0 = Variable(torch.zeros(self.num_layers, x.size(0), self.hidden_size)) #internal state\n",
        "        # Propagate input through LSTM\n",
        "        output, (hn, cn) = self.lstm(x, (h_0, c_0)) #lstm with input, hidden, and internal state\n",
        "        hn = hn.view(-1, self.hidden_size) #reshaping the data for Dense layer next\n",
        "        out = self.relu(hn)\n",
        "        out = self.fc_1(out) #first Dense\n",
        "        out = self.relu(out) #relu\n",
        "        out = self.fc(out) #Final Output\n",
        "        return out"
      ],
      "metadata": {
        "id": "05cuyIujHg6j"
      },
      "execution_count": null,
      "outputs": []
    },
    {
      "cell_type": "code",
      "source": [
        "num_epochs = 1000 #1000 epochs\n",
        "learning_rate = 0.001 #0.001 lr\n",
        "\n",
        "input_size = 3 #number of features\n",
        "hidden_size = 2 #number of features in hidden state\n",
        "num_layers = 1 #number of stacked lstm layers\n",
        "\n",
        "num_classes = 1 #number of output classes "
      ],
      "metadata": {
        "id": "e7wPEk7kHiwe"
      },
      "execution_count": null,
      "outputs": []
    },
    {
      "cell_type": "code",
      "source": [
        "lstm1 = LSTM1(num_classes, input_size, hidden_size, num_layers, X_train_tensors_final.shape[1]) #our lstm class "
      ],
      "metadata": {
        "id": "ubc1UD9LHkDv"
      },
      "execution_count": null,
      "outputs": []
    },
    {
      "cell_type": "code",
      "source": [
        "criterion = torch.nn.MSELoss()    # mean-squared error for regression\n",
        "optimizer = torch.optim.Adam(lstm1.parameters(), lr=learning_rate) "
      ],
      "metadata": {
        "id": "w7omzYwIHmBk"
      },
      "execution_count": null,
      "outputs": []
    },
    {
      "cell_type": "code",
      "source": [
        "for epoch in range(num_epochs):\n",
        "  outputs = lstm1.forward(X_train_tensors_final) #forward pass\n",
        "  optimizer.zero_grad() #caluclate the gradient, manually setting to 0\n",
        " \n",
        "  # obtain the loss function\n",
        "  loss = criterion(outputs, y_train_tensors)\n",
        " \n",
        "  loss.backward() #calculates the loss of the loss function\n",
        " \n",
        "  optimizer.step() #improve from loss, i.e backprop\n",
        "  if epoch % 100 == 0:\n",
        "    print(\"Epoch: %d, loss: %1.5f\" % (epoch, loss.item())) "
      ],
      "metadata": {
        "id": "oEKLg-nlHncK",
        "colab": {
          "base_uri": "https://localhost:8080/"
        },
        "outputId": "0dfeddd0-85a3-4472-cbfc-8d245e2d2fdb"
      },
      "execution_count": null,
      "outputs": [
        {
          "output_type": "stream",
          "name": "stdout",
          "text": [
            "Epoch: 0, loss: 0.18833\n",
            "Epoch: 100, loss: 0.00347\n",
            "Epoch: 200, loss: 0.00240\n",
            "Epoch: 300, loss: 0.00195\n",
            "Epoch: 400, loss: 0.00133\n",
            "Epoch: 500, loss: 0.00075\n",
            "Epoch: 600, loss: 0.00044\n",
            "Epoch: 700, loss: 0.00023\n",
            "Epoch: 800, loss: 0.00011\n",
            "Epoch: 900, loss: 0.00009\n"
          ]
        }
      ]
    },
    {
      "cell_type": "code",
      "source": [
        "df_X_ss = ss.transform(input_data.iloc[:, :-1]) #old transformers\n",
        "df_y_mm = mm.transform(input_data.iloc[:, -1:]) #old transformers\n",
        "\n",
        "df_X_ss = Variable(torch.Tensor(df_X_ss)) #converting to Tensors\n",
        "df_y_mm = Variable(torch.Tensor(df_y_mm))\n",
        "#reshaping the dataset\n",
        "df_X_ss = torch.reshape(df_X_ss, (df_X_ss.shape[0], 1, df_X_ss.shape[1])) "
      ],
      "metadata": {
        "id": "ZInOT6jRHpEm"
      },
      "execution_count": null,
      "outputs": []
    },
    {
      "cell_type": "code",
      "source": [
        "train_predict = lstm1(df_X_ss)#forward pass\n",
        "data_predict = train_predict.data.numpy() #numpy conversion\n",
        "dataY_plot = df_y_mm.data.numpy()\n",
        "\n",
        "data_predict = mm.inverse_transform(data_predict) #reverse transformation\n",
        "dataY_plot = mm.inverse_transform(dataY_plot)\n",
        "plt.figure(figsize=(40,3)) #plotting\n",
        "\n",
        "plt.plot(dataY_plot, label='Actuall Data', c = 'b') #actual plot\n",
        "plt.plot(range(550, 550+len(data_predict[550:])),data_predict[550:], label='Predicted Data',c='orange') #predicted plot\n",
        "plt.title('LSTM model for Energy of ETF Type')\n",
        "plt.xlabel('Report Date')\n",
        "plt.ylabel('Flow')\n",
        "plt.legend()\n",
        "plt.show()"
      ],
      "metadata": {
        "id": "HuQgmm-cHqYt",
        "colab": {
          "base_uri": "https://localhost:8080/",
          "height": 150
        },
        "outputId": "57fe91af-2f59-4bbc-cbbc-c41ba1f74c84"
      },
      "execution_count": null,
      "outputs": [
        {
          "output_type": "display_data",
          "data": {
            "text/plain": [
              "<Figure size 2880x216 with 1 Axes>"
            ],
            "image/png": "[encoded data removed]"
          },
          "metadata": {
            "needs_background": "light"
          }
        }
      ]
    }
  ],
  "metadata": {
    "colab": {
      "collapsed_sections": [],
      "name": "Capstone_A6_Coding_Deliverable_05_Time_Series_Foracasting_03",
      "provenance": [],
      "include_colab_link": true
    },
    "kernelspec": {
      "display_name": "Python 3",
      "name": "python3"
    },
    "language_info": {
      "name": "python"
    }
  },
  "nbformat": 4,
  "nbformat_minor": 0
}