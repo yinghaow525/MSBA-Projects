{
  "nbformat": 4,
  "nbformat_minor": 0,
  "metadata": {
    "colab": {
      "name": "Final_Project_Yinghao Wang.ipynb",
      "provenance": [],
      "collapsed_sections": []
    },
    "kernelspec": {
      "name": "python3",
      "display_name": "Python 3"
    },
    "language_info": {
      "name": "python"
    }
  },
  "cells": [
    {
      "cell_type": "markdown",
      "source": [
        "# Yinghao Wang\n",
        "## Final Project"
      ],
      "metadata": {
        "id": "1acyRPnYiBsB"
      }
    },
    {
      "cell_type": "markdown",
      "source": [
        "# Import Libraries"
      ],
      "metadata": {
        "id": "NZ78P38XpiKS"
      }
    },
    {
      "cell_type": "code",
      "source": [
        "import numpy as np\n",
        "import pandas as pd\n",
        "import matplotlib.pyplot as plt\n",
        "import statsmodels.api as sm\n",
        "from scipy.stats.mstats import winsorize\n",
        "import missingno as msno\n",
        "import seaborn as sns\n",
        "\n",
        "# supress filter warnings\n",
        "import warnings\n",
        "warnings.filterwarnings(\"ignore\")"
      ],
      "metadata": {
        "colab": {
          "base_uri": "https://localhost:8080/"
        },
        "id": "XIKt_BCfiFSD",
        "outputId": "f31745eb-e421-4c15-9685-6eacb294e759"
      },
      "execution_count": 1,
      "outputs": [
        {
          "output_type": "stream",
          "name": "stderr",
          "text": [
            "/usr/local/lib/python3.7/dist-packages/statsmodels/tools/_testing.py:19: FutureWarning: pandas.util.testing is deprecated. Use the functions in the public API at pandas.testing instead.\n",
            "  import pandas.util.testing as tm\n"
          ]
        }
      ]
    },
    {
      "cell_type": "markdown",
      "source": [
        "# Step 1: Collect data for your project based on ticker symbols from the Russell 3000 index\n",
        "\n"
      ],
      "metadata": {
        "id": "mz4aR5ynCjYF"
      }
    },
    {
      "cell_type": "markdown",
      "source": [
        "## Upload ProjectTickers\n",
        "The set of stocks will be provided in a CSV file with the list of ticker\n",
        "symbols. It will be posted with Assignment #4 on QuestromTools\n",
        "(“ProjectTickers.csv”)."
      ],
      "metadata": {
        "id": "MKl0NozAHbZ-"
      }
    },
    {
      "cell_type": "code",
      "source": [
        "data = pd.read_csv('/content/ProjectTickers.csv')"
      ],
      "metadata": {
        "id": "wIw11nN5D1MC"
      },
      "execution_count": 2,
      "outputs": []
    },
    {
      "cell_type": "code",
      "source": [
        "data.info()"
      ],
      "metadata": {
        "colab": {
          "base_uri": "https://localhost:8080/"
        },
        "id": "fChAPBInHpiw",
        "outputId": "039102dc-b63a-4725-85bb-25872d09490e"
      },
      "execution_count": 3,
      "outputs": [
        {
          "output_type": "stream",
          "name": "stdout",
          "text": [
            "<class 'pandas.core.frame.DataFrame'>\n",
            "RangeIndex: 1886 entries, 0 to 1885\n",
            "Data columns (total 3 columns):\n",
            " #   Column  Non-Null Count  Dtype  \n",
            "---  ------  --------------  -----  \n",
            " 0   Ticker  1886 non-null   object \n",
            " 1   Name    1886 non-null   object \n",
            " 2   RetYTD  1886 non-null   float64\n",
            "dtypes: float64(1), object(2)\n",
            "memory usage: 44.3+ KB\n"
          ]
        }
      ]
    },
    {
      "cell_type": "code",
      "source": [
        "data.head()"
      ],
      "metadata": {
        "colab": {
          "base_uri": "https://localhost:8080/",
          "height": 206
        },
        "id": "wDnEzaAUHqlR",
        "outputId": "e4d9cbd1-4d72-4972-fca6-a0ad3f838a52"
      },
      "execution_count": 4,
      "outputs": [
        {
          "output_type": "execute_result",
          "data": {
            "text/plain": [
              "  Ticker                     Name   RetYTD\n",
              "0      A     Agilent Technologies  -0.2080\n",
              "1     AA               Alcoa Corp   0.4731\n",
              "2    AAL     American Airlines Gp   0.0579\n",
              "3    AAN  Aarons Holdings Company  -0.1327\n",
              "4   AAON                 Aaon Inc  -0.3456"
            ],
            "text/html": [
              "\n",
              "  <div id=\"df-4425ab46-7242-417f-88bb-9485533afdb6\">\n",
              "    <div class=\"colab-df-container\">\n",
              "      <div>\n",
              "<style scoped>\n",
              "    .dataframe tbody tr th:only-of-type {\n",
              "        vertical-align: middle;\n",
              "    }\n",
              "\n",
              "    .dataframe tbody tr th {\n",
              "        vertical-align: top;\n",
              "    }\n",
              "\n",
              "    .dataframe thead th {\n",
              "        text-align: right;\n",
              "    }\n",
              "</style>\n",
              "<table border=\"1\" class=\"dataframe\">\n",
              "  <thead>\n",
              "    <tr style=\"text-align: right;\">\n",
              "      <th></th>\n",
              "      <th>Ticker</th>\n",
              "      <th>Name</th>\n",
              "      <th>RetYTD</th>\n",
              "    </tr>\n",
              "  </thead>\n",
              "  <tbody>\n",
              "    <tr>\n",
              "      <th>0</th>\n",
              "      <td>A</td>\n",
              "      <td>Agilent Technologies</td>\n",
              "      <td>-0.2080</td>\n",
              "    </tr>\n",
              "    <tr>\n",
              "      <th>1</th>\n",
              "      <td>AA</td>\n",
              "      <td>Alcoa Corp</td>\n",
              "      <td>0.4731</td>\n",
              "    </tr>\n",
              "    <tr>\n",
              "      <th>2</th>\n",
              "      <td>AAL</td>\n",
              "      <td>American Airlines Gp</td>\n",
              "      <td>0.0579</td>\n",
              "    </tr>\n",
              "    <tr>\n",
              "      <th>3</th>\n",
              "      <td>AAN</td>\n",
              "      <td>Aarons Holdings Company</td>\n",
              "      <td>-0.1327</td>\n",
              "    </tr>\n",
              "    <tr>\n",
              "      <th>4</th>\n",
              "      <td>AAON</td>\n",
              "      <td>Aaon Inc</td>\n",
              "      <td>-0.3456</td>\n",
              "    </tr>\n",
              "  </tbody>\n",
              "</table>\n",
              "</div>\n",
              "      <button class=\"colab-df-convert\" onclick=\"convertToInteractive('df-4425ab46-7242-417f-88bb-9485533afdb6')\"\n",
              "              title=\"Convert this dataframe to an interactive table.\"\n",
              "              style=\"display:none;\">\n",
              "        \n",
              "  <svg xmlns=\"http://www.w3.org/2000/svg\" height=\"24px\"viewBox=\"0 0 24 24\"\n",
              "       width=\"24px\">\n",
              "    <path d=\"M0 0h24v24H0V0z\" fill=\"none\"/>\n",
              "    <path d=\"M18.56 5.44l.94 2.06.94-2.06 2.06-.94-2.06-.94-.94-2.06-.94 2.06-2.06.94zm-11 1L8.5 8.5l.94-2.06 2.06-.94-2.06-.94L8.5 2.5l-.94 2.06-2.06.94zm10 10l.94 2.06.94-2.06 2.06-.94-2.06-.94-.94-2.06-.94 2.06-2.06.94z\"/><path d=\"M17.41 7.96l-1.37-1.37c-.4-.4-.92-.59-1.43-.59-.52 0-1.04.2-1.43.59L10.3 9.45l-7.72 7.72c-.78.78-.78 2.05 0 2.83L4 21.41c.39.39.9.59 1.41.59.51 0 1.02-.2 1.41-.59l7.78-7.78 2.81-2.81c.8-.78.8-2.07 0-2.86zM5.41 20L4 18.59l7.72-7.72 1.47 1.35L5.41 20z\"/>\n",
              "  </svg>\n",
              "      </button>\n",
              "      \n",
              "  <style>\n",
              "    .colab-df-container {\n",
              "      display:flex;\n",
              "      flex-wrap:wrap;\n",
              "      gap: 12px;\n",
              "    }\n",
              "\n",
              "    .colab-df-convert {\n",
              "      background-color: #E8F0FE;\n",
              "      border: none;\n",
              "      border-radius: 50%;\n",
              "      cursor: pointer;\n",
              "      display: none;\n",
              "      fill: #1967D2;\n",
              "      height: 32px;\n",
              "      padding: 0 0 0 0;\n",
              "      width: 32px;\n",
              "    }\n",
              "\n",
              "    .colab-df-convert:hover {\n",
              "      background-color: #E2EBFA;\n",
              "      box-shadow: 0px 1px 2px rgba(60, 64, 67, 0.3), 0px 1px 3px 1px rgba(60, 64, 67, 0.15);\n",
              "      fill: #174EA6;\n",
              "    }\n",
              "\n",
              "    [theme=dark] .colab-df-convert {\n",
              "      background-color: #3B4455;\n",
              "      fill: #D2E3FC;\n",
              "    }\n",
              "\n",
              "    [theme=dark] .colab-df-convert:hover {\n",
              "      background-color: #434B5C;\n",
              "      box-shadow: 0px 1px 3px 1px rgba(0, 0, 0, 0.15);\n",
              "      filter: drop-shadow(0px 1px 2px rgba(0, 0, 0, 0.3));\n",
              "      fill: #FFFFFF;\n",
              "    }\n",
              "  </style>\n",
              "\n",
              "      <script>\n",
              "        const buttonEl =\n",
              "          document.querySelector('#df-4425ab46-7242-417f-88bb-9485533afdb6 button.colab-df-convert');\n",
              "        buttonEl.style.display =\n",
              "          google.colab.kernel.accessAllowed ? 'block' : 'none';\n",
              "\n",
              "        async function convertToInteractive(key) {\n",
              "          const element = document.querySelector('#df-4425ab46-7242-417f-88bb-9485533afdb6');\n",
              "          const dataTable =\n",
              "            await google.colab.kernel.invokeFunction('convertToInteractive',\n",
              "                                                     [key], {});\n",
              "          if (!dataTable) return;\n",
              "\n",
              "          const docLinkHtml = 'Like what you see? Visit the ' +\n",
              "            '<a target=\"_blank\" href=https://colab.research.google.com/notebooks/data_table.ipynb>data table notebook</a>'\n",
              "            + ' to learn more about interactive tables.';\n",
              "          element.innerHTML = '';\n",
              "          dataTable['output_type'] = 'display_data';\n",
              "          await google.colab.output.renderOutput(dataTable, element);\n",
              "          const docLink = document.createElement('div');\n",
              "          docLink.innerHTML = docLinkHtml;\n",
              "          element.appendChild(docLink);\n",
              "        }\n",
              "      </script>\n",
              "    </div>\n",
              "  </div>\n",
              "  "
            ]
          },
          "metadata": {},
          "execution_count": 4
        }
      ]
    },
    {
      "cell_type": "markdown",
      "source": [
        "## Upload WRDS CRSP Stock Return Data\n",
        "Collect monthly stock return data from January 2017 - December 2021 (60\n",
        "months) for each of the stocks with tickers in the file “ProjectTickers.csv”.\n",
        "The monthly stock returns can be downloaded from CRSP on the WRDS\n",
        "database (see Assignment #3). Save these stock returns in a CSV file\n",
        "labelled “Project-2017-21-Returns.csv”.\n",
        "\n",
        "i. You will also use the “Fama-French” factor returns data from\n",
        "Assignment #3."
      ],
      "metadata": {
        "id": "ISa4T8Nkpx0j"
      }
    },
    {
      "cell_type": "code",
      "source": [
        "# monthly stock return data from January 2017 - December 2021 (60 months)\n",
        "stock_return = pd.read_csv('/content/Project-2017-21-Returns.csv')"
      ],
      "metadata": {
        "id": "HHwckVsVqbHa"
      },
      "execution_count": 5,
      "outputs": []
    },
    {
      "cell_type": "code",
      "source": [
        "# notice the RET is object type (meaning there are string values)\n",
        "stock_return.info()"
      ],
      "metadata": {
        "colab": {
          "base_uri": "https://localhost:8080/"
        },
        "id": "-LMOhAuprG01",
        "outputId": "95d10e9a-c336-46fd-c1b0-a68cb808072a"
      },
      "execution_count": 6,
      "outputs": [
        {
          "output_type": "stream",
          "name": "stdout",
          "text": [
            "<class 'pandas.core.frame.DataFrame'>\n",
            "RangeIndex: 114715 entries, 0 to 114714\n",
            "Data columns (total 4 columns):\n",
            " #   Column  Non-Null Count   Dtype \n",
            "---  ------  --------------   ----- \n",
            " 0   PERMNO  114715 non-null  int64 \n",
            " 1   date    114715 non-null  int64 \n",
            " 2   TICKER  114653 non-null  object\n",
            " 3   RET     114700 non-null  object\n",
            "dtypes: int64(2), object(2)\n",
            "memory usage: 3.5+ MB\n"
          ]
        }
      ]
    },
    {
      "cell_type": "code",
      "source": [
        "len(stock_return.TICKER.unique())"
      ],
      "metadata": {
        "colab": {
          "base_uri": "https://localhost:8080/"
        },
        "id": "zHtma7aFvltZ",
        "outputId": "8f48ef88-2ea8-4fd3-bb4b-ec7d989ed1dd"
      },
      "execution_count": 7,
      "outputs": [
        {
          "output_type": "execute_result",
          "data": {
            "text/plain": [
              "1925"
            ]
          },
          "metadata": {},
          "execution_count": 7
        }
      ]
    },
    {
      "cell_type": "code",
      "source": [
        "# subset only rows with TICKER values in our projectticker unique values\n",
        "# exclude null values\n",
        "stock_return = stock_return.loc[stock_return['TICKER'].isin(data.Ticker)]\n",
        "stock_return.info()"
      ],
      "metadata": {
        "colab": {
          "base_uri": "https://localhost:8080/"
        },
        "id": "Dp6T7mjC7fF4",
        "outputId": "84bd4d37-4050-450d-c349-2099e2a7ac37"
      },
      "execution_count": 8,
      "outputs": [
        {
          "output_type": "stream",
          "name": "stdout",
          "text": [
            "<class 'pandas.core.frame.DataFrame'>\n",
            "Int64Index: 113160 entries, 0 to 114714\n",
            "Data columns (total 4 columns):\n",
            " #   Column  Non-Null Count   Dtype \n",
            "---  ------  --------------   ----- \n",
            " 0   PERMNO  113160 non-null  int64 \n",
            " 1   date    113160 non-null  int64 \n",
            " 2   TICKER  113160 non-null  object\n",
            " 3   RET     113160 non-null  object\n",
            "dtypes: int64(2), object(2)\n",
            "memory usage: 4.3+ MB\n"
          ]
        }
      ]
    },
    {
      "cell_type": "code",
      "source": [
        "stock_return.loc[stock_return.RET == 'C']"
      ],
      "metadata": {
        "colab": {
          "base_uri": "https://localhost:8080/",
          "height": 394
        },
        "id": "RnZ7cBZkhpFs",
        "outputId": "9a341d9f-39c4-45e1-b938-3039624b7f48"
      },
      "execution_count": 9,
      "outputs": [
        {
          "output_type": "execute_result",
          "data": {
            "text/plain": [
              "       PERMNO      date TICKER RET\n",
              "33195   16497  20170131   CNDT   C\n",
              "33255   16498  20170131    HGV   C\n",
              "33315   16499  20170131     PK   C\n",
              "33555   16543  20170131   VREX   C\n",
              "33675   16554  20170131   JELD   C\n",
              "33795   16560  20170131   REVG   C\n",
              "33855   16562  20170131   ANAB   C\n",
              "33915   16570  20170131   JNCE   C\n",
              "34813   18420  20190329   FOXA   C\n",
              "35148   19283  20200430   ARNC   C\n",
              "35710   20064  20201231    AAN   C"
            ],
            "text/html": [
              "\n",
              "  <div id=\"df-c4cd0012-d26a-4906-b3a1-f6bde6bf1d2d\">\n",
              "    <div class=\"colab-df-container\">\n",
              "      <div>\n",
              "<style scoped>\n",
              "    .dataframe tbody tr th:only-of-type {\n",
              "        vertical-align: middle;\n",
              "    }\n",
              "\n",
              "    .dataframe tbody tr th {\n",
              "        vertical-align: top;\n",
              "    }\n",
              "\n",
              "    .dataframe thead th {\n",
              "        text-align: right;\n",
              "    }\n",
              "</style>\n",
              "<table border=\"1\" class=\"dataframe\">\n",
              "  <thead>\n",
              "    <tr style=\"text-align: right;\">\n",
              "      <th></th>\n",
              "      <th>PERMNO</th>\n",
              "      <th>date</th>\n",
              "      <th>TICKER</th>\n",
              "      <th>RET</th>\n",
              "    </tr>\n",
              "  </thead>\n",
              "  <tbody>\n",
              "    <tr>\n",
              "      <th>33195</th>\n",
              "      <td>16497</td>\n",
              "      <td>20170131</td>\n",
              "      <td>CNDT</td>\n",
              "      <td>C</td>\n",
              "    </tr>\n",
              "    <tr>\n",
              "      <th>33255</th>\n",
              "      <td>16498</td>\n",
              "      <td>20170131</td>\n",
              "      <td>HGV</td>\n",
              "      <td>C</td>\n",
              "    </tr>\n",
              "    <tr>\n",
              "      <th>33315</th>\n",
              "      <td>16499</td>\n",
              "      <td>20170131</td>\n",
              "      <td>PK</td>\n",
              "      <td>C</td>\n",
              "    </tr>\n",
              "    <tr>\n",
              "      <th>33555</th>\n",
              "      <td>16543</td>\n",
              "      <td>20170131</td>\n",
              "      <td>VREX</td>\n",
              "      <td>C</td>\n",
              "    </tr>\n",
              "    <tr>\n",
              "      <th>33675</th>\n",
              "      <td>16554</td>\n",
              "      <td>20170131</td>\n",
              "      <td>JELD</td>\n",
              "      <td>C</td>\n",
              "    </tr>\n",
              "    <tr>\n",
              "      <th>33795</th>\n",
              "      <td>16560</td>\n",
              "      <td>20170131</td>\n",
              "      <td>REVG</td>\n",
              "      <td>C</td>\n",
              "    </tr>\n",
              "    <tr>\n",
              "      <th>33855</th>\n",
              "      <td>16562</td>\n",
              "      <td>20170131</td>\n",
              "      <td>ANAB</td>\n",
              "      <td>C</td>\n",
              "    </tr>\n",
              "    <tr>\n",
              "      <th>33915</th>\n",
              "      <td>16570</td>\n",
              "      <td>20170131</td>\n",
              "      <td>JNCE</td>\n",
              "      <td>C</td>\n",
              "    </tr>\n",
              "    <tr>\n",
              "      <th>34813</th>\n",
              "      <td>18420</td>\n",
              "      <td>20190329</td>\n",
              "      <td>FOXA</td>\n",
              "      <td>C</td>\n",
              "    </tr>\n",
              "    <tr>\n",
              "      <th>35148</th>\n",
              "      <td>19283</td>\n",
              "      <td>20200430</td>\n",
              "      <td>ARNC</td>\n",
              "      <td>C</td>\n",
              "    </tr>\n",
              "    <tr>\n",
              "      <th>35710</th>\n",
              "      <td>20064</td>\n",
              "      <td>20201231</td>\n",
              "      <td>AAN</td>\n",
              "      <td>C</td>\n",
              "    </tr>\n",
              "  </tbody>\n",
              "</table>\n",
              "</div>\n",
              "      <button class=\"colab-df-convert\" onclick=\"convertToInteractive('df-c4cd0012-d26a-4906-b3a1-f6bde6bf1d2d')\"\n",
              "              title=\"Convert this dataframe to an interactive table.\"\n",
              "              style=\"display:none;\">\n",
              "        \n",
              "  <svg xmlns=\"http://www.w3.org/2000/svg\" height=\"24px\"viewBox=\"0 0 24 24\"\n",
              "       width=\"24px\">\n",
              "    <path d=\"M0 0h24v24H0V0z\" fill=\"none\"/>\n",
              "    <path d=\"M18.56 5.44l.94 2.06.94-2.06 2.06-.94-2.06-.94-.94-2.06-.94 2.06-2.06.94zm-11 1L8.5 8.5l.94-2.06 2.06-.94-2.06-.94L8.5 2.5l-.94 2.06-2.06.94zm10 10l.94 2.06.94-2.06 2.06-.94-2.06-.94-.94-2.06-.94 2.06-2.06.94z\"/><path d=\"M17.41 7.96l-1.37-1.37c-.4-.4-.92-.59-1.43-.59-.52 0-1.04.2-1.43.59L10.3 9.45l-7.72 7.72c-.78.78-.78 2.05 0 2.83L4 21.41c.39.39.9.59 1.41.59.51 0 1.02-.2 1.41-.59l7.78-7.78 2.81-2.81c.8-.78.8-2.07 0-2.86zM5.41 20L4 18.59l7.72-7.72 1.47 1.35L5.41 20z\"/>\n",
              "  </svg>\n",
              "      </button>\n",
              "      \n",
              "  <style>\n",
              "    .colab-df-container {\n",
              "      display:flex;\n",
              "      flex-wrap:wrap;\n",
              "      gap: 12px;\n",
              "    }\n",
              "\n",
              "    .colab-df-convert {\n",
              "      background-color: #E8F0FE;\n",
              "      border: none;\n",
              "      border-radius: 50%;\n",
              "      cursor: pointer;\n",
              "      display: none;\n",
              "      fill: #1967D2;\n",
              "      height: 32px;\n",
              "      padding: 0 0 0 0;\n",
              "      width: 32px;\n",
              "    }\n",
              "\n",
              "    .colab-df-convert:hover {\n",
              "      background-color: #E2EBFA;\n",
              "      box-shadow: 0px 1px 2px rgba(60, 64, 67, 0.3), 0px 1px 3px 1px rgba(60, 64, 67, 0.15);\n",
              "      fill: #174EA6;\n",
              "    }\n",
              "\n",
              "    [theme=dark] .colab-df-convert {\n",
              "      background-color: #3B4455;\n",
              "      fill: #D2E3FC;\n",
              "    }\n",
              "\n",
              "    [theme=dark] .colab-df-convert:hover {\n",
              "      background-color: #434B5C;\n",
              "      box-shadow: 0px 1px 3px 1px rgba(0, 0, 0, 0.15);\n",
              "      filter: drop-shadow(0px 1px 2px rgba(0, 0, 0, 0.3));\n",
              "      fill: #FFFFFF;\n",
              "    }\n",
              "  </style>\n",
              "\n",
              "      <script>\n",
              "        const buttonEl =\n",
              "          document.querySelector('#df-c4cd0012-d26a-4906-b3a1-f6bde6bf1d2d button.colab-df-convert');\n",
              "        buttonEl.style.display =\n",
              "          google.colab.kernel.accessAllowed ? 'block' : 'none';\n",
              "\n",
              "        async function convertToInteractive(key) {\n",
              "          const element = document.querySelector('#df-c4cd0012-d26a-4906-b3a1-f6bde6bf1d2d');\n",
              "          const dataTable =\n",
              "            await google.colab.kernel.invokeFunction('convertToInteractive',\n",
              "                                                     [key], {});\n",
              "          if (!dataTable) return;\n",
              "\n",
              "          const docLinkHtml = 'Like what you see? Visit the ' +\n",
              "            '<a target=\"_blank\" href=https://colab.research.google.com/notebooks/data_table.ipynb>data table notebook</a>'\n",
              "            + ' to learn more about interactive tables.';\n",
              "          element.innerHTML = '';\n",
              "          dataTable['output_type'] = 'display_data';\n",
              "          await google.colab.output.renderOutput(dataTable, element);\n",
              "          const docLink = document.createElement('div');\n",
              "          docLink.innerHTML = docLinkHtml;\n",
              "          element.appendChild(docLink);\n",
              "        }\n",
              "      </script>\n",
              "    </div>\n",
              "  </div>\n",
              "  "
            ]
          },
          "metadata": {},
          "execution_count": 9
        }
      ]
    },
    {
      "cell_type": "code",
      "source": [
        "stock_return.loc[stock_return.RET == 'C'].shape"
      ],
      "metadata": {
        "colab": {
          "base_uri": "https://localhost:8080/"
        },
        "id": "5XqwoAJvy7_O",
        "outputId": "c6b4ceee-e262-4bee-eb97-a48406d534bb"
      },
      "execution_count": 10,
      "outputs": [
        {
          "output_type": "execute_result",
          "data": {
            "text/plain": [
              "(11, 4)"
            ]
          },
          "metadata": {},
          "execution_count": 10
        }
      ]
    },
    {
      "cell_type": "code",
      "source": [
        "# generate boxplot of above 11 tickers' stock return\n",
        "for i in stock_return.loc[stock_return.RET == 'C'].TICKER.unique():\n",
        "  print('Boxplot of non-string value of stock return for ticker symbol = {}:'.format(i))\n",
        "  temp = stock_return.loc[(stock_return.TICKER == i) & (stock_return.RET != 'C')]\n",
        "  sns.boxplot(x=temp['RET'].astype('float'))\n",
        "  plt.show()\n",
        "  print('-'*50)"
      ],
      "metadata": {
        "colab": {
          "base_uri": "https://localhost:8080/",
          "height": 1000
        },
        "id": "FvjrGaPU-koi",
        "outputId": "a144235c-8309-4595-cceb-ac9cbe387292"
      },
      "execution_count": 11,
      "outputs": [
        {
          "output_type": "stream",
          "name": "stdout",
          "text": [
            "Boxplot of non-string value of stock return for ticker symbol = CNDT:\n"
          ]
        },
        {
          "output_type": "display_data",
          "data": {
            "text/plain": [
              "<Figure size 432x288 with 1 Axes>"
            ],
            "image/png": "[encoded data removed]"
          },
          "metadata": {
            "needs_background": "light"
          }
        },
        {
          "output_type": "stream",
          "name": "stdout",
          "text": [
            "--------------------------------------------------\n",
            "Boxplot of non-string value of stock return for ticker symbol = HGV:\n"
          ]
        },
        {
          "output_type": "display_data",
          "data": {
            "text/plain": [
              "<Figure size 432x288 with 1 Axes>"
            ],
            "image/png": "[encoded data removed]"
          },
          "metadata": {
            "needs_background": "light"
          }
        },
        {
          "output_type": "stream",
          "name": "stdout",
          "text": [
            "--------------------------------------------------\n",
            "Boxplot of non-string value of stock return for ticker symbol = PK:\n"
          ]
        },
        {
          "output_type": "display_data",
          "data": {
            "text/plain": [
              "<Figure size 432x288 with 1 Axes>"
            ],
            "image/png": "[encoded data removed]"
          },
          "metadata": {
            "needs_background": "light"
          }
        },
        {
          "output_type": "stream",
          "name": "stdout",
          "text": [
            "--------------------------------------------------\n",
            "Boxplot of non-string value of stock return for ticker symbol = VREX:\n"
          ]
        },
        {
          "output_type": "display_data",
          "data": {
            "text/plain": [
              "<Figure size 432x288 with 1 Axes>"
            ],
            "image/png": "[encoded data removed]"
          },
          "metadata": {
            "needs_background": "light"
          }
        },
        {
          "output_type": "stream",
          "name": "stdout",
          "text": [
            "--------------------------------------------------\n",
            "Boxplot of non-string value of stock return for ticker symbol = JELD:\n"
          ]
        },
        {
          "output_type": "display_data",
          "data": {
            "text/plain": [
              "<Figure size 432x288 with 1 Axes>"
            ],
            "image/png": "[encoded data removed]"
          },
          "metadata": {
            "needs_background": "light"
          }
        },
        {
          "output_type": "stream",
          "name": "stdout",
          "text": [
            "--------------------------------------------------\n",
            "Boxplot of non-string value of stock return for ticker symbol = REVG:\n"
          ]
        },
        {
          "output_type": "display_data",
          "data": {
            "text/plain": [
              "<Figure size 432x288 with 1 Axes>"
            ],
            "image/png": "[encoded data removed]"
          },
          "metadata": {
            "needs_background": "light"
          }
        },
        {
          "output_type": "stream",
          "name": "stdout",
          "text": [
            "--------------------------------------------------\n",
            "Boxplot of non-string value of stock return for ticker symbol = ANAB:\n"
          ]
        },
        {
          "output_type": "display_data",
          "data": {
            "text/plain": [
              "<Figure size 432x288 with 1 Axes>"
            ],
            "image/png": "[encoded data removed]"
          },
          "metadata": {
            "needs_background": "light"
          }
        },
        {
          "output_type": "stream",
          "name": "stdout",
          "text": [
            "--------------------------------------------------\n",
            "Boxplot of non-string value of stock return for ticker symbol = JNCE:\n"
          ]
        },
        {
          "output_type": "display_data",
          "data": {
            "text/plain": [
              "<Figure size 432x288 with 1 Axes>"
            ],
            "image/png": "[encoded data removed]"
          },
          "metadata": {
            "needs_background": "light"
          }
        },
        {
          "output_type": "stream",
          "name": "stdout",
          "text": [
            "--------------------------------------------------\n",
            "Boxplot of non-string value of stock return for ticker symbol = FOXA:\n"
          ]
        },
        {
          "output_type": "display_data",
          "data": {
            "text/plain": [
              "<Figure size 432x288 with 1 Axes>"
            ],
            "image/png": "[encoded data removed]"
          },
          "metadata": {
            "needs_background": "light"
          }
        },
        {
          "output_type": "stream",
          "name": "stdout",
          "text": [
            "--------------------------------------------------\n",
            "Boxplot of non-string value of stock return for ticker symbol = ARNC:\n"
          ]
        },
        {
          "output_type": "display_data",
          "data": {
            "text/plain": [
              "<Figure size 432x288 with 1 Axes>"
            ],
            "image/png": "[encoded data removed]"
          },
          "metadata": {
            "needs_background": "light"
          }
        },
        {
          "output_type": "stream",
          "name": "stdout",
          "text": [
            "--------------------------------------------------\n",
            "Boxplot of non-string value of stock return for ticker symbol = AAN:\n"
          ]
        },
        {
          "output_type": "display_data",
          "data": {
            "text/plain": [
              "<Figure size 432x288 with 1 Axes>"
            ],
            "image/png": "[encoded data removed]"
          },
          "metadata": {
            "needs_background": "light"
          }
        },
        {
          "output_type": "stream",
          "name": "stdout",
          "text": [
            "--------------------------------------------------\n"
          ]
        }
      ]
    },
    {
      "cell_type": "code",
      "source": [
        "# replace 'C' string to nan\n",
        "stock_return['RET'] = stock_return.RET.apply(lambda x: x if x != 'C' else np.nan)\n",
        "# cast RET column to float type\n",
        "stock_return.RET = pd.to_numeric(stock_return.RET)\n",
        "# fill na with median\n",
        "stock_return['RET'] = stock_return['RET'].fillna(stock_return.groupby('TICKER')['RET'].transform('median'))"
      ],
      "metadata": {
        "id": "EgkBI0Birq5r"
      },
      "execution_count": 12,
      "outputs": []
    },
    {
      "cell_type": "code",
      "source": [
        "stock_return.info()"
      ],
      "metadata": {
        "colab": {
          "base_uri": "https://localhost:8080/"
        },
        "id": "5kPiAfBod6cM",
        "outputId": "7ad9e140-5df5-4556-dd0d-828c37685046"
      },
      "execution_count": 13,
      "outputs": [
        {
          "output_type": "stream",
          "name": "stdout",
          "text": [
            "<class 'pandas.core.frame.DataFrame'>\n",
            "Int64Index: 113160 entries, 0 to 114714\n",
            "Data columns (total 4 columns):\n",
            " #   Column  Non-Null Count   Dtype  \n",
            "---  ------  --------------   -----  \n",
            " 0   PERMNO  113160 non-null  int64  \n",
            " 1   date    113160 non-null  int64  \n",
            " 2   TICKER  113160 non-null  object \n",
            " 3   RET     113160 non-null  float64\n",
            "dtypes: float64(1), int64(2), object(1)\n",
            "memory usage: 4.3+ MB\n"
          ]
        }
      ]
    },
    {
      "cell_type": "markdown",
      "source": [
        "## Upload “Fama-French” factor returns Data"
      ],
      "metadata": {
        "id": "DvPgY9z_qjXu"
      }
    },
    {
      "cell_type": "code",
      "source": [
        "# “Fama-French” factor returns data\n",
        "ff_factors = pd.read_csv('FF-Factors-2017-2021.csv')\n",
        "ff_factors.info()"
      ],
      "metadata": {
        "colab": {
          "base_uri": "https://localhost:8080/"
        },
        "id": "NZYKeOpSqmBv",
        "outputId": "6aea5e49-5ec0-4115-f510-c5dc413b098a"
      },
      "execution_count": 14,
      "outputs": [
        {
          "output_type": "stream",
          "name": "stdout",
          "text": [
            "<class 'pandas.core.frame.DataFrame'>\n",
            "RangeIndex: 60 entries, 0 to 59\n",
            "Data columns (total 5 columns):\n",
            " #   Column  Non-Null Count  Dtype  \n",
            "---  ------  --------------  -----  \n",
            " 0   dateff  60 non-null     int64  \n",
            " 1   mktrf   60 non-null     float64\n",
            " 2   smb     60 non-null     float64\n",
            " 3   hml     60 non-null     float64\n",
            " 4   rf      60 non-null     float64\n",
            "dtypes: float64(4), int64(1)\n",
            "memory usage: 2.5 KB\n"
          ]
        }
      ]
    },
    {
      "cell_type": "markdown",
      "source": [
        "###Rename date column to \"date\" to match WRDS data \"date\" column"
      ],
      "metadata": {
        "id": "6ij7PJEwqtQn"
      }
    },
    {
      "cell_type": "code",
      "source": [
        "ff_factors.rename(columns={'dateff':'date'}, inplace=True)\n",
        "ff_factors.head()"
      ],
      "metadata": {
        "colab": {
          "base_uri": "https://localhost:8080/",
          "height": 206
        },
        "id": "gEs2svrOqppY",
        "outputId": "dca914be-a182-448e-f1b6-fa35f83b703a"
      },
      "execution_count": 15,
      "outputs": [
        {
          "output_type": "execute_result",
          "data": {
            "text/plain": [
              "       date   mktrf     smb     hml      rf\n",
              "0  20170131  0.0194 -0.0113 -0.0274  0.0004\n",
              "1  20170228  0.0357 -0.0204 -0.0167  0.0004\n",
              "2  20170331  0.0017  0.0113 -0.0333  0.0003\n",
              "3  20170428  0.0109  0.0072 -0.0213  0.0005\n",
              "4  20170531  0.0106 -0.0252 -0.0375  0.0006"
            ],
            "text/html": [
              "\n",
              "  <div id=\"df-3b57a337-3129-47bc-a4c9-246992bcbea3\">\n",
              "    <div class=\"colab-df-container\">\n",
              "      <div>\n",
              "<style scoped>\n",
              "    .dataframe tbody tr th:only-of-type {\n",
              "        vertical-align: middle;\n",
              "    }\n",
              "\n",
              "    .dataframe tbody tr th {\n",
              "        vertical-align: top;\n",
              "    }\n",
              "\n",
              "    .dataframe thead th {\n",
              "        text-align: right;\n",
              "    }\n",
              "</style>\n",
              "<table border=\"1\" class=\"dataframe\">\n",
              "  <thead>\n",
              "    <tr style=\"text-align: right;\">\n",
              "      <th></th>\n",
              "      <th>date</th>\n",
              "      <th>mktrf</th>\n",
              "      <th>smb</th>\n",
              "      <th>hml</th>\n",
              "      <th>rf</th>\n",
              "    </tr>\n",
              "  </thead>\n",
              "  <tbody>\n",
              "    <tr>\n",
              "      <th>0</th>\n",
              "      <td>20170131</td>\n",
              "      <td>0.0194</td>\n",
              "      <td>-0.0113</td>\n",
              "      <td>-0.0274</td>\n",
              "      <td>0.0004</td>\n",
              "    </tr>\n",
              "    <tr>\n",
              "      <th>1</th>\n",
              "      <td>20170228</td>\n",
              "      <td>0.0357</td>\n",
              "      <td>-0.0204</td>\n",
              "      <td>-0.0167</td>\n",
              "      <td>0.0004</td>\n",
              "    </tr>\n",
              "    <tr>\n",
              "      <th>2</th>\n",
              "      <td>20170331</td>\n",
              "      <td>0.0017</td>\n",
              "      <td>0.0113</td>\n",
              "      <td>-0.0333</td>\n",
              "      <td>0.0003</td>\n",
              "    </tr>\n",
              "    <tr>\n",
              "      <th>3</th>\n",
              "      <td>20170428</td>\n",
              "      <td>0.0109</td>\n",
              "      <td>0.0072</td>\n",
              "      <td>-0.0213</td>\n",
              "      <td>0.0005</td>\n",
              "    </tr>\n",
              "    <tr>\n",
              "      <th>4</th>\n",
              "      <td>20170531</td>\n",
              "      <td>0.0106</td>\n",
              "      <td>-0.0252</td>\n",
              "      <td>-0.0375</td>\n",
              "      <td>0.0006</td>\n",
              "    </tr>\n",
              "  </tbody>\n",
              "</table>\n",
              "</div>\n",
              "      <button class=\"colab-df-convert\" onclick=\"convertToInteractive('df-3b57a337-3129-47bc-a4c9-246992bcbea3')\"\n",
              "              title=\"Convert this dataframe to an interactive table.\"\n",
              "              style=\"display:none;\">\n",
              "        \n",
              "  <svg xmlns=\"http://www.w3.org/2000/svg\" height=\"24px\"viewBox=\"0 0 24 24\"\n",
              "       width=\"24px\">\n",
              "    <path d=\"M0 0h24v24H0V0z\" fill=\"none\"/>\n",
              "    <path d=\"M18.56 5.44l.94 2.06.94-2.06 2.06-.94-2.06-.94-.94-2.06-.94 2.06-2.06.94zm-11 1L8.5 8.5l.94-2.06 2.06-.94-2.06-.94L8.5 2.5l-.94 2.06-2.06.94zm10 10l.94 2.06.94-2.06 2.06-.94-2.06-.94-.94-2.06-.94 2.06-2.06.94z\"/><path d=\"M17.41 7.96l-1.37-1.37c-.4-.4-.92-.59-1.43-.59-.52 0-1.04.2-1.43.59L10.3 9.45l-7.72 7.72c-.78.78-.78 2.05 0 2.83L4 21.41c.39.39.9.59 1.41.59.51 0 1.02-.2 1.41-.59l7.78-7.78 2.81-2.81c.8-.78.8-2.07 0-2.86zM5.41 20L4 18.59l7.72-7.72 1.47 1.35L5.41 20z\"/>\n",
              "  </svg>\n",
              "      </button>\n",
              "      \n",
              "  <style>\n",
              "    .colab-df-container {\n",
              "      display:flex;\n",
              "      flex-wrap:wrap;\n",
              "      gap: 12px;\n",
              "    }\n",
              "\n",
              "    .colab-df-convert {\n",
              "      background-color: #E8F0FE;\n",
              "      border: none;\n",
              "      border-radius: 50%;\n",
              "      cursor: pointer;\n",
              "      display: none;\n",
              "      fill: #1967D2;\n",
              "      height: 32px;\n",
              "      padding: 0 0 0 0;\n",
              "      width: 32px;\n",
              "    }\n",
              "\n",
              "    .colab-df-convert:hover {\n",
              "      background-color: #E2EBFA;\n",
              "      box-shadow: 0px 1px 2px rgba(60, 64, 67, 0.3), 0px 1px 3px 1px rgba(60, 64, 67, 0.15);\n",
              "      fill: #174EA6;\n",
              "    }\n",
              "\n",
              "    [theme=dark] .colab-df-convert {\n",
              "      background-color: #3B4455;\n",
              "      fill: #D2E3FC;\n",
              "    }\n",
              "\n",
              "    [theme=dark] .colab-df-convert:hover {\n",
              "      background-color: #434B5C;\n",
              "      box-shadow: 0px 1px 3px 1px rgba(0, 0, 0, 0.15);\n",
              "      filter: drop-shadow(0px 1px 2px rgba(0, 0, 0, 0.3));\n",
              "      fill: #FFFFFF;\n",
              "    }\n",
              "  </style>\n",
              "\n",
              "      <script>\n",
              "        const buttonEl =\n",
              "          document.querySelector('#df-3b57a337-3129-47bc-a4c9-246992bcbea3 button.colab-df-convert');\n",
              "        buttonEl.style.display =\n",
              "          google.colab.kernel.accessAllowed ? 'block' : 'none';\n",
              "\n",
              "        async function convertToInteractive(key) {\n",
              "          const element = document.querySelector('#df-3b57a337-3129-47bc-a4c9-246992bcbea3');\n",
              "          const dataTable =\n",
              "            await google.colab.kernel.invokeFunction('convertToInteractive',\n",
              "                                                     [key], {});\n",
              "          if (!dataTable) return;\n",
              "\n",
              "          const docLinkHtml = 'Like what you see? Visit the ' +\n",
              "            '<a target=\"_blank\" href=https://colab.research.google.com/notebooks/data_table.ipynb>data table notebook</a>'\n",
              "            + ' to learn more about interactive tables.';\n",
              "          element.innerHTML = '';\n",
              "          dataTable['output_type'] = 'display_data';\n",
              "          await google.colab.output.renderOutput(dataTable, element);\n",
              "          const docLink = document.createElement('div');\n",
              "          docLink.innerHTML = docLinkHtml;\n",
              "          element.appendChild(docLink);\n",
              "        }\n",
              "      </script>\n",
              "    </div>\n",
              "  </div>\n",
              "  "
            ]
          },
          "metadata": {},
          "execution_count": 15
        }
      ]
    },
    {
      "cell_type": "markdown",
      "source": [
        "## Upload Financial Report Data\n",
        "\n",
        "Collect Financial Report data for the year 2021 for each of the stocks with\n",
        "tickers in the file “ProjectTickers.csv”. The Financial Report data can be\n",
        "downloaded from Compustat on the WRDS database (see Assignment #4).\n",
        "Save these stock returns in a CSV file labelled “Project-2021-\n",
        "Financials.csv”."
      ],
      "metadata": {
        "id": "zLDruP53FqY8"
      }
    },
    {
      "cell_type": "markdown",
      "source": [
        "Financial Report Data Variables\n",
        "\n",
        "> `act`: current assets  \n",
        "`at`: total assets  \n",
        "`cogs`: cost of goods sold  \n",
        "`csho`: common shares outstanding  \n",
        "`dt`: total debt   \n",
        "`dvt`: dividends total    \n",
        "`ebit`: earnings before interest and tax   \n",
        "`ebitda`: earnings before interest  \n",
        "`ib`: income before extradinary items  \n",
        "`invt`: inventory  \n",
        "`lct`: current liabilities  \n",
        "`lt`: total liabilities  \n",
        "`oancf`: operating activities net cash flow   \n",
        "`optdr`:  divident rate (assumtption %)  \n",
        "`ni`: net income  \n",
        "`revt`: total revenue  \n",
        "`sale`: net sale  \n",
        "`seq`: stockholder's equity  \n",
        "`tie`: interest expense total  \n",
        "`prcc_c`: price closed annual  \n",
        "`ceq`: common/ordinary equity"
      ],
      "metadata": {
        "id": "8YPleaEh3UIG"
      }
    },
    {
      "cell_type": "code",
      "source": [
        "financial_report = pd.read_csv('/content/Project-2021- Financials.csv')\n",
        "financial_report.info()"
      ],
      "metadata": {
        "colab": {
          "base_uri": "https://localhost:8080/"
        },
        "id": "k6yfa5Y9F1A9",
        "outputId": "87e75724-eb38-4fa9-ef78-07033b390ef0"
      },
      "execution_count": 16,
      "outputs": [
        {
          "output_type": "stream",
          "name": "stdout",
          "text": [
            "<class 'pandas.core.frame.DataFrame'>\n",
            "RangeIndex: 1886 entries, 0 to 1885\n",
            "Data columns (total 32 columns):\n",
            " #   Column    Non-Null Count  Dtype  \n",
            "---  ------    --------------  -----  \n",
            " 0   gvkey     1886 non-null   int64  \n",
            " 1   datadate  1886 non-null   int64  \n",
            " 2   fyear     1886 non-null   int64  \n",
            " 3   indfmt    1886 non-null   object \n",
            " 4   consol    1886 non-null   object \n",
            " 5   popsrc    1886 non-null   object \n",
            " 6   datafmt   1886 non-null   object \n",
            " 7   tic       1886 non-null   object \n",
            " 8   curcd     1886 non-null   object \n",
            " 9   act       1431 non-null   float64\n",
            " 10  at        1886 non-null   float64\n",
            " 11  ceq       1886 non-null   float64\n",
            " 12  cogs      1886 non-null   float64\n",
            " 13  csho      1886 non-null   float64\n",
            " 14  dt        1649 non-null   float64\n",
            " 15  dvp       1886 non-null   float64\n",
            " 16  dvt       1877 non-null   float64\n",
            " 17  ebit      1886 non-null   float64\n",
            " 18  ebitda    1770 non-null   float64\n",
            " 19  ib        1886 non-null   float64\n",
            " 20  invt      1852 non-null   float64\n",
            " 21  lct       1431 non-null   float64\n",
            " 22  lt        1881 non-null   float64\n",
            " 23  ni        1886 non-null   float64\n",
            " 24  oancf     1885 non-null   float64\n",
            " 25  optdr     758 non-null    float64\n",
            " 26  revt      1886 non-null   float64\n",
            " 27  sale      1886 non-null   float64\n",
            " 28  seq       1886 non-null   float64\n",
            " 29  tie       175 non-null    float64\n",
            " 30  costat    1886 non-null   object \n",
            " 31  prcc_c    1886 non-null   float64\n",
            "dtypes: float64(22), int64(3), object(7)\n",
            "memory usage: 471.6+ KB\n"
          ]
        }
      ]
    },
    {
      "cell_type": "markdown",
      "source": [
        "## Upload Industry Identifier Data\n",
        "Collect Industry Identifier data for the year 2021 for each of the stocks with\n",
        "tickers in the file “ProjectTickers.csv”. The Industry data can be\n",
        "downloaded from Compustat on the WRDS database (see Assignment #5).\n",
        "Save these stock returns in a CSV file labelled “Project-2021-Sector.csv”."
      ],
      "metadata": {
        "id": "Ch5Zjv3lF36W"
      }
    },
    {
      "cell_type": "code",
      "source": [
        "industry_indentifier = pd.read_csv('/content/Project-2021-Sector.csv')\n",
        "industry_indentifier.info()"
      ],
      "metadata": {
        "colab": {
          "base_uri": "https://localhost:8080/"
        },
        "id": "piEnK1qSGx1s",
        "outputId": "a8a63bd9-6d09-480c-da07-74e5aea30cea"
      },
      "execution_count": 17,
      "outputs": [
        {
          "output_type": "stream",
          "name": "stdout",
          "text": [
            "<class 'pandas.core.frame.DataFrame'>\n",
            "RangeIndex: 1886 entries, 0 to 1885\n",
            "Data columns (total 11 columns):\n",
            " #   Column    Non-Null Count  Dtype \n",
            "---  ------    --------------  ----- \n",
            " 0   gvkey     1886 non-null   int64 \n",
            " 1   datadate  1886 non-null   int64 \n",
            " 2   fyear     1886 non-null   int64 \n",
            " 3   indfmt    1886 non-null   object\n",
            " 4   consol    1886 non-null   object\n",
            " 5   popsrc    1886 non-null   object\n",
            " 6   datafmt   1886 non-null   object\n",
            " 7   tic       1886 non-null   object\n",
            " 8   curcd     1886 non-null   object\n",
            " 9   costat    1886 non-null   object\n",
            " 10  ggroup    1886 non-null   int64 \n",
            "dtypes: int64(4), object(7)\n",
            "memory usage: 162.2+ KB\n"
          ]
        }
      ]
    },
    {
      "cell_type": "code",
      "source": [
        "# fewer obs, will not use it \n",
        "industry_indentifier_fiscal = pd.read_csv('/content/ggroup_fiscal_year.csv')\n",
        "industry_indentifier_fiscal.info()"
      ],
      "metadata": {
        "colab": {
          "base_uri": "https://localhost:8080/"
        },
        "id": "W4NUhgPRICR0",
        "outputId": "d3d44a92-b7f0-42a6-db12-420758671f0c"
      },
      "execution_count": 18,
      "outputs": [
        {
          "output_type": "stream",
          "name": "stdout",
          "text": [
            "<class 'pandas.core.frame.DataFrame'>\n",
            "RangeIndex: 1797 entries, 0 to 1796\n",
            "Data columns (total 11 columns):\n",
            " #   Column    Non-Null Count  Dtype \n",
            "---  ------    --------------  ----- \n",
            " 0   gvkey     1797 non-null   int64 \n",
            " 1   datadate  1797 non-null   int64 \n",
            " 2   fyear     1797 non-null   int64 \n",
            " 3   indfmt    1797 non-null   object\n",
            " 4   consol    1797 non-null   object\n",
            " 5   popsrc    1797 non-null   object\n",
            " 6   datafmt   1797 non-null   object\n",
            " 7   tic       1797 non-null   object\n",
            " 8   curcd     1797 non-null   object\n",
            " 9   costat    1797 non-null   object\n",
            " 10  ggroup    1797 non-null   int64 \n",
            "dtypes: int64(4), object(7)\n",
            "memory usage: 154.6+ KB\n"
          ]
        }
      ]
    },
    {
      "cell_type": "markdown",
      "source": [
        "# Step 2: Determine Risk Exposures\n",
        "a. Similar to Assignment #3, calculate the Fama-French Risk Exposures for\n",
        "the list of 3,000 tickers for (i) Market Risk Exposure; (ii) Size Risk\n",
        "Exposure; and (iii) Value/Distress Risk Expsoure.\n",
        "\n",
        "b. Save the ticker symbol and the 3 exposure values for each stock in the list\n",
        "in a CSV file labelled “FF-Exposures.csv”."
      ],
      "metadata": {
        "id": "ZgvEwaUrCvlu"
      }
    },
    {
      "cell_type": "markdown",
      "source": [
        "## Estimate the Fama-French Risk Factor exposures by looping ticker names\n",
        "\n",
        "Run OLS regression for all tickers (60 months) using FF 3-factor model\n",
        "* [Ret(XOM)-Rf] = alpha + B1(RetMkt-Rf) + b2(SMB) + b3(HML) + e"
      ],
      "metadata": {
        "id": "srdDEOsCqv2U"
      }
    },
    {
      "cell_type": "code",
      "source": [
        "# emtpy list initialization\n",
        "# to store each model's parameter\n",
        "cons = []\n",
        "mktrf = []\n",
        "smb = []\n",
        "hml = []\n",
        "rsq = []\n",
        "adj_rsq = []"
      ],
      "metadata": {
        "id": "W19-IZkdqrqo"
      },
      "execution_count": 19,
      "outputs": []
    },
    {
      "cell_type": "code",
      "source": [
        "# two ways to do \n",
        "# output = pd.DataFrame()\n",
        "for t in stock_return.TICKER.unique():\n",
        "\n",
        "  # extract sub dataframe for ticker name == t\n",
        "  temp = stock_return[stock_return.TICKER == t]\n",
        "  # Merge the data sets for data with ticker name == t, and Fama-French market data based on \"date\"\n",
        "  temp_ff = pd.merge(temp, ff_factors, on = 'date', how = 'outer')\n",
        "  # temp_ff.dropna(inplace=True)\n",
        "  \n",
        "  # FF 3-factor regression\n",
        "  y = temp_ff['RET'] - temp_ff['rf']\n",
        "  X = temp_ff[['mktrf', 'smb', 'hml']]\n",
        "\n",
        "  # use statsmodels\n",
        "  X = sm.add_constant(X) # add constant\n",
        "  model = sm.OLS(y, X).fit()\n",
        "  # print(model.summary())\n",
        "\n",
        "\n",
        "  # extract params \n",
        "  # constant \n",
        "  cons.append(model.params.const)\n",
        "  # coef for mktrf\n",
        "  mktrf.append(model.params.mktrf)\n",
        "  # coef for smb\n",
        "  smb.append(model.params.smb)\n",
        "  # coef for hml\n",
        "  hml.append(model.params.hml)\n",
        "\n",
        "  # # append model parameters to dataframe\n",
        "  # output = output.append({\"TICKER\": t,\n",
        "  #                      \"const\": model.params.const,\n",
        "  #                      \"mktrf\": model.params.mktrf,\n",
        "  #                      \"smb\": model.params.smb,\n",
        "  #                      \"hml\": model.params.hml}, ignore_index = True)"
      ],
      "metadata": {
        "id": "zl6KlaJ2qyis"
      },
      "execution_count": 20,
      "outputs": []
    },
    {
      "cell_type": "code",
      "source": [
        "# construct dataframe\n",
        "risk_exposure_output = pd.DataFrame({\"TICKER\": stock_return.TICKER.unique(),\n",
        "                       \"mktrf\": mktrf,\n",
        "                       \"smb\": smb,\n",
        "                       \"hml\": hml})"
      ],
      "metadata": {
        "id": "I7W27Ni7qz03"
      },
      "execution_count": 21,
      "outputs": []
    },
    {
      "cell_type": "code",
      "source": [
        "risk_exposure_output['more volatility'] = np.where(risk_exposure_output.mktrf>1, True, False)\n",
        "risk_exposure_output['small company'] = np.where(risk_exposure_output.smb>0, True, False)\n",
        "risk_exposure_output['value stock'] = np.where(risk_exposure_output.hml>0, True, False)"
      ],
      "metadata": {
        "id": "mk4gQ6B82sNt"
      },
      "execution_count": 22,
      "outputs": []
    },
    {
      "cell_type": "code",
      "source": [
        "risk_exposure_output"
      ],
      "metadata": {
        "colab": {
          "base_uri": "https://localhost:8080/",
          "height": 424
        },
        "id": "AliParM53TCn",
        "outputId": "566c0f02-3533-4996-9a92-ffe350836c5c"
      },
      "execution_count": 23,
      "outputs": [
        {
          "output_type": "execute_result",
          "data": {
            "text/plain": [
              "     TICKER     mktrf       smb       hml  more volatility  small company  \\\n",
              "0      JJSF  0.452887  0.356829  0.524302            False           True   \n",
              "1      PLXS  0.955657  0.229663  0.598402            False           True   \n",
              "2      ORCL  0.839476 -0.587083  0.016158            False          False   \n",
              "3      MSFT  0.935809 -0.330320 -0.401040            False          False   \n",
              "4      TROW  1.121489  0.008855  0.145466             True           True   \n",
              "...     ...       ...       ...       ...              ...            ...   \n",
              "1881    SIX  2.062411  1.129428  0.780178             True           True   \n",
              "1882    VPG  1.202745  0.953927  0.093573             True           True   \n",
              "1883     FN  0.697870  0.905014  0.087299            False           True   \n",
              "1884   CBOE  0.621143 -0.399150  0.339880            False          False   \n",
              "1885   TSLA  2.173394 -0.157761 -0.980605             True          False   \n",
              "\n",
              "      value stock  \n",
              "0            True  \n",
              "1            True  \n",
              "2            True  \n",
              "3           False  \n",
              "4            True  \n",
              "...           ...  \n",
              "1881         True  \n",
              "1882         True  \n",
              "1883         True  \n",
              "1884         True  \n",
              "1885        False  \n",
              "\n",
              "[1886 rows x 7 columns]"
            ],
            "text/html": [
              "\n",
              "  <div id=\"df-8643607f-3ffe-471d-bef9-37319acd0909\">\n",
              "    <div class=\"colab-df-container\">\n",
              "      <div>\n",
              "<style scoped>\n",
              "    .dataframe tbody tr th:only-of-type {\n",
              "        vertical-align: middle;\n",
              "    }\n",
              "\n",
              "    .dataframe tbody tr th {\n",
              "        vertical-align: top;\n",
              "    }\n",
              "\n",
              "    .dataframe thead th {\n",
              "        text-align: right;\n",
              "    }\n",
              "</style>\n",
              "<table border=\"1\" class=\"dataframe\">\n",
              "  <thead>\n",
              "    <tr style=\"text-align: right;\">\n",
              "      <th></th>\n",
              "      <th>TICKER</th>\n",
              "      <th>mktrf</th>\n",
              "      <th>smb</th>\n",
              "      <th>hml</th>\n",
              "      <th>more volatility</th>\n",
              "      <th>small company</th>\n",
              "      <th>value stock</th>\n",
              "    </tr>\n",
              "  </thead>\n",
              "  <tbody>\n",
              "    <tr>\n",
              "      <th>0</th>\n",
              "      <td>JJSF</td>\n",
              "      <td>0.452887</td>\n",
              "      <td>0.356829</td>\n",
              "      <td>0.524302</td>\n",
              "      <td>False</td>\n",
              "      <td>True</td>\n",
              "      <td>True</td>\n",
              "    </tr>\n",
              "    <tr>\n",
              "      <th>1</th>\n",
              "      <td>PLXS</td>\n",
              "      <td>0.955657</td>\n",
              "      <td>0.229663</td>\n",
              "      <td>0.598402</td>\n",
              "      <td>False</td>\n",
              "      <td>True</td>\n",
              "      <td>True</td>\n",
              "    </tr>\n",
              "    <tr>\n",
              "      <th>2</th>\n",
              "      <td>ORCL</td>\n",
              "      <td>0.839476</td>\n",
              "      <td>-0.587083</td>\n",
              "      <td>0.016158</td>\n",
              "      <td>False</td>\n",
              "      <td>False</td>\n",
              "      <td>True</td>\n",
              "    </tr>\n",
              "    <tr>\n",
              "      <th>3</th>\n",
              "      <td>MSFT</td>\n",
              "      <td>0.935809</td>\n",
              "      <td>-0.330320</td>\n",
              "      <td>-0.401040</td>\n",
              "      <td>False</td>\n",
              "      <td>False</td>\n",
              "      <td>False</td>\n",
              "    </tr>\n",
              "    <tr>\n",
              "      <th>4</th>\n",
              "      <td>TROW</td>\n",
              "      <td>1.121489</td>\n",
              "      <td>0.008855</td>\n",
              "      <td>0.145466</td>\n",
              "      <td>True</td>\n",
              "      <td>True</td>\n",
              "      <td>True</td>\n",
              "    </tr>\n",
              "    <tr>\n",
              "      <th>...</th>\n",
              "      <td>...</td>\n",
              "      <td>...</td>\n",
              "      <td>...</td>\n",
              "      <td>...</td>\n",
              "      <td>...</td>\n",
              "      <td>...</td>\n",
              "      <td>...</td>\n",
              "    </tr>\n",
              "    <tr>\n",
              "      <th>1881</th>\n",
              "      <td>SIX</td>\n",
              "      <td>2.062411</td>\n",
              "      <td>1.129428</td>\n",
              "      <td>0.780178</td>\n",
              "      <td>True</td>\n",
              "      <td>True</td>\n",
              "      <td>True</td>\n",
              "    </tr>\n",
              "    <tr>\n",
              "      <th>1882</th>\n",
              "      <td>VPG</td>\n",
              "      <td>1.202745</td>\n",
              "      <td>0.953927</td>\n",
              "      <td>0.093573</td>\n",
              "      <td>True</td>\n",
              "      <td>True</td>\n",
              "      <td>True</td>\n",
              "    </tr>\n",
              "    <tr>\n",
              "      <th>1883</th>\n",
              "      <td>FN</td>\n",
              "      <td>0.697870</td>\n",
              "      <td>0.905014</td>\n",
              "      <td>0.087299</td>\n",
              "      <td>False</td>\n",
              "      <td>True</td>\n",
              "      <td>True</td>\n",
              "    </tr>\n",
              "    <tr>\n",
              "      <th>1884</th>\n",
              "      <td>CBOE</td>\n",
              "      <td>0.621143</td>\n",
              "      <td>-0.399150</td>\n",
              "      <td>0.339880</td>\n",
              "      <td>False</td>\n",
              "      <td>False</td>\n",
              "      <td>True</td>\n",
              "    </tr>\n",
              "    <tr>\n",
              "      <th>1885</th>\n",
              "      <td>TSLA</td>\n",
              "      <td>2.173394</td>\n",
              "      <td>-0.157761</td>\n",
              "      <td>-0.980605</td>\n",
              "      <td>True</td>\n",
              "      <td>False</td>\n",
              "      <td>False</td>\n",
              "    </tr>\n",
              "  </tbody>\n",
              "</table>\n",
              "<p>1886 rows × 7 columns</p>\n",
              "</div>\n",
              "      <button class=\"colab-df-convert\" onclick=\"convertToInteractive('df-8643607f-3ffe-471d-bef9-37319acd0909')\"\n",
              "              title=\"Convert this dataframe to an interactive table.\"\n",
              "              style=\"display:none;\">\n",
              "        \n",
              "  <svg xmlns=\"http://www.w3.org/2000/svg\" height=\"24px\"viewBox=\"0 0 24 24\"\n",
              "       width=\"24px\">\n",
              "    <path d=\"M0 0h24v24H0V0z\" fill=\"none\"/>\n",
              "    <path d=\"M18.56 5.44l.94 2.06.94-2.06 2.06-.94-2.06-.94-.94-2.06-.94 2.06-2.06.94zm-11 1L8.5 8.5l.94-2.06 2.06-.94-2.06-.94L8.5 2.5l-.94 2.06-2.06.94zm10 10l.94 2.06.94-2.06 2.06-.94-2.06-.94-.94-2.06-.94 2.06-2.06.94z\"/><path d=\"M17.41 7.96l-1.37-1.37c-.4-.4-.92-.59-1.43-.59-.52 0-1.04.2-1.43.59L10.3 9.45l-7.72 7.72c-.78.78-.78 2.05 0 2.83L4 21.41c.39.39.9.59 1.41.59.51 0 1.02-.2 1.41-.59l7.78-7.78 2.81-2.81c.8-.78.8-2.07 0-2.86zM5.41 20L4 18.59l7.72-7.72 1.47 1.35L5.41 20z\"/>\n",
              "  </svg>\n",
              "      </button>\n",
              "      \n",
              "  <style>\n",
              "    .colab-df-container {\n",
              "      display:flex;\n",
              "      flex-wrap:wrap;\n",
              "      gap: 12px;\n",
              "    }\n",
              "\n",
              "    .colab-df-convert {\n",
              "      background-color: #E8F0FE;\n",
              "      border: none;\n",
              "      border-radius: 50%;\n",
              "      cursor: pointer;\n",
              "      display: none;\n",
              "      fill: #1967D2;\n",
              "      height: 32px;\n",
              "      padding: 0 0 0 0;\n",
              "      width: 32px;\n",
              "    }\n",
              "\n",
              "    .colab-df-convert:hover {\n",
              "      background-color: #E2EBFA;\n",
              "      box-shadow: 0px 1px 2px rgba(60, 64, 67, 0.3), 0px 1px 3px 1px rgba(60, 64, 67, 0.15);\n",
              "      fill: #174EA6;\n",
              "    }\n",
              "\n",
              "    [theme=dark] .colab-df-convert {\n",
              "      background-color: #3B4455;\n",
              "      fill: #D2E3FC;\n",
              "    }\n",
              "\n",
              "    [theme=dark] .colab-df-convert:hover {\n",
              "      background-color: #434B5C;\n",
              "      box-shadow: 0px 1px 3px 1px rgba(0, 0, 0, 0.15);\n",
              "      filter: drop-shadow(0px 1px 2px rgba(0, 0, 0, 0.3));\n",
              "      fill: #FFFFFF;\n",
              "    }\n",
              "  </style>\n",
              "\n",
              "      <script>\n",
              "        const buttonEl =\n",
              "          document.querySelector('#df-8643607f-3ffe-471d-bef9-37319acd0909 button.colab-df-convert');\n",
              "        buttonEl.style.display =\n",
              "          google.colab.kernel.accessAllowed ? 'block' : 'none';\n",
              "\n",
              "        async function convertToInteractive(key) {\n",
              "          const element = document.querySelector('#df-8643607f-3ffe-471d-bef9-37319acd0909');\n",
              "          const dataTable =\n",
              "            await google.colab.kernel.invokeFunction('convertToInteractive',\n",
              "                                                     [key], {});\n",
              "          if (!dataTable) return;\n",
              "\n",
              "          const docLinkHtml = 'Like what you see? Visit the ' +\n",
              "            '<a target=\"_blank\" href=https://colab.research.google.com/notebooks/data_table.ipynb>data table notebook</a>'\n",
              "            + ' to learn more about interactive tables.';\n",
              "          element.innerHTML = '';\n",
              "          dataTable['output_type'] = 'display_data';\n",
              "          await google.colab.output.renderOutput(dataTable, element);\n",
              "          const docLink = document.createElement('div');\n",
              "          docLink.innerHTML = docLinkHtml;\n",
              "          element.appendChild(docLink);\n",
              "        }\n",
              "      </script>\n",
              "    </div>\n",
              "  </div>\n",
              "  "
            ]
          },
          "metadata": {},
          "execution_count": 23
        }
      ]
    },
    {
      "cell_type": "code",
      "source": [
        "mktrf_temp = risk_exposure_output['more volatility'].value_counts().reset_index()\n",
        "mktrf_temp"
      ],
      "metadata": {
        "colab": {
          "base_uri": "https://localhost:8080/",
          "height": 112
        },
        "id": "T_AQZijN3fAd",
        "outputId": "d1b2ff64-1d82-4302-a443-e255aa3cebe4"
      },
      "execution_count": 24,
      "outputs": [
        {
          "output_type": "execute_result",
          "data": {
            "text/plain": [
              "   index  more volatility\n",
              "0   True              952\n",
              "1  False              934"
            ],
            "text/html": [
              "\n",
              "  <div id=\"df-064282a9-cbae-4328-b86c-e9125634503a\">\n",
              "    <div class=\"colab-df-container\">\n",
              "      <div>\n",
              "<style scoped>\n",
              "    .dataframe tbody tr th:only-of-type {\n",
              "        vertical-align: middle;\n",
              "    }\n",
              "\n",
              "    .dataframe tbody tr th {\n",
              "        vertical-align: top;\n",
              "    }\n",
              "\n",
              "    .dataframe thead th {\n",
              "        text-align: right;\n",
              "    }\n",
              "</style>\n",
              "<table border=\"1\" class=\"dataframe\">\n",
              "  <thead>\n",
              "    <tr style=\"text-align: right;\">\n",
              "      <th></th>\n",
              "      <th>index</th>\n",
              "      <th>more volatility</th>\n",
              "    </tr>\n",
              "  </thead>\n",
              "  <tbody>\n",
              "    <tr>\n",
              "      <th>0</th>\n",
              "      <td>True</td>\n",
              "      <td>952</td>\n",
              "    </tr>\n",
              "    <tr>\n",
              "      <th>1</th>\n",
              "      <td>False</td>\n",
              "      <td>934</td>\n",
              "    </tr>\n",
              "  </tbody>\n",
              "</table>\n",
              "</div>\n",
              "      <button class=\"colab-df-convert\" onclick=\"convertToInteractive('df-064282a9-cbae-4328-b86c-e9125634503a')\"\n",
              "              title=\"Convert this dataframe to an interactive table.\"\n",
              "              style=\"display:none;\">\n",
              "        \n",
              "  <svg xmlns=\"http://www.w3.org/2000/svg\" height=\"24px\"viewBox=\"0 0 24 24\"\n",
              "       width=\"24px\">\n",
              "    <path d=\"M0 0h24v24H0V0z\" fill=\"none\"/>\n",
              "    <path d=\"M18.56 5.44l.94 2.06.94-2.06 2.06-.94-2.06-.94-.94-2.06-.94 2.06-2.06.94zm-11 1L8.5 8.5l.94-2.06 2.06-.94-2.06-.94L8.5 2.5l-.94 2.06-2.06.94zm10 10l.94 2.06.94-2.06 2.06-.94-2.06-.94-.94-2.06-.94 2.06-2.06.94z\"/><path d=\"M17.41 7.96l-1.37-1.37c-.4-.4-.92-.59-1.43-.59-.52 0-1.04.2-1.43.59L10.3 9.45l-7.72 7.72c-.78.78-.78 2.05 0 2.83L4 21.41c.39.39.9.59 1.41.59.51 0 1.02-.2 1.41-.59l7.78-7.78 2.81-2.81c.8-.78.8-2.07 0-2.86zM5.41 20L4 18.59l7.72-7.72 1.47 1.35L5.41 20z\"/>\n",
              "  </svg>\n",
              "      </button>\n",
              "      \n",
              "  <style>\n",
              "    .colab-df-container {\n",
              "      display:flex;\n",
              "      flex-wrap:wrap;\n",
              "      gap: 12px;\n",
              "    }\n",
              "\n",
              "    .colab-df-convert {\n",
              "      background-color: #E8F0FE;\n",
              "      border: none;\n",
              "      border-radius: 50%;\n",
              "      cursor: pointer;\n",
              "      display: none;\n",
              "      fill: #1967D2;\n",
              "      height: 32px;\n",
              "      padding: 0 0 0 0;\n",
              "      width: 32px;\n",
              "    }\n",
              "\n",
              "    .colab-df-convert:hover {\n",
              "      background-color: #E2EBFA;\n",
              "      box-shadow: 0px 1px 2px rgba(60, 64, 67, 0.3), 0px 1px 3px 1px rgba(60, 64, 67, 0.15);\n",
              "      fill: #174EA6;\n",
              "    }\n",
              "\n",
              "    [theme=dark] .colab-df-convert {\n",
              "      background-color: #3B4455;\n",
              "      fill: #D2E3FC;\n",
              "    }\n",
              "\n",
              "    [theme=dark] .colab-df-convert:hover {\n",
              "      background-color: #434B5C;\n",
              "      box-shadow: 0px 1px 3px 1px rgba(0, 0, 0, 0.15);\n",
              "      filter: drop-shadow(0px 1px 2px rgba(0, 0, 0, 0.3));\n",
              "      fill: #FFFFFF;\n",
              "    }\n",
              "  </style>\n",
              "\n",
              "      <script>\n",
              "        const buttonEl =\n",
              "          document.querySelector('#df-064282a9-cbae-4328-b86c-e9125634503a button.colab-df-convert');\n",
              "        buttonEl.style.display =\n",
              "          google.colab.kernel.accessAllowed ? 'block' : 'none';\n",
              "\n",
              "        async function convertToInteractive(key) {\n",
              "          const element = document.querySelector('#df-064282a9-cbae-4328-b86c-e9125634503a');\n",
              "          const dataTable =\n",
              "            await google.colab.kernel.invokeFunction('convertToInteractive',\n",
              "                                                     [key], {});\n",
              "          if (!dataTable) return;\n",
              "\n",
              "          const docLinkHtml = 'Like what you see? Visit the ' +\n",
              "            '<a target=\"_blank\" href=https://colab.research.google.com/notebooks/data_table.ipynb>data table notebook</a>'\n",
              "            + ' to learn more about interactive tables.';\n",
              "          element.innerHTML = '';\n",
              "          dataTable['output_type'] = 'display_data';\n",
              "          await google.colab.output.renderOutput(dataTable, element);\n",
              "          const docLink = document.createElement('div');\n",
              "          docLink.innerHTML = docLinkHtml;\n",
              "          element.appendChild(docLink);\n",
              "        }\n",
              "      </script>\n",
              "    </div>\n",
              "  </div>\n",
              "  "
            ]
          },
          "metadata": {},
          "execution_count": 24
        }
      ]
    },
    {
      "cell_type": "code",
      "source": [
        "sns.barplot(data = mktrf_temp, x='index',y='more volatility', order = [True, False],)\n",
        "plt.xlabel('')\n",
        "plt.ylabel('number of stocks')\n",
        "plt.title('High volatility vs. Low volatility stocks count')\n",
        "plt.show()"
      ],
      "metadata": {
        "colab": {
          "base_uri": "https://localhost:8080/",
          "height": 281
        },
        "id": "ZxtdCohE4LOy",
        "outputId": "26183b92-d241-4151-e84e-0e11a49ae1d5"
      },
      "execution_count": 25,
      "outputs": [
        {
          "output_type": "display_data",
          "data": {
            "text/plain": [
              "<Figure size 432x288 with 1 Axes>"
            ],
            "image/png": "[encoded data removed]"
          },
          "metadata": {
            "needs_background": "light"
          }
        }
      ]
    },
    {
      "cell_type": "code",
      "source": [
        "print(risk_exposure_output.mktrf.describe())\n",
        "sns.boxplot(risk_exposure_output.mktrf)\n",
        "plt.title('boxplot for risk factor exposure')\n",
        "plt.show()"
      ],
      "metadata": {
        "colab": {
          "base_uri": "https://localhost:8080/",
          "height": 457
        },
        "id": "JGTKADi76pwU",
        "outputId": "397e2722-e34c-4a4e-d755-105d96cc5c25"
      },
      "execution_count": 26,
      "outputs": [
        {
          "output_type": "stream",
          "name": "stdout",
          "text": [
            "count    1886.000000\n",
            "mean        1.065369\n",
            "std         0.624558\n",
            "min        -6.676723\n",
            "25%         0.720385\n",
            "50%         1.006944\n",
            "75%         1.337691\n",
            "max         6.002016\n",
            "Name: mktrf, dtype: float64\n"
          ]
        },
        {
          "output_type": "display_data",
          "data": {
            "text/plain": [
              "<Figure size 432x288 with 1 Axes>"
            ],
            "image/png": "[encoded data removed]"
          },
          "metadata": {
            "needs_background": "light"
          }
        }
      ]
    },
    {
      "cell_type": "code",
      "source": [
        "smb_temp = risk_exposure_output['small company'].value_counts().reset_index()\n",
        "smb_temp"
      ],
      "metadata": {
        "colab": {
          "base_uri": "https://localhost:8080/",
          "height": 112
        },
        "id": "C8dqaPe-5OKX",
        "outputId": "36a13159-a027-4636-b715-656bb5beb6de"
      },
      "execution_count": 27,
      "outputs": [
        {
          "output_type": "execute_result",
          "data": {
            "text/plain": [
              "   index  small company\n",
              "0   True           1430\n",
              "1  False            456"
            ],
            "text/html": [
              "\n",
              "  <div id=\"df-97ecf595-8bc6-4b88-b164-3210b1de1fa1\">\n",
              "    <div class=\"colab-df-container\">\n",
              "      <div>\n",
              "<style scoped>\n",
              "    .dataframe tbody tr th:only-of-type {\n",
              "        vertical-align: middle;\n",
              "    }\n",
              "\n",
              "    .dataframe tbody tr th {\n",
              "        vertical-align: top;\n",
              "    }\n",
              "\n",
              "    .dataframe thead th {\n",
              "        text-align: right;\n",
              "    }\n",
              "</style>\n",
              "<table border=\"1\" class=\"dataframe\">\n",
              "  <thead>\n",
              "    <tr style=\"text-align: right;\">\n",
              "      <th></th>\n",
              "      <th>index</th>\n",
              "      <th>small company</th>\n",
              "    </tr>\n",
              "  </thead>\n",
              "  <tbody>\n",
              "    <tr>\n",
              "      <th>0</th>\n",
              "      <td>True</td>\n",
              "      <td>1430</td>\n",
              "    </tr>\n",
              "    <tr>\n",
              "      <th>1</th>\n",
              "      <td>False</td>\n",
              "      <td>456</td>\n",
              "    </tr>\n",
              "  </tbody>\n",
              "</table>\n",
              "</div>\n",
              "      <button class=\"colab-df-convert\" onclick=\"convertToInteractive('df-97ecf595-8bc6-4b88-b164-3210b1de1fa1')\"\n",
              "              title=\"Convert this dataframe to an interactive table.\"\n",
              "              style=\"display:none;\">\n",
              "        \n",
              "  <svg xmlns=\"http://www.w3.org/2000/svg\" height=\"24px\"viewBox=\"0 0 24 24\"\n",
              "       width=\"24px\">\n",
              "    <path d=\"M0 0h24v24H0V0z\" fill=\"none\"/>\n",
              "    <path d=\"M18.56 5.44l.94 2.06.94-2.06 2.06-.94-2.06-.94-.94-2.06-.94 2.06-2.06.94zm-11 1L8.5 8.5l.94-2.06 2.06-.94-2.06-.94L8.5 2.5l-.94 2.06-2.06.94zm10 10l.94 2.06.94-2.06 2.06-.94-2.06-.94-.94-2.06-.94 2.06-2.06.94z\"/><path d=\"M17.41 7.96l-1.37-1.37c-.4-.4-.92-.59-1.43-.59-.52 0-1.04.2-1.43.59L10.3 9.45l-7.72 7.72c-.78.78-.78 2.05 0 2.83L4 21.41c.39.39.9.59 1.41.59.51 0 1.02-.2 1.41-.59l7.78-7.78 2.81-2.81c.8-.78.8-2.07 0-2.86zM5.41 20L4 18.59l7.72-7.72 1.47 1.35L5.41 20z\"/>\n",
              "  </svg>\n",
              "      </button>\n",
              "      \n",
              "  <style>\n",
              "    .colab-df-container {\n",
              "      display:flex;\n",
              "      flex-wrap:wrap;\n",
              "      gap: 12px;\n",
              "    }\n",
              "\n",
              "    .colab-df-convert {\n",
              "      background-color: #E8F0FE;\n",
              "      border: none;\n",
              "      border-radius: 50%;\n",
              "      cursor: pointer;\n",
              "      display: none;\n",
              "      fill: #1967D2;\n",
              "      height: 32px;\n",
              "      padding: 0 0 0 0;\n",
              "      width: 32px;\n",
              "    }\n",
              "\n",
              "    .colab-df-convert:hover {\n",
              "      background-color: #E2EBFA;\n",
              "      box-shadow: 0px 1px 2px rgba(60, 64, 67, 0.3), 0px 1px 3px 1px rgba(60, 64, 67, 0.15);\n",
              "      fill: #174EA6;\n",
              "    }\n",
              "\n",
              "    [theme=dark] .colab-df-convert {\n",
              "      background-color: #3B4455;\n",
              "      fill: #D2E3FC;\n",
              "    }\n",
              "\n",
              "    [theme=dark] .colab-df-convert:hover {\n",
              "      background-color: #434B5C;\n",
              "      box-shadow: 0px 1px 3px 1px rgba(0, 0, 0, 0.15);\n",
              "      filter: drop-shadow(0px 1px 2px rgba(0, 0, 0, 0.3));\n",
              "      fill: #FFFFFF;\n",
              "    }\n",
              "  </style>\n",
              "\n",
              "      <script>\n",
              "        const buttonEl =\n",
              "          document.querySelector('#df-97ecf595-8bc6-4b88-b164-3210b1de1fa1 button.colab-df-convert');\n",
              "        buttonEl.style.display =\n",
              "          google.colab.kernel.accessAllowed ? 'block' : 'none';\n",
              "\n",
              "        async function convertToInteractive(key) {\n",
              "          const element = document.querySelector('#df-97ecf595-8bc6-4b88-b164-3210b1de1fa1');\n",
              "          const dataTable =\n",
              "            await google.colab.kernel.invokeFunction('convertToInteractive',\n",
              "                                                     [key], {});\n",
              "          if (!dataTable) return;\n",
              "\n",
              "          const docLinkHtml = 'Like what you see? Visit the ' +\n",
              "            '<a target=\"_blank\" href=https://colab.research.google.com/notebooks/data_table.ipynb>data table notebook</a>'\n",
              "            + ' to learn more about interactive tables.';\n",
              "          element.innerHTML = '';\n",
              "          dataTable['output_type'] = 'display_data';\n",
              "          await google.colab.output.renderOutput(dataTable, element);\n",
              "          const docLink = document.createElement('div');\n",
              "          docLink.innerHTML = docLinkHtml;\n",
              "          element.appendChild(docLink);\n",
              "        }\n",
              "      </script>\n",
              "    </div>\n",
              "  </div>\n",
              "  "
            ]
          },
          "metadata": {},
          "execution_count": 27
        }
      ]
    },
    {
      "cell_type": "code",
      "source": [
        "sns.barplot(data = smb_temp, x='index',y='small company', order = [True, False],)\n",
        "plt.xlabel('')\n",
        "plt.ylabel('number of stocks')\n",
        "plt.title('Small size vs. Large size stocks count')\n",
        "plt.show()"
      ],
      "metadata": {
        "colab": {
          "base_uri": "https://localhost:8080/",
          "height": 281
        },
        "id": "R3jN4jsJ5dTv",
        "outputId": "4293525e-943d-4ab7-e4c6-f01894cd85f5"
      },
      "execution_count": 28,
      "outputs": [
        {
          "output_type": "display_data",
          "data": {
            "text/plain": [
              "<Figure size 432x288 with 1 Axes>"
            ],
            "image/png": "[encoded data removed]"
          },
          "metadata": {
            "needs_background": "light"
          }
        }
      ]
    },
    {
      "cell_type": "code",
      "source": [
        "print(risk_exposure_output.smb.describe())\n",
        "sns.boxplot(risk_exposure_output.smb)\n",
        "plt.title('boxplot for size factor exposure')\n",
        "plt.show()"
      ],
      "metadata": {
        "colab": {
          "base_uri": "https://localhost:8080/",
          "height": 457
        },
        "id": "Nq9ZYT3P7Lat",
        "outputId": "ae00aa4e-2669-4a54-9661-3daef8d67eca"
      },
      "execution_count": 29,
      "outputs": [
        {
          "output_type": "stream",
          "name": "stdout",
          "text": [
            "count    1886.000000\n",
            "mean        0.667275\n",
            "std         1.232195\n",
            "min        -6.286219\n",
            "25%         0.016011\n",
            "50%         0.501588\n",
            "75%         1.019407\n",
            "max        31.005941\n",
            "Name: smb, dtype: float64\n"
          ]
        },
        {
          "output_type": "display_data",
          "data": {
            "text/plain": [
              "<Figure size 432x288 with 1 Axes>"
            ],
            "image/png": "[encoded data removed]"
          },
          "metadata": {
            "needs_background": "light"
          }
        }
      ]
    },
    {
      "cell_type": "code",
      "source": [
        "hml_temp = risk_exposure_output['value stock'].value_counts().reset_index()\n",
        "hml_temp"
      ],
      "metadata": {
        "colab": {
          "base_uri": "https://localhost:8080/",
          "height": 112
        },
        "id": "T2BYZJs4513S",
        "outputId": "da5923ac-b72d-41e1-ace5-7dfd91620a45"
      },
      "execution_count": 30,
      "outputs": [
        {
          "output_type": "execute_result",
          "data": {
            "text/plain": [
              "   index  value stock\n",
              "0   True         1371\n",
              "1  False          515"
            ],
            "text/html": [
              "\n",
              "  <div id=\"df-45065069-2fc4-45bc-8c0b-b43cdba9a5d3\">\n",
              "    <div class=\"colab-df-container\">\n",
              "      <div>\n",
              "<style scoped>\n",
              "    .dataframe tbody tr th:only-of-type {\n",
              "        vertical-align: middle;\n",
              "    }\n",
              "\n",
              "    .dataframe tbody tr th {\n",
              "        vertical-align: top;\n",
              "    }\n",
              "\n",
              "    .dataframe thead th {\n",
              "        text-align: right;\n",
              "    }\n",
              "</style>\n",
              "<table border=\"1\" class=\"dataframe\">\n",
              "  <thead>\n",
              "    <tr style=\"text-align: right;\">\n",
              "      <th></th>\n",
              "      <th>index</th>\n",
              "      <th>value stock</th>\n",
              "    </tr>\n",
              "  </thead>\n",
              "  <tbody>\n",
              "    <tr>\n",
              "      <th>0</th>\n",
              "      <td>True</td>\n",
              "      <td>1371</td>\n",
              "    </tr>\n",
              "    <tr>\n",
              "      <th>1</th>\n",
              "      <td>False</td>\n",
              "      <td>515</td>\n",
              "    </tr>\n",
              "  </tbody>\n",
              "</table>\n",
              "</div>\n",
              "      <button class=\"colab-df-convert\" onclick=\"convertToInteractive('df-45065069-2fc4-45bc-8c0b-b43cdba9a5d3')\"\n",
              "              title=\"Convert this dataframe to an interactive table.\"\n",
              "              style=\"display:none;\">\n",
              "        \n",
              "  <svg xmlns=\"http://www.w3.org/2000/svg\" height=\"24px\"viewBox=\"0 0 24 24\"\n",
              "       width=\"24px\">\n",
              "    <path d=\"M0 0h24v24H0V0z\" fill=\"none\"/>\n",
              "    <path d=\"M18.56 5.44l.94 2.06.94-2.06 2.06-.94-2.06-.94-.94-2.06-.94 2.06-2.06.94zm-11 1L8.5 8.5l.94-2.06 2.06-.94-2.06-.94L8.5 2.5l-.94 2.06-2.06.94zm10 10l.94 2.06.94-2.06 2.06-.94-2.06-.94-.94-2.06-.94 2.06-2.06.94z\"/><path d=\"M17.41 7.96l-1.37-1.37c-.4-.4-.92-.59-1.43-.59-.52 0-1.04.2-1.43.59L10.3 9.45l-7.72 7.72c-.78.78-.78 2.05 0 2.83L4 21.41c.39.39.9.59 1.41.59.51 0 1.02-.2 1.41-.59l7.78-7.78 2.81-2.81c.8-.78.8-2.07 0-2.86zM5.41 20L4 18.59l7.72-7.72 1.47 1.35L5.41 20z\"/>\n",
              "  </svg>\n",
              "      </button>\n",
              "      \n",
              "  <style>\n",
              "    .colab-df-container {\n",
              "      display:flex;\n",
              "      flex-wrap:wrap;\n",
              "      gap: 12px;\n",
              "    }\n",
              "\n",
              "    .colab-df-convert {\n",
              "      background-color: #E8F0FE;\n",
              "      border: none;\n",
              "      border-radius: 50%;\n",
              "      cursor: pointer;\n",
              "      display: none;\n",
              "      fill: #1967D2;\n",
              "      height: 32px;\n",
              "      padding: 0 0 0 0;\n",
              "      width: 32px;\n",
              "    }\n",
              "\n",
              "    .colab-df-convert:hover {\n",
              "      background-color: #E2EBFA;\n",
              "      box-shadow: 0px 1px 2px rgba(60, 64, 67, 0.3), 0px 1px 3px 1px rgba(60, 64, 67, 0.15);\n",
              "      fill: #174EA6;\n",
              "    }\n",
              "\n",
              "    [theme=dark] .colab-df-convert {\n",
              "      background-color: #3B4455;\n",
              "      fill: #D2E3FC;\n",
              "    }\n",
              "\n",
              "    [theme=dark] .colab-df-convert:hover {\n",
              "      background-color: #434B5C;\n",
              "      box-shadow: 0px 1px 3px 1px rgba(0, 0, 0, 0.15);\n",
              "      filter: drop-shadow(0px 1px 2px rgba(0, 0, 0, 0.3));\n",
              "      fill: #FFFFFF;\n",
              "    }\n",
              "  </style>\n",
              "\n",
              "      <script>\n",
              "        const buttonEl =\n",
              "          document.querySelector('#df-45065069-2fc4-45bc-8c0b-b43cdba9a5d3 button.colab-df-convert');\n",
              "        buttonEl.style.display =\n",
              "          google.colab.kernel.accessAllowed ? 'block' : 'none';\n",
              "\n",
              "        async function convertToInteractive(key) {\n",
              "          const element = document.querySelector('#df-45065069-2fc4-45bc-8c0b-b43cdba9a5d3');\n",
              "          const dataTable =\n",
              "            await google.colab.kernel.invokeFunction('convertToInteractive',\n",
              "                                                     [key], {});\n",
              "          if (!dataTable) return;\n",
              "\n",
              "          const docLinkHtml = 'Like what you see? Visit the ' +\n",
              "            '<a target=\"_blank\" href=https://colab.research.google.com/notebooks/data_table.ipynb>data table notebook</a>'\n",
              "            + ' to learn more about interactive tables.';\n",
              "          element.innerHTML = '';\n",
              "          dataTable['output_type'] = 'display_data';\n",
              "          await google.colab.output.renderOutput(dataTable, element);\n",
              "          const docLink = document.createElement('div');\n",
              "          docLink.innerHTML = docLinkHtml;\n",
              "          element.appendChild(docLink);\n",
              "        }\n",
              "      </script>\n",
              "    </div>\n",
              "  </div>\n",
              "  "
            ]
          },
          "metadata": {},
          "execution_count": 30
        }
      ]
    },
    {
      "cell_type": "code",
      "source": [
        "sns.barplot(data = hml_temp, x='index',y='value stock', order = [True, False],)\n",
        "plt.xlabel('')\n",
        "plt.ylabel('number of stocks')\n",
        "plt.title('Value stock vs. Growth stock count')\n",
        "plt.show()"
      ],
      "metadata": {
        "colab": {
          "base_uri": "https://localhost:8080/",
          "height": 281
        },
        "id": "As002X_05-TE",
        "outputId": "f8c59da9-c370-4677-f23c-a6b0f81d4424"
      },
      "execution_count": 31,
      "outputs": [
        {
          "output_type": "display_data",
          "data": {
            "text/plain": [
              "<Figure size 432x288 with 1 Axes>"
            ],
            "image/png": "[encoded data removed]"
          },
          "metadata": {
            "needs_background": "light"
          }
        }
      ]
    },
    {
      "cell_type": "code",
      "source": [
        "print(risk_exposure_output.hml.describe())\n",
        "sns.boxplot(risk_exposure_output.hml)\n",
        "plt.title('boxplot for value factor exposure')\n",
        "plt.show()"
      ],
      "metadata": {
        "colab": {
          "base_uri": "https://localhost:8080/",
          "height": 457
        },
        "id": "fv71hS797c6X",
        "outputId": "11006aff-10a7-410c-9259-91b7bd01ded2"
      },
      "execution_count": 32,
      "outputs": [
        {
          "output_type": "stream",
          "name": "stdout",
          "text": [
            "count    1886.000000\n",
            "mean        0.317248\n",
            "std         0.699352\n",
            "min        -3.593321\n",
            "25%        -0.047773\n",
            "50%         0.360752\n",
            "75%         0.760726\n",
            "max         5.919490\n",
            "Name: hml, dtype: float64\n"
          ]
        },
        {
          "output_type": "display_data",
          "data": {
            "text/plain": [
              "<Figure size 432x288 with 1 Axes>"
            ],
            "image/png": "[encoded data removed]"
          },
          "metadata": {
            "needs_background": "light"
          }
        }
      ]
    },
    {
      "cell_type": "markdown",
      "source": [
        "## Risk Exposures Output"
      ],
      "metadata": {
        "id": "wA89ePyFG2ST"
      }
    },
    {
      "cell_type": "code",
      "source": [
        "# print out output\n",
        "risk_exposure_output = risk_exposure_output.iloc[:, :4]\n",
        "risk_exposure_output"
      ],
      "metadata": {
        "colab": {
          "base_uri": "https://localhost:8080/",
          "height": 424
        },
        "id": "ZERdcqwcC_my",
        "outputId": "8e39aa14-9e35-4497-8ab4-f2e5fd442083"
      },
      "execution_count": 33,
      "outputs": [
        {
          "output_type": "execute_result",
          "data": {
            "text/plain": [
              "     TICKER     mktrf       smb       hml\n",
              "0      JJSF  0.452887  0.356829  0.524302\n",
              "1      PLXS  0.955657  0.229663  0.598402\n",
              "2      ORCL  0.839476 -0.587083  0.016158\n",
              "3      MSFT  0.935809 -0.330320 -0.401040\n",
              "4      TROW  1.121489  0.008855  0.145466\n",
              "...     ...       ...       ...       ...\n",
              "1881    SIX  2.062411  1.129428  0.780178\n",
              "1882    VPG  1.202745  0.953927  0.093573\n",
              "1883     FN  0.697870  0.905014  0.087299\n",
              "1884   CBOE  0.621143 -0.399150  0.339880\n",
              "1885   TSLA  2.173394 -0.157761 -0.980605\n",
              "\n",
              "[1886 rows x 4 columns]"
            ],
            "text/html": [
              "\n",
              "  <div id=\"df-9a268da7-6c5d-4849-b2ea-f57cadc53171\">\n",
              "    <div class=\"colab-df-container\">\n",
              "      <div>\n",
              "<style scoped>\n",
              "    .dataframe tbody tr th:only-of-type {\n",
              "        vertical-align: middle;\n",
              "    }\n",
              "\n",
              "    .dataframe tbody tr th {\n",
              "        vertical-align: top;\n",
              "    }\n",
              "\n",
              "    .dataframe thead th {\n",
              "        text-align: right;\n",
              "    }\n",
              "</style>\n",
              "<table border=\"1\" class=\"dataframe\">\n",
              "  <thead>\n",
              "    <tr style=\"text-align: right;\">\n",
              "      <th></th>\n",
              "      <th>TICKER</th>\n",
              "      <th>mktrf</th>\n",
              "      <th>smb</th>\n",
              "      <th>hml</th>\n",
              "    </tr>\n",
              "  </thead>\n",
              "  <tbody>\n",
              "    <tr>\n",
              "      <th>0</th>\n",
              "      <td>JJSF</td>\n",
              "      <td>0.452887</td>\n",
              "      <td>0.356829</td>\n",
              "      <td>0.524302</td>\n",
              "    </tr>\n",
              "    <tr>\n",
              "      <th>1</th>\n",
              "      <td>PLXS</td>\n",
              "      <td>0.955657</td>\n",
              "      <td>0.229663</td>\n",
              "      <td>0.598402</td>\n",
              "    </tr>\n",
              "    <tr>\n",
              "      <th>2</th>\n",
              "      <td>ORCL</td>\n",
              "      <td>0.839476</td>\n",
              "      <td>-0.587083</td>\n",
              "      <td>0.016158</td>\n",
              "    </tr>\n",
              "    <tr>\n",
              "      <th>3</th>\n",
              "      <td>MSFT</td>\n",
              "      <td>0.935809</td>\n",
              "      <td>-0.330320</td>\n",
              "      <td>-0.401040</td>\n",
              "    </tr>\n",
              "    <tr>\n",
              "      <th>4</th>\n",
              "      <td>TROW</td>\n",
              "      <td>1.121489</td>\n",
              "      <td>0.008855</td>\n",
              "      <td>0.145466</td>\n",
              "    </tr>\n",
              "    <tr>\n",
              "      <th>...</th>\n",
              "      <td>...</td>\n",
              "      <td>...</td>\n",
              "      <td>...</td>\n",
              "      <td>...</td>\n",
              "    </tr>\n",
              "    <tr>\n",
              "      <th>1881</th>\n",
              "      <td>SIX</td>\n",
              "      <td>2.062411</td>\n",
              "      <td>1.129428</td>\n",
              "      <td>0.780178</td>\n",
              "    </tr>\n",
              "    <tr>\n",
              "      <th>1882</th>\n",
              "      <td>VPG</td>\n",
              "      <td>1.202745</td>\n",
              "      <td>0.953927</td>\n",
              "      <td>0.093573</td>\n",
              "    </tr>\n",
              "    <tr>\n",
              "      <th>1883</th>\n",
              "      <td>FN</td>\n",
              "      <td>0.697870</td>\n",
              "      <td>0.905014</td>\n",
              "      <td>0.087299</td>\n",
              "    </tr>\n",
              "    <tr>\n",
              "      <th>1884</th>\n",
              "      <td>CBOE</td>\n",
              "      <td>0.621143</td>\n",
              "      <td>-0.399150</td>\n",
              "      <td>0.339880</td>\n",
              "    </tr>\n",
              "    <tr>\n",
              "      <th>1885</th>\n",
              "      <td>TSLA</td>\n",
              "      <td>2.173394</td>\n",
              "      <td>-0.157761</td>\n",
              "      <td>-0.980605</td>\n",
              "    </tr>\n",
              "  </tbody>\n",
              "</table>\n",
              "<p>1886 rows × 4 columns</p>\n",
              "</div>\n",
              "      <button class=\"colab-df-convert\" onclick=\"convertToInteractive('df-9a268da7-6c5d-4849-b2ea-f57cadc53171')\"\n",
              "              title=\"Convert this dataframe to an interactive table.\"\n",
              "              style=\"display:none;\">\n",
              "        \n",
              "  <svg xmlns=\"http://www.w3.org/2000/svg\" height=\"24px\"viewBox=\"0 0 24 24\"\n",
              "       width=\"24px\">\n",
              "    <path d=\"M0 0h24v24H0V0z\" fill=\"none\"/>\n",
              "    <path d=\"M18.56 5.44l.94 2.06.94-2.06 2.06-.94-2.06-.94-.94-2.06-.94 2.06-2.06.94zm-11 1L8.5 8.5l.94-2.06 2.06-.94-2.06-.94L8.5 2.5l-.94 2.06-2.06.94zm10 10l.94 2.06.94-2.06 2.06-.94-2.06-.94-.94-2.06-.94 2.06-2.06.94z\"/><path d=\"M17.41 7.96l-1.37-1.37c-.4-.4-.92-.59-1.43-.59-.52 0-1.04.2-1.43.59L10.3 9.45l-7.72 7.72c-.78.78-.78 2.05 0 2.83L4 21.41c.39.39.9.59 1.41.59.51 0 1.02-.2 1.41-.59l7.78-7.78 2.81-2.81c.8-.78.8-2.07 0-2.86zM5.41 20L4 18.59l7.72-7.72 1.47 1.35L5.41 20z\"/>\n",
              "  </svg>\n",
              "      </button>\n",
              "      \n",
              "  <style>\n",
              "    .colab-df-container {\n",
              "      display:flex;\n",
              "      flex-wrap:wrap;\n",
              "      gap: 12px;\n",
              "    }\n",
              "\n",
              "    .colab-df-convert {\n",
              "      background-color: #E8F0FE;\n",
              "      border: none;\n",
              "      border-radius: 50%;\n",
              "      cursor: pointer;\n",
              "      display: none;\n",
              "      fill: #1967D2;\n",
              "      height: 32px;\n",
              "      padding: 0 0 0 0;\n",
              "      width: 32px;\n",
              "    }\n",
              "\n",
              "    .colab-df-convert:hover {\n",
              "      background-color: #E2EBFA;\n",
              "      box-shadow: 0px 1px 2px rgba(60, 64, 67, 0.3), 0px 1px 3px 1px rgba(60, 64, 67, 0.15);\n",
              "      fill: #174EA6;\n",
              "    }\n",
              "\n",
              "    [theme=dark] .colab-df-convert {\n",
              "      background-color: #3B4455;\n",
              "      fill: #D2E3FC;\n",
              "    }\n",
              "\n",
              "    [theme=dark] .colab-df-convert:hover {\n",
              "      background-color: #434B5C;\n",
              "      box-shadow: 0px 1px 3px 1px rgba(0, 0, 0, 0.15);\n",
              "      filter: drop-shadow(0px 1px 2px rgba(0, 0, 0, 0.3));\n",
              "      fill: #FFFFFF;\n",
              "    }\n",
              "  </style>\n",
              "\n",
              "      <script>\n",
              "        const buttonEl =\n",
              "          document.querySelector('#df-9a268da7-6c5d-4849-b2ea-f57cadc53171 button.colab-df-convert');\n",
              "        buttonEl.style.display =\n",
              "          google.colab.kernel.accessAllowed ? 'block' : 'none';\n",
              "\n",
              "        async function convertToInteractive(key) {\n",
              "          const element = document.querySelector('#df-9a268da7-6c5d-4849-b2ea-f57cadc53171');\n",
              "          const dataTable =\n",
              "            await google.colab.kernel.invokeFunction('convertToInteractive',\n",
              "                                                     [key], {});\n",
              "          if (!dataTable) return;\n",
              "\n",
              "          const docLinkHtml = 'Like what you see? Visit the ' +\n",
              "            '<a target=\"_blank\" href=https://colab.research.google.com/notebooks/data_table.ipynb>data table notebook</a>'\n",
              "            + ' to learn more about interactive tables.';\n",
              "          element.innerHTML = '';\n",
              "          dataTable['output_type'] = 'display_data';\n",
              "          await google.colab.output.renderOutput(dataTable, element);\n",
              "          const docLink = document.createElement('div');\n",
              "          docLink.innerHTML = docLinkHtml;\n",
              "          element.appendChild(docLink);\n",
              "        }\n",
              "      </script>\n",
              "    </div>\n",
              "  </div>\n",
              "  "
            ]
          },
          "metadata": {},
          "execution_count": 33
        }
      ]
    },
    {
      "cell_type": "code",
      "source": [
        "# save final outputs to csv file\n",
        "risk_exposure_output.to_csv('FF-Exposures.csv')"
      ],
      "metadata": {
        "id": "ex8QbO02q1YC"
      },
      "execution_count": 34,
      "outputs": []
    },
    {
      "cell_type": "markdown",
      "source": [
        "# Step 3: Calculate Financial Ratios\n",
        "a. Based on the Lectures in BA870, calculate relevant financial ratios\n",
        "(including market ratios) that you believe might explain a company’s stock\n",
        "return in early 2022.\n",
        "\n",
        "b. You should calculate at least 10 ratios (including at least 2 market-based\n",
        "ratios) to use in your analysis.\n",
        "\n",
        "c. Use the methods from Assignment #4 to help you collect and calculate the\n",
        "financial ratios.\n",
        "\n",
        "d. Ensure that you correctly deal with missing values and outliers.\n",
        "\n",
        "e. Calculate Save the ticker symbol and the 10+ financial ratios for each stock\n",
        "in the list in a CSV file labelled “Fin-Ratios.csv”."
      ],
      "metadata": {
        "id": "JfvF7uXni6hx"
      }
    },
    {
      "cell_type": "markdown",
      "source": [
        "### Missing Value Imputation\n",
        "\n",
        "Take a look at the dataset information and null value counts, we can observe that there are over 1,000 missing values in `optdr` and `tie` columns, over 400 missing values in `act` and `lct` columns. Therefore we should consider remove these variables because of the large portion of empty values. \n",
        "\n",
        "For other columns, there exist 237 missing values in `dt`, 116 missing values in `ebitda`, 34 missing values in `invt`, 9 missing values in `dvt`, and only one missing value in `oancf`. We decide to fill NAs with median of each variable because the data is extremely skewed and the outliers will have a significant on mean.\n"
      ],
      "metadata": {
        "id": "jrRyzZd0EV5x"
      }
    },
    {
      "cell_type": "code",
      "source": [
        "# missing value exists\n",
        "financial_report.info()"
      ],
      "metadata": {
        "colab": {
          "base_uri": "https://localhost:8080/"
        },
        "id": "Z2sE4PH9jFxh",
        "outputId": "934b7adb-4f93-477d-f6f0-7571218e6aea"
      },
      "execution_count": 35,
      "outputs": [
        {
          "output_type": "stream",
          "name": "stdout",
          "text": [
            "<class 'pandas.core.frame.DataFrame'>\n",
            "RangeIndex: 1886 entries, 0 to 1885\n",
            "Data columns (total 32 columns):\n",
            " #   Column    Non-Null Count  Dtype  \n",
            "---  ------    --------------  -----  \n",
            " 0   gvkey     1886 non-null   int64  \n",
            " 1   datadate  1886 non-null   int64  \n",
            " 2   fyear     1886 non-null   int64  \n",
            " 3   indfmt    1886 non-null   object \n",
            " 4   consol    1886 non-null   object \n",
            " 5   popsrc    1886 non-null   object \n",
            " 6   datafmt   1886 non-null   object \n",
            " 7   tic       1886 non-null   object \n",
            " 8   curcd     1886 non-null   object \n",
            " 9   act       1431 non-null   float64\n",
            " 10  at        1886 non-null   float64\n",
            " 11  ceq       1886 non-null   float64\n",
            " 12  cogs      1886 non-null   float64\n",
            " 13  csho      1886 non-null   float64\n",
            " 14  dt        1649 non-null   float64\n",
            " 15  dvp       1886 non-null   float64\n",
            " 16  dvt       1877 non-null   float64\n",
            " 17  ebit      1886 non-null   float64\n",
            " 18  ebitda    1770 non-null   float64\n",
            " 19  ib        1886 non-null   float64\n",
            " 20  invt      1852 non-null   float64\n",
            " 21  lct       1431 non-null   float64\n",
            " 22  lt        1881 non-null   float64\n",
            " 23  ni        1886 non-null   float64\n",
            " 24  oancf     1885 non-null   float64\n",
            " 25  optdr     758 non-null    float64\n",
            " 26  revt      1886 non-null   float64\n",
            " 27  sale      1886 non-null   float64\n",
            " 28  seq       1886 non-null   float64\n",
            " 29  tie       175 non-null    float64\n",
            " 30  costat    1886 non-null   object \n",
            " 31  prcc_c    1886 non-null   float64\n",
            "dtypes: float64(22), int64(3), object(7)\n",
            "memory usage: 471.6+ KB\n"
          ]
        }
      ]
    },
    {
      "cell_type": "code",
      "source": [
        "financial_report.isnull().sum()"
      ],
      "metadata": {
        "colab": {
          "base_uri": "https://localhost:8080/"
        },
        "id": "SNA0sl6AI6_C",
        "outputId": "0fd1dbea-9bd7-4c58-ba5d-b0ad8e07e9c2"
      },
      "execution_count": 36,
      "outputs": [
        {
          "output_type": "execute_result",
          "data": {
            "text/plain": [
              "gvkey          0\n",
              "datadate       0\n",
              "fyear          0\n",
              "indfmt         0\n",
              "consol         0\n",
              "popsrc         0\n",
              "datafmt        0\n",
              "tic            0\n",
              "curcd          0\n",
              "act          455\n",
              "at             0\n",
              "ceq            0\n",
              "cogs           0\n",
              "csho           0\n",
              "dt           237\n",
              "dvp            0\n",
              "dvt            9\n",
              "ebit           0\n",
              "ebitda       116\n",
              "ib             0\n",
              "invt          34\n",
              "lct          455\n",
              "lt             5\n",
              "ni             0\n",
              "oancf          1\n",
              "optdr       1128\n",
              "revt           0\n",
              "sale           0\n",
              "seq            0\n",
              "tie         1711\n",
              "costat         0\n",
              "prcc_c         0\n",
              "dtype: int64"
            ]
          },
          "metadata": {},
          "execution_count": 36
        }
      ]
    },
    {
      "cell_type": "code",
      "source": [
        "# visualizing missing value distribution in data \n",
        "msno.matrix(financial_report)"
      ],
      "metadata": {
        "colab": {
          "base_uri": "https://localhost:8080/",
          "height": 627
        },
        "id": "2fwgMpnF_SyQ",
        "outputId": "69751b25-2c37-47f0-f05a-e837e325f935"
      },
      "execution_count": 37,
      "outputs": [
        {
          "output_type": "execute_result",
          "data": {
            "text/plain": [
              "<matplotlib.axes._subplots.AxesSubplot at 0x7f7c652ce3d0>"
            ]
          },
          "metadata": {},
          "execution_count": 37
        },
        {
          "output_type": "display_data",
          "data": {
            "text/plain": [
              "<Figure size 1800x720 with 2 Axes>"
            ],
            "image/png": "[encoded data removed]"
          },
          "metadata": {
            "needs_background": "light"
          }
        }
      ]
    },
    {
      "cell_type": "code",
      "source": [
        "# drop variables with more than 200 missing values\n",
        "financial_report.drop(columns = ['act','lct','tie','optdr','ebitda','dt'], inplace = True)\n",
        "financial_report.info()"
      ],
      "metadata": {
        "colab": {
          "base_uri": "https://localhost:8080/"
        },
        "id": "1pCnxQZ_M1hp",
        "outputId": "4fe3e006-31bb-4307-e574-bbd9d0364763"
      },
      "execution_count": 38,
      "outputs": [
        {
          "output_type": "stream",
          "name": "stdout",
          "text": [
            "<class 'pandas.core.frame.DataFrame'>\n",
            "RangeIndex: 1886 entries, 0 to 1885\n",
            "Data columns (total 26 columns):\n",
            " #   Column    Non-Null Count  Dtype  \n",
            "---  ------    --------------  -----  \n",
            " 0   gvkey     1886 non-null   int64  \n",
            " 1   datadate  1886 non-null   int64  \n",
            " 2   fyear     1886 non-null   int64  \n",
            " 3   indfmt    1886 non-null   object \n",
            " 4   consol    1886 non-null   object \n",
            " 5   popsrc    1886 non-null   object \n",
            " 6   datafmt   1886 non-null   object \n",
            " 7   tic       1886 non-null   object \n",
            " 8   curcd     1886 non-null   object \n",
            " 9   at        1886 non-null   float64\n",
            " 10  ceq       1886 non-null   float64\n",
            " 11  cogs      1886 non-null   float64\n",
            " 12  csho      1886 non-null   float64\n",
            " 13  dvp       1886 non-null   float64\n",
            " 14  dvt       1877 non-null   float64\n",
            " 15  ebit      1886 non-null   float64\n",
            " 16  ib        1886 non-null   float64\n",
            " 17  invt      1852 non-null   float64\n",
            " 18  lt        1881 non-null   float64\n",
            " 19  ni        1886 non-null   float64\n",
            " 20  oancf     1885 non-null   float64\n",
            " 21  revt      1886 non-null   float64\n",
            " 22  sale      1886 non-null   float64\n",
            " 23  seq       1886 non-null   float64\n",
            " 24  costat    1886 non-null   object \n",
            " 25  prcc_c    1886 non-null   float64\n",
            "dtypes: float64(16), int64(3), object(7)\n",
            "memory usage: 383.2+ KB\n"
          ]
        }
      ]
    },
    {
      "cell_type": "code",
      "source": [
        "financial_report.isnull().sum()"
      ],
      "metadata": {
        "colab": {
          "base_uri": "https://localhost:8080/"
        },
        "id": "jKAh9iB9DFC4",
        "outputId": "c2205a6f-a0c0-4eb0-9e6e-b10b90390d1f"
      },
      "execution_count": 39,
      "outputs": [
        {
          "output_type": "execute_result",
          "data": {
            "text/plain": [
              "gvkey        0\n",
              "datadate     0\n",
              "fyear        0\n",
              "indfmt       0\n",
              "consol       0\n",
              "popsrc       0\n",
              "datafmt      0\n",
              "tic          0\n",
              "curcd        0\n",
              "at           0\n",
              "ceq          0\n",
              "cogs         0\n",
              "csho         0\n",
              "dvp          0\n",
              "dvt          9\n",
              "ebit         0\n",
              "ib           0\n",
              "invt        34\n",
              "lt           5\n",
              "ni           0\n",
              "oancf        1\n",
              "revt         0\n",
              "sale         0\n",
              "seq          0\n",
              "costat       0\n",
              "prcc_c       0\n",
              "dtype: int64"
            ]
          },
          "metadata": {},
          "execution_count": 39
        }
      ]
    },
    {
      "cell_type": "code",
      "source": [
        "# visualizing missing value distribution in data \n",
        "msno.matrix(financial_report)"
      ],
      "metadata": {
        "colab": {
          "base_uri": "https://localhost:8080/",
          "height": 627
        },
        "id": "EO3QOlpXCC8h",
        "outputId": "1cb15e42-13f4-4c01-d6a1-2c525b87e7b0"
      },
      "execution_count": 40,
      "outputs": [
        {
          "output_type": "execute_result",
          "data": {
            "text/plain": [
              "<matplotlib.axes._subplots.AxesSubplot at 0x7f7c651a0ad0>"
            ]
          },
          "metadata": {},
          "execution_count": 40
        },
        {
          "output_type": "display_data",
          "data": {
            "text/plain": [
              "<Figure size 1800x720 with 2 Axes>"
            ],
            "image/png": "[encoded data removed]"
          },
          "metadata": {
            "needs_background": "light"
          }
        }
      ]
    },
    {
      "cell_type": "code",
      "source": [
        "# we can observe extreme skewness in the boxplot below\n",
        "for var in ['lt','invt','oancf','dvt']:\n",
        "  print(financial_report[var].describe())\n",
        "  sns.boxplot(x = financial_report[var])\n",
        "  plt.title(\"Boxplot of \"+var)\n",
        "  plt.show()"
      ],
      "metadata": {
        "colab": {
          "base_uri": "https://localhost:8080/",
          "height": 1000
        },
        "id": "7MEWsJcFJocv",
        "outputId": "dad04092-adfe-4d95-e9a5-e26d74cc6fc8"
      },
      "execution_count": 41,
      "outputs": [
        {
          "output_type": "stream",
          "name": "stdout",
          "text": [
            "count    1.881000e+03\n",
            "mean     2.095505e+04\n",
            "std      1.357089e+05\n",
            "min      1.609000e+00\n",
            "25%      6.532430e+02\n",
            "50%      2.578166e+03\n",
            "75%      8.841488e+03\n",
            "max      3.449440e+06\n",
            "Name: lt, dtype: float64\n"
          ]
        },
        {
          "output_type": "display_data",
          "data": {
            "text/plain": [
              "<Figure size 432x288 with 1 Axes>"
            ],
            "image/png": "[encoded data removed]"
          },
          "metadata": {
            "needs_background": "light"
          }
        },
        {
          "output_type": "stream",
          "name": "stdout",
          "text": [
            "count      1852.000000\n",
            "mean       1529.815522\n",
            "std       17523.272480\n",
            "min           0.000000\n",
            "25%           0.000000\n",
            "50%          60.042500\n",
            "75%         437.975000\n",
            "max      481195.000000\n",
            "Name: invt, dtype: float64\n"
          ]
        },
        {
          "output_type": "display_data",
          "data": {
            "text/plain": [
              "<Figure size 432x288 with 1 Axes>"
            ],
            "image/png": "[encoded data removed]"
          },
          "metadata": {
            "needs_background": "light"
          }
        },
        {
          "output_type": "stream",
          "name": "stdout",
          "text": [
            "count      1885.000000\n",
            "mean       1372.937724\n",
            "std        5540.675045\n",
            "min      -11525.000000\n",
            "25%          58.318000\n",
            "50%         229.153000\n",
            "75%         805.869000\n",
            "max      104038.000000\n",
            "Name: oancf, dtype: float64\n"
          ]
        },
        {
          "output_type": "display_data",
          "data": {
            "text/plain": [
              "<Figure size 432x288 with 1 Axes>"
            ],
            "image/png": "[encoded data removed]"
          },
          "metadata": {
            "needs_background": "light"
          }
        },
        {
          "output_type": "stream",
          "name": "stdout",
          "text": [
            "count     1877.000000\n",
            "mean       297.817065\n",
            "std       1091.948384\n",
            "min         -0.128000\n",
            "25%          0.000000\n",
            "50%         19.000000\n",
            "75%        128.483000\n",
            "max      16871.000000\n",
            "Name: dvt, dtype: float64\n"
          ]
        },
        {
          "output_type": "display_data",
          "data": {
            "text/plain": [
              "<Figure size 432x288 with 1 Axes>"
            ],
            "image/png": "[encoded data removed]"
          },
          "metadata": {
            "needs_background": "light"
          }
        }
      ]
    },
    {
      "cell_type": "code",
      "source": [
        "# replace missing values with median because too many outliers exist\n",
        "financial_report.fillna(financial_report.median(), inplace=True)\n",
        "financial_report.info()"
      ],
      "metadata": {
        "colab": {
          "base_uri": "https://localhost:8080/"
        },
        "id": "bhgf7HXwFuRE",
        "outputId": "155e9f90-4030-4e4e-a038-496ea91042d2"
      },
      "execution_count": 42,
      "outputs": [
        {
          "output_type": "stream",
          "name": "stdout",
          "text": [
            "<class 'pandas.core.frame.DataFrame'>\n",
            "RangeIndex: 1886 entries, 0 to 1885\n",
            "Data columns (total 26 columns):\n",
            " #   Column    Non-Null Count  Dtype  \n",
            "---  ------    --------------  -----  \n",
            " 0   gvkey     1886 non-null   int64  \n",
            " 1   datadate  1886 non-null   int64  \n",
            " 2   fyear     1886 non-null   int64  \n",
            " 3   indfmt    1886 non-null   object \n",
            " 4   consol    1886 non-null   object \n",
            " 5   popsrc    1886 non-null   object \n",
            " 6   datafmt   1886 non-null   object \n",
            " 7   tic       1886 non-null   object \n",
            " 8   curcd     1886 non-null   object \n",
            " 9   at        1886 non-null   float64\n",
            " 10  ceq       1886 non-null   float64\n",
            " 11  cogs      1886 non-null   float64\n",
            " 12  csho      1886 non-null   float64\n",
            " 13  dvp       1886 non-null   float64\n",
            " 14  dvt       1886 non-null   float64\n",
            " 15  ebit      1886 non-null   float64\n",
            " 16  ib        1886 non-null   float64\n",
            " 17  invt      1886 non-null   float64\n",
            " 18  lt        1886 non-null   float64\n",
            " 19  ni        1886 non-null   float64\n",
            " 20  oancf     1886 non-null   float64\n",
            " 21  revt      1886 non-null   float64\n",
            " 22  sale      1886 non-null   float64\n",
            " 23  seq       1886 non-null   float64\n",
            " 24  costat    1886 non-null   object \n",
            " 25  prcc_c    1886 non-null   float64\n",
            "dtypes: float64(16), int64(3), object(7)\n",
            "memory usage: 383.2+ KB\n"
          ]
        }
      ]
    },
    {
      "cell_type": "markdown",
      "source": [
        "### Adding Ratio Columns\n",
        "\n"
      ],
      "metadata": {
        "id": "1iYqvp-r47ac"
      }
    },
    {
      "cell_type": "markdown",
      "source": [
        "\n",
        "> \n",
        "`at`: total assets  \n",
        "`cogs`: cost of goods sold  \n",
        "`csho`: common shares outstanding  \n",
        "`dvt`: dividends total    \n",
        "`ebit`: earnings before interest and tax   \n",
        "`ib`: income before extradinary items  \n",
        "`invt`: inventory  \n",
        "`lt`: total liabilities  \n",
        "`oancf`: operating activities net cash flow   \n",
        "`ni`: net income  \n",
        "`revt`: total revenue  \n",
        "`sale`: net sale  \n",
        "`seq`: stockholder's equity  \n",
        "`prcc_c`: price closed annual  \n",
        "`ceq`: common/ordinary equity"
      ],
      "metadata": {
        "id": "FjPNiVNKHFdD"
      }
    },
    {
      "cell_type": "code",
      "source": [
        "## Profitabibility Ratios\n",
        "# return on assets\n",
        "financial_report['ROA'] = financial_report['ebit']/financial_report['at']\n",
        "# return on equity\n",
        "financial_report['ROE'] = financial_report['ni']/financial_report['ceq']\n",
        "# net profit margin\n",
        "financial_report['Net Profit Margin'] = financial_report['ebit']/financial_report['at']\n",
        "\n",
        "## Solvency ratios\n",
        "# financial leverage\n",
        "financial_report['Financial Leverage'] = financial_report['at'] / financial_report['ceq']\n",
        "\n",
        "## Activity Ratios\n",
        "# inventory turnover\n",
        "invt_median = financial_report.invt.median()\n",
        "financial_report.loc[financial_report.invt == 0, 'invt'] = invt_median\n",
        "financial_report['Inventory Turnover'] = financial_report['cogs']/financial_report['invt']"
      ],
      "metadata": {
        "id": "OwYjMz7D5o5r"
      },
      "execution_count": 43,
      "outputs": []
    },
    {
      "cell_type": "code",
      "source": [
        "## Valuation Ratios\n",
        "financial_report['Dividend Payout Ratio'] = financial_report.dvt/financial_report.ib\n",
        "financial_report['Dividend Yield'] = financial_report.dvt/(financial_report.prcc_c * financial_report.csho)\n",
        "\n",
        "## Market Ratios\n",
        "# Price/Book = (PRCC_C * CSHO ) / CEQ\n",
        "financial_report['Price/Book'] = financial_report.prcc_c * financial_report.csho / financial_report.ceq\n",
        "# P/E = (PRCC_C * CSHO ) / NI\n",
        "financial_report['P/E'] = financial_report.prcc_c * financial_report.csho / financial_report.ni\n",
        "# P/EBIT = (PRCC_C * CSHO ) / EBIT\n",
        "financial_report['P/EBIT'] = financial_report.prcc_c * financial_report.csho / financial_report.ebit\n",
        "# P/SALES = (PRCC_C * CSHO ) / SALE\n",
        "financial_report['P/Sales'] = financial_report.prcc_c * financial_report.csho / financial_report.sale\n",
        "# P/cash flow = PRCC_C * CSHO / Operating cash flow\n",
        "financial_report['Price/Cash Flow'] = financial_report.prcc_c * financial_report.csho/financial_report.oancf"
      ],
      "metadata": {
        "id": "lfCyxxMs65YD"
      },
      "execution_count": 44,
      "outputs": []
    },
    {
      "cell_type": "code",
      "source": [
        "## take reciprocal of market value ratios for better performance\n",
        "\n",
        "# to shrink the ratio range and eliminate inf results, \n",
        "# we take the reciprocal of market ratios\n",
        "financial_report['B/P'] = 1/financial_report['Price/Book']\n",
        "financial_report['E/P'] = 1/financial_report['P/E']\n",
        "financial_report['EBIT/P'] = 1/financial_report['P/EBIT']\n",
        "financial_report['S/P'] = 1/financial_report['P/Sales']\n",
        "financial_report['CF/P'] = 1/financial_report['Price/Cash Flow']\n",
        "\n",
        "financial_report['1/Financial Leverage'] = 1/financial_report['Financial Leverage']\n",
        "financial_report['1/ROE'] = 1/financial_report['ROE']\n",
        "\n",
        "\n",
        "# remove original ones\n",
        "financial_report.drop(columns = ['Price/Book', 'P/E', 'P/EBIT','P/Sales', 'Price/Cash Flow', 'Financial Leverage', 'ROE'], inplace=True)\n",
        "\n",
        "financial_report.fillna(financial_report.median(), inplace=True)\n",
        "financial_report.info()"
      ],
      "metadata": {
        "colab": {
          "base_uri": "https://localhost:8080/"
        },
        "id": "kdikiQwbcFui",
        "outputId": "dc5efa6b-5fb1-4c02-f435-023eef098e02"
      },
      "execution_count": 45,
      "outputs": [
        {
          "output_type": "stream",
          "name": "stdout",
          "text": [
            "<class 'pandas.core.frame.DataFrame'>\n",
            "RangeIndex: 1886 entries, 0 to 1885\n",
            "Data columns (total 38 columns):\n",
            " #   Column                 Non-Null Count  Dtype  \n",
            "---  ------                 --------------  -----  \n",
            " 0   gvkey                  1886 non-null   int64  \n",
            " 1   datadate               1886 non-null   int64  \n",
            " 2   fyear                  1886 non-null   int64  \n",
            " 3   indfmt                 1886 non-null   object \n",
            " 4   consol                 1886 non-null   object \n",
            " 5   popsrc                 1886 non-null   object \n",
            " 6   datafmt                1886 non-null   object \n",
            " 7   tic                    1886 non-null   object \n",
            " 8   curcd                  1886 non-null   object \n",
            " 9   at                     1886 non-null   float64\n",
            " 10  ceq                    1886 non-null   float64\n",
            " 11  cogs                   1886 non-null   float64\n",
            " 12  csho                   1886 non-null   float64\n",
            " 13  dvp                    1886 non-null   float64\n",
            " 14  dvt                    1886 non-null   float64\n",
            " 15  ebit                   1886 non-null   float64\n",
            " 16  ib                     1886 non-null   float64\n",
            " 17  invt                   1886 non-null   float64\n",
            " 18  lt                     1886 non-null   float64\n",
            " 19  ni                     1886 non-null   float64\n",
            " 20  oancf                  1886 non-null   float64\n",
            " 21  revt                   1886 non-null   float64\n",
            " 22  sale                   1886 non-null   float64\n",
            " 23  seq                    1886 non-null   float64\n",
            " 24  costat                 1886 non-null   object \n",
            " 25  prcc_c                 1886 non-null   float64\n",
            " 26  ROA                    1886 non-null   float64\n",
            " 27  Net Profit Margin      1886 non-null   float64\n",
            " 28  Inventory Turnover     1886 non-null   float64\n",
            " 29  Dividend Payout Ratio  1886 non-null   float64\n",
            " 30  Dividend Yield         1886 non-null   float64\n",
            " 31  B/P                    1886 non-null   float64\n",
            " 32  E/P                    1886 non-null   float64\n",
            " 33  EBIT/P                 1886 non-null   float64\n",
            " 34  S/P                    1886 non-null   float64\n",
            " 35  CF/P                   1886 non-null   float64\n",
            " 36  1/Financial Leverage   1886 non-null   float64\n",
            " 37  1/ROE                  1886 non-null   float64\n",
            "dtypes: float64(28), int64(3), object(7)\n",
            "memory usage: 560.0+ KB\n"
          ]
        }
      ]
    },
    {
      "cell_type": "code",
      "source": [
        "# extract ratio names\n",
        "ratios = financial_report.columns[-12:]\n",
        "ratios"
      ],
      "metadata": {
        "colab": {
          "base_uri": "https://localhost:8080/"
        },
        "id": "Qi_D5-IXOejX",
        "outputId": "287645e2-4506-4ffa-c6ad-f94b175e2e29"
      },
      "execution_count": 46,
      "outputs": [
        {
          "output_type": "execute_result",
          "data": {
            "text/plain": [
              "Index(['ROA', 'Net Profit Margin', 'Inventory Turnover',\n",
              "       'Dividend Payout Ratio', 'Dividend Yield', 'B/P', 'E/P', 'EBIT/P',\n",
              "       'S/P', 'CF/P', '1/Financial Leverage', '1/ROE'],\n",
              "      dtype='object')"
            ]
          },
          "metadata": {},
          "execution_count": 46
        }
      ]
    },
    {
      "cell_type": "code",
      "source": [
        "financial_ratio_output = financial_report[['tic',\n",
        "                                          'ROA', 'Net Profit Margin', 'Inventory Turnover',\n",
        "       'Dividend Payout Ratio', 'Dividend Yield', 'B/P', 'E/P', 'EBIT/P',\n",
        "       'S/P', 'CF/P', '1/Financial Leverage', '1/ROE'\n",
        "       ]]\n",
        "financial_ratio_output"
      ],
      "metadata": {
        "colab": {
          "base_uri": "https://localhost:8080/",
          "height": 485
        },
        "id": "b2k5BcpjOXjG",
        "outputId": "09caed7d-f288-4972-9b61-ad23ec6fb8c7"
      },
      "execution_count": 47,
      "outputs": [
        {
          "output_type": "execute_result",
          "data": {
            "text/plain": [
              "       tic       ROA  Net Profit Margin  Inventory Turnover  \\\n",
              "0      AIR  0.042541           0.042541            2.308968   \n",
              "1      AAL -0.082958          -0.082958           15.581616   \n",
              "2      PNW  0.036600           0.036600            6.393957   \n",
              "3      ABT  0.119235           0.119235            3.224161   \n",
              "4      AMD  0.296159           0.296159            4.198977   \n",
              "...    ...       ...                ...                 ...   \n",
              "1881   KRG  0.004368           0.004368            5.088912   \n",
              "1882   LYB  0.201323           0.201323            7.378086   \n",
              "1883   FRO  0.001996           0.001996            6.999876   \n",
              "1884  ALLE  0.175221           0.175221            4.162198   \n",
              "1885   LPG  0.073405           0.073405           49.684761   \n",
              "\n",
              "      Dividend Payout Ratio  Dividend Yield       B/P       E/P    EBIT/P  \\\n",
              "0                  0.002160        0.000078  0.760488  0.027941  0.051121   \n",
              "1                 -0.000000        0.000000 -0.630953 -0.171320 -0.473988   \n",
              "2                  0.612730        0.047558  0.740913  0.077616  0.101023   \n",
              "3                  0.457502        0.013030  0.144202  0.028480  0.036113   \n",
              "4                  0.000000        0.000000  0.043164  0.018205  0.021176   \n",
              "...                     ...             ...       ...       ...       ...   \n",
              "1881              -0.715306        0.012121  0.822451 -0.016945  0.006998   \n",
              "1882               0.264601        0.048893  0.390154  0.184581  0.243378   \n",
              "1883              -0.000000        0.000000  1.148753 -0.007747  0.005710   \n",
              "1884               0.267081        0.011041  0.064973  0.041341  0.045758   \n",
              "1885               0.000000        0.000000  1.871937  0.183007  0.229536   \n",
              "\n",
              "           S/P      CF/P  1/Financial Leverage       1/ROE  \n",
              "0     1.288865  0.082105              0.632851   27.217877  \n",
              "1     2.568684  0.060516             -0.110431    3.682890  \n",
              "2     0.477178  0.107886              0.268424    9.545837  \n",
              "3     0.173496  0.042424              0.476116    5.063216  \n",
              "4     0.094618  0.020272              0.603672    2.370968  \n",
              "...        ...       ...                   ...         ...  \n",
              "1881  0.078199  0.021044              0.513385  -48.536581  \n",
              "1882  1.519193  0.253182              0.322737    2.113725  \n",
              "1883  0.520778  0.043734              0.401500 -148.278974  \n",
              "1884  0.245427  0.041820              0.248804    1.571636  \n",
              "1885  0.629140  0.337280              0.598644   10.228758  \n",
              "\n",
              "[1886 rows x 13 columns]"
            ],
            "text/html": [
              "\n",
              "  <div id=\"df-e2725ce4-b809-4252-b493-c54a58d9004a\">\n",
              "    <div class=\"colab-df-container\">\n",
              "      <div>\n",
              "<style scoped>\n",
              "    .dataframe tbody tr th:only-of-type {\n",
              "        vertical-align: middle;\n",
              "    }\n",
              "\n",
              "    .dataframe tbody tr th {\n",
              "        vertical-align: top;\n",
              "    }\n",
              "\n",
              "    .dataframe thead th {\n",
              "        text-align: right;\n",
              "    }\n",
              "</style>\n",
              "<table border=\"1\" class=\"dataframe\">\n",
              "  <thead>\n",
              "    <tr style=\"text-align: right;\">\n",
              "      <th></th>\n",
              "      <th>tic</th>\n",
              "      <th>ROA</th>\n",
              "      <th>Net Profit Margin</th>\n",
              "      <th>Inventory Turnover</th>\n",
              "      <th>Dividend Payout Ratio</th>\n",
              "      <th>Dividend Yield</th>\n",
              "      <th>B/P</th>\n",
              "      <th>E/P</th>\n",
              "      <th>EBIT/P</th>\n",
              "      <th>S/P</th>\n",
              "      <th>CF/P</th>\n",
              "      <th>1/Financial Leverage</th>\n",
              "      <th>1/ROE</th>\n",
              "    </tr>\n",
              "  </thead>\n",
              "  <tbody>\n",
              "    <tr>\n",
              "      <th>0</th>\n",
              "      <td>AIR</td>\n",
              "      <td>0.042541</td>\n",
              "      <td>0.042541</td>\n",
              "      <td>2.308968</td>\n",
              "      <td>0.002160</td>\n",
              "      <td>0.000078</td>\n",
              "      <td>0.760488</td>\n",
              "      <td>0.027941</td>\n",
              "      <td>0.051121</td>\n",
              "      <td>1.288865</td>\n",
              "      <td>0.082105</td>\n",
              "      <td>0.632851</td>\n",
              "      <td>27.217877</td>\n",
              "    </tr>\n",
              "    <tr>\n",
              "      <th>1</th>\n",
              "      <td>AAL</td>\n",
              "      <td>-0.082958</td>\n",
              "      <td>-0.082958</td>\n",
              "      <td>15.581616</td>\n",
              "      <td>-0.000000</td>\n",
              "      <td>0.000000</td>\n",
              "      <td>-0.630953</td>\n",
              "      <td>-0.171320</td>\n",
              "      <td>-0.473988</td>\n",
              "      <td>2.568684</td>\n",
              "      <td>0.060516</td>\n",
              "      <td>-0.110431</td>\n",
              "      <td>3.682890</td>\n",
              "    </tr>\n",
              "    <tr>\n",
              "      <th>2</th>\n",
              "      <td>PNW</td>\n",
              "      <td>0.036600</td>\n",
              "      <td>0.036600</td>\n",
              "      <td>6.393957</td>\n",
              "      <td>0.612730</td>\n",
              "      <td>0.047558</td>\n",
              "      <td>0.740913</td>\n",
              "      <td>0.077616</td>\n",
              "      <td>0.101023</td>\n",
              "      <td>0.477178</td>\n",
              "      <td>0.107886</td>\n",
              "      <td>0.268424</td>\n",
              "      <td>9.545837</td>\n",
              "    </tr>\n",
              "    <tr>\n",
              "      <th>3</th>\n",
              "      <td>ABT</td>\n",
              "      <td>0.119235</td>\n",
              "      <td>0.119235</td>\n",
              "      <td>3.224161</td>\n",
              "      <td>0.457502</td>\n",
              "      <td>0.013030</td>\n",
              "      <td>0.144202</td>\n",
              "      <td>0.028480</td>\n",
              "      <td>0.036113</td>\n",
              "      <td>0.173496</td>\n",
              "      <td>0.042424</td>\n",
              "      <td>0.476116</td>\n",
              "      <td>5.063216</td>\n",
              "    </tr>\n",
              "    <tr>\n",
              "      <th>4</th>\n",
              "      <td>AMD</td>\n",
              "      <td>0.296159</td>\n",
              "      <td>0.296159</td>\n",
              "      <td>4.198977</td>\n",
              "      <td>0.000000</td>\n",
              "      <td>0.000000</td>\n",
              "      <td>0.043164</td>\n",
              "      <td>0.018205</td>\n",
              "      <td>0.021176</td>\n",
              "      <td>0.094618</td>\n",
              "      <td>0.020272</td>\n",
              "      <td>0.603672</td>\n",
              "      <td>2.370968</td>\n",
              "    </tr>\n",
              "    <tr>\n",
              "      <th>...</th>\n",
              "      <td>...</td>\n",
              "      <td>...</td>\n",
              "      <td>...</td>\n",
              "      <td>...</td>\n",
              "      <td>...</td>\n",
              "      <td>...</td>\n",
              "      <td>...</td>\n",
              "      <td>...</td>\n",
              "      <td>...</td>\n",
              "      <td>...</td>\n",
              "      <td>...</td>\n",
              "      <td>...</td>\n",
              "      <td>...</td>\n",
              "    </tr>\n",
              "    <tr>\n",
              "      <th>1881</th>\n",
              "      <td>KRG</td>\n",
              "      <td>0.004368</td>\n",
              "      <td>0.004368</td>\n",
              "      <td>5.088912</td>\n",
              "      <td>-0.715306</td>\n",
              "      <td>0.012121</td>\n",
              "      <td>0.822451</td>\n",
              "      <td>-0.016945</td>\n",
              "      <td>0.006998</td>\n",
              "      <td>0.078199</td>\n",
              "      <td>0.021044</td>\n",
              "      <td>0.513385</td>\n",
              "      <td>-48.536581</td>\n",
              "    </tr>\n",
              "    <tr>\n",
              "      <th>1882</th>\n",
              "      <td>LYB</td>\n",
              "      <td>0.201323</td>\n",
              "      <td>0.201323</td>\n",
              "      <td>7.378086</td>\n",
              "      <td>0.264601</td>\n",
              "      <td>0.048893</td>\n",
              "      <td>0.390154</td>\n",
              "      <td>0.184581</td>\n",
              "      <td>0.243378</td>\n",
              "      <td>1.519193</td>\n",
              "      <td>0.253182</td>\n",
              "      <td>0.322737</td>\n",
              "      <td>2.113725</td>\n",
              "    </tr>\n",
              "    <tr>\n",
              "      <th>1883</th>\n",
              "      <td>FRO</td>\n",
              "      <td>0.001996</td>\n",
              "      <td>0.001996</td>\n",
              "      <td>6.999876</td>\n",
              "      <td>-0.000000</td>\n",
              "      <td>0.000000</td>\n",
              "      <td>1.148753</td>\n",
              "      <td>-0.007747</td>\n",
              "      <td>0.005710</td>\n",
              "      <td>0.520778</td>\n",
              "      <td>0.043734</td>\n",
              "      <td>0.401500</td>\n",
              "      <td>-148.278974</td>\n",
              "    </tr>\n",
              "    <tr>\n",
              "      <th>1884</th>\n",
              "      <td>ALLE</td>\n",
              "      <td>0.175221</td>\n",
              "      <td>0.175221</td>\n",
              "      <td>4.162198</td>\n",
              "      <td>0.267081</td>\n",
              "      <td>0.011041</td>\n",
              "      <td>0.064973</td>\n",
              "      <td>0.041341</td>\n",
              "      <td>0.045758</td>\n",
              "      <td>0.245427</td>\n",
              "      <td>0.041820</td>\n",
              "      <td>0.248804</td>\n",
              "      <td>1.571636</td>\n",
              "    </tr>\n",
              "    <tr>\n",
              "      <th>1885</th>\n",
              "      <td>LPG</td>\n",
              "      <td>0.073405</td>\n",
              "      <td>0.073405</td>\n",
              "      <td>49.684761</td>\n",
              "      <td>0.000000</td>\n",
              "      <td>0.000000</td>\n",
              "      <td>1.871937</td>\n",
              "      <td>0.183007</td>\n",
              "      <td>0.229536</td>\n",
              "      <td>0.629140</td>\n",
              "      <td>0.337280</td>\n",
              "      <td>0.598644</td>\n",
              "      <td>10.228758</td>\n",
              "    </tr>\n",
              "  </tbody>\n",
              "</table>\n",
              "<p>1886 rows × 13 columns</p>\n",
              "</div>\n",
              "      <button class=\"colab-df-convert\" onclick=\"convertToInteractive('df-e2725ce4-b809-4252-b493-c54a58d9004a')\"\n",
              "              title=\"Convert this dataframe to an interactive table.\"\n",
              "              style=\"display:none;\">\n",
              "        \n",
              "  <svg xmlns=\"http://www.w3.org/2000/svg\" height=\"24px\"viewBox=\"0 0 24 24\"\n",
              "       width=\"24px\">\n",
              "    <path d=\"M0 0h24v24H0V0z\" fill=\"none\"/>\n",
              "    <path d=\"M18.56 5.44l.94 2.06.94-2.06 2.06-.94-2.06-.94-.94-2.06-.94 2.06-2.06.94zm-11 1L8.5 8.5l.94-2.06 2.06-.94-2.06-.94L8.5 2.5l-.94 2.06-2.06.94zm10 10l.94 2.06.94-2.06 2.06-.94-2.06-.94-.94-2.06-.94 2.06-2.06.94z\"/><path d=\"M17.41 7.96l-1.37-1.37c-.4-.4-.92-.59-1.43-.59-.52 0-1.04.2-1.43.59L10.3 9.45l-7.72 7.72c-.78.78-.78 2.05 0 2.83L4 21.41c.39.39.9.59 1.41.59.51 0 1.02-.2 1.41-.59l7.78-7.78 2.81-2.81c.8-.78.8-2.07 0-2.86zM5.41 20L4 18.59l7.72-7.72 1.47 1.35L5.41 20z\"/>\n",
              "  </svg>\n",
              "      </button>\n",
              "      \n",
              "  <style>\n",
              "    .colab-df-container {\n",
              "      display:flex;\n",
              "      flex-wrap:wrap;\n",
              "      gap: 12px;\n",
              "    }\n",
              "\n",
              "    .colab-df-convert {\n",
              "      background-color: #E8F0FE;\n",
              "      border: none;\n",
              "      border-radius: 50%;\n",
              "      cursor: pointer;\n",
              "      display: none;\n",
              "      fill: #1967D2;\n",
              "      height: 32px;\n",
              "      padding: 0 0 0 0;\n",
              "      width: 32px;\n",
              "    }\n",
              "\n",
              "    .colab-df-convert:hover {\n",
              "      background-color: #E2EBFA;\n",
              "      box-shadow: 0px 1px 2px rgba(60, 64, 67, 0.3), 0px 1px 3px 1px rgba(60, 64, 67, 0.15);\n",
              "      fill: #174EA6;\n",
              "    }\n",
              "\n",
              "    [theme=dark] .colab-df-convert {\n",
              "      background-color: #3B4455;\n",
              "      fill: #D2E3FC;\n",
              "    }\n",
              "\n",
              "    [theme=dark] .colab-df-convert:hover {\n",
              "      background-color: #434B5C;\n",
              "      box-shadow: 0px 1px 3px 1px rgba(0, 0, 0, 0.15);\n",
              "      filter: drop-shadow(0px 1px 2px rgba(0, 0, 0, 0.3));\n",
              "      fill: #FFFFFF;\n",
              "    }\n",
              "  </style>\n",
              "\n",
              "      <script>\n",
              "        const buttonEl =\n",
              "          document.querySelector('#df-e2725ce4-b809-4252-b493-c54a58d9004a button.colab-df-convert');\n",
              "        buttonEl.style.display =\n",
              "          google.colab.kernel.accessAllowed ? 'block' : 'none';\n",
              "\n",
              "        async function convertToInteractive(key) {\n",
              "          const element = document.querySelector('#df-e2725ce4-b809-4252-b493-c54a58d9004a');\n",
              "          const dataTable =\n",
              "            await google.colab.kernel.invokeFunction('convertToInteractive',\n",
              "                                                     [key], {});\n",
              "          if (!dataTable) return;\n",
              "\n",
              "          const docLinkHtml = 'Like what you see? Visit the ' +\n",
              "            '<a target=\"_blank\" href=https://colab.research.google.com/notebooks/data_table.ipynb>data table notebook</a>'\n",
              "            + ' to learn more about interactive tables.';\n",
              "          element.innerHTML = '';\n",
              "          dataTable['output_type'] = 'display_data';\n",
              "          await google.colab.output.renderOutput(dataTable, element);\n",
              "          const docLink = document.createElement('div');\n",
              "          docLink.innerHTML = docLinkHtml;\n",
              "          element.appendChild(docLink);\n",
              "        }\n",
              "      </script>\n",
              "    </div>\n",
              "  </div>\n",
              "  "
            ]
          },
          "metadata": {},
          "execution_count": 47
        }
      ]
    },
    {
      "cell_type": "code",
      "source": [
        "financial_ratio_output.info()"
      ],
      "metadata": {
        "colab": {
          "base_uri": "https://localhost:8080/"
        },
        "id": "h42TWdTzPE6V",
        "outputId": "7d2a434f-3c1b-43d3-e4df-952fe67a6a30"
      },
      "execution_count": 48,
      "outputs": [
        {
          "output_type": "stream",
          "name": "stdout",
          "text": [
            "<class 'pandas.core.frame.DataFrame'>\n",
            "RangeIndex: 1886 entries, 0 to 1885\n",
            "Data columns (total 13 columns):\n",
            " #   Column                 Non-Null Count  Dtype  \n",
            "---  ------                 --------------  -----  \n",
            " 0   tic                    1886 non-null   object \n",
            " 1   ROA                    1886 non-null   float64\n",
            " 2   Net Profit Margin      1886 non-null   float64\n",
            " 3   Inventory Turnover     1886 non-null   float64\n",
            " 4   Dividend Payout Ratio  1886 non-null   float64\n",
            " 5   Dividend Yield         1886 non-null   float64\n",
            " 6   B/P                    1886 non-null   float64\n",
            " 7   E/P                    1886 non-null   float64\n",
            " 8   EBIT/P                 1886 non-null   float64\n",
            " 9   S/P                    1886 non-null   float64\n",
            " 10  CF/P                   1886 non-null   float64\n",
            " 11  1/Financial Leverage   1886 non-null   float64\n",
            " 12  1/ROE                  1886 non-null   float64\n",
            "dtypes: float64(12), object(1)\n",
            "memory usage: 191.7+ KB\n"
          ]
        }
      ]
    },
    {
      "cell_type": "markdown",
      "source": [
        "## Check Outliers & Winsorize"
      ],
      "metadata": {
        "id": "myiewkzg4-Zf"
      }
    },
    {
      "cell_type": "code",
      "source": [
        "ratios = financial_ratio_output.columns[1:]\n",
        "ratios"
      ],
      "metadata": {
        "colab": {
          "base_uri": "https://localhost:8080/"
        },
        "id": "wD5nSyWMPpgf",
        "outputId": "497238b7-3f13-4e7d-ef16-d91cbf47ba75"
      },
      "execution_count": 49,
      "outputs": [
        {
          "output_type": "execute_result",
          "data": {
            "text/plain": [
              "Index(['ROA', 'Net Profit Margin', 'Inventory Turnover',\n",
              "       'Dividend Payout Ratio', 'Dividend Yield', 'B/P', 'E/P', 'EBIT/P',\n",
              "       'S/P', 'CF/P', '1/Financial Leverage', '1/ROE'],\n",
              "      dtype='object')"
            ]
          },
          "metadata": {},
          "execution_count": 49
        }
      ]
    },
    {
      "cell_type": "code",
      "source": [
        "# loop for ratio names & check for outliers\n",
        "for r in ratios:\n",
        "  print('Check Outliers for {}:'.format(r))\n",
        "  print(financial_report[r].describe())\n",
        "  sns.boxplot(x = financial_report[r])\n",
        "  plt.title('Box Plot for {}'.format(r))\n",
        "  plt.show()\n",
        "  print('-'*40)"
      ],
      "metadata": {
        "colab": {
          "base_uri": "https://localhost:8080/",
          "height": 1000
        },
        "id": "EtAsNhrLBFhe",
        "outputId": "dd7f7e0c-d4b5-4fa5-abd4-ae9644a9c706"
      },
      "execution_count": 50,
      "outputs": [
        {
          "output_type": "stream",
          "name": "stdout",
          "text": [
            "Check Outliers for ROA:\n",
            "count    1886.000000\n",
            "mean        0.047180\n",
            "std         0.157399\n",
            "min        -1.420596\n",
            "25%         0.018602\n",
            "50%         0.053231\n",
            "75%         0.106175\n",
            "max         1.908472\n",
            "Name: ROA, dtype: float64\n"
          ]
        },
        {
          "output_type": "display_data",
          "data": {
            "text/plain": [
              "<Figure size 432x288 with 1 Axes>"
            ],
            "image/png": "[encoded data removed]"
          },
          "metadata": {
            "needs_background": "light"
          }
        },
        {
          "output_type": "stream",
          "name": "stdout",
          "text": [
            "----------------------------------------\n",
            "Check Outliers for Net Profit Margin:\n",
            "count    1886.000000\n",
            "mean        0.047180\n",
            "std         0.157399\n",
            "min        -1.420596\n",
            "25%         0.018602\n",
            "50%         0.053231\n",
            "75%         0.106175\n",
            "max         1.908472\n",
            "Name: Net Profit Margin, dtype: float64\n"
          ]
        },
        {
          "output_type": "display_data",
          "data": {
            "text/plain": [
              "<Figure size 432x288 with 1 Axes>"
            ],
            "image/png": "[encoded data removed]"
          },
          "metadata": {
            "needs_background": "light"
          }
        },
        {
          "output_type": "stream",
          "name": "stdout",
          "text": [
            "----------------------------------------\n",
            "Check Outliers for Inventory Turnover:\n",
            "count    1886.000000\n",
            "mean       29.956576\n",
            "std       135.304153\n",
            "min       -46.714286\n",
            "25%         2.435582\n",
            "50%         5.088532\n",
            "75%        13.972560\n",
            "max      3629.845526\n",
            "Name: Inventory Turnover, dtype: float64\n"
          ]
        },
        {
          "output_type": "display_data",
          "data": {
            "text/plain": [
              "<Figure size 432x288 with 1 Axes>"
            ],
            "image/png": "[encoded data removed]"
          },
          "metadata": {
            "needs_background": "light"
          }
        },
        {
          "output_type": "stream",
          "name": "stdout",
          "text": [
            "----------------------------------------\n",
            "Check Outliers for Dividend Payout Ratio:\n",
            "count    1886.000000\n",
            "mean        0.371677\n",
            "std         4.079297\n",
            "min       -90.398959\n",
            "25%         0.000000\n",
            "50%         0.092851\n",
            "75%         0.371872\n",
            "max       118.595914\n",
            "Name: Dividend Payout Ratio, dtype: float64\n"
          ]
        },
        {
          "output_type": "display_data",
          "data": {
            "text/plain": [
              "<Figure size 432x288 with 1 Axes>"
            ],
            "image/png": "[encoded data removed]"
          },
          "metadata": {
            "needs_background": "light"
          }
        },
        {
          "output_type": "stream",
          "name": "stdout",
          "text": [
            "----------------------------------------\n",
            "Check Outliers for Dividend Yield:\n",
            "count    1886.000000\n",
            "mean        0.015208\n",
            "std         0.028262\n",
            "min        -0.000013\n",
            "25%         0.000000\n",
            "50%         0.007126\n",
            "75%         0.022818\n",
            "max         0.738044\n",
            "Name: Dividend Yield, dtype: float64\n"
          ]
        },
        {
          "output_type": "display_data",
          "data": {
            "text/plain": [
              "<Figure size 432x288 with 1 Axes>"
            ],
            "image/png": "[encoded data removed]"
          },
          "metadata": {
            "needs_background": "light"
          }
        },
        {
          "output_type": "stream",
          "name": "stdout",
          "text": [
            "----------------------------------------\n",
            "Check Outliers for B/P:\n",
            "count    1886.000000\n",
            "mean        0.422120\n",
            "std         0.424100\n",
            "min        -2.056645\n",
            "25%         0.161112\n",
            "50%         0.337004\n",
            "75%         0.613868\n",
            "max         7.547555\n",
            "Name: B/P, dtype: float64\n"
          ]
        },
        {
          "output_type": "display_data",
          "data": {
            "text/plain": [
              "<Figure size 432x288 with 1 Axes>"
            ],
            "image/png": "[encoded data removed]"
          },
          "metadata": {
            "needs_background": "light"
          }
        },
        {
          "output_type": "stream",
          "name": "stdout",
          "text": [
            "----------------------------------------\n",
            "Check Outliers for E/P:\n",
            "count    1886.000000\n",
            "mean        0.027009\n",
            "std         0.136353\n",
            "min        -1.891725\n",
            "25%         0.008113\n",
            "50%         0.036704\n",
            "75%         0.076322\n",
            "max         0.898517\n",
            "Name: E/P, dtype: float64\n"
          ]
        },
        {
          "output_type": "display_data",
          "data": {
            "text/plain": [
              "<Figure size 432x288 with 1 Axes>"
            ],
            "image/png": "[encoded data removed]"
          },
          "metadata": {
            "needs_background": "light"
          }
        },
        {
          "output_type": "stream",
          "name": "stdout",
          "text": [
            "----------------------------------------\n",
            "Check Outliers for EBIT/P:\n",
            "count    1886.000000\n",
            "mean        0.060538\n",
            "std         0.130324\n",
            "min        -1.334204\n",
            "25%         0.019641\n",
            "50%         0.056821\n",
            "75%         0.113822\n",
            "max         0.974888\n",
            "Name: EBIT/P, dtype: float64\n"
          ]
        },
        {
          "output_type": "display_data",
          "data": {
            "text/plain": [
              "<Figure size 432x288 with 1 Axes>"
            ],
            "image/png": "[encoded data removed]"
          },
          "metadata": {
            "needs_background": "light"
          }
        },
        {
          "output_type": "stream",
          "name": "stdout",
          "text": [
            "----------------------------------------\n",
            "Check Outliers for S/P:\n",
            "count    1886.000000\n",
            "mean        0.765997\n",
            "std         1.439881\n",
            "min        -0.087004\n",
            "25%         0.176223\n",
            "50%         0.350729\n",
            "75%         0.814565\n",
            "max        27.543662\n",
            "Name: S/P, dtype: float64\n"
          ]
        },
        {
          "output_type": "display_data",
          "data": {
            "text/plain": [
              "<Figure size 432x288 with 1 Axes>"
            ],
            "image/png": "[encoded data removed]"
          },
          "metadata": {
            "needs_background": "light"
          }
        },
        {
          "output_type": "stream",
          "name": "stdout",
          "text": [
            "----------------------------------------\n",
            "Check Outliers for CF/P:\n",
            "count    1886.000000\n",
            "mean        0.067981\n",
            "std         0.141879\n",
            "min        -1.714565\n",
            "25%         0.026337\n",
            "50%         0.059429\n",
            "75%         0.110646\n",
            "max         1.352590\n",
            "Name: CF/P, dtype: float64\n"
          ]
        },
        {
          "output_type": "display_data",
          "data": {
            "text/plain": [
              "<Figure size 432x288 with 1 Axes>"
            ],
            "image/png": "[encoded data removed]"
          },
          "metadata": {
            "needs_background": "light"
          }
        },
        {
          "output_type": "stream",
          "name": "stdout",
          "text": [
            "----------------------------------------\n",
            "Check Outliers for 1/Financial Leverage:\n",
            "count    1886.000000\n",
            "mean        0.356933\n",
            "std         0.274352\n",
            "min        -2.517942\n",
            "25%         0.181478\n",
            "50%         0.355769\n",
            "75%         0.530596\n",
            "max         0.977871\n",
            "Name: 1/Financial Leverage, dtype: float64\n"
          ]
        },
        {
          "output_type": "display_data",
          "data": {
            "text/plain": [
              "<Figure size 432x288 with 1 Axes>"
            ],
            "image/png": "[encoded data removed]"
          },
          "metadata": {
            "needs_background": "light"
          }
        },
        {
          "output_type": "stream",
          "name": "stdout",
          "text": [
            "----------------------------------------\n",
            "Check Outliers for 1/ROE:\n",
            "count     1886.000000\n",
            "mean        12.490073\n",
            "std        318.402497\n",
            "min      -1784.777228\n",
            "25%          1.276991\n",
            "50%          5.281984\n",
            "75%          9.761295\n",
            "max      13421.700730\n",
            "Name: 1/ROE, dtype: float64\n"
          ]
        },
        {
          "output_type": "display_data",
          "data": {
            "text/plain": [
              "<Figure size 432x288 with 1 Axes>"
            ],
            "image/png": "[encoded data removed]"
          },
          "metadata": {
            "needs_background": "light"
          }
        },
        {
          "output_type": "stream",
          "name": "stdout",
          "text": [
            "----------------------------------------\n"
          ]
        }
      ]
    },
    {
      "cell_type": "code",
      "source": [
        "# loop for winsorizing\n",
        "for r in ratios:\n",
        "  print('Winsorizing Process for {} Ratio at 5% and 99% level.'.format(r))\n",
        "  # winsorize at 5% and 95%\n",
        "  financial_report[r] = winsorize(financial_report[r], (0.05, 0.05))\n",
        "  print('After Winsorizing, the stat results are:')\n",
        "\n",
        "  print(financial_report[r].describe())\n",
        "  sns.boxplot(x = financial_report[r])\n",
        "  plt.title('Box Plot for {} Ratio'.format(r))\n",
        "  plt.show()\n",
        "  print('-'*40)"
      ],
      "metadata": {
        "colab": {
          "base_uri": "https://localhost:8080/",
          "height": 1000
        },
        "id": "s3oBy9qvHOy_",
        "outputId": "33811d2c-ea55-45a0-ba52-95fdfac419d8"
      },
      "execution_count": 51,
      "outputs": [
        {
          "output_type": "stream",
          "name": "stdout",
          "text": [
            "Winsorizing Process for ROA Ratio at 5% and 99% level.\n",
            "After Winsorizing, the stat results are:\n",
            "count    1886.000000\n",
            "mean        0.053772\n",
            "std         0.094554\n",
            "min        -0.200719\n",
            "25%         0.018602\n",
            "50%         0.053231\n",
            "75%         0.106175\n",
            "max         0.225946\n",
            "Name: ROA, dtype: float64\n"
          ]
        },
        {
          "output_type": "display_data",
          "data": {
            "text/plain": [
              "<Figure size 432x288 with 1 Axes>"
            ],
            "image/png": "[encoded data removed]"
          },
          "metadata": {
            "needs_background": "light"
          }
        },
        {
          "output_type": "stream",
          "name": "stdout",
          "text": [
            "----------------------------------------\n",
            "Winsorizing Process for Net Profit Margin Ratio at 5% and 99% level.\n",
            "After Winsorizing, the stat results are:\n",
            "count    1886.000000\n",
            "mean        0.053772\n",
            "std         0.094554\n",
            "min        -0.200719\n",
            "25%         0.018602\n",
            "50%         0.053231\n",
            "75%         0.106175\n",
            "max         0.225946\n",
            "Name: Net Profit Margin, dtype: float64\n"
          ]
        },
        {
          "output_type": "display_data",
          "data": {
            "text/plain": [
              "<Figure size 432x288 with 1 Axes>"
            ],
            "image/png": "[encoded data removed]"
          },
          "metadata": {
            "needs_background": "light"
          }
        },
        {
          "output_type": "stream",
          "name": "stdout",
          "text": [
            "----------------------------------------\n",
            "Winsorizing Process for Inventory Turnover Ratio at 5% and 99% level.\n",
            "After Winsorizing, the stat results are:\n",
            "count    1886.000000\n",
            "mean       16.814553\n",
            "std        28.559431\n",
            "min         0.121702\n",
            "25%         2.435582\n",
            "50%         5.088532\n",
            "75%        13.972560\n",
            "max       113.105706\n",
            "Name: Inventory Turnover, dtype: float64\n"
          ]
        },
        {
          "output_type": "display_data",
          "data": {
            "text/plain": [
              "<Figure size 432x288 with 1 Axes>"
            ],
            "image/png": "[encoded data removed]"
          },
          "metadata": {
            "needs_background": "light"
          }
        },
        {
          "output_type": "stream",
          "name": "stdout",
          "text": [
            "----------------------------------------\n",
            "Winsorizing Process for Dividend Payout Ratio Ratio at 5% and 99% level.\n",
            "After Winsorizing, the stat results are:\n",
            "count    1886.000000\n",
            "mean        0.258413\n",
            "std         0.366588\n",
            "min        -0.006417\n",
            "25%         0.000000\n",
            "50%         0.092851\n",
            "75%         0.371872\n",
            "max         1.315096\n",
            "Name: Dividend Payout Ratio, dtype: float64\n"
          ]
        },
        {
          "output_type": "display_data",
          "data": {
            "text/plain": [
              "<Figure size 432x288 with 1 Axes>"
            ],
            "image/png": "[encoded data removed]"
          },
          "metadata": {
            "needs_background": "light"
          }
        },
        {
          "output_type": "stream",
          "name": "stdout",
          "text": [
            "----------------------------------------\n",
            "Winsorizing Process for Dividend Yield Ratio at 5% and 99% level.\n",
            "After Winsorizing, the stat results are:\n",
            "count    1886.000000\n",
            "mean        0.013061\n",
            "std         0.015313\n",
            "min         0.000000\n",
            "25%         0.000000\n",
            "50%         0.007126\n",
            "75%         0.022818\n",
            "max         0.049804\n",
            "Name: Dividend Yield, dtype: float64\n"
          ]
        },
        {
          "output_type": "display_data",
          "data": {
            "text/plain": [
              "<Figure size 432x288 with 1 Axes>"
            ],
            "image/png": "[encoded data removed]"
          },
          "metadata": {
            "needs_background": "light"
          }
        },
        {
          "output_type": "stream",
          "name": "stdout",
          "text": [
            "----------------------------------------\n",
            "Winsorizing Process for B/P Ratio at 5% and 99% level.\n",
            "After Winsorizing, the stat results are:\n",
            "count    1886.000000\n",
            "mean        0.411993\n",
            "std         0.309511\n",
            "min         0.010871\n",
            "25%         0.161112\n",
            "50%         0.337004\n",
            "75%         0.613868\n",
            "max         1.082827\n",
            "Name: B/P, dtype: float64\n"
          ]
        },
        {
          "output_type": "display_data",
          "data": {
            "text/plain": [
              "<Figure size 432x288 with 1 Axes>"
            ],
            "image/png": "[encoded data removed]"
          },
          "metadata": {
            "needs_background": "light"
          }
        },
        {
          "output_type": "stream",
          "name": "stdout",
          "text": [
            "----------------------------------------\n",
            "Winsorizing Process for E/P Ratio at 5% and 99% level.\n",
            "After Winsorizing, the stat results are:\n",
            "count    1886.000000\n",
            "mean        0.033211\n",
            "std         0.071839\n",
            "min        -0.151546\n",
            "25%         0.008113\n",
            "50%         0.036704\n",
            "75%         0.076322\n",
            "max         0.157932\n",
            "Name: E/P, dtype: float64\n"
          ]
        },
        {
          "output_type": "display_data",
          "data": {
            "text/plain": [
              "<Figure size 432x288 with 1 Axes>"
            ],
            "image/png": "[encoded data removed]"
          },
          "metadata": {
            "needs_background": "light"
          }
        },
        {
          "output_type": "stream",
          "name": "stdout",
          "text": [
            "----------------------------------------\n",
            "Winsorizing Process for EBIT/P Ratio at 5% and 99% level.\n",
            "After Winsorizing, the stat results are:\n",
            "count    1886.000000\n",
            "mean        0.063356\n",
            "std         0.082638\n",
            "min        -0.117984\n",
            "25%         0.019641\n",
            "50%         0.056821\n",
            "75%         0.113822\n",
            "max         0.229450\n",
            "Name: EBIT/P, dtype: float64\n"
          ]
        },
        {
          "output_type": "display_data",
          "data": {
            "text/plain": [
              "<Figure size 432x288 with 1 Axes>"
            ],
            "image/png": "[encoded data removed]"
          },
          "metadata": {
            "needs_background": "light"
          }
        },
        {
          "output_type": "stream",
          "name": "stdout",
          "text": [
            "----------------------------------------\n",
            "Winsorizing Process for S/P Ratio at 5% and 99% level.\n",
            "After Winsorizing, the stat results are:\n",
            "count    1886.000000\n",
            "mean        0.641571\n",
            "std         0.694656\n",
            "min         0.052567\n",
            "25%         0.176223\n",
            "50%         0.350729\n",
            "75%         0.814565\n",
            "max         2.639594\n",
            "Name: S/P, dtype: float64\n"
          ]
        },
        {
          "output_type": "display_data",
          "data": {
            "text/plain": [
              "<Figure size 432x288 with 1 Axes>"
            ],
            "image/png": "[encoded data removed]"
          },
          "metadata": {
            "needs_background": "light"
          }
        },
        {
          "output_type": "stream",
          "name": "stdout",
          "text": [
            "----------------------------------------\n",
            "Winsorizing Process for CF/P Ratio at 5% and 99% level.\n",
            "After Winsorizing, the stat results are:\n",
            "count    1886.000000\n",
            "mean        0.070967\n",
            "std         0.082494\n",
            "min        -0.092243\n",
            "25%         0.026337\n",
            "50%         0.059429\n",
            "75%         0.110646\n",
            "max         0.265490\n",
            "Name: CF/P, dtype: float64\n"
          ]
        },
        {
          "output_type": "display_data",
          "data": {
            "text/plain": [
              "<Figure size 432x288 with 1 Axes>"
            ],
            "image/png": "[encoded data removed]"
          },
          "metadata": {
            "needs_background": "light"
          }
        },
        {
          "output_type": "stream",
          "name": "stdout",
          "text": [
            "----------------------------------------\n",
            "Winsorizing Process for 1/Financial Leverage Ratio at 5% and 99% level.\n",
            "After Winsorizing, the stat results are:\n",
            "count    1886.000000\n",
            "mean        0.367976\n",
            "std         0.220877\n",
            "min         0.022096\n",
            "25%         0.181478\n",
            "50%         0.355769\n",
            "75%         0.530596\n",
            "max         0.786196\n",
            "Name: 1/Financial Leverage, dtype: float64\n"
          ]
        },
        {
          "output_type": "display_data",
          "data": {
            "text/plain": [
              "<Figure size 432x288 with 1 Axes>"
            ],
            "image/png": "[encoded data removed]"
          },
          "metadata": {
            "needs_background": "light"
          }
        },
        {
          "output_type": "stream",
          "name": "stdout",
          "text": [
            "----------------------------------------\n",
            "Winsorizing Process for 1/ROE Ratio at 5% and 99% level.\n",
            "After Winsorizing, the stat results are:\n",
            "count    1886.000000\n",
            "mean        5.996010\n",
            "std        10.291131\n",
            "min       -15.193921\n",
            "25%         1.276991\n",
            "50%         5.281984\n",
            "75%         9.761295\n",
            "max        32.541667\n",
            "Name: 1/ROE, dtype: float64\n"
          ]
        },
        {
          "output_type": "display_data",
          "data": {
            "text/plain": [
              "<Figure size 432x288 with 1 Axes>"
            ],
            "image/png": "[encoded data removed]"
          },
          "metadata": {
            "needs_background": "light"
          }
        },
        {
          "output_type": "stream",
          "name": "stdout",
          "text": [
            "----------------------------------------\n"
          ]
        }
      ]
    },
    {
      "cell_type": "markdown",
      "source": [
        "## Financial Ratio Output"
      ],
      "metadata": {
        "id": "LVc83_a6OFvU"
      }
    },
    {
      "cell_type": "code",
      "source": [
        "financial_ratio_output.info()"
      ],
      "metadata": {
        "colab": {
          "base_uri": "https://localhost:8080/"
        },
        "id": "UCCcMQ077XoX",
        "outputId": "90e9322d-821d-4b86-f7f9-13a158369e59"
      },
      "execution_count": 52,
      "outputs": [
        {
          "output_type": "stream",
          "name": "stdout",
          "text": [
            "<class 'pandas.core.frame.DataFrame'>\n",
            "RangeIndex: 1886 entries, 0 to 1885\n",
            "Data columns (total 13 columns):\n",
            " #   Column                 Non-Null Count  Dtype  \n",
            "---  ------                 --------------  -----  \n",
            " 0   tic                    1886 non-null   object \n",
            " 1   ROA                    1886 non-null   float64\n",
            " 2   Net Profit Margin      1886 non-null   float64\n",
            " 3   Inventory Turnover     1886 non-null   float64\n",
            " 4   Dividend Payout Ratio  1886 non-null   float64\n",
            " 5   Dividend Yield         1886 non-null   float64\n",
            " 6   B/P                    1886 non-null   float64\n",
            " 7   E/P                    1886 non-null   float64\n",
            " 8   EBIT/P                 1886 non-null   float64\n",
            " 9   S/P                    1886 non-null   float64\n",
            " 10  CF/P                   1886 non-null   float64\n",
            " 11  1/Financial Leverage   1886 non-null   float64\n",
            " 12  1/ROE                  1886 non-null   float64\n",
            "dtypes: float64(12), object(1)\n",
            "memory usage: 191.7+ KB\n"
          ]
        }
      ]
    },
    {
      "cell_type": "code",
      "source": [
        "financial_ratio_output.head()"
      ],
      "metadata": {
        "colab": {
          "base_uri": "https://localhost:8080/",
          "height": 267
        },
        "id": "gv8s58907aHZ",
        "outputId": "d5d69fc2-79d4-4735-e8bd-d683cf13cb2c"
      },
      "execution_count": 53,
      "outputs": [
        {
          "output_type": "execute_result",
          "data": {
            "text/plain": [
              "   tic       ROA  Net Profit Margin  Inventory Turnover  \\\n",
              "0  AIR  0.042541           0.042541            2.308968   \n",
              "1  AAL -0.082958          -0.082958           15.581616   \n",
              "2  PNW  0.036600           0.036600            6.393957   \n",
              "3  ABT  0.119235           0.119235            3.224161   \n",
              "4  AMD  0.296159           0.296159            4.198977   \n",
              "\n",
              "   Dividend Payout Ratio  Dividend Yield       B/P       E/P    EBIT/P  \\\n",
              "0               0.002160        0.000078  0.760488  0.027941  0.051121   \n",
              "1              -0.000000        0.000000 -0.630953 -0.171320 -0.473988   \n",
              "2               0.612730        0.047558  0.740913  0.077616  0.101023   \n",
              "3               0.457502        0.013030  0.144202  0.028480  0.036113   \n",
              "4               0.000000        0.000000  0.043164  0.018205  0.021176   \n",
              "\n",
              "        S/P      CF/P  1/Financial Leverage      1/ROE  \n",
              "0  1.288865  0.082105              0.632851  27.217877  \n",
              "1  2.568684  0.060516             -0.110431   3.682890  \n",
              "2  0.477178  0.107886              0.268424   9.545837  \n",
              "3  0.173496  0.042424              0.476116   5.063216  \n",
              "4  0.094618  0.020272              0.603672   2.370968  "
            ],
            "text/html": [
              "\n",
              "  <div id=\"df-baa2ef10-104d-4e13-b422-f1eee78eb0d7\">\n",
              "    <div class=\"colab-df-container\">\n",
              "      <div>\n",
              "<style scoped>\n",
              "    .dataframe tbody tr th:only-of-type {\n",
              "        vertical-align: middle;\n",
              "    }\n",
              "\n",
              "    .dataframe tbody tr th {\n",
              "        vertical-align: top;\n",
              "    }\n",
              "\n",
              "    .dataframe thead th {\n",
              "        text-align: right;\n",
              "    }\n",
              "</style>\n",
              "<table border=\"1\" class=\"dataframe\">\n",
              "  <thead>\n",
              "    <tr style=\"text-align: right;\">\n",
              "      <th></th>\n",
              "      <th>tic</th>\n",
              "      <th>ROA</th>\n",
              "      <th>Net Profit Margin</th>\n",
              "      <th>Inventory Turnover</th>\n",
              "      <th>Dividend Payout Ratio</th>\n",
              "      <th>Dividend Yield</th>\n",
              "      <th>B/P</th>\n",
              "      <th>E/P</th>\n",
              "      <th>EBIT/P</th>\n",
              "      <th>S/P</th>\n",
              "      <th>CF/P</th>\n",
              "      <th>1/Financial Leverage</th>\n",
              "      <th>1/ROE</th>\n",
              "    </tr>\n",
              "  </thead>\n",
              "  <tbody>\n",
              "    <tr>\n",
              "      <th>0</th>\n",
              "      <td>AIR</td>\n",
              "      <td>0.042541</td>\n",
              "      <td>0.042541</td>\n",
              "      <td>2.308968</td>\n",
              "      <td>0.002160</td>\n",
              "      <td>0.000078</td>\n",
              "      <td>0.760488</td>\n",
              "      <td>0.027941</td>\n",
              "      <td>0.051121</td>\n",
              "      <td>1.288865</td>\n",
              "      <td>0.082105</td>\n",
              "      <td>0.632851</td>\n",
              "      <td>27.217877</td>\n",
              "    </tr>\n",
              "    <tr>\n",
              "      <th>1</th>\n",
              "      <td>AAL</td>\n",
              "      <td>-0.082958</td>\n",
              "      <td>-0.082958</td>\n",
              "      <td>15.581616</td>\n",
              "      <td>-0.000000</td>\n",
              "      <td>0.000000</td>\n",
              "      <td>-0.630953</td>\n",
              "      <td>-0.171320</td>\n",
              "      <td>-0.473988</td>\n",
              "      <td>2.568684</td>\n",
              "      <td>0.060516</td>\n",
              "      <td>-0.110431</td>\n",
              "      <td>3.682890</td>\n",
              "    </tr>\n",
              "    <tr>\n",
              "      <th>2</th>\n",
              "      <td>PNW</td>\n",
              "      <td>0.036600</td>\n",
              "      <td>0.036600</td>\n",
              "      <td>6.393957</td>\n",
              "      <td>0.612730</td>\n",
              "      <td>0.047558</td>\n",
              "      <td>0.740913</td>\n",
              "      <td>0.077616</td>\n",
              "      <td>0.101023</td>\n",
              "      <td>0.477178</td>\n",
              "      <td>0.107886</td>\n",
              "      <td>0.268424</td>\n",
              "      <td>9.545837</td>\n",
              "    </tr>\n",
              "    <tr>\n",
              "      <th>3</th>\n",
              "      <td>ABT</td>\n",
              "      <td>0.119235</td>\n",
              "      <td>0.119235</td>\n",
              "      <td>3.224161</td>\n",
              "      <td>0.457502</td>\n",
              "      <td>0.013030</td>\n",
              "      <td>0.144202</td>\n",
              "      <td>0.028480</td>\n",
              "      <td>0.036113</td>\n",
              "      <td>0.173496</td>\n",
              "      <td>0.042424</td>\n",
              "      <td>0.476116</td>\n",
              "      <td>5.063216</td>\n",
              "    </tr>\n",
              "    <tr>\n",
              "      <th>4</th>\n",
              "      <td>AMD</td>\n",
              "      <td>0.296159</td>\n",
              "      <td>0.296159</td>\n",
              "      <td>4.198977</td>\n",
              "      <td>0.000000</td>\n",
              "      <td>0.000000</td>\n",
              "      <td>0.043164</td>\n",
              "      <td>0.018205</td>\n",
              "      <td>0.021176</td>\n",
              "      <td>0.094618</td>\n",
              "      <td>0.020272</td>\n",
              "      <td>0.603672</td>\n",
              "      <td>2.370968</td>\n",
              "    </tr>\n",
              "  </tbody>\n",
              "</table>\n",
              "</div>\n",
              "      <button class=\"colab-df-convert\" onclick=\"convertToInteractive('df-baa2ef10-104d-4e13-b422-f1eee78eb0d7')\"\n",
              "              title=\"Convert this dataframe to an interactive table.\"\n",
              "              style=\"display:none;\">\n",
              "        \n",
              "  <svg xmlns=\"http://www.w3.org/2000/svg\" height=\"24px\"viewBox=\"0 0 24 24\"\n",
              "       width=\"24px\">\n",
              "    <path d=\"M0 0h24v24H0V0z\" fill=\"none\"/>\n",
              "    <path d=\"M18.56 5.44l.94 2.06.94-2.06 2.06-.94-2.06-.94-.94-2.06-.94 2.06-2.06.94zm-11 1L8.5 8.5l.94-2.06 2.06-.94-2.06-.94L8.5 2.5l-.94 2.06-2.06.94zm10 10l.94 2.06.94-2.06 2.06-.94-2.06-.94-.94-2.06-.94 2.06-2.06.94z\"/><path d=\"M17.41 7.96l-1.37-1.37c-.4-.4-.92-.59-1.43-.59-.52 0-1.04.2-1.43.59L10.3 9.45l-7.72 7.72c-.78.78-.78 2.05 0 2.83L4 21.41c.39.39.9.59 1.41.59.51 0 1.02-.2 1.41-.59l7.78-7.78 2.81-2.81c.8-.78.8-2.07 0-2.86zM5.41 20L4 18.59l7.72-7.72 1.47 1.35L5.41 20z\"/>\n",
              "  </svg>\n",
              "      </button>\n",
              "      \n",
              "  <style>\n",
              "    .colab-df-container {\n",
              "      display:flex;\n",
              "      flex-wrap:wrap;\n",
              "      gap: 12px;\n",
              "    }\n",
              "\n",
              "    .colab-df-convert {\n",
              "      background-color: #E8F0FE;\n",
              "      border: none;\n",
              "      border-radius: 50%;\n",
              "      cursor: pointer;\n",
              "      display: none;\n",
              "      fill: #1967D2;\n",
              "      height: 32px;\n",
              "      padding: 0 0 0 0;\n",
              "      width: 32px;\n",
              "    }\n",
              "\n",
              "    .colab-df-convert:hover {\n",
              "      background-color: #E2EBFA;\n",
              "      box-shadow: 0px 1px 2px rgba(60, 64, 67, 0.3), 0px 1px 3px 1px rgba(60, 64, 67, 0.15);\n",
              "      fill: #174EA6;\n",
              "    }\n",
              "\n",
              "    [theme=dark] .colab-df-convert {\n",
              "      background-color: #3B4455;\n",
              "      fill: #D2E3FC;\n",
              "    }\n",
              "\n",
              "    [theme=dark] .colab-df-convert:hover {\n",
              "      background-color: #434B5C;\n",
              "      box-shadow: 0px 1px 3px 1px rgba(0, 0, 0, 0.15);\n",
              "      filter: drop-shadow(0px 1px 2px rgba(0, 0, 0, 0.3));\n",
              "      fill: #FFFFFF;\n",
              "    }\n",
              "  </style>\n",
              "\n",
              "      <script>\n",
              "        const buttonEl =\n",
              "          document.querySelector('#df-baa2ef10-104d-4e13-b422-f1eee78eb0d7 button.colab-df-convert');\n",
              "        buttonEl.style.display =\n",
              "          google.colab.kernel.accessAllowed ? 'block' : 'none';\n",
              "\n",
              "        async function convertToInteractive(key) {\n",
              "          const element = document.querySelector('#df-baa2ef10-104d-4e13-b422-f1eee78eb0d7');\n",
              "          const dataTable =\n",
              "            await google.colab.kernel.invokeFunction('convertToInteractive',\n",
              "                                                     [key], {});\n",
              "          if (!dataTable) return;\n",
              "\n",
              "          const docLinkHtml = 'Like what you see? Visit the ' +\n",
              "            '<a target=\"_blank\" href=https://colab.research.google.com/notebooks/data_table.ipynb>data table notebook</a>'\n",
              "            + ' to learn more about interactive tables.';\n",
              "          element.innerHTML = '';\n",
              "          dataTable['output_type'] = 'display_data';\n",
              "          await google.colab.output.renderOutput(dataTable, element);\n",
              "          const docLink = document.createElement('div');\n",
              "          docLink.innerHTML = docLinkHtml;\n",
              "          element.appendChild(docLink);\n",
              "        }\n",
              "      </script>\n",
              "    </div>\n",
              "  </div>\n",
              "  "
            ]
          },
          "metadata": {},
          "execution_count": 53
        }
      ]
    },
    {
      "cell_type": "code",
      "source": [
        "# output to csv file\n",
        "financial_ratio_output.to_csv('Fin-Ratios.csv')"
      ],
      "metadata": {
        "id": "uOvOoEZTO4O-"
      },
      "execution_count": 54,
      "outputs": []
    },
    {
      "cell_type": "markdown",
      "source": [
        "# Step 4: Industry Indicators\n",
        "a. Using the methods outlined in Assignment #5, determine industry indicators\n",
        "for each stock in the list.\n",
        "\n",
        "b. Save the ticker symbol and the industry indicators for each stock in the list\n",
        "in a CSV file labelled “Industry.csv”."
      ],
      "metadata": {
        "id": "feSt5OiqDRc-"
      }
    },
    {
      "cell_type": "markdown",
      "source": [
        "## Create Industry Indicator "
      ],
      "metadata": {
        "id": "ZnlqAfVGUIB0"
      }
    },
    {
      "cell_type": "code",
      "source": [
        "# 24 unique industry categories value\n",
        "print(industry_indentifier['ggroup'].unique())\n",
        "print('There are {} unique Industry Indicators.'.format(len(industry_indentifier['ggroup'].unique())))"
      ],
      "metadata": {
        "colab": {
          "base_uri": "https://localhost:8080/"
        },
        "id": "bE5WrdzgT6_N",
        "outputId": "847a51ea-6c6a-474d-9dc8-bd3d44cb0c8c"
      },
      "execution_count": 55,
      "outputs": [
        {
          "output_type": "stream",
          "name": "stdout",
          "text": [
            "[2010 2030 5510 3510 4530 1510 6010 1010 2020 4030 4020 4510 3520 3010\n",
            " 4520 3020 4010 5010 2550 2530 2520 3030 5020 2510]\n",
            "There are 24 unique Industry Indicators.\n"
          ]
        }
      ]
    },
    {
      "cell_type": "code",
      "source": [
        "group_value = ['Energy', #1010\n",
        "               'Materials',\n",
        "               'Capital Goods',\n",
        "               'Professional Services',\n",
        "               'Transportation', #2030\n",
        "               'Automobiles & Components', #2510\n",
        "               'Consumer Durables & Apparel', # 2520\n",
        "               'Consumer Services', #2530\n",
        "               'Retailing', #2550\n",
        "               'Food & Staples Retailing', #3010\n",
        "               'Food, Beverage & Tobacco', #3020\n",
        "               'Household & Personal Products', #3030\n",
        "               'Health Care Equipment & Services', #3510\n",
        "               'Pharmaceuticals, Biotechnology & Life Sciences', #3520\n",
        "               'Banks', #4010\n",
        "               'Diversified Financials', #4020\n",
        "               'Insurance', #4030\n",
        "               'Software & Services', #4510\n",
        "               'Technology Hardware & Equipment', #4520\n",
        "               'Semiconductors & Semiconductor Equipment', #4530\n",
        "               'Telecommunication Services', #5010\n",
        "               'Media & Entertainment', #5020\n",
        "               'Utilities', #5510\n",
        "               'Real Estate' #6010\n",
        "\n",
        "]\n",
        "type(group_value)"
      ],
      "metadata": {
        "colab": {
          "base_uri": "https://localhost:8080/"
        },
        "id": "nbOkuHPJKzTO",
        "outputId": "b9677694-6ae6-4bfd-d951-ff40dfb83e94"
      },
      "execution_count": 56,
      "outputs": [
        {
          "output_type": "execute_result",
          "data": {
            "text/plain": [
              "list"
            ]
          },
          "metadata": {},
          "execution_count": 56
        }
      ]
    },
    {
      "cell_type": "code",
      "source": [
        "temp = data.merge(industry_indentifier, left_on='Ticker', right_on = 'tic', how = 'inner')\n",
        "industry_avg_stock_return = temp.groupby('ggroup').agg({'RetYTD': 'mean'})"
      ],
      "metadata": {
        "id": "tl9_xwPSJhDz"
      },
      "execution_count": 57,
      "outputs": []
    },
    {
      "cell_type": "code",
      "source": [
        "industry_avg_stock_return.reset_index(inplace=True)\n",
        "industry_avg_stock_return['Industry Group'] = group_value\n"
      ],
      "metadata": {
        "id": "-rKiF-1_JqIU"
      },
      "execution_count": 58,
      "outputs": []
    },
    {
      "cell_type": "code",
      "source": [
        "industry_avg_stock_return.sort_values(by='RetYTD', ascending=False)"
      ],
      "metadata": {
        "colab": {
          "base_uri": "https://localhost:8080/",
          "height": 802
        },
        "id": "U2hVlAqxhphG",
        "outputId": "07b6854d-eb00-47b1-8300-9022f1ab41b8"
      },
      "execution_count": 59,
      "outputs": [
        {
          "output_type": "execute_result",
          "data": {
            "text/plain": [
              "    ggroup    RetYTD                                  Industry Group\n",
              "0     1010  0.515035                                          Energy\n",
              "9     3010  0.078312                        Food & Staples Retailing\n",
              "1     1510  0.057846                                       Materials\n",
              "22    5510  0.040759                                       Utilities\n",
              "10    3020  0.038780                        Food, Beverage & Tobacco\n",
              "20    5010  0.011838                      Telecommunication Services\n",
              "16    4030  0.003779                                       Insurance\n",
              "3     2020 -0.035157                           Professional Services\n",
              "23    6010 -0.035826                                     Real Estate\n",
              "7     2530 -0.062583                               Consumer Services\n",
              "12    3510 -0.066432                Health Care Equipment & Services\n",
              "4     2030 -0.067454                                  Transportation\n",
              "21    5020 -0.070871                           Media & Entertainment\n",
              "14    4010 -0.087832                                           Banks\n",
              "2     2010 -0.090548                                   Capital Goods\n",
              "17    4510 -0.108644                             Software & Services\n",
              "15    4020 -0.122515                          Diversified Financials\n",
              "8     2550 -0.151223                                       Retailing\n",
              "11    3030 -0.153771                   Household & Personal Products\n",
              "13    3520 -0.163937  Pharmaceuticals, Biotechnology & Life Sciences\n",
              "18    4520 -0.172065                 Technology Hardware & Equipment\n",
              "5     2510 -0.207992                        Automobiles & Components\n",
              "6     2520 -0.208598                     Consumer Durables & Apparel\n",
              "19    4530 -0.252813        Semiconductors & Semiconductor Equipment"
            ],
            "text/html": [
              "\n",
              "  <div id=\"df-fe0b82c6-1c02-4712-a78f-e5de7045f545\">\n",
              "    <div class=\"colab-df-container\">\n",
              "      <div>\n",
              "<style scoped>\n",
              "    .dataframe tbody tr th:only-of-type {\n",
              "        vertical-align: middle;\n",
              "    }\n",
              "\n",
              "    .dataframe tbody tr th {\n",
              "        vertical-align: top;\n",
              "    }\n",
              "\n",
              "    .dataframe thead th {\n",
              "        text-align: right;\n",
              "    }\n",
              "</style>\n",
              "<table border=\"1\" class=\"dataframe\">\n",
              "  <thead>\n",
              "    <tr style=\"text-align: right;\">\n",
              "      <th></th>\n",
              "      <th>ggroup</th>\n",
              "      <th>RetYTD</th>\n",
              "      <th>Industry Group</th>\n",
              "    </tr>\n",
              "  </thead>\n",
              "  <tbody>\n",
              "    <tr>\n",
              "      <th>0</th>\n",
              "      <td>1010</td>\n",
              "      <td>0.515035</td>\n",
              "      <td>Energy</td>\n",
              "    </tr>\n",
              "    <tr>\n",
              "      <th>9</th>\n",
              "      <td>3010</td>\n",
              "      <td>0.078312</td>\n",
              "      <td>Food &amp; Staples Retailing</td>\n",
              "    </tr>\n",
              "    <tr>\n",
              "      <th>1</th>\n",
              "      <td>1510</td>\n",
              "      <td>0.057846</td>\n",
              "      <td>Materials</td>\n",
              "    </tr>\n",
              "    <tr>\n",
              "      <th>22</th>\n",
              "      <td>5510</td>\n",
              "      <td>0.040759</td>\n",
              "      <td>Utilities</td>\n",
              "    </tr>\n",
              "    <tr>\n",
              "      <th>10</th>\n",
              "      <td>3020</td>\n",
              "      <td>0.038780</td>\n",
              "      <td>Food, Beverage &amp; Tobacco</td>\n",
              "    </tr>\n",
              "    <tr>\n",
              "      <th>20</th>\n",
              "      <td>5010</td>\n",
              "      <td>0.011838</td>\n",
              "      <td>Telecommunication Services</td>\n",
              "    </tr>\n",
              "    <tr>\n",
              "      <th>16</th>\n",
              "      <td>4030</td>\n",
              "      <td>0.003779</td>\n",
              "      <td>Insurance</td>\n",
              "    </tr>\n",
              "    <tr>\n",
              "      <th>3</th>\n",
              "      <td>2020</td>\n",
              "      <td>-0.035157</td>\n",
              "      <td>Professional Services</td>\n",
              "    </tr>\n",
              "    <tr>\n",
              "      <th>23</th>\n",
              "      <td>6010</td>\n",
              "      <td>-0.035826</td>\n",
              "      <td>Real Estate</td>\n",
              "    </tr>\n",
              "    <tr>\n",
              "      <th>7</th>\n",
              "      <td>2530</td>\n",
              "      <td>-0.062583</td>\n",
              "      <td>Consumer Services</td>\n",
              "    </tr>\n",
              "    <tr>\n",
              "      <th>12</th>\n",
              "      <td>3510</td>\n",
              "      <td>-0.066432</td>\n",
              "      <td>Health Care Equipment &amp; Services</td>\n",
              "    </tr>\n",
              "    <tr>\n",
              "      <th>4</th>\n",
              "      <td>2030</td>\n",
              "      <td>-0.067454</td>\n",
              "      <td>Transportation</td>\n",
              "    </tr>\n",
              "    <tr>\n",
              "      <th>21</th>\n",
              "      <td>5020</td>\n",
              "      <td>-0.070871</td>\n",
              "      <td>Media &amp; Entertainment</td>\n",
              "    </tr>\n",
              "    <tr>\n",
              "      <th>14</th>\n",
              "      <td>4010</td>\n",
              "      <td>-0.087832</td>\n",
              "      <td>Banks</td>\n",
              "    </tr>\n",
              "    <tr>\n",
              "      <th>2</th>\n",
              "      <td>2010</td>\n",
              "      <td>-0.090548</td>\n",
              "      <td>Capital Goods</td>\n",
              "    </tr>\n",
              "    <tr>\n",
              "      <th>17</th>\n",
              "      <td>4510</td>\n",
              "      <td>-0.108644</td>\n",
              "      <td>Software &amp; Services</td>\n",
              "    </tr>\n",
              "    <tr>\n",
              "      <th>15</th>\n",
              "      <td>4020</td>\n",
              "      <td>-0.122515</td>\n",
              "      <td>Diversified Financials</td>\n",
              "    </tr>\n",
              "    <tr>\n",
              "      <th>8</th>\n",
              "      <td>2550</td>\n",
              "      <td>-0.151223</td>\n",
              "      <td>Retailing</td>\n",
              "    </tr>\n",
              "    <tr>\n",
              "      <th>11</th>\n",
              "      <td>3030</td>\n",
              "      <td>-0.153771</td>\n",
              "      <td>Household &amp; Personal Products</td>\n",
              "    </tr>\n",
              "    <tr>\n",
              "      <th>13</th>\n",
              "      <td>3520</td>\n",
              "      <td>-0.163937</td>\n",
              "      <td>Pharmaceuticals, Biotechnology &amp; Life Sciences</td>\n",
              "    </tr>\n",
              "    <tr>\n",
              "      <th>18</th>\n",
              "      <td>4520</td>\n",
              "      <td>-0.172065</td>\n",
              "      <td>Technology Hardware &amp; Equipment</td>\n",
              "    </tr>\n",
              "    <tr>\n",
              "      <th>5</th>\n",
              "      <td>2510</td>\n",
              "      <td>-0.207992</td>\n",
              "      <td>Automobiles &amp; Components</td>\n",
              "    </tr>\n",
              "    <tr>\n",
              "      <th>6</th>\n",
              "      <td>2520</td>\n",
              "      <td>-0.208598</td>\n",
              "      <td>Consumer Durables &amp; Apparel</td>\n",
              "    </tr>\n",
              "    <tr>\n",
              "      <th>19</th>\n",
              "      <td>4530</td>\n",
              "      <td>-0.252813</td>\n",
              "      <td>Semiconductors &amp; Semiconductor Equipment</td>\n",
              "    </tr>\n",
              "  </tbody>\n",
              "</table>\n",
              "</div>\n",
              "      <button class=\"colab-df-convert\" onclick=\"convertToInteractive('df-fe0b82c6-1c02-4712-a78f-e5de7045f545')\"\n",
              "              title=\"Convert this dataframe to an interactive table.\"\n",
              "              style=\"display:none;\">\n",
              "        \n",
              "  <svg xmlns=\"http://www.w3.org/2000/svg\" height=\"24px\"viewBox=\"0 0 24 24\"\n",
              "       width=\"24px\">\n",
              "    <path d=\"M0 0h24v24H0V0z\" fill=\"none\"/>\n",
              "    <path d=\"M18.56 5.44l.94 2.06.94-2.06 2.06-.94-2.06-.94-.94-2.06-.94 2.06-2.06.94zm-11 1L8.5 8.5l.94-2.06 2.06-.94-2.06-.94L8.5 2.5l-.94 2.06-2.06.94zm10 10l.94 2.06.94-2.06 2.06-.94-2.06-.94-.94-2.06-.94 2.06-2.06.94z\"/><path d=\"M17.41 7.96l-1.37-1.37c-.4-.4-.92-.59-1.43-.59-.52 0-1.04.2-1.43.59L10.3 9.45l-7.72 7.72c-.78.78-.78 2.05 0 2.83L4 21.41c.39.39.9.59 1.41.59.51 0 1.02-.2 1.41-.59l7.78-7.78 2.81-2.81c.8-.78.8-2.07 0-2.86zM5.41 20L4 18.59l7.72-7.72 1.47 1.35L5.41 20z\"/>\n",
              "  </svg>\n",
              "      </button>\n",
              "      \n",
              "  <style>\n",
              "    .colab-df-container {\n",
              "      display:flex;\n",
              "      flex-wrap:wrap;\n",
              "      gap: 12px;\n",
              "    }\n",
              "\n",
              "    .colab-df-convert {\n",
              "      background-color: #E8F0FE;\n",
              "      border: none;\n",
              "      border-radius: 50%;\n",
              "      cursor: pointer;\n",
              "      display: none;\n",
              "      fill: #1967D2;\n",
              "      height: 32px;\n",
              "      padding: 0 0 0 0;\n",
              "      width: 32px;\n",
              "    }\n",
              "\n",
              "    .colab-df-convert:hover {\n",
              "      background-color: #E2EBFA;\n",
              "      box-shadow: 0px 1px 2px rgba(60, 64, 67, 0.3), 0px 1px 3px 1px rgba(60, 64, 67, 0.15);\n",
              "      fill: #174EA6;\n",
              "    }\n",
              "\n",
              "    [theme=dark] .colab-df-convert {\n",
              "      background-color: #3B4455;\n",
              "      fill: #D2E3FC;\n",
              "    }\n",
              "\n",
              "    [theme=dark] .colab-df-convert:hover {\n",
              "      background-color: #434B5C;\n",
              "      box-shadow: 0px 1px 3px 1px rgba(0, 0, 0, 0.15);\n",
              "      filter: drop-shadow(0px 1px 2px rgba(0, 0, 0, 0.3));\n",
              "      fill: #FFFFFF;\n",
              "    }\n",
              "  </style>\n",
              "\n",
              "      <script>\n",
              "        const buttonEl =\n",
              "          document.querySelector('#df-fe0b82c6-1c02-4712-a78f-e5de7045f545 button.colab-df-convert');\n",
              "        buttonEl.style.display =\n",
              "          google.colab.kernel.accessAllowed ? 'block' : 'none';\n",
              "\n",
              "        async function convertToInteractive(key) {\n",
              "          const element = document.querySelector('#df-fe0b82c6-1c02-4712-a78f-e5de7045f545');\n",
              "          const dataTable =\n",
              "            await google.colab.kernel.invokeFunction('convertToInteractive',\n",
              "                                                     [key], {});\n",
              "          if (!dataTable) return;\n",
              "\n",
              "          const docLinkHtml = 'Like what you see? Visit the ' +\n",
              "            '<a target=\"_blank\" href=https://colab.research.google.com/notebooks/data_table.ipynb>data table notebook</a>'\n",
              "            + ' to learn more about interactive tables.';\n",
              "          element.innerHTML = '';\n",
              "          dataTable['output_type'] = 'display_data';\n",
              "          await google.colab.output.renderOutput(dataTable, element);\n",
              "          const docLink = document.createElement('div');\n",
              "          docLink.innerHTML = docLinkHtml;\n",
              "          element.appendChild(docLink);\n",
              "        }\n",
              "      </script>\n",
              "    </div>\n",
              "  </div>\n",
              "  "
            ]
          },
          "metadata": {},
          "execution_count": 59
        }
      ]
    },
    {
      "cell_type": "code",
      "source": [
        "# entrie avg\n",
        "temp.RetYTD.mean()"
      ],
      "metadata": {
        "colab": {
          "base_uri": "https://localhost:8080/"
        },
        "id": "hTjEKY48gZuL",
        "outputId": "7c79fe4d-2410-49f6-8043-afe8c2445835"
      },
      "execution_count": 60,
      "outputs": [
        {
          "output_type": "execute_result",
          "data": {
            "text/plain": [
              "-0.06348361611876994"
            ]
          },
          "metadata": {},
          "execution_count": 60
        }
      ]
    },
    {
      "cell_type": "code",
      "source": [
        "# check how many below entire avg\n",
        "industry_avg_stock_return['below avg'] = np.where(industry_avg_stock_return.RetYTD < temp.RetYTD.mean(), True, False)\n",
        "industry_avg_stock_return['below avg'].value_counts()"
      ],
      "metadata": {
        "colab": {
          "base_uri": "https://localhost:8080/"
        },
        "id": "lJOPivb2i5zb",
        "outputId": "25b02fbb-e811-4cb8-f22a-fade6ed4241f"
      },
      "execution_count": 61,
      "outputs": [
        {
          "output_type": "execute_result",
          "data": {
            "text/plain": [
              "True     14\n",
              "False    10\n",
              "Name: below avg, dtype: int64"
            ]
          },
          "metadata": {},
          "execution_count": 61
        }
      ]
    },
    {
      "cell_type": "code",
      "source": [
        "\n",
        "plt.xlabel('Industry Group Indicators')\n",
        "plt.ylabel('Average Stock Return')\n",
        "default_x_ticks = range(len(industry_avg_stock_return.ggroup.unique()))\n",
        "sns.scatterplot(data=industry_avg_stock_return, x=default_x_ticks, y='RetYTD')\n",
        "plt.axhline(y=temp.RetYTD.mean(), c='grey')\n",
        "plt.xticks(default_x_ticks, group_value, rotation =90,)\n",
        "plt.title('Industry Average Stock Return')\n",
        "# plt.setp(plt.set_xticklabels(group_value))\n",
        "plt.show()\n",
        "# plt.xticks()"
      ],
      "metadata": {
        "colab": {
          "base_uri": "https://localhost:8080/",
          "height": 525
        },
        "id": "DB2I1L7kJxhp",
        "outputId": "566f10c2-f315-4b29-9902-d65f64c9457e"
      },
      "execution_count": 62,
      "outputs": [
        {
          "output_type": "display_data",
          "data": {
            "text/plain": [
              "<Figure size 432x288 with 1 Axes>"
            ],
            "image/png": "[encoded data removed]"
          },
          "metadata": {
            "needs_background": "light"
          }
        }
      ]
    },
    {
      "cell_type": "code",
      "source": [
        "temp = data.merge(industry_indentifier, left_on='Ticker', right_on = 'tic', how = 'inner')\n",
        "industry_count = temp.groupby('ggroup').agg({'ggroup': 'count'})\n",
        "industry_count['Industry Group'] = group_value"
      ],
      "metadata": {
        "id": "dSLm7X1uNp_u"
      },
      "execution_count": 63,
      "outputs": []
    },
    {
      "cell_type": "code",
      "source": [
        "industry_count.rename(columns = {'ggroup':'count'}, inplace=True)\n",
        "industry_count.sort_values(by='count', ascending = False, inplace=True)\n",
        "industry_count.reset_index(inplace=True)"
      ],
      "metadata": {
        "id": "KQlheC9bN1KU"
      },
      "execution_count": 64,
      "outputs": []
    },
    {
      "cell_type": "code",
      "source": [
        "# percentage of total\n",
        "industry_count['perc %'] = round(industry_count['count'].astype('float')/1886 * 100, 2)"
      ],
      "metadata": {
        "id": "jig3TibifRUA"
      },
      "execution_count": 65,
      "outputs": []
    },
    {
      "cell_type": "code",
      "source": [
        "industry_count.sort_values(by='count', ascending = True, inplace=True)"
      ],
      "metadata": {
        "id": "m1kzvU0WfrnF"
      },
      "execution_count": 66,
      "outputs": []
    },
    {
      "cell_type": "code",
      "source": [
        "industry_count"
      ],
      "metadata": {
        "colab": {
          "base_uri": "https://localhost:8080/",
          "height": 802
        },
        "id": "Z1mfa9xEPYTw",
        "outputId": "2b99f07b-5530-44a3-a9d7-309d2e48caff"
      },
      "execution_count": 67,
      "outputs": [
        {
          "output_type": "execute_result",
          "data": {
            "text/plain": [
              "    ggroup  count                                  Industry Group  perc %\n",
              "23    5010     13                      Telecommunication Services    0.69\n",
              "21    3030     17                   Household & Personal Products    0.90\n",
              "22    3010     17                        Food & Staples Retailing    0.90\n",
              "20    2510     25                        Automobiles & Components    1.33\n",
              "19    2030     39                                  Transportation    2.07\n",
              "18    5020     42                           Media & Entertainment    2.23\n",
              "17    3020     44                        Food, Beverage & Tobacco    2.33\n",
              "16    4530     55        Semiconductors & Semiconductor Equipment    2.92\n",
              "15    5510     58                                       Utilities    3.08\n",
              "14    4030     61                                       Insurance    3.23\n",
              "13    2020     63                           Professional Services    3.34\n",
              "12    2520     63                     Consumer Durables & Apparel    3.34\n",
              "11    2530     64                               Consumer Services    3.39\n",
              "10    1010     75                                          Energy    3.98\n",
              "9     4520     82                 Technology Hardware & Equipment    4.35\n",
              "8     2550     86                                       Retailing    4.56\n",
              "7     4020     92                          Diversified Financials    4.88\n",
              "6     1510     95                                       Materials    5.04\n",
              "5     4510    118                             Software & Services    6.26\n",
              "4     3510    121                Health Care Equipment & Services    6.42\n",
              "3     6010    131                                     Real Estate    6.95\n",
              "2     3520    163  Pharmaceuticals, Biotechnology & Life Sciences    8.64\n",
              "1     4010    179                                           Banks    9.49\n",
              "0     2010    183                                   Capital Goods    9.70"
            ],
            "text/html": [
              "\n",
              "  <div id=\"df-36fb3591-1540-4df0-bbd4-d78ce10f9161\">\n",
              "    <div class=\"colab-df-container\">\n",
              "      <div>\n",
              "<style scoped>\n",
              "    .dataframe tbody tr th:only-of-type {\n",
              "        vertical-align: middle;\n",
              "    }\n",
              "\n",
              "    .dataframe tbody tr th {\n",
              "        vertical-align: top;\n",
              "    }\n",
              "\n",
              "    .dataframe thead th {\n",
              "        text-align: right;\n",
              "    }\n",
              "</style>\n",
              "<table border=\"1\" class=\"dataframe\">\n",
              "  <thead>\n",
              "    <tr style=\"text-align: right;\">\n",
              "      <th></th>\n",
              "      <th>ggroup</th>\n",
              "      <th>count</th>\n",
              "      <th>Industry Group</th>\n",
              "      <th>perc %</th>\n",
              "    </tr>\n",
              "  </thead>\n",
              "  <tbody>\n",
              "    <tr>\n",
              "      <th>23</th>\n",
              "      <td>5010</td>\n",
              "      <td>13</td>\n",
              "      <td>Telecommunication Services</td>\n",
              "      <td>0.69</td>\n",
              "    </tr>\n",
              "    <tr>\n",
              "      <th>21</th>\n",
              "      <td>3030</td>\n",
              "      <td>17</td>\n",
              "      <td>Household &amp; Personal Products</td>\n",
              "      <td>0.90</td>\n",
              "    </tr>\n",
              "    <tr>\n",
              "      <th>22</th>\n",
              "      <td>3010</td>\n",
              "      <td>17</td>\n",
              "      <td>Food &amp; Staples Retailing</td>\n",
              "      <td>0.90</td>\n",
              "    </tr>\n",
              "    <tr>\n",
              "      <th>20</th>\n",
              "      <td>2510</td>\n",
              "      <td>25</td>\n",
              "      <td>Automobiles &amp; Components</td>\n",
              "      <td>1.33</td>\n",
              "    </tr>\n",
              "    <tr>\n",
              "      <th>19</th>\n",
              "      <td>2030</td>\n",
              "      <td>39</td>\n",
              "      <td>Transportation</td>\n",
              "      <td>2.07</td>\n",
              "    </tr>\n",
              "    <tr>\n",
              "      <th>18</th>\n",
              "      <td>5020</td>\n",
              "      <td>42</td>\n",
              "      <td>Media &amp; Entertainment</td>\n",
              "      <td>2.23</td>\n",
              "    </tr>\n",
              "    <tr>\n",
              "      <th>17</th>\n",
              "      <td>3020</td>\n",
              "      <td>44</td>\n",
              "      <td>Food, Beverage &amp; Tobacco</td>\n",
              "      <td>2.33</td>\n",
              "    </tr>\n",
              "    <tr>\n",
              "      <th>16</th>\n",
              "      <td>4530</td>\n",
              "      <td>55</td>\n",
              "      <td>Semiconductors &amp; Semiconductor Equipment</td>\n",
              "      <td>2.92</td>\n",
              "    </tr>\n",
              "    <tr>\n",
              "      <th>15</th>\n",
              "      <td>5510</td>\n",
              "      <td>58</td>\n",
              "      <td>Utilities</td>\n",
              "      <td>3.08</td>\n",
              "    </tr>\n",
              "    <tr>\n",
              "      <th>14</th>\n",
              "      <td>4030</td>\n",
              "      <td>61</td>\n",
              "      <td>Insurance</td>\n",
              "      <td>3.23</td>\n",
              "    </tr>\n",
              "    <tr>\n",
              "      <th>13</th>\n",
              "      <td>2020</td>\n",
              "      <td>63</td>\n",
              "      <td>Professional Services</td>\n",
              "      <td>3.34</td>\n",
              "    </tr>\n",
              "    <tr>\n",
              "      <th>12</th>\n",
              "      <td>2520</td>\n",
              "      <td>63</td>\n",
              "      <td>Consumer Durables &amp; Apparel</td>\n",
              "      <td>3.34</td>\n",
              "    </tr>\n",
              "    <tr>\n",
              "      <th>11</th>\n",
              "      <td>2530</td>\n",
              "      <td>64</td>\n",
              "      <td>Consumer Services</td>\n",
              "      <td>3.39</td>\n",
              "    </tr>\n",
              "    <tr>\n",
              "      <th>10</th>\n",
              "      <td>1010</td>\n",
              "      <td>75</td>\n",
              "      <td>Energy</td>\n",
              "      <td>3.98</td>\n",
              "    </tr>\n",
              "    <tr>\n",
              "      <th>9</th>\n",
              "      <td>4520</td>\n",
              "      <td>82</td>\n",
              "      <td>Technology Hardware &amp; Equipment</td>\n",
              "      <td>4.35</td>\n",
              "    </tr>\n",
              "    <tr>\n",
              "      <th>8</th>\n",
              "      <td>2550</td>\n",
              "      <td>86</td>\n",
              "      <td>Retailing</td>\n",
              "      <td>4.56</td>\n",
              "    </tr>\n",
              "    <tr>\n",
              "      <th>7</th>\n",
              "      <td>4020</td>\n",
              "      <td>92</td>\n",
              "      <td>Diversified Financials</td>\n",
              "      <td>4.88</td>\n",
              "    </tr>\n",
              "    <tr>\n",
              "      <th>6</th>\n",
              "      <td>1510</td>\n",
              "      <td>95</td>\n",
              "      <td>Materials</td>\n",
              "      <td>5.04</td>\n",
              "    </tr>\n",
              "    <tr>\n",
              "      <th>5</th>\n",
              "      <td>4510</td>\n",
              "      <td>118</td>\n",
              "      <td>Software &amp; Services</td>\n",
              "      <td>6.26</td>\n",
              "    </tr>\n",
              "    <tr>\n",
              "      <th>4</th>\n",
              "      <td>3510</td>\n",
              "      <td>121</td>\n",
              "      <td>Health Care Equipment &amp; Services</td>\n",
              "      <td>6.42</td>\n",
              "    </tr>\n",
              "    <tr>\n",
              "      <th>3</th>\n",
              "      <td>6010</td>\n",
              "      <td>131</td>\n",
              "      <td>Real Estate</td>\n",
              "      <td>6.95</td>\n",
              "    </tr>\n",
              "    <tr>\n",
              "      <th>2</th>\n",
              "      <td>3520</td>\n",
              "      <td>163</td>\n",
              "      <td>Pharmaceuticals, Biotechnology &amp; Life Sciences</td>\n",
              "      <td>8.64</td>\n",
              "    </tr>\n",
              "    <tr>\n",
              "      <th>1</th>\n",
              "      <td>4010</td>\n",
              "      <td>179</td>\n",
              "      <td>Banks</td>\n",
              "      <td>9.49</td>\n",
              "    </tr>\n",
              "    <tr>\n",
              "      <th>0</th>\n",
              "      <td>2010</td>\n",
              "      <td>183</td>\n",
              "      <td>Capital Goods</td>\n",
              "      <td>9.70</td>\n",
              "    </tr>\n",
              "  </tbody>\n",
              "</table>\n",
              "</div>\n",
              "      <button class=\"colab-df-convert\" onclick=\"convertToInteractive('df-36fb3591-1540-4df0-bbd4-d78ce10f9161')\"\n",
              "              title=\"Convert this dataframe to an interactive table.\"\n",
              "              style=\"display:none;\">\n",
              "        \n",
              "  <svg xmlns=\"http://www.w3.org/2000/svg\" height=\"24px\"viewBox=\"0 0 24 24\"\n",
              "       width=\"24px\">\n",
              "    <path d=\"M0 0h24v24H0V0z\" fill=\"none\"/>\n",
              "    <path d=\"M18.56 5.44l.94 2.06.94-2.06 2.06-.94-2.06-.94-.94-2.06-.94 2.06-2.06.94zm-11 1L8.5 8.5l.94-2.06 2.06-.94-2.06-.94L8.5 2.5l-.94 2.06-2.06.94zm10 10l.94 2.06.94-2.06 2.06-.94-2.06-.94-.94-2.06-.94 2.06-2.06.94z\"/><path d=\"M17.41 7.96l-1.37-1.37c-.4-.4-.92-.59-1.43-.59-.52 0-1.04.2-1.43.59L10.3 9.45l-7.72 7.72c-.78.78-.78 2.05 0 2.83L4 21.41c.39.39.9.59 1.41.59.51 0 1.02-.2 1.41-.59l7.78-7.78 2.81-2.81c.8-.78.8-2.07 0-2.86zM5.41 20L4 18.59l7.72-7.72 1.47 1.35L5.41 20z\"/>\n",
              "  </svg>\n",
              "      </button>\n",
              "      \n",
              "  <style>\n",
              "    .colab-df-container {\n",
              "      display:flex;\n",
              "      flex-wrap:wrap;\n",
              "      gap: 12px;\n",
              "    }\n",
              "\n",
              "    .colab-df-convert {\n",
              "      background-color: #E8F0FE;\n",
              "      border: none;\n",
              "      border-radius: 50%;\n",
              "      cursor: pointer;\n",
              "      display: none;\n",
              "      fill: #1967D2;\n",
              "      height: 32px;\n",
              "      padding: 0 0 0 0;\n",
              "      width: 32px;\n",
              "    }\n",
              "\n",
              "    .colab-df-convert:hover {\n",
              "      background-color: #E2EBFA;\n",
              "      box-shadow: 0px 1px 2px rgba(60, 64, 67, 0.3), 0px 1px 3px 1px rgba(60, 64, 67, 0.15);\n",
              "      fill: #174EA6;\n",
              "    }\n",
              "\n",
              "    [theme=dark] .colab-df-convert {\n",
              "      background-color: #3B4455;\n",
              "      fill: #D2E3FC;\n",
              "    }\n",
              "\n",
              "    [theme=dark] .colab-df-convert:hover {\n",
              "      background-color: #434B5C;\n",
              "      box-shadow: 0px 1px 3px 1px rgba(0, 0, 0, 0.15);\n",
              "      filter: drop-shadow(0px 1px 2px rgba(0, 0, 0, 0.3));\n",
              "      fill: #FFFFFF;\n",
              "    }\n",
              "  </style>\n",
              "\n",
              "      <script>\n",
              "        const buttonEl =\n",
              "          document.querySelector('#df-36fb3591-1540-4df0-bbd4-d78ce10f9161 button.colab-df-convert');\n",
              "        buttonEl.style.display =\n",
              "          google.colab.kernel.accessAllowed ? 'block' : 'none';\n",
              "\n",
              "        async function convertToInteractive(key) {\n",
              "          const element = document.querySelector('#df-36fb3591-1540-4df0-bbd4-d78ce10f9161');\n",
              "          const dataTable =\n",
              "            await google.colab.kernel.invokeFunction('convertToInteractive',\n",
              "                                                     [key], {});\n",
              "          if (!dataTable) return;\n",
              "\n",
              "          const docLinkHtml = 'Like what you see? Visit the ' +\n",
              "            '<a target=\"_blank\" href=https://colab.research.google.com/notebooks/data_table.ipynb>data table notebook</a>'\n",
              "            + ' to learn more about interactive tables.';\n",
              "          element.innerHTML = '';\n",
              "          dataTable['output_type'] = 'display_data';\n",
              "          await google.colab.output.renderOutput(dataTable, element);\n",
              "          const docLink = document.createElement('div');\n",
              "          docLink.innerHTML = docLinkHtml;\n",
              "          element.appendChild(docLink);\n",
              "        }\n",
              "      </script>\n",
              "    </div>\n",
              "  </div>\n",
              "  "
            ]
          },
          "metadata": {},
          "execution_count": 67
        }
      ]
    },
    {
      "cell_type": "code",
      "source": [
        "\n",
        "plt.xlabel('Industry Group Indicators')\n",
        "plt.ylabel('Number of Stocks')\n",
        "default_x_ticks = range(len(industry_avg_stock_return.ggroup.unique()))\n",
        "sns.barplot(data= industry_count, x = 'ggroup', y = 'count',)\n",
        "plt.xticks(default_x_ticks, group_value, rotation =90)\n",
        "plt.title('# of Stocks in Each Industry')\n",
        "plt.show()\n",
        "# plt.xticks()"
      ],
      "metadata": {
        "colab": {
          "base_uri": "https://localhost:8080/",
          "height": 525
        },
        "id": "ihT_xiSzOUU_",
        "outputId": "b4a2b1c1-0bac-412a-aa46-9b5a07d74c24"
      },
      "execution_count": 68,
      "outputs": [
        {
          "output_type": "display_data",
          "data": {
            "text/plain": [
              "<Figure size 432x288 with 1 Axes>"
            ],
            "image/png": "[encoded data removed]"
          },
          "metadata": {
            "needs_background": "light"
          }
        }
      ]
    },
    {
      "cell_type": "code",
      "source": [
        "# create dummy vars\n",
        "industry_indentifier = pd.get_dummies(industry_indentifier, columns=['ggroup'])\n",
        "industry_indentifier.head()"
      ],
      "metadata": {
        "colab": {
          "base_uri": "https://localhost:8080/",
          "height": 299
        },
        "id": "E_vF1E87UNVi",
        "outputId": "4891cc1d-4b39-419f-cfcf-432a42650abb"
      },
      "execution_count": 69,
      "outputs": [
        {
          "output_type": "execute_result",
          "data": {
            "text/plain": [
              "   gvkey  datadate  fyear indfmt consol popsrc datafmt  tic curcd costat  ...  \\\n",
              "0   1004  20210531   2020   INDL      C      D     STD  AIR   USD      A  ...   \n",
              "1   1045  20211231   2021   INDL      C      D     STD  AAL   USD      A  ...   \n",
              "2   1075  20211231   2021   INDL      C      D     STD  PNW   USD      A  ...   \n",
              "3   1078  20211231   2021   INDL      C      D     STD  ABT   USD      A  ...   \n",
              "4   1161  20211231   2021   INDL      C      D     STD  AMD   USD      A  ...   \n",
              "\n",
              "   ggroup_4010  ggroup_4020  ggroup_4030  ggroup_4510  ggroup_4520  \\\n",
              "0            0            0            0            0            0   \n",
              "1            0            0            0            0            0   \n",
              "2            0            0            0            0            0   \n",
              "3            0            0            0            0            0   \n",
              "4            0            0            0            0            0   \n",
              "\n",
              "   ggroup_4530  ggroup_5010  ggroup_5020  ggroup_5510  ggroup_6010  \n",
              "0            0            0            0            0            0  \n",
              "1            0            0            0            0            0  \n",
              "2            0            0            0            1            0  \n",
              "3            0            0            0            0            0  \n",
              "4            1            0            0            0            0  \n",
              "\n",
              "[5 rows x 34 columns]"
            ],
            "text/html": [
              "\n",
              "  <div id=\"df-bc1d879d-6dad-4a2f-b851-c34426c521c6\">\n",
              "    <div class=\"colab-df-container\">\n",
              "      <div>\n",
              "<style scoped>\n",
              "    .dataframe tbody tr th:only-of-type {\n",
              "        vertical-align: middle;\n",
              "    }\n",
              "\n",
              "    .dataframe tbody tr th {\n",
              "        vertical-align: top;\n",
              "    }\n",
              "\n",
              "    .dataframe thead th {\n",
              "        text-align: right;\n",
              "    }\n",
              "</style>\n",
              "<table border=\"1\" class=\"dataframe\">\n",
              "  <thead>\n",
              "    <tr style=\"text-align: right;\">\n",
              "      <th></th>\n",
              "      <th>gvkey</th>\n",
              "      <th>datadate</th>\n",
              "      <th>fyear</th>\n",
              "      <th>indfmt</th>\n",
              "      <th>consol</th>\n",
              "      <th>popsrc</th>\n",
              "      <th>datafmt</th>\n",
              "      <th>tic</th>\n",
              "      <th>curcd</th>\n",
              "      <th>costat</th>\n",
              "      <th>...</th>\n",
              "      <th>ggroup_4010</th>\n",
              "      <th>ggroup_4020</th>\n",
              "      <th>ggroup_4030</th>\n",
              "      <th>ggroup_4510</th>\n",
              "      <th>ggroup_4520</th>\n",
              "      <th>ggroup_4530</th>\n",
              "      <th>ggroup_5010</th>\n",
              "      <th>ggroup_5020</th>\n",
              "      <th>ggroup_5510</th>\n",
              "      <th>ggroup_6010</th>\n",
              "    </tr>\n",
              "  </thead>\n",
              "  <tbody>\n",
              "    <tr>\n",
              "      <th>0</th>\n",
              "      <td>1004</td>\n",
              "      <td>20210531</td>\n",
              "      <td>2020</td>\n",
              "      <td>INDL</td>\n",
              "      <td>C</td>\n",
              "      <td>D</td>\n",
              "      <td>STD</td>\n",
              "      <td>AIR</td>\n",
              "      <td>USD</td>\n",
              "      <td>A</td>\n",
              "      <td>...</td>\n",
              "      <td>0</td>\n",
              "      <td>0</td>\n",
              "      <td>0</td>\n",
              "      <td>0</td>\n",
              "      <td>0</td>\n",
              "      <td>0</td>\n",
              "      <td>0</td>\n",
              "      <td>0</td>\n",
              "      <td>0</td>\n",
              "      <td>0</td>\n",
              "    </tr>\n",
              "    <tr>\n",
              "      <th>1</th>\n",
              "      <td>1045</td>\n",
              "      <td>20211231</td>\n",
              "      <td>2021</td>\n",
              "      <td>INDL</td>\n",
              "      <td>C</td>\n",
              "      <td>D</td>\n",
              "      <td>STD</td>\n",
              "      <td>AAL</td>\n",
              "      <td>USD</td>\n",
              "      <td>A</td>\n",
              "      <td>...</td>\n",
              "      <td>0</td>\n",
              "      <td>0</td>\n",
              "      <td>0</td>\n",
              "      <td>0</td>\n",
              "      <td>0</td>\n",
              "      <td>0</td>\n",
              "      <td>0</td>\n",
              "      <td>0</td>\n",
              "      <td>0</td>\n",
              "      <td>0</td>\n",
              "    </tr>\n",
              "    <tr>\n",
              "      <th>2</th>\n",
              "      <td>1075</td>\n",
              "      <td>20211231</td>\n",
              "      <td>2021</td>\n",
              "      <td>INDL</td>\n",
              "      <td>C</td>\n",
              "      <td>D</td>\n",
              "      <td>STD</td>\n",
              "      <td>PNW</td>\n",
              "      <td>USD</td>\n",
              "      <td>A</td>\n",
              "      <td>...</td>\n",
              "      <td>0</td>\n",
              "      <td>0</td>\n",
              "      <td>0</td>\n",
              "      <td>0</td>\n",
              "      <td>0</td>\n",
              "      <td>0</td>\n",
              "      <td>0</td>\n",
              "      <td>0</td>\n",
              "      <td>1</td>\n",
              "      <td>0</td>\n",
              "    </tr>\n",
              "    <tr>\n",
              "      <th>3</th>\n",
              "      <td>1078</td>\n",
              "      <td>20211231</td>\n",
              "      <td>2021</td>\n",
              "      <td>INDL</td>\n",
              "      <td>C</td>\n",
              "      <td>D</td>\n",
              "      <td>STD</td>\n",
              "      <td>ABT</td>\n",
              "      <td>USD</td>\n",
              "      <td>A</td>\n",
              "      <td>...</td>\n",
              "      <td>0</td>\n",
              "      <td>0</td>\n",
              "      <td>0</td>\n",
              "      <td>0</td>\n",
              "      <td>0</td>\n",
              "      <td>0</td>\n",
              "      <td>0</td>\n",
              "      <td>0</td>\n",
              "      <td>0</td>\n",
              "      <td>0</td>\n",
              "    </tr>\n",
              "    <tr>\n",
              "      <th>4</th>\n",
              "      <td>1161</td>\n",
              "      <td>20211231</td>\n",
              "      <td>2021</td>\n",
              "      <td>INDL</td>\n",
              "      <td>C</td>\n",
              "      <td>D</td>\n",
              "      <td>STD</td>\n",
              "      <td>AMD</td>\n",
              "      <td>USD</td>\n",
              "      <td>A</td>\n",
              "      <td>...</td>\n",
              "      <td>0</td>\n",
              "      <td>0</td>\n",
              "      <td>0</td>\n",
              "      <td>0</td>\n",
              "      <td>0</td>\n",
              "      <td>1</td>\n",
              "      <td>0</td>\n",
              "      <td>0</td>\n",
              "      <td>0</td>\n",
              "      <td>0</td>\n",
              "    </tr>\n",
              "  </tbody>\n",
              "</table>\n",
              "<p>5 rows × 34 columns</p>\n",
              "</div>\n",
              "      <button class=\"colab-df-convert\" onclick=\"convertToInteractive('df-bc1d879d-6dad-4a2f-b851-c34426c521c6')\"\n",
              "              title=\"Convert this dataframe to an interactive table.\"\n",
              "              style=\"display:none;\">\n",
              "        \n",
              "  <svg xmlns=\"http://www.w3.org/2000/svg\" height=\"24px\"viewBox=\"0 0 24 24\"\n",
              "       width=\"24px\">\n",
              "    <path d=\"M0 0h24v24H0V0z\" fill=\"none\"/>\n",
              "    <path d=\"M18.56 5.44l.94 2.06.94-2.06 2.06-.94-2.06-.94-.94-2.06-.94 2.06-2.06.94zm-11 1L8.5 8.5l.94-2.06 2.06-.94-2.06-.94L8.5 2.5l-.94 2.06-2.06.94zm10 10l.94 2.06.94-2.06 2.06-.94-2.06-.94-.94-2.06-.94 2.06-2.06.94z\"/><path d=\"M17.41 7.96l-1.37-1.37c-.4-.4-.92-.59-1.43-.59-.52 0-1.04.2-1.43.59L10.3 9.45l-7.72 7.72c-.78.78-.78 2.05 0 2.83L4 21.41c.39.39.9.59 1.41.59.51 0 1.02-.2 1.41-.59l7.78-7.78 2.81-2.81c.8-.78.8-2.07 0-2.86zM5.41 20L4 18.59l7.72-7.72 1.47 1.35L5.41 20z\"/>\n",
              "  </svg>\n",
              "      </button>\n",
              "      \n",
              "  <style>\n",
              "    .colab-df-container {\n",
              "      display:flex;\n",
              "      flex-wrap:wrap;\n",
              "      gap: 12px;\n",
              "    }\n",
              "\n",
              "    .colab-df-convert {\n",
              "      background-color: #E8F0FE;\n",
              "      border: none;\n",
              "      border-radius: 50%;\n",
              "      cursor: pointer;\n",
              "      display: none;\n",
              "      fill: #1967D2;\n",
              "      height: 32px;\n",
              "      padding: 0 0 0 0;\n",
              "      width: 32px;\n",
              "    }\n",
              "\n",
              "    .colab-df-convert:hover {\n",
              "      background-color: #E2EBFA;\n",
              "      box-shadow: 0px 1px 2px rgba(60, 64, 67, 0.3), 0px 1px 3px 1px rgba(60, 64, 67, 0.15);\n",
              "      fill: #174EA6;\n",
              "    }\n",
              "\n",
              "    [theme=dark] .colab-df-convert {\n",
              "      background-color: #3B4455;\n",
              "      fill: #D2E3FC;\n",
              "    }\n",
              "\n",
              "    [theme=dark] .colab-df-convert:hover {\n",
              "      background-color: #434B5C;\n",
              "      box-shadow: 0px 1px 3px 1px rgba(0, 0, 0, 0.15);\n",
              "      filter: drop-shadow(0px 1px 2px rgba(0, 0, 0, 0.3));\n",
              "      fill: #FFFFFF;\n",
              "    }\n",
              "  </style>\n",
              "\n",
              "      <script>\n",
              "        const buttonEl =\n",
              "          document.querySelector('#df-bc1d879d-6dad-4a2f-b851-c34426c521c6 button.colab-df-convert');\n",
              "        buttonEl.style.display =\n",
              "          google.colab.kernel.accessAllowed ? 'block' : 'none';\n",
              "\n",
              "        async function convertToInteractive(key) {\n",
              "          const element = document.querySelector('#df-bc1d879d-6dad-4a2f-b851-c34426c521c6');\n",
              "          const dataTable =\n",
              "            await google.colab.kernel.invokeFunction('convertToInteractive',\n",
              "                                                     [key], {});\n",
              "          if (!dataTable) return;\n",
              "\n",
              "          const docLinkHtml = 'Like what you see? Visit the ' +\n",
              "            '<a target=\"_blank\" href=https://colab.research.google.com/notebooks/data_table.ipynb>data table notebook</a>'\n",
              "            + ' to learn more about interactive tables.';\n",
              "          element.innerHTML = '';\n",
              "          dataTable['output_type'] = 'display_data';\n",
              "          await google.colab.output.renderOutput(dataTable, element);\n",
              "          const docLink = document.createElement('div');\n",
              "          docLink.innerHTML = docLinkHtml;\n",
              "          element.appendChild(docLink);\n",
              "        }\n",
              "      </script>\n",
              "    </div>\n",
              "  </div>\n",
              "  "
            ]
          },
          "metadata": {},
          "execution_count": 69
        }
      ]
    },
    {
      "cell_type": "code",
      "source": [
        "industry_indentifier.info()"
      ],
      "metadata": {
        "colab": {
          "base_uri": "https://localhost:8080/"
        },
        "id": "IGT1QRnWUQb6",
        "outputId": "f1df63ea-b1ec-4106-978a-948e423b57aa"
      },
      "execution_count": 70,
      "outputs": [
        {
          "output_type": "stream",
          "name": "stdout",
          "text": [
            "<class 'pandas.core.frame.DataFrame'>\n",
            "RangeIndex: 1886 entries, 0 to 1885\n",
            "Data columns (total 34 columns):\n",
            " #   Column       Non-Null Count  Dtype \n",
            "---  ------       --------------  ----- \n",
            " 0   gvkey        1886 non-null   int64 \n",
            " 1   datadate     1886 non-null   int64 \n",
            " 2   fyear        1886 non-null   int64 \n",
            " 3   indfmt       1886 non-null   object\n",
            " 4   consol       1886 non-null   object\n",
            " 5   popsrc       1886 non-null   object\n",
            " 6   datafmt      1886 non-null   object\n",
            " 7   tic          1886 non-null   object\n",
            " 8   curcd        1886 non-null   object\n",
            " 9   costat       1886 non-null   object\n",
            " 10  ggroup_1010  1886 non-null   uint8 \n",
            " 11  ggroup_1510  1886 non-null   uint8 \n",
            " 12  ggroup_2010  1886 non-null   uint8 \n",
            " 13  ggroup_2020  1886 non-null   uint8 \n",
            " 14  ggroup_2030  1886 non-null   uint8 \n",
            " 15  ggroup_2510  1886 non-null   uint8 \n",
            " 16  ggroup_2520  1886 non-null   uint8 \n",
            " 17  ggroup_2530  1886 non-null   uint8 \n",
            " 18  ggroup_2550  1886 non-null   uint8 \n",
            " 19  ggroup_3010  1886 non-null   uint8 \n",
            " 20  ggroup_3020  1886 non-null   uint8 \n",
            " 21  ggroup_3030  1886 non-null   uint8 \n",
            " 22  ggroup_3510  1886 non-null   uint8 \n",
            " 23  ggroup_3520  1886 non-null   uint8 \n",
            " 24  ggroup_4010  1886 non-null   uint8 \n",
            " 25  ggroup_4020  1886 non-null   uint8 \n",
            " 26  ggroup_4030  1886 non-null   uint8 \n",
            " 27  ggroup_4510  1886 non-null   uint8 \n",
            " 28  ggroup_4520  1886 non-null   uint8 \n",
            " 29  ggroup_4530  1886 non-null   uint8 \n",
            " 30  ggroup_5010  1886 non-null   uint8 \n",
            " 31  ggroup_5020  1886 non-null   uint8 \n",
            " 32  ggroup_5510  1886 non-null   uint8 \n",
            " 33  ggroup_6010  1886 non-null   uint8 \n",
            "dtypes: int64(3), object(7), uint8(24)\n",
            "memory usage: 191.7+ KB\n"
          ]
        }
      ]
    },
    {
      "cell_type": "markdown",
      "source": [
        "## Industry Indicator Output"
      ],
      "metadata": {
        "id": "_bvgv2RdUlsn"
      }
    },
    {
      "cell_type": "code",
      "source": [
        "industry_indentifier.columns"
      ],
      "metadata": {
        "colab": {
          "base_uri": "https://localhost:8080/"
        },
        "id": "iz8TuRHDUQxj",
        "outputId": "715c418c-9433-4253-9077-4c6afc104c73"
      },
      "execution_count": 71,
      "outputs": [
        {
          "output_type": "execute_result",
          "data": {
            "text/plain": [
              "Index(['gvkey', 'datadate', 'fyear', 'indfmt', 'consol', 'popsrc', 'datafmt',\n",
              "       'tic', 'curcd', 'costat', 'ggroup_1010', 'ggroup_1510', 'ggroup_2010',\n",
              "       'ggroup_2020', 'ggroup_2030', 'ggroup_2510', 'ggroup_2520',\n",
              "       'ggroup_2530', 'ggroup_2550', 'ggroup_3010', 'ggroup_3020',\n",
              "       'ggroup_3030', 'ggroup_3510', 'ggroup_3520', 'ggroup_4010',\n",
              "       'ggroup_4020', 'ggroup_4030', 'ggroup_4510', 'ggroup_4520',\n",
              "       'ggroup_4530', 'ggroup_5010', 'ggroup_5020', 'ggroup_5510',\n",
              "       'ggroup_6010'],\n",
              "      dtype='object')"
            ]
          },
          "metadata": {},
          "execution_count": 71
        }
      ]
    },
    {
      "cell_type": "code",
      "source": [
        "# ticker symbol & industry indicators\n",
        "industry_indicator_output = industry_indentifier[['tic', \n",
        "       'ggroup_1010', 'ggroup_1510', 'ggroup_2010',\n",
        "       'ggroup_2020', 'ggroup_2030', 'ggroup_2510', 'ggroup_2520',\n",
        "       'ggroup_2530', 'ggroup_2550', 'ggroup_3010', 'ggroup_3020',\n",
        "       'ggroup_3030', 'ggroup_3510', 'ggroup_3520', 'ggroup_4010',\n",
        "       'ggroup_4020', 'ggroup_4030', 'ggroup_4510', 'ggroup_4520',\n",
        "       'ggroup_4530', 'ggroup_5010', 'ggroup_5020', 'ggroup_5510',\n",
        "       'ggroup_6010']]\n",
        "\n",
        "industry_indicator_output.head()"
      ],
      "metadata": {
        "colab": {
          "base_uri": "https://localhost:8080/",
          "height": 299
        },
        "id": "t_dK7KqwUskr",
        "outputId": "fac83ab7-9f43-46b7-ce03-d02b0822117d"
      },
      "execution_count": 72,
      "outputs": [
        {
          "output_type": "execute_result",
          "data": {
            "text/plain": [
              "   tic  ggroup_1010  ggroup_1510  ggroup_2010  ggroup_2020  ggroup_2030  \\\n",
              "0  AIR            0            0            1            0            0   \n",
              "1  AAL            0            0            0            0            1   \n",
              "2  PNW            0            0            0            0            0   \n",
              "3  ABT            0            0            0            0            0   \n",
              "4  AMD            0            0            0            0            0   \n",
              "\n",
              "   ggroup_2510  ggroup_2520  ggroup_2530  ggroup_2550  ...  ggroup_4010  \\\n",
              "0            0            0            0            0  ...            0   \n",
              "1            0            0            0            0  ...            0   \n",
              "2            0            0            0            0  ...            0   \n",
              "3            0            0            0            0  ...            0   \n",
              "4            0            0            0            0  ...            0   \n",
              "\n",
              "   ggroup_4020  ggroup_4030  ggroup_4510  ggroup_4520  ggroup_4530  \\\n",
              "0            0            0            0            0            0   \n",
              "1            0            0            0            0            0   \n",
              "2            0            0            0            0            0   \n",
              "3            0            0            0            0            0   \n",
              "4            0            0            0            0            1   \n",
              "\n",
              "   ggroup_5010  ggroup_5020  ggroup_5510  ggroup_6010  \n",
              "0            0            0            0            0  \n",
              "1            0            0            0            0  \n",
              "2            0            0            1            0  \n",
              "3            0            0            0            0  \n",
              "4            0            0            0            0  \n",
              "\n",
              "[5 rows x 25 columns]"
            ],
            "text/html": [
              "\n",
              "  <div id=\"df-8dc84ee0-ed4c-4f5b-93ca-c3583c7ce678\">\n",
              "    <div class=\"colab-df-container\">\n",
              "      <div>\n",
              "<style scoped>\n",
              "    .dataframe tbody tr th:only-of-type {\n",
              "        vertical-align: middle;\n",
              "    }\n",
              "\n",
              "    .dataframe tbody tr th {\n",
              "        vertical-align: top;\n",
              "    }\n",
              "\n",
              "    .dataframe thead th {\n",
              "        text-align: right;\n",
              "    }\n",
              "</style>\n",
              "<table border=\"1\" class=\"dataframe\">\n",
              "  <thead>\n",
              "    <tr style=\"text-align: right;\">\n",
              "      <th></th>\n",
              "      <th>tic</th>\n",
              "      <th>ggroup_1010</th>\n",
              "      <th>ggroup_1510</th>\n",
              "      <th>ggroup_2010</th>\n",
              "      <th>ggroup_2020</th>\n",
              "      <th>ggroup_2030</th>\n",
              "      <th>ggroup_2510</th>\n",
              "      <th>ggroup_2520</th>\n",
              "      <th>ggroup_2530</th>\n",
              "      <th>ggroup_2550</th>\n",
              "      <th>...</th>\n",
              "      <th>ggroup_4010</th>\n",
              "      <th>ggroup_4020</th>\n",
              "      <th>ggroup_4030</th>\n",
              "      <th>ggroup_4510</th>\n",
              "      <th>ggroup_4520</th>\n",
              "      <th>ggroup_4530</th>\n",
              "      <th>ggroup_5010</th>\n",
              "      <th>ggroup_5020</th>\n",
              "      <th>ggroup_5510</th>\n",
              "      <th>ggroup_6010</th>\n",
              "    </tr>\n",
              "  </thead>\n",
              "  <tbody>\n",
              "    <tr>\n",
              "      <th>0</th>\n",
              "      <td>AIR</td>\n",
              "      <td>0</td>\n",
              "      <td>0</td>\n",
              "      <td>1</td>\n",
              "      <td>0</td>\n",
              "      <td>0</td>\n",
              "      <td>0</td>\n",
              "      <td>0</td>\n",
              "      <td>0</td>\n",
              "      <td>0</td>\n",
              "      <td>...</td>\n",
              "      <td>0</td>\n",
              "      <td>0</td>\n",
              "      <td>0</td>\n",
              "      <td>0</td>\n",
              "      <td>0</td>\n",
              "      <td>0</td>\n",
              "      <td>0</td>\n",
              "      <td>0</td>\n",
              "      <td>0</td>\n",
              "      <td>0</td>\n",
              "    </tr>\n",
              "    <tr>\n",
              "      <th>1</th>\n",
              "      <td>AAL</td>\n",
              "      <td>0</td>\n",
              "      <td>0</td>\n",
              "      <td>0</td>\n",
              "      <td>0</td>\n",
              "      <td>1</td>\n",
              "      <td>0</td>\n",
              "      <td>0</td>\n",
              "      <td>0</td>\n",
              "      <td>0</td>\n",
              "      <td>...</td>\n",
              "      <td>0</td>\n",
              "      <td>0</td>\n",
              "      <td>0</td>\n",
              "      <td>0</td>\n",
              "      <td>0</td>\n",
              "      <td>0</td>\n",
              "      <td>0</td>\n",
              "      <td>0</td>\n",
              "      <td>0</td>\n",
              "      <td>0</td>\n",
              "    </tr>\n",
              "    <tr>\n",
              "      <th>2</th>\n",
              "      <td>PNW</td>\n",
              "      <td>0</td>\n",
              "      <td>0</td>\n",
              "      <td>0</td>\n",
              "      <td>0</td>\n",
              "      <td>0</td>\n",
              "      <td>0</td>\n",
              "      <td>0</td>\n",
              "      <td>0</td>\n",
              "      <td>0</td>\n",
              "      <td>...</td>\n",
              "      <td>0</td>\n",
              "      <td>0</td>\n",
              "      <td>0</td>\n",
              "      <td>0</td>\n",
              "      <td>0</td>\n",
              "      <td>0</td>\n",
              "      <td>0</td>\n",
              "      <td>0</td>\n",
              "      <td>1</td>\n",
              "      <td>0</td>\n",
              "    </tr>\n",
              "    <tr>\n",
              "      <th>3</th>\n",
              "      <td>ABT</td>\n",
              "      <td>0</td>\n",
              "      <td>0</td>\n",
              "      <td>0</td>\n",
              "      <td>0</td>\n",
              "      <td>0</td>\n",
              "      <td>0</td>\n",
              "      <td>0</td>\n",
              "      <td>0</td>\n",
              "      <td>0</td>\n",
              "      <td>...</td>\n",
              "      <td>0</td>\n",
              "      <td>0</td>\n",
              "      <td>0</td>\n",
              "      <td>0</td>\n",
              "      <td>0</td>\n",
              "      <td>0</td>\n",
              "      <td>0</td>\n",
              "      <td>0</td>\n",
              "      <td>0</td>\n",
              "      <td>0</td>\n",
              "    </tr>\n",
              "    <tr>\n",
              "      <th>4</th>\n",
              "      <td>AMD</td>\n",
              "      <td>0</td>\n",
              "      <td>0</td>\n",
              "      <td>0</td>\n",
              "      <td>0</td>\n",
              "      <td>0</td>\n",
              "      <td>0</td>\n",
              "      <td>0</td>\n",
              "      <td>0</td>\n",
              "      <td>0</td>\n",
              "      <td>...</td>\n",
              "      <td>0</td>\n",
              "      <td>0</td>\n",
              "      <td>0</td>\n",
              "      <td>0</td>\n",
              "      <td>0</td>\n",
              "      <td>1</td>\n",
              "      <td>0</td>\n",
              "      <td>0</td>\n",
              "      <td>0</td>\n",
              "      <td>0</td>\n",
              "    </tr>\n",
              "  </tbody>\n",
              "</table>\n",
              "<p>5 rows × 25 columns</p>\n",
              "</div>\n",
              "      <button class=\"colab-df-convert\" onclick=\"convertToInteractive('df-8dc84ee0-ed4c-4f5b-93ca-c3583c7ce678')\"\n",
              "              title=\"Convert this dataframe to an interactive table.\"\n",
              "              style=\"display:none;\">\n",
              "        \n",
              "  <svg xmlns=\"http://www.w3.org/2000/svg\" height=\"24px\"viewBox=\"0 0 24 24\"\n",
              "       width=\"24px\">\n",
              "    <path d=\"M0 0h24v24H0V0z\" fill=\"none\"/>\n",
              "    <path d=\"M18.56 5.44l.94 2.06.94-2.06 2.06-.94-2.06-.94-.94-2.06-.94 2.06-2.06.94zm-11 1L8.5 8.5l.94-2.06 2.06-.94-2.06-.94L8.5 2.5l-.94 2.06-2.06.94zm10 10l.94 2.06.94-2.06 2.06-.94-2.06-.94-.94-2.06-.94 2.06-2.06.94z\"/><path d=\"M17.41 7.96l-1.37-1.37c-.4-.4-.92-.59-1.43-.59-.52 0-1.04.2-1.43.59L10.3 9.45l-7.72 7.72c-.78.78-.78 2.05 0 2.83L4 21.41c.39.39.9.59 1.41.59.51 0 1.02-.2 1.41-.59l7.78-7.78 2.81-2.81c.8-.78.8-2.07 0-2.86zM5.41 20L4 18.59l7.72-7.72 1.47 1.35L5.41 20z\"/>\n",
              "  </svg>\n",
              "      </button>\n",
              "      \n",
              "  <style>\n",
              "    .colab-df-container {\n",
              "      display:flex;\n",
              "      flex-wrap:wrap;\n",
              "      gap: 12px;\n",
              "    }\n",
              "\n",
              "    .colab-df-convert {\n",
              "      background-color: #E8F0FE;\n",
              "      border: none;\n",
              "      border-radius: 50%;\n",
              "      cursor: pointer;\n",
              "      display: none;\n",
              "      fill: #1967D2;\n",
              "      height: 32px;\n",
              "      padding: 0 0 0 0;\n",
              "      width: 32px;\n",
              "    }\n",
              "\n",
              "    .colab-df-convert:hover {\n",
              "      background-color: #E2EBFA;\n",
              "      box-shadow: 0px 1px 2px rgba(60, 64, 67, 0.3), 0px 1px 3px 1px rgba(60, 64, 67, 0.15);\n",
              "      fill: #174EA6;\n",
              "    }\n",
              "\n",
              "    [theme=dark] .colab-df-convert {\n",
              "      background-color: #3B4455;\n",
              "      fill: #D2E3FC;\n",
              "    }\n",
              "\n",
              "    [theme=dark] .colab-df-convert:hover {\n",
              "      background-color: #434B5C;\n",
              "      box-shadow: 0px 1px 3px 1px rgba(0, 0, 0, 0.15);\n",
              "      filter: drop-shadow(0px 1px 2px rgba(0, 0, 0, 0.3));\n",
              "      fill: #FFFFFF;\n",
              "    }\n",
              "  </style>\n",
              "\n",
              "      <script>\n",
              "        const buttonEl =\n",
              "          document.querySelector('#df-8dc84ee0-ed4c-4f5b-93ca-c3583c7ce678 button.colab-df-convert');\n",
              "        buttonEl.style.display =\n",
              "          google.colab.kernel.accessAllowed ? 'block' : 'none';\n",
              "\n",
              "        async function convertToInteractive(key) {\n",
              "          const element = document.querySelector('#df-8dc84ee0-ed4c-4f5b-93ca-c3583c7ce678');\n",
              "          const dataTable =\n",
              "            await google.colab.kernel.invokeFunction('convertToInteractive',\n",
              "                                                     [key], {});\n",
              "          if (!dataTable) return;\n",
              "\n",
              "          const docLinkHtml = 'Like what you see? Visit the ' +\n",
              "            '<a target=\"_blank\" href=https://colab.research.google.com/notebooks/data_table.ipynb>data table notebook</a>'\n",
              "            + ' to learn more about interactive tables.';\n",
              "          element.innerHTML = '';\n",
              "          dataTable['output_type'] = 'display_data';\n",
              "          await google.colab.output.renderOutput(dataTable, element);\n",
              "          const docLink = document.createElement('div');\n",
              "          docLink.innerHTML = docLinkHtml;\n",
              "          element.appendChild(docLink);\n",
              "        }\n",
              "      </script>\n",
              "    </div>\n",
              "  </div>\n",
              "  "
            ]
          },
          "metadata": {},
          "execution_count": 72
        }
      ]
    },
    {
      "cell_type": "code",
      "source": [
        "industry_indicator_output.info()"
      ],
      "metadata": {
        "colab": {
          "base_uri": "https://localhost:8080/"
        },
        "id": "x_Tm4xU2U6Lh",
        "outputId": "ae77f5aa-ab4b-4304-d1d8-aae5453aa5ed"
      },
      "execution_count": 73,
      "outputs": [
        {
          "output_type": "stream",
          "name": "stdout",
          "text": [
            "<class 'pandas.core.frame.DataFrame'>\n",
            "RangeIndex: 1886 entries, 0 to 1885\n",
            "Data columns (total 25 columns):\n",
            " #   Column       Non-Null Count  Dtype \n",
            "---  ------       --------------  ----- \n",
            " 0   tic          1886 non-null   object\n",
            " 1   ggroup_1010  1886 non-null   uint8 \n",
            " 2   ggroup_1510  1886 non-null   uint8 \n",
            " 3   ggroup_2010  1886 non-null   uint8 \n",
            " 4   ggroup_2020  1886 non-null   uint8 \n",
            " 5   ggroup_2030  1886 non-null   uint8 \n",
            " 6   ggroup_2510  1886 non-null   uint8 \n",
            " 7   ggroup_2520  1886 non-null   uint8 \n",
            " 8   ggroup_2530  1886 non-null   uint8 \n",
            " 9   ggroup_2550  1886 non-null   uint8 \n",
            " 10  ggroup_3010  1886 non-null   uint8 \n",
            " 11  ggroup_3020  1886 non-null   uint8 \n",
            " 12  ggroup_3030  1886 non-null   uint8 \n",
            " 13  ggroup_3510  1886 non-null   uint8 \n",
            " 14  ggroup_3520  1886 non-null   uint8 \n",
            " 15  ggroup_4010  1886 non-null   uint8 \n",
            " 16  ggroup_4020  1886 non-null   uint8 \n",
            " 17  ggroup_4030  1886 non-null   uint8 \n",
            " 18  ggroup_4510  1886 non-null   uint8 \n",
            " 19  ggroup_4520  1886 non-null   uint8 \n",
            " 20  ggroup_4530  1886 non-null   uint8 \n",
            " 21  ggroup_5010  1886 non-null   uint8 \n",
            " 22  ggroup_5020  1886 non-null   uint8 \n",
            " 23  ggroup_5510  1886 non-null   uint8 \n",
            " 24  ggroup_6010  1886 non-null   uint8 \n",
            "dtypes: object(1), uint8(24)\n",
            "memory usage: 59.1+ KB\n"
          ]
        }
      ]
    },
    {
      "cell_type": "code",
      "source": [
        "# output to csv\n",
        "industry_indicator_output.to_csv('Industry.csv')"
      ],
      "metadata": {
        "id": "VqCUzBMBU_sG"
      },
      "execution_count": 74,
      "outputs": []
    },
    {
      "cell_type": "markdown",
      "source": [
        "# Step 5: Run OLS explanatory for 4 categories:"
      ],
      "metadata": {
        "id": "JIn76qyiDW3A"
      }
    },
    {
      "cell_type": "markdown",
      "source": [
        "## a. Risk Regressions:\n",
        "i. Ret(i) = a + b1*MktExposure(i) + b2*SizeExposure(i) +\n",
        "b3*ValueExposure(i) + e\n",
        "\n",
        "ii. Interpret and explain your findings (focus on R2, Adj R2 and\n",
        "coefficients)"
      ],
      "metadata": {
        "id": "NXaqY0XyDlUz"
      }
    },
    {
      "cell_type": "markdown",
      "source": [
        "### Merge Datasets"
      ],
      "metadata": {
        "id": "6FXNbfIsWgim"
      }
    },
    {
      "cell_type": "code",
      "source": [
        "risk_regression_data = data.merge(risk_exposure_output, left_on='Ticker', right_on = 'TICKER', how = 'inner')"
      ],
      "metadata": {
        "id": "nPB9fWyPDb9E"
      },
      "execution_count": 75,
      "outputs": []
    },
    {
      "cell_type": "code",
      "source": [
        "risk_regression_data.head()"
      ],
      "metadata": {
        "colab": {
          "base_uri": "https://localhost:8080/",
          "height": 206
        },
        "id": "i0z2yhJcEJfQ",
        "outputId": "20bb2cd8-5f28-49f9-ae1f-faa22421f5c8"
      },
      "execution_count": 76,
      "outputs": [
        {
          "output_type": "execute_result",
          "data": {
            "text/plain": [
              "  Ticker                     Name   RetYTD TICKER     mktrf       smb  \\\n",
              "0      A     Agilent Technologies  -0.2080      A  1.014152 -0.253674   \n",
              "1     AA               Alcoa Corp   0.4731     AA  1.984149  0.527862   \n",
              "2    AAL     American Airlines Gp   0.0579    AAL  1.315550  0.612825   \n",
              "3    AAN  Aarons Holdings Company  -0.1327    AAN  1.643201  0.171044   \n",
              "4   AAON                 Aaon Inc  -0.3456   AAON  0.516779  0.422130   \n",
              "\n",
              "        hml  \n",
              "0 -0.143608  \n",
              "1  1.924844  \n",
              "2  1.248123  \n",
              "3  0.833796  \n",
              "4 -0.117068  "
            ],
            "text/html": [
              "\n",
              "  <div id=\"df-f7f2fffe-5ac3-459f-86e6-8f140cbdaae5\">\n",
              "    <div class=\"colab-df-container\">\n",
              "      <div>\n",
              "<style scoped>\n",
              "    .dataframe tbody tr th:only-of-type {\n",
              "        vertical-align: middle;\n",
              "    }\n",
              "\n",
              "    .dataframe tbody tr th {\n",
              "        vertical-align: top;\n",
              "    }\n",
              "\n",
              "    .dataframe thead th {\n",
              "        text-align: right;\n",
              "    }\n",
              "</style>\n",
              "<table border=\"1\" class=\"dataframe\">\n",
              "  <thead>\n",
              "    <tr style=\"text-align: right;\">\n",
              "      <th></th>\n",
              "      <th>Ticker</th>\n",
              "      <th>Name</th>\n",
              "      <th>RetYTD</th>\n",
              "      <th>TICKER</th>\n",
              "      <th>mktrf</th>\n",
              "      <th>smb</th>\n",
              "      <th>hml</th>\n",
              "    </tr>\n",
              "  </thead>\n",
              "  <tbody>\n",
              "    <tr>\n",
              "      <th>0</th>\n",
              "      <td>A</td>\n",
              "      <td>Agilent Technologies</td>\n",
              "      <td>-0.2080</td>\n",
              "      <td>A</td>\n",
              "      <td>1.014152</td>\n",
              "      <td>-0.253674</td>\n",
              "      <td>-0.143608</td>\n",
              "    </tr>\n",
              "    <tr>\n",
              "      <th>1</th>\n",
              "      <td>AA</td>\n",
              "      <td>Alcoa Corp</td>\n",
              "      <td>0.4731</td>\n",
              "      <td>AA</td>\n",
              "      <td>1.984149</td>\n",
              "      <td>0.527862</td>\n",
              "      <td>1.924844</td>\n",
              "    </tr>\n",
              "    <tr>\n",
              "      <th>2</th>\n",
              "      <td>AAL</td>\n",
              "      <td>American Airlines Gp</td>\n",
              "      <td>0.0579</td>\n",
              "      <td>AAL</td>\n",
              "      <td>1.315550</td>\n",
              "      <td>0.612825</td>\n",
              "      <td>1.248123</td>\n",
              "    </tr>\n",
              "    <tr>\n",
              "      <th>3</th>\n",
              "      <td>AAN</td>\n",
              "      <td>Aarons Holdings Company</td>\n",
              "      <td>-0.1327</td>\n",
              "      <td>AAN</td>\n",
              "      <td>1.643201</td>\n",
              "      <td>0.171044</td>\n",
              "      <td>0.833796</td>\n",
              "    </tr>\n",
              "    <tr>\n",
              "      <th>4</th>\n",
              "      <td>AAON</td>\n",
              "      <td>Aaon Inc</td>\n",
              "      <td>-0.3456</td>\n",
              "      <td>AAON</td>\n",
              "      <td>0.516779</td>\n",
              "      <td>0.422130</td>\n",
              "      <td>-0.117068</td>\n",
              "    </tr>\n",
              "  </tbody>\n",
              "</table>\n",
              "</div>\n",
              "      <button class=\"colab-df-convert\" onclick=\"convertToInteractive('df-f7f2fffe-5ac3-459f-86e6-8f140cbdaae5')\"\n",
              "              title=\"Convert this dataframe to an interactive table.\"\n",
              "              style=\"display:none;\">\n",
              "        \n",
              "  <svg xmlns=\"http://www.w3.org/2000/svg\" height=\"24px\"viewBox=\"0 0 24 24\"\n",
              "       width=\"24px\">\n",
              "    <path d=\"M0 0h24v24H0V0z\" fill=\"none\"/>\n",
              "    <path d=\"M18.56 5.44l.94 2.06.94-2.06 2.06-.94-2.06-.94-.94-2.06-.94 2.06-2.06.94zm-11 1L8.5 8.5l.94-2.06 2.06-.94-2.06-.94L8.5 2.5l-.94 2.06-2.06.94zm10 10l.94 2.06.94-2.06 2.06-.94-2.06-.94-.94-2.06-.94 2.06-2.06.94z\"/><path d=\"M17.41 7.96l-1.37-1.37c-.4-.4-.92-.59-1.43-.59-.52 0-1.04.2-1.43.59L10.3 9.45l-7.72 7.72c-.78.78-.78 2.05 0 2.83L4 21.41c.39.39.9.59 1.41.59.51 0 1.02-.2 1.41-.59l7.78-7.78 2.81-2.81c.8-.78.8-2.07 0-2.86zM5.41 20L4 18.59l7.72-7.72 1.47 1.35L5.41 20z\"/>\n",
              "  </svg>\n",
              "      </button>\n",
              "      \n",
              "  <style>\n",
              "    .colab-df-container {\n",
              "      display:flex;\n",
              "      flex-wrap:wrap;\n",
              "      gap: 12px;\n",
              "    }\n",
              "\n",
              "    .colab-df-convert {\n",
              "      background-color: #E8F0FE;\n",
              "      border: none;\n",
              "      border-radius: 50%;\n",
              "      cursor: pointer;\n",
              "      display: none;\n",
              "      fill: #1967D2;\n",
              "      height: 32px;\n",
              "      padding: 0 0 0 0;\n",
              "      width: 32px;\n",
              "    }\n",
              "\n",
              "    .colab-df-convert:hover {\n",
              "      background-color: #E2EBFA;\n",
              "      box-shadow: 0px 1px 2px rgba(60, 64, 67, 0.3), 0px 1px 3px 1px rgba(60, 64, 67, 0.15);\n",
              "      fill: #174EA6;\n",
              "    }\n",
              "\n",
              "    [theme=dark] .colab-df-convert {\n",
              "      background-color: #3B4455;\n",
              "      fill: #D2E3FC;\n",
              "    }\n",
              "\n",
              "    [theme=dark] .colab-df-convert:hover {\n",
              "      background-color: #434B5C;\n",
              "      box-shadow: 0px 1px 3px 1px rgba(0, 0, 0, 0.15);\n",
              "      filter: drop-shadow(0px 1px 2px rgba(0, 0, 0, 0.3));\n",
              "      fill: #FFFFFF;\n",
              "    }\n",
              "  </style>\n",
              "\n",
              "      <script>\n",
              "        const buttonEl =\n",
              "          document.querySelector('#df-f7f2fffe-5ac3-459f-86e6-8f140cbdaae5 button.colab-df-convert');\n",
              "        buttonEl.style.display =\n",
              "          google.colab.kernel.accessAllowed ? 'block' : 'none';\n",
              "\n",
              "        async function convertToInteractive(key) {\n",
              "          const element = document.querySelector('#df-f7f2fffe-5ac3-459f-86e6-8f140cbdaae5');\n",
              "          const dataTable =\n",
              "            await google.colab.kernel.invokeFunction('convertToInteractive',\n",
              "                                                     [key], {});\n",
              "          if (!dataTable) return;\n",
              "\n",
              "          const docLinkHtml = 'Like what you see? Visit the ' +\n",
              "            '<a target=\"_blank\" href=https://colab.research.google.com/notebooks/data_table.ipynb>data table notebook</a>'\n",
              "            + ' to learn more about interactive tables.';\n",
              "          element.innerHTML = '';\n",
              "          dataTable['output_type'] = 'display_data';\n",
              "          await google.colab.output.renderOutput(dataTable, element);\n",
              "          const docLink = document.createElement('div');\n",
              "          docLink.innerHTML = docLinkHtml;\n",
              "          element.appendChild(docLink);\n",
              "        }\n",
              "      </script>\n",
              "    </div>\n",
              "  </div>\n",
              "  "
            ]
          },
          "metadata": {},
          "execution_count": 76
        }
      ]
    },
    {
      "cell_type": "code",
      "source": [
        "risk_regression_data.info()"
      ],
      "metadata": {
        "colab": {
          "base_uri": "https://localhost:8080/"
        },
        "id": "_s_bm0FGOy4G",
        "outputId": "da09edbc-0070-4186-b84a-f07e9f9af1dc"
      },
      "execution_count": 77,
      "outputs": [
        {
          "output_type": "stream",
          "name": "stdout",
          "text": [
            "<class 'pandas.core.frame.DataFrame'>\n",
            "Int64Index: 1886 entries, 0 to 1885\n",
            "Data columns (total 7 columns):\n",
            " #   Column  Non-Null Count  Dtype  \n",
            "---  ------  --------------  -----  \n",
            " 0   Ticker  1886 non-null   object \n",
            " 1   Name    1886 non-null   object \n",
            " 2   RetYTD  1886 non-null   float64\n",
            " 3   TICKER  1886 non-null   object \n",
            " 4   mktrf   1886 non-null   float64\n",
            " 5   smb     1886 non-null   float64\n",
            " 6   hml     1886 non-null   float64\n",
            "dtypes: float64(4), object(3)\n",
            "memory usage: 117.9+ KB\n"
          ]
        }
      ]
    },
    {
      "cell_type": "code",
      "source": [
        "risk_regression_data.fillna(risk_regression_data.mean(), inplace=True)"
      ],
      "metadata": {
        "id": "My-vLfr0O2Wb"
      },
      "execution_count": 78,
      "outputs": []
    },
    {
      "cell_type": "markdown",
      "source": [
        "### Regression Model\n"
      ],
      "metadata": {
        "id": "zKHlXwd4WiE7"
      }
    },
    {
      "cell_type": "code",
      "source": [
        "# split y and X\n",
        "y = risk_regression_data.RetYTD\n",
        "# X: mktrf, smb, hml\n",
        "X = risk_regression_data.iloc[:, -3:]\n",
        "# add constant\n",
        "X = sm.add_constant(X)"
      ],
      "metadata": {
        "id": "jZXyIYAGEEb0"
      },
      "execution_count": 79,
      "outputs": []
    },
    {
      "cell_type": "code",
      "source": [
        "risk_reg = sm.OLS(y, X).fit()\n",
        "risk_reg.summary()"
      ],
      "metadata": {
        "colab": {
          "base_uri": "https://localhost:8080/",
          "height": 492
        },
        "id": "uDRzrVSJEV3P",
        "outputId": "1d510ac6-6677-4ac6-8254-cb923912d693"
      },
      "execution_count": 80,
      "outputs": [
        {
          "output_type": "execute_result",
          "data": {
            "text/plain": [
              "<class 'statsmodels.iolib.summary.Summary'>\n",
              "\"\"\"\n",
              "                            OLS Regression Results                            \n",
              "==============================================================================\n",
              "Dep. Variable:                 RetYTD   R-squared:                       0.095\n",
              "Model:                            OLS   Adj. R-squared:                  0.093\n",
              "Method:                 Least Squares   F-statistic:                     65.51\n",
              "Date:                Wed, 27 Apr 2022   Prob (F-statistic):           2.73e-40\n",
              "Time:                        01:37:17   Log-Likelihood:                 79.956\n",
              "No. Observations:                1886   AIC:                            -151.9\n",
              "Df Residuals:                    1882   BIC:                            -129.7\n",
              "Df Model:                           3                                         \n",
              "Covariance Type:            nonrobust                                         \n",
              "==============================================================================\n",
              "                 coef    std err          t      P>|t|      [0.025      0.975]\n",
              "------------------------------------------------------------------------------\n",
              "const         -0.0981      0.011     -8.783      0.000      -0.120      -0.076\n",
              "mktrf          0.0082      0.009      0.957      0.339      -0.009       0.025\n",
              "smb           -0.0120      0.004     -2.736      0.006      -0.021      -0.003\n",
              "hml            0.1068      0.008     13.815      0.000       0.092       0.122\n",
              "==============================================================================\n",
              "Omnibus:                      642.181   Durbin-Watson:                   2.005\n",
              "Prob(Omnibus):                  0.000   Jarque-Bera (JB):             3599.682\n",
              "Skew:                           1.492   Prob(JB):                         0.00\n",
              "Kurtosis:                       9.074   Cond. No.                         4.56\n",
              "==============================================================================\n",
              "\n",
              "Warnings:\n",
              "[1] Standard Errors assume that the covariance matrix of the errors is correctly specified.\n",
              "\"\"\""
            ],
            "text/html": [
              "<table class=\"simpletable\">\n",
              "<caption>OLS Regression Results</caption>\n",
              "<tr>\n",
              "  <th>Dep. Variable:</th>         <td>RetYTD</td>      <th>  R-squared:         </th> <td>   0.095</td>\n",
              "</tr>\n",
              "<tr>\n",
              "  <th>Model:</th>                   <td>OLS</td>       <th>  Adj. R-squared:    </th> <td>   0.093</td>\n",
              "</tr>\n",
              "<tr>\n",
              "  <th>Method:</th>             <td>Least Squares</td>  <th>  F-statistic:       </th> <td>   65.51</td>\n",
              "</tr>\n",
              "<tr>\n",
              "  <th>Date:</th>             <td>Wed, 27 Apr 2022</td> <th>  Prob (F-statistic):</th> <td>2.73e-40</td>\n",
              "</tr>\n",
              "<tr>\n",
              "  <th>Time:</th>                 <td>01:37:17</td>     <th>  Log-Likelihood:    </th> <td>  79.956</td>\n",
              "</tr>\n",
              "<tr>\n",
              "  <th>No. Observations:</th>      <td>  1886</td>      <th>  AIC:               </th> <td>  -151.9</td>\n",
              "</tr>\n",
              "<tr>\n",
              "  <th>Df Residuals:</th>          <td>  1882</td>      <th>  BIC:               </th> <td>  -129.7</td>\n",
              "</tr>\n",
              "<tr>\n",
              "  <th>Df Model:</th>              <td>     3</td>      <th>                     </th>     <td> </td>   \n",
              "</tr>\n",
              "<tr>\n",
              "  <th>Covariance Type:</th>      <td>nonrobust</td>    <th>                     </th>     <td> </td>   \n",
              "</tr>\n",
              "</table>\n",
              "<table class=\"simpletable\">\n",
              "<tr>\n",
              "    <td></td>       <th>coef</th>     <th>std err</th>      <th>t</th>      <th>P>|t|</th>  <th>[0.025</th>    <th>0.975]</th>  \n",
              "</tr>\n",
              "<tr>\n",
              "  <th>const</th> <td>   -0.0981</td> <td>    0.011</td> <td>   -8.783</td> <td> 0.000</td> <td>   -0.120</td> <td>   -0.076</td>\n",
              "</tr>\n",
              "<tr>\n",
              "  <th>mktrf</th> <td>    0.0082</td> <td>    0.009</td> <td>    0.957</td> <td> 0.339</td> <td>   -0.009</td> <td>    0.025</td>\n",
              "</tr>\n",
              "<tr>\n",
              "  <th>smb</th>   <td>   -0.0120</td> <td>    0.004</td> <td>   -2.736</td> <td> 0.006</td> <td>   -0.021</td> <td>   -0.003</td>\n",
              "</tr>\n",
              "<tr>\n",
              "  <th>hml</th>   <td>    0.1068</td> <td>    0.008</td> <td>   13.815</td> <td> 0.000</td> <td>    0.092</td> <td>    0.122</td>\n",
              "</tr>\n",
              "</table>\n",
              "<table class=\"simpletable\">\n",
              "<tr>\n",
              "  <th>Omnibus:</th>       <td>642.181</td> <th>  Durbin-Watson:     </th> <td>   2.005</td>\n",
              "</tr>\n",
              "<tr>\n",
              "  <th>Prob(Omnibus):</th> <td> 0.000</td>  <th>  Jarque-Bera (JB):  </th> <td>3599.682</td>\n",
              "</tr>\n",
              "<tr>\n",
              "  <th>Skew:</th>          <td> 1.492</td>  <th>  Prob(JB):          </th> <td>    0.00</td>\n",
              "</tr>\n",
              "<tr>\n",
              "  <th>Kurtosis:</th>      <td> 9.074</td>  <th>  Cond. No.          </th> <td>    4.56</td>\n",
              "</tr>\n",
              "</table><br/><br/>Warnings:<br/>[1] Standard Errors assume that the covariance matrix of the errors is correctly specified."
            ]
          },
          "metadata": {},
          "execution_count": 80
        }
      ]
    },
    {
      "cell_type": "markdown",
      "source": [
        "### Interpretations\n",
        "\n",
        "With 3 risk exposure ratios (market, size, and value ones) as predictors for companies' stock return for early 2022 (January 2022 to April 2022), the r-squared of the regression model is only 0.095, with adjust r-squared as 0.093. \n",
        "\n",
        "These regression outputs indicate that risk exposure factors capture less than 10% of variance in stock return changes of early 2022, and the low correlation between our risk exposure ratios as features for the stock return prediction. The low explanatory power of three risk exposure factors can be caused by uncertainty caused by pandemic and intensity of political situations globally.\n",
        "\n",
        "For the coefs of regression model, we can interpret as the following:\n",
        "- market and value exposure of 2021 are positively correlated with stock return in early 2022, while the size exposure is negatively correlated with stock return.\n",
        "- company with less volatility than the benchmark market index (<1) in 2021 tend to gain a high stock return in early 2022.\n",
        "- company with larger size than the benchmark size index (<0) in 2021 tend to gain a high stock return in early 2022.\n",
        "- company with a good valued stock (>0) in 2021 tend to gain a high stock return in early 2022.\n",
        "\n",
        "\n",
        "Specifically:\n",
        "- 1% increase of 2021's mktrf ratio which measures the systematic risk in relation to the market, willresult a 0.82% increase in early 2022's stock return,\n",
        "- 1% unit increase of 2021's smb ratio will result a 1.20% decrease in early 2022's stock return,\n",
        "- 1% unit increase of 2021's hml ratio will result a 10.68% increase in early 2022's stock return.\n",
        "\n",
        "However, we can observe that the markert exposure risk ratio `mktrf` with p-value equals to 0.339 is not statistically significant for stock return prediction;  \n",
        "while the size and value exposure ratio `smb` and `hml` are all with a p-value less than 0.05, and the coef value falls within the corresponding 95% CI range that does not contain 0, which illustrate a statistical significance of the two predictors.\n"
      ],
      "metadata": {
        "id": "EQf5A69Ekixf"
      }
    },
    {
      "cell_type": "markdown",
      "source": [
        "## b. Financial Characteristics:\n",
        "i. Ret(i) = a + c1*Ratio1(i) + c2*Ratio2(i) + … + c10*Ratio10 (i) + e\n",
        "\n",
        "ii. Interpret and explain your findings (focus on R2, Adj R2 and\n",
        "coefficients)"
      ],
      "metadata": {
        "id": "eBVeGHMJFXBp"
      }
    },
    {
      "cell_type": "markdown",
      "source": [
        "### Merge Datasets"
      ],
      "metadata": {
        "id": "zxgZf8e5VVF5"
      }
    },
    {
      "cell_type": "code",
      "source": [
        "# merge datasets\n",
        "fin_char_data = data.merge(financial_ratio_output, left_on='Ticker', right_on = 'tic', how = 'inner')\n",
        "fin_char_data.head()"
      ],
      "metadata": {
        "colab": {
          "base_uri": "https://localhost:8080/",
          "height": 354
        },
        "id": "DfIgFNtTEnQT",
        "outputId": "c475543d-626f-4dd6-eabb-cfdf04a66a19"
      },
      "execution_count": 81,
      "outputs": [
        {
          "output_type": "execute_result",
          "data": {
            "text/plain": [
              "  Ticker                     Name   RetYTD   tic       ROA  Net Profit Margin  \\\n",
              "0      A     Agilent Technologies  -0.2080     A  0.131621           0.131621   \n",
              "1     AA               Alcoa Corp   0.4731    AA  0.138236           0.138236   \n",
              "2    AAL     American Airlines Gp   0.0579   AAL -0.082958          -0.082958   \n",
              "3    AAN  Aarons Holdings Company  -0.1327   AAN  0.109513           0.109513   \n",
              "4   AAON                 Aaon Inc  -0.3456  AAON  0.113249           0.113249   \n",
              "\n",
              "   Inventory Turnover  Dividend Payout Ratio  Dividend Yield       B/P  \\\n",
              "0            3.219277               0.195041        0.004891  0.111695   \n",
              "1            4.679448               0.044289        0.001732  0.425940   \n",
              "2           15.581616              -0.000000        0.000000 -0.630953   \n",
              "3            1.627197               0.120700        0.017377  0.940491   \n",
              "4            2.714827               0.339477        0.004781  0.111730   \n",
              "\n",
              "        E/P    EBIT/P       S/P      CF/P  1/Financial Leverage      1/ROE  \n",
              "0  0.025079  0.029204  0.130970  0.030779              0.503410   4.453719  \n",
              "1  0.039111  0.189357  1.107882  0.083875              0.310948  10.890443  \n",
              "2 -0.171320 -0.473988  2.568684  0.060516             -0.110431   3.682890  \n",
              "3  0.143967  0.206699  2.416822  0.178154              0.498289   6.532701  \n",
              "4  0.014083  0.017648  0.128111  0.014664              0.716986   7.933728  "
            ],
            "text/html": [
              "\n",
              "  <div id=\"df-7ce51bb5-641b-43c1-97fb-fc4627c350a9\">\n",
              "    <div class=\"colab-df-container\">\n",
              "      <div>\n",
              "<style scoped>\n",
              "    .dataframe tbody tr th:only-of-type {\n",
              "        vertical-align: middle;\n",
              "    }\n",
              "\n",
              "    .dataframe tbody tr th {\n",
              "        vertical-align: top;\n",
              "    }\n",
              "\n",
              "    .dataframe thead th {\n",
              "        text-align: right;\n",
              "    }\n",
              "</style>\n",
              "<table border=\"1\" class=\"dataframe\">\n",
              "  <thead>\n",
              "    <tr style=\"text-align: right;\">\n",
              "      <th></th>\n",
              "      <th>Ticker</th>\n",
              "      <th>Name</th>\n",
              "      <th>RetYTD</th>\n",
              "      <th>tic</th>\n",
              "      <th>ROA</th>\n",
              "      <th>Net Profit Margin</th>\n",
              "      <th>Inventory Turnover</th>\n",
              "      <th>Dividend Payout Ratio</th>\n",
              "      <th>Dividend Yield</th>\n",
              "      <th>B/P</th>\n",
              "      <th>E/P</th>\n",
              "      <th>EBIT/P</th>\n",
              "      <th>S/P</th>\n",
              "      <th>CF/P</th>\n",
              "      <th>1/Financial Leverage</th>\n",
              "      <th>1/ROE</th>\n",
              "    </tr>\n",
              "  </thead>\n",
              "  <tbody>\n",
              "    <tr>\n",
              "      <th>0</th>\n",
              "      <td>A</td>\n",
              "      <td>Agilent Technologies</td>\n",
              "      <td>-0.2080</td>\n",
              "      <td>A</td>\n",
              "      <td>0.131621</td>\n",
              "      <td>0.131621</td>\n",
              "      <td>3.219277</td>\n",
              "      <td>0.195041</td>\n",
              "      <td>0.004891</td>\n",
              "      <td>0.111695</td>\n",
              "      <td>0.025079</td>\n",
              "      <td>0.029204</td>\n",
              "      <td>0.130970</td>\n",
              "      <td>0.030779</td>\n",
              "      <td>0.503410</td>\n",
              "      <td>4.453719</td>\n",
              "    </tr>\n",
              "    <tr>\n",
              "      <th>1</th>\n",
              "      <td>AA</td>\n",
              "      <td>Alcoa Corp</td>\n",
              "      <td>0.4731</td>\n",
              "      <td>AA</td>\n",
              "      <td>0.138236</td>\n",
              "      <td>0.138236</td>\n",
              "      <td>4.679448</td>\n",
              "      <td>0.044289</td>\n",
              "      <td>0.001732</td>\n",
              "      <td>0.425940</td>\n",
              "      <td>0.039111</td>\n",
              "      <td>0.189357</td>\n",
              "      <td>1.107882</td>\n",
              "      <td>0.083875</td>\n",
              "      <td>0.310948</td>\n",
              "      <td>10.890443</td>\n",
              "    </tr>\n",
              "    <tr>\n",
              "      <th>2</th>\n",
              "      <td>AAL</td>\n",
              "      <td>American Airlines Gp</td>\n",
              "      <td>0.0579</td>\n",
              "      <td>AAL</td>\n",
              "      <td>-0.082958</td>\n",
              "      <td>-0.082958</td>\n",
              "      <td>15.581616</td>\n",
              "      <td>-0.000000</td>\n",
              "      <td>0.000000</td>\n",
              "      <td>-0.630953</td>\n",
              "      <td>-0.171320</td>\n",
              "      <td>-0.473988</td>\n",
              "      <td>2.568684</td>\n",
              "      <td>0.060516</td>\n",
              "      <td>-0.110431</td>\n",
              "      <td>3.682890</td>\n",
              "    </tr>\n",
              "    <tr>\n",
              "      <th>3</th>\n",
              "      <td>AAN</td>\n",
              "      <td>Aarons Holdings Company</td>\n",
              "      <td>-0.1327</td>\n",
              "      <td>AAN</td>\n",
              "      <td>0.109513</td>\n",
              "      <td>0.109513</td>\n",
              "      <td>1.627197</td>\n",
              "      <td>0.120700</td>\n",
              "      <td>0.017377</td>\n",
              "      <td>0.940491</td>\n",
              "      <td>0.143967</td>\n",
              "      <td>0.206699</td>\n",
              "      <td>2.416822</td>\n",
              "      <td>0.178154</td>\n",
              "      <td>0.498289</td>\n",
              "      <td>6.532701</td>\n",
              "    </tr>\n",
              "    <tr>\n",
              "      <th>4</th>\n",
              "      <td>AAON</td>\n",
              "      <td>Aaon Inc</td>\n",
              "      <td>-0.3456</td>\n",
              "      <td>AAON</td>\n",
              "      <td>0.113249</td>\n",
              "      <td>0.113249</td>\n",
              "      <td>2.714827</td>\n",
              "      <td>0.339477</td>\n",
              "      <td>0.004781</td>\n",
              "      <td>0.111730</td>\n",
              "      <td>0.014083</td>\n",
              "      <td>0.017648</td>\n",
              "      <td>0.128111</td>\n",
              "      <td>0.014664</td>\n",
              "      <td>0.716986</td>\n",
              "      <td>7.933728</td>\n",
              "    </tr>\n",
              "  </tbody>\n",
              "</table>\n",
              "</div>\n",
              "      <button class=\"colab-df-convert\" onclick=\"convertToInteractive('df-7ce51bb5-641b-43c1-97fb-fc4627c350a9')\"\n",
              "              title=\"Convert this dataframe to an interactive table.\"\n",
              "              style=\"display:none;\">\n",
              "        \n",
              "  <svg xmlns=\"http://www.w3.org/2000/svg\" height=\"24px\"viewBox=\"0 0 24 24\"\n",
              "       width=\"24px\">\n",
              "    <path d=\"M0 0h24v24H0V0z\" fill=\"none\"/>\n",
              "    <path d=\"M18.56 5.44l.94 2.06.94-2.06 2.06-.94-2.06-.94-.94-2.06-.94 2.06-2.06.94zm-11 1L8.5 8.5l.94-2.06 2.06-.94-2.06-.94L8.5 2.5l-.94 2.06-2.06.94zm10 10l.94 2.06.94-2.06 2.06-.94-2.06-.94-.94-2.06-.94 2.06-2.06.94z\"/><path d=\"M17.41 7.96l-1.37-1.37c-.4-.4-.92-.59-1.43-.59-.52 0-1.04.2-1.43.59L10.3 9.45l-7.72 7.72c-.78.78-.78 2.05 0 2.83L4 21.41c.39.39.9.59 1.41.59.51 0 1.02-.2 1.41-.59l7.78-7.78 2.81-2.81c.8-.78.8-2.07 0-2.86zM5.41 20L4 18.59l7.72-7.72 1.47 1.35L5.41 20z\"/>\n",
              "  </svg>\n",
              "      </button>\n",
              "      \n",
              "  <style>\n",
              "    .colab-df-container {\n",
              "      display:flex;\n",
              "      flex-wrap:wrap;\n",
              "      gap: 12px;\n",
              "    }\n",
              "\n",
              "    .colab-df-convert {\n",
              "      background-color: #E8F0FE;\n",
              "      border: none;\n",
              "      border-radius: 50%;\n",
              "      cursor: pointer;\n",
              "      display: none;\n",
              "      fill: #1967D2;\n",
              "      height: 32px;\n",
              "      padding: 0 0 0 0;\n",
              "      width: 32px;\n",
              "    }\n",
              "\n",
              "    .colab-df-convert:hover {\n",
              "      background-color: #E2EBFA;\n",
              "      box-shadow: 0px 1px 2px rgba(60, 64, 67, 0.3), 0px 1px 3px 1px rgba(60, 64, 67, 0.15);\n",
              "      fill: #174EA6;\n",
              "    }\n",
              "\n",
              "    [theme=dark] .colab-df-convert {\n",
              "      background-color: #3B4455;\n",
              "      fill: #D2E3FC;\n",
              "    }\n",
              "\n",
              "    [theme=dark] .colab-df-convert:hover {\n",
              "      background-color: #434B5C;\n",
              "      box-shadow: 0px 1px 3px 1px rgba(0, 0, 0, 0.15);\n",
              "      filter: drop-shadow(0px 1px 2px rgba(0, 0, 0, 0.3));\n",
              "      fill: #FFFFFF;\n",
              "    }\n",
              "  </style>\n",
              "\n",
              "      <script>\n",
              "        const buttonEl =\n",
              "          document.querySelector('#df-7ce51bb5-641b-43c1-97fb-fc4627c350a9 button.colab-df-convert');\n",
              "        buttonEl.style.display =\n",
              "          google.colab.kernel.accessAllowed ? 'block' : 'none';\n",
              "\n",
              "        async function convertToInteractive(key) {\n",
              "          const element = document.querySelector('#df-7ce51bb5-641b-43c1-97fb-fc4627c350a9');\n",
              "          const dataTable =\n",
              "            await google.colab.kernel.invokeFunction('convertToInteractive',\n",
              "                                                     [key], {});\n",
              "          if (!dataTable) return;\n",
              "\n",
              "          const docLinkHtml = 'Like what you see? Visit the ' +\n",
              "            '<a target=\"_blank\" href=https://colab.research.google.com/notebooks/data_table.ipynb>data table notebook</a>'\n",
              "            + ' to learn more about interactive tables.';\n",
              "          element.innerHTML = '';\n",
              "          dataTable['output_type'] = 'display_data';\n",
              "          await google.colab.output.renderOutput(dataTable, element);\n",
              "          const docLink = document.createElement('div');\n",
              "          docLink.innerHTML = docLinkHtml;\n",
              "          element.appendChild(docLink);\n",
              "        }\n",
              "      </script>\n",
              "    </div>\n",
              "  </div>\n",
              "  "
            ]
          },
          "metadata": {},
          "execution_count": 81
        }
      ]
    },
    {
      "cell_type": "code",
      "source": [
        "fin_char_data.info()"
      ],
      "metadata": {
        "colab": {
          "base_uri": "https://localhost:8080/"
        },
        "id": "zPvlNMCeQHWk",
        "outputId": "cf8b2a3e-3ef1-465e-f24a-86ac3146e05b"
      },
      "execution_count": 82,
      "outputs": [
        {
          "output_type": "stream",
          "name": "stdout",
          "text": [
            "<class 'pandas.core.frame.DataFrame'>\n",
            "Int64Index: 1886 entries, 0 to 1885\n",
            "Data columns (total 16 columns):\n",
            " #   Column                 Non-Null Count  Dtype  \n",
            "---  ------                 --------------  -----  \n",
            " 0   Ticker                 1886 non-null   object \n",
            " 1   Name                   1886 non-null   object \n",
            " 2   RetYTD                 1886 non-null   float64\n",
            " 3   tic                    1886 non-null   object \n",
            " 4   ROA                    1886 non-null   float64\n",
            " 5   Net Profit Margin      1886 non-null   float64\n",
            " 6   Inventory Turnover     1886 non-null   float64\n",
            " 7   Dividend Payout Ratio  1886 non-null   float64\n",
            " 8   Dividend Yield         1886 non-null   float64\n",
            " 9   B/P                    1886 non-null   float64\n",
            " 10  E/P                    1886 non-null   float64\n",
            " 11  EBIT/P                 1886 non-null   float64\n",
            " 12  S/P                    1886 non-null   float64\n",
            " 13  CF/P                   1886 non-null   float64\n",
            " 14  1/Financial Leverage   1886 non-null   float64\n",
            " 15  1/ROE                  1886 non-null   float64\n",
            "dtypes: float64(13), object(3)\n",
            "memory usage: 250.5+ KB\n"
          ]
        }
      ]
    },
    {
      "cell_type": "markdown",
      "source": [
        "### Regression Model"
      ],
      "metadata": {
        "id": "XXaEUFFuWdr_"
      }
    },
    {
      "cell_type": "code",
      "source": [
        "# split y and X\n",
        "y = fin_char_data.RetYTD\n",
        "# X: 11 financial ratios\n",
        "X = fin_char_data.iloc[:, 4:]\n",
        "# add constant\n",
        "X = sm.add_constant(X)"
      ],
      "metadata": {
        "id": "BK45uBRjQ9Le"
      },
      "execution_count": 83,
      "outputs": []
    },
    {
      "cell_type": "code",
      "source": [
        "fin_char_reg = sm.OLS(y, X).fit()\n",
        "fin_char_reg.summary()"
      ],
      "metadata": {
        "colab": {
          "base_uri": "https://localhost:8080/",
          "height": 717
        },
        "id": "htdHI0NsRHjg",
        "outputId": "4207b6d5-551c-4c6a-c848-207167ed258a"
      },
      "execution_count": 84,
      "outputs": [
        {
          "output_type": "execute_result",
          "data": {
            "text/plain": [
              "<class 'statsmodels.iolib.summary.Summary'>\n",
              "\"\"\"\n",
              "                            OLS Regression Results                            \n",
              "==============================================================================\n",
              "Dep. Variable:                 RetYTD   R-squared:                       0.096\n",
              "Model:                            OLS   Adj. R-squared:                  0.091\n",
              "Method:                 Least Squares   F-statistic:                     18.16\n",
              "Date:                Wed, 27 Apr 2022   Prob (F-statistic):           7.78e-35\n",
              "Time:                        01:37:17   Log-Likelihood:                 81.796\n",
              "No. Observations:                1886   AIC:                            -139.6\n",
              "Df Residuals:                    1874   BIC:                            -73.09\n",
              "Df Model:                          11                                         \n",
              "Covariance Type:            nonrobust                                         \n",
              "=========================================================================================\n",
              "                            coef    std err          t      P>|t|      [0.025      0.975]\n",
              "-----------------------------------------------------------------------------------------\n",
              "const                    -0.1328      0.011    -11.599      0.000      -0.155      -0.110\n",
              "ROA                       0.0650      0.022      2.994      0.003       0.022       0.107\n",
              "Net Profit Margin         0.0650      0.022      2.994      0.003       0.022       0.107\n",
              "Inventory Turnover     4.577e-05   3.97e-05      1.154      0.249    -3.2e-05       0.000\n",
              "Dividend Payout Ratio     0.0001      0.002      0.071      0.943      -0.003       0.003\n",
              "Dividend Yield            0.5057      0.230      2.197      0.028       0.054       0.957\n",
              "B/P                       0.1039      0.014      7.262      0.000       0.076       0.132\n",
              "E/P                      -0.1798      0.063     -2.847      0.004      -0.304      -0.056\n",
              "EBIT/P                   -0.0086      0.074     -0.116      0.908      -0.154       0.136\n",
              "S/P                       0.0120      0.004      3.026      0.003       0.004       0.020\n",
              "CF/P                      0.2796      0.048      5.799      0.000       0.185       0.374\n",
              "1/Financial Leverage     -0.0362      0.021     -1.743      0.081      -0.077       0.005\n",
              "1/ROE                  2.627e-05   1.69e-05      1.557      0.120   -6.83e-06    5.94e-05\n",
              "==============================================================================\n",
              "Omnibus:                      655.071   Durbin-Watson:                   2.024\n",
              "Prob(Omnibus):                  0.000   Jarque-Bera (JB):             4135.897\n",
              "Skew:                           1.485   Prob(JB):                         0.00\n",
              "Kurtosis:                       9.618   Cond. No.                     1.21e+19\n",
              "==============================================================================\n",
              "\n",
              "Warnings:\n",
              "[1] Standard Errors assume that the covariance matrix of the errors is correctly specified.\n",
              "[2] The smallest eigenvalue is 1.31e-30. This might indicate that there are\n",
              "strong multicollinearity problems or that the design matrix is singular.\n",
              "\"\"\""
            ],
            "text/html": [
              "<table class=\"simpletable\">\n",
              "<caption>OLS Regression Results</caption>\n",
              "<tr>\n",
              "  <th>Dep. Variable:</th>         <td>RetYTD</td>      <th>  R-squared:         </th> <td>   0.096</td>\n",
              "</tr>\n",
              "<tr>\n",
              "  <th>Model:</th>                   <td>OLS</td>       <th>  Adj. R-squared:    </th> <td>   0.091</td>\n",
              "</tr>\n",
              "<tr>\n",
              "  <th>Method:</th>             <td>Least Squares</td>  <th>  F-statistic:       </th> <td>   18.16</td>\n",
              "</tr>\n",
              "<tr>\n",
              "  <th>Date:</th>             <td>Wed, 27 Apr 2022</td> <th>  Prob (F-statistic):</th> <td>7.78e-35</td>\n",
              "</tr>\n",
              "<tr>\n",
              "  <th>Time:</th>                 <td>01:37:17</td>     <th>  Log-Likelihood:    </th> <td>  81.796</td>\n",
              "</tr>\n",
              "<tr>\n",
              "  <th>No. Observations:</th>      <td>  1886</td>      <th>  AIC:               </th> <td>  -139.6</td>\n",
              "</tr>\n",
              "<tr>\n",
              "  <th>Df Residuals:</th>          <td>  1874</td>      <th>  BIC:               </th> <td>  -73.09</td>\n",
              "</tr>\n",
              "<tr>\n",
              "  <th>Df Model:</th>              <td>    11</td>      <th>                     </th>     <td> </td>   \n",
              "</tr>\n",
              "<tr>\n",
              "  <th>Covariance Type:</th>      <td>nonrobust</td>    <th>                     </th>     <td> </td>   \n",
              "</tr>\n",
              "</table>\n",
              "<table class=\"simpletable\">\n",
              "<tr>\n",
              "            <td></td>               <th>coef</th>     <th>std err</th>      <th>t</th>      <th>P>|t|</th>  <th>[0.025</th>    <th>0.975]</th>  \n",
              "</tr>\n",
              "<tr>\n",
              "  <th>const</th>                 <td>   -0.1328</td> <td>    0.011</td> <td>  -11.599</td> <td> 0.000</td> <td>   -0.155</td> <td>   -0.110</td>\n",
              "</tr>\n",
              "<tr>\n",
              "  <th>ROA</th>                   <td>    0.0650</td> <td>    0.022</td> <td>    2.994</td> <td> 0.003</td> <td>    0.022</td> <td>    0.107</td>\n",
              "</tr>\n",
              "<tr>\n",
              "  <th>Net Profit Margin</th>     <td>    0.0650</td> <td>    0.022</td> <td>    2.994</td> <td> 0.003</td> <td>    0.022</td> <td>    0.107</td>\n",
              "</tr>\n",
              "<tr>\n",
              "  <th>Inventory Turnover</th>    <td> 4.577e-05</td> <td> 3.97e-05</td> <td>    1.154</td> <td> 0.249</td> <td> -3.2e-05</td> <td>    0.000</td>\n",
              "</tr>\n",
              "<tr>\n",
              "  <th>Dividend Payout Ratio</th> <td>    0.0001</td> <td>    0.002</td> <td>    0.071</td> <td> 0.943</td> <td>   -0.003</td> <td>    0.003</td>\n",
              "</tr>\n",
              "<tr>\n",
              "  <th>Dividend Yield</th>        <td>    0.5057</td> <td>    0.230</td> <td>    2.197</td> <td> 0.028</td> <td>    0.054</td> <td>    0.957</td>\n",
              "</tr>\n",
              "<tr>\n",
              "  <th>B/P</th>                   <td>    0.1039</td> <td>    0.014</td> <td>    7.262</td> <td> 0.000</td> <td>    0.076</td> <td>    0.132</td>\n",
              "</tr>\n",
              "<tr>\n",
              "  <th>E/P</th>                   <td>   -0.1798</td> <td>    0.063</td> <td>   -2.847</td> <td> 0.004</td> <td>   -0.304</td> <td>   -0.056</td>\n",
              "</tr>\n",
              "<tr>\n",
              "  <th>EBIT/P</th>                <td>   -0.0086</td> <td>    0.074</td> <td>   -0.116</td> <td> 0.908</td> <td>   -0.154</td> <td>    0.136</td>\n",
              "</tr>\n",
              "<tr>\n",
              "  <th>S/P</th>                   <td>    0.0120</td> <td>    0.004</td> <td>    3.026</td> <td> 0.003</td> <td>    0.004</td> <td>    0.020</td>\n",
              "</tr>\n",
              "<tr>\n",
              "  <th>CF/P</th>                  <td>    0.2796</td> <td>    0.048</td> <td>    5.799</td> <td> 0.000</td> <td>    0.185</td> <td>    0.374</td>\n",
              "</tr>\n",
              "<tr>\n",
              "  <th>1/Financial Leverage</th>  <td>   -0.0362</td> <td>    0.021</td> <td>   -1.743</td> <td> 0.081</td> <td>   -0.077</td> <td>    0.005</td>\n",
              "</tr>\n",
              "<tr>\n",
              "  <th>1/ROE</th>                 <td> 2.627e-05</td> <td> 1.69e-05</td> <td>    1.557</td> <td> 0.120</td> <td>-6.83e-06</td> <td> 5.94e-05</td>\n",
              "</tr>\n",
              "</table>\n",
              "<table class=\"simpletable\">\n",
              "<tr>\n",
              "  <th>Omnibus:</th>       <td>655.071</td> <th>  Durbin-Watson:     </th> <td>   2.024</td>\n",
              "</tr>\n",
              "<tr>\n",
              "  <th>Prob(Omnibus):</th> <td> 0.000</td>  <th>  Jarque-Bera (JB):  </th> <td>4135.897</td>\n",
              "</tr>\n",
              "<tr>\n",
              "  <th>Skew:</th>          <td> 1.485</td>  <th>  Prob(JB):          </th> <td>    0.00</td>\n",
              "</tr>\n",
              "<tr>\n",
              "  <th>Kurtosis:</th>      <td> 9.618</td>  <th>  Cond. No.          </th> <td>1.21e+19</td>\n",
              "</tr>\n",
              "</table><br/><br/>Warnings:<br/>[1] Standard Errors assume that the covariance matrix of the errors is correctly specified.<br/>[2] The smallest eigenvalue is 1.31e-30. This might indicate that there are<br/>strong multicollinearity problems or that the design matrix is singular."
            ]
          },
          "metadata": {},
          "execution_count": 84
        }
      ]
    },
    {
      "cell_type": "markdown",
      "source": [
        "### Interpretations\n",
        "\n",
        "\n",
        "With all 12 financial ratios as predictors for companies' stock return for early 2022 (January 2022 to April 2022), the r-squared of the regression model is only 0.096, with adjust r-squared as 0.091. \n",
        "\n",
        "These regression outputs indicate that financial ratios capture less than 10% of variance in stock return changes of early 2022, and the low correlation between our financial ratios as features and the stock return prediction. The low explanatory power of this financial characteristics regression model on stock return is because, financial ratios can explain the performance of how a company operates, but it cannot capture the uncertainties in the stock market, which is influenced by the global situation, politics factors and pandemic caused by covid outbreak.\n",
        "\n",
        "\n",
        "\n",
        "For the coefs of regression model, we can interpret as the following:\n",
        "- E/P ratio, EBIT/P ratio and 1/Financial Leverage ratio of 2021 are negatively correlated with early 2022's stock return, \n",
        "- ROA, Net Profit Margin, Inventory Turnover, Divident Payout Ratio, Dividend Yield, B/P ratio, S/P ratio and CF/P ratio of 2021 are positively correlated with early 2022's stock return.\n",
        "- A higher absolute value of 2021's E/P, EBIT/P, B/P, CF/P and 1/Financial Leverage ratio's coef will generate a higher increase/decrease in early 2022's stock return.  \n",
        "- 2021's Dividend Yield and CF/P have a relatively larger impact on early 2022's stock return because of their large absolute coef value.\n",
        "\n",
        "Specifically:\n",
        "- 1% increase of 2021's ROA ratio will result a 6.50% increase in early 2022's stock return,\n",
        "- 1% increase of 2021's Net Profit Margin ratio will result a 6.50% increase in early 2022's stock return,\n",
        "- 1% increase of 2021's Inventory Turnover ratio will result a 4.577e-03 increase in early 2022's stock return,\n",
        "- 1% increase of 2021's Dividend Payout Ratio ratio will result a 0.01% increase in early 2022's stock return,\n",
        "- 1% increase of 2021's Dividend Yield ratio will result a 50.57% increase in early 2022's stock return,\n",
        "- 1% increase of 2021's B/P ratio will result a 10.39% increase in early 2022's stock return,\n",
        "- 1% increase of 2021's E/P ratio will result a 17.98% decrease in early 2022's stock return,\n",
        "- 1% increase of 2021's EBIT/P ratio will result a 0.86% decrease in early 2022's stock return,\n",
        "- 1% increase of 2021's S/P ratio will result a 1.20% increase in early 2022's stock return,\n",
        "- 1% increase of 2021's CF/P ratio will result a 27.96% increase in early 2022's stock return,\n",
        "- 1% increase of 2021's 1/Financial Leverage ratio will result a 3.62% decrease in early 2022's stock return,\n",
        "- 1% increase of 2021's 1/ROE ratio will result a 2.627e-03 increase in early 2022's stock return.\n",
        "\n",
        "\n",
        "However, we can observe that the following ratios: Inventory Turnover, Dividend Payout Ratio, EBIT/P and 1/ROE, are with a p-value greater than 0.05, meaning these individual feature is not statistically significant in predicting early 2022's stock return;  \n",
        "while the other remained 8 ratios are all with a p-value less than 0.05, and the coef value falls within the corresponding 95% CI range that does not contain 0, which illustrate a statistical significance of these predictors. \n",
        "\n"
      ],
      "metadata": {
        "id": "xl95FuCilU6c"
      }
    },
    {
      "cell_type": "markdown",
      "source": [
        "## c. Industry Dummies:\n",
        "i. Ret(i) = a + coefficients*IndustryDummies + e\n",
        "\n",
        "ii. Interpret and explain your findings (focus on R2, Adj R2 and\n",
        "coefficients)"
      ],
      "metadata": {
        "id": "25rkg17ZFdQ-"
      }
    },
    {
      "cell_type": "markdown",
      "source": [
        "### Merge Datasets"
      ],
      "metadata": {
        "id": "MFGYn2S_Wm_d"
      }
    },
    {
      "cell_type": "code",
      "source": [
        "# merge datasets\n",
        "industry_dummies = data.merge(industry_indicator_output, left_on='Ticker', right_on = 'tic', how = 'inner')\n",
        "industry_dummies.head()"
      ],
      "metadata": {
        "colab": {
          "base_uri": "https://localhost:8080/",
          "height": 369
        },
        "id": "bE9nJLIvFe0m",
        "outputId": "56c429b6-24bc-41e2-b3c8-49acab267f58"
      },
      "execution_count": 85,
      "outputs": [
        {
          "output_type": "execute_result",
          "data": {
            "text/plain": [
              "  Ticker                     Name   RetYTD   tic  ggroup_1010  ggroup_1510  \\\n",
              "0      A     Agilent Technologies  -0.2080     A            0            0   \n",
              "1     AA               Alcoa Corp   0.4731    AA            0            1   \n",
              "2    AAL     American Airlines Gp   0.0579   AAL            0            0   \n",
              "3    AAN  Aarons Holdings Company  -0.1327   AAN            0            0   \n",
              "4   AAON                 Aaon Inc  -0.3456  AAON            0            0   \n",
              "\n",
              "   ggroup_2010  ggroup_2020  ggroup_2030  ggroup_2510  ...  ggroup_4010  \\\n",
              "0            0            0            0            0  ...            0   \n",
              "1            0            0            0            0  ...            0   \n",
              "2            0            0            1            0  ...            0   \n",
              "3            0            0            0            0  ...            0   \n",
              "4            1            0            0            0  ...            0   \n",
              "\n",
              "   ggroup_4020  ggroup_4030  ggroup_4510  ggroup_4520  ggroup_4530  \\\n",
              "0            0            0            0            0            0   \n",
              "1            0            0            0            0            0   \n",
              "2            0            0            0            0            0   \n",
              "3            0            0            0            0            0   \n",
              "4            0            0            0            0            0   \n",
              "\n",
              "   ggroup_5010  ggroup_5020  ggroup_5510  ggroup_6010  \n",
              "0            0            0            0            0  \n",
              "1            0            0            0            0  \n",
              "2            0            0            0            0  \n",
              "3            0            0            0            0  \n",
              "4            0            0            0            0  \n",
              "\n",
              "[5 rows x 28 columns]"
            ],
            "text/html": [
              "\n",
              "  <div id=\"df-39755ee3-7542-48e2-b445-9486fc62ba45\">\n",
              "    <div class=\"colab-df-container\">\n",
              "      <div>\n",
              "<style scoped>\n",
              "    .dataframe tbody tr th:only-of-type {\n",
              "        vertical-align: middle;\n",
              "    }\n",
              "\n",
              "    .dataframe tbody tr th {\n",
              "        vertical-align: top;\n",
              "    }\n",
              "\n",
              "    .dataframe thead th {\n",
              "        text-align: right;\n",
              "    }\n",
              "</style>\n",
              "<table border=\"1\" class=\"dataframe\">\n",
              "  <thead>\n",
              "    <tr style=\"text-align: right;\">\n",
              "      <th></th>\n",
              "      <th>Ticker</th>\n",
              "      <th>Name</th>\n",
              "      <th>RetYTD</th>\n",
              "      <th>tic</th>\n",
              "      <th>ggroup_1010</th>\n",
              "      <th>ggroup_1510</th>\n",
              "      <th>ggroup_2010</th>\n",
              "      <th>ggroup_2020</th>\n",
              "      <th>ggroup_2030</th>\n",
              "      <th>ggroup_2510</th>\n",
              "      <th>...</th>\n",
              "      <th>ggroup_4010</th>\n",
              "      <th>ggroup_4020</th>\n",
              "      <th>ggroup_4030</th>\n",
              "      <th>ggroup_4510</th>\n",
              "      <th>ggroup_4520</th>\n",
              "      <th>ggroup_4530</th>\n",
              "      <th>ggroup_5010</th>\n",
              "      <th>ggroup_5020</th>\n",
              "      <th>ggroup_5510</th>\n",
              "      <th>ggroup_6010</th>\n",
              "    </tr>\n",
              "  </thead>\n",
              "  <tbody>\n",
              "    <tr>\n",
              "      <th>0</th>\n",
              "      <td>A</td>\n",
              "      <td>Agilent Technologies</td>\n",
              "      <td>-0.2080</td>\n",
              "      <td>A</td>\n",
              "      <td>0</td>\n",
              "      <td>0</td>\n",
              "      <td>0</td>\n",
              "      <td>0</td>\n",
              "      <td>0</td>\n",
              "      <td>0</td>\n",
              "      <td>...</td>\n",
              "      <td>0</td>\n",
              "      <td>0</td>\n",
              "      <td>0</td>\n",
              "      <td>0</td>\n",
              "      <td>0</td>\n",
              "      <td>0</td>\n",
              "      <td>0</td>\n",
              "      <td>0</td>\n",
              "      <td>0</td>\n",
              "      <td>0</td>\n",
              "    </tr>\n",
              "    <tr>\n",
              "      <th>1</th>\n",
              "      <td>AA</td>\n",
              "      <td>Alcoa Corp</td>\n",
              "      <td>0.4731</td>\n",
              "      <td>AA</td>\n",
              "      <td>0</td>\n",
              "      <td>1</td>\n",
              "      <td>0</td>\n",
              "      <td>0</td>\n",
              "      <td>0</td>\n",
              "      <td>0</td>\n",
              "      <td>...</td>\n",
              "      <td>0</td>\n",
              "      <td>0</td>\n",
              "      <td>0</td>\n",
              "      <td>0</td>\n",
              "      <td>0</td>\n",
              "      <td>0</td>\n",
              "      <td>0</td>\n",
              "      <td>0</td>\n",
              "      <td>0</td>\n",
              "      <td>0</td>\n",
              "    </tr>\n",
              "    <tr>\n",
              "      <th>2</th>\n",
              "      <td>AAL</td>\n",
              "      <td>American Airlines Gp</td>\n",
              "      <td>0.0579</td>\n",
              "      <td>AAL</td>\n",
              "      <td>0</td>\n",
              "      <td>0</td>\n",
              "      <td>0</td>\n",
              "      <td>0</td>\n",
              "      <td>1</td>\n",
              "      <td>0</td>\n",
              "      <td>...</td>\n",
              "      <td>0</td>\n",
              "      <td>0</td>\n",
              "      <td>0</td>\n",
              "      <td>0</td>\n",
              "      <td>0</td>\n",
              "      <td>0</td>\n",
              "      <td>0</td>\n",
              "      <td>0</td>\n",
              "      <td>0</td>\n",
              "      <td>0</td>\n",
              "    </tr>\n",
              "    <tr>\n",
              "      <th>3</th>\n",
              "      <td>AAN</td>\n",
              "      <td>Aarons Holdings Company</td>\n",
              "      <td>-0.1327</td>\n",
              "      <td>AAN</td>\n",
              "      <td>0</td>\n",
              "      <td>0</td>\n",
              "      <td>0</td>\n",
              "      <td>0</td>\n",
              "      <td>0</td>\n",
              "      <td>0</td>\n",
              "      <td>...</td>\n",
              "      <td>0</td>\n",
              "      <td>0</td>\n",
              "      <td>0</td>\n",
              "      <td>0</td>\n",
              "      <td>0</td>\n",
              "      <td>0</td>\n",
              "      <td>0</td>\n",
              "      <td>0</td>\n",
              "      <td>0</td>\n",
              "      <td>0</td>\n",
              "    </tr>\n",
              "    <tr>\n",
              "      <th>4</th>\n",
              "      <td>AAON</td>\n",
              "      <td>Aaon Inc</td>\n",
              "      <td>-0.3456</td>\n",
              "      <td>AAON</td>\n",
              "      <td>0</td>\n",
              "      <td>0</td>\n",
              "      <td>1</td>\n",
              "      <td>0</td>\n",
              "      <td>0</td>\n",
              "      <td>0</td>\n",
              "      <td>...</td>\n",
              "      <td>0</td>\n",
              "      <td>0</td>\n",
              "      <td>0</td>\n",
              "      <td>0</td>\n",
              "      <td>0</td>\n",
              "      <td>0</td>\n",
              "      <td>0</td>\n",
              "      <td>0</td>\n",
              "      <td>0</td>\n",
              "      <td>0</td>\n",
              "    </tr>\n",
              "  </tbody>\n",
              "</table>\n",
              "<p>5 rows × 28 columns</p>\n",
              "</div>\n",
              "      <button class=\"colab-df-convert\" onclick=\"convertToInteractive('df-39755ee3-7542-48e2-b445-9486fc62ba45')\"\n",
              "              title=\"Convert this dataframe to an interactive table.\"\n",
              "              style=\"display:none;\">\n",
              "        \n",
              "  <svg xmlns=\"http://www.w3.org/2000/svg\" height=\"24px\"viewBox=\"0 0 24 24\"\n",
              "       width=\"24px\">\n",
              "    <path d=\"M0 0h24v24H0V0z\" fill=\"none\"/>\n",
              "    <path d=\"M18.56 5.44l.94 2.06.94-2.06 2.06-.94-2.06-.94-.94-2.06-.94 2.06-2.06.94zm-11 1L8.5 8.5l.94-2.06 2.06-.94-2.06-.94L8.5 2.5l-.94 2.06-2.06.94zm10 10l.94 2.06.94-2.06 2.06-.94-2.06-.94-.94-2.06-.94 2.06-2.06.94z\"/><path d=\"M17.41 7.96l-1.37-1.37c-.4-.4-.92-.59-1.43-.59-.52 0-1.04.2-1.43.59L10.3 9.45l-7.72 7.72c-.78.78-.78 2.05 0 2.83L4 21.41c.39.39.9.59 1.41.59.51 0 1.02-.2 1.41-.59l7.78-7.78 2.81-2.81c.8-.78.8-2.07 0-2.86zM5.41 20L4 18.59l7.72-7.72 1.47 1.35L5.41 20z\"/>\n",
              "  </svg>\n",
              "      </button>\n",
              "      \n",
              "  <style>\n",
              "    .colab-df-container {\n",
              "      display:flex;\n",
              "      flex-wrap:wrap;\n",
              "      gap: 12px;\n",
              "    }\n",
              "\n",
              "    .colab-df-convert {\n",
              "      background-color: #E8F0FE;\n",
              "      border: none;\n",
              "      border-radius: 50%;\n",
              "      cursor: pointer;\n",
              "      display: none;\n",
              "      fill: #1967D2;\n",
              "      height: 32px;\n",
              "      padding: 0 0 0 0;\n",
              "      width: 32px;\n",
              "    }\n",
              "\n",
              "    .colab-df-convert:hover {\n",
              "      background-color: #E2EBFA;\n",
              "      box-shadow: 0px 1px 2px rgba(60, 64, 67, 0.3), 0px 1px 3px 1px rgba(60, 64, 67, 0.15);\n",
              "      fill: #174EA6;\n",
              "    }\n",
              "\n",
              "    [theme=dark] .colab-df-convert {\n",
              "      background-color: #3B4455;\n",
              "      fill: #D2E3FC;\n",
              "    }\n",
              "\n",
              "    [theme=dark] .colab-df-convert:hover {\n",
              "      background-color: #434B5C;\n",
              "      box-shadow: 0px 1px 3px 1px rgba(0, 0, 0, 0.15);\n",
              "      filter: drop-shadow(0px 1px 2px rgba(0, 0, 0, 0.3));\n",
              "      fill: #FFFFFF;\n",
              "    }\n",
              "  </style>\n",
              "\n",
              "      <script>\n",
              "        const buttonEl =\n",
              "          document.querySelector('#df-39755ee3-7542-48e2-b445-9486fc62ba45 button.colab-df-convert');\n",
              "        buttonEl.style.display =\n",
              "          google.colab.kernel.accessAllowed ? 'block' : 'none';\n",
              "\n",
              "        async function convertToInteractive(key) {\n",
              "          const element = document.querySelector('#df-39755ee3-7542-48e2-b445-9486fc62ba45');\n",
              "          const dataTable =\n",
              "            await google.colab.kernel.invokeFunction('convertToInteractive',\n",
              "                                                     [key], {});\n",
              "          if (!dataTable) return;\n",
              "\n",
              "          const docLinkHtml = 'Like what you see? Visit the ' +\n",
              "            '<a target=\"_blank\" href=https://colab.research.google.com/notebooks/data_table.ipynb>data table notebook</a>'\n",
              "            + ' to learn more about interactive tables.';\n",
              "          element.innerHTML = '';\n",
              "          dataTable['output_type'] = 'display_data';\n",
              "          await google.colab.output.renderOutput(dataTable, element);\n",
              "          const docLink = document.createElement('div');\n",
              "          docLink.innerHTML = docLinkHtml;\n",
              "          element.appendChild(docLink);\n",
              "        }\n",
              "      </script>\n",
              "    </div>\n",
              "  </div>\n",
              "  "
            ]
          },
          "metadata": {},
          "execution_count": 85
        }
      ]
    },
    {
      "cell_type": "markdown",
      "source": [
        "### Fixed Effect Regression"
      ],
      "metadata": {
        "id": "BSV6aburWoom"
      }
    },
    {
      "cell_type": "code",
      "source": [
        "# Define x as a subset of original dataframe\n",
        "# BUT, keep constant. HOWEVER, must drop one industry indicator (let's choose \"ggroup_6010\")\n",
        "X = industry_dummies[industry_dummies.columns[-24:]]\n",
        "X = sm.add_constant(X)\n",
        "X.drop(columns = 'ggroup_6010', inplace=True)\n",
        "# X = sm.add_constant(X)\n",
        "# Define y as a series\n",
        "\n",
        "# number of X and y not the same\n",
        "y = industry_dummies.RetYTD\n",
        "\n",
        "# pass x as a dataframe, while pass y as a series\n",
        "sm.OLS(y, X).fit().summary()"
      ],
      "metadata": {
        "colab": {
          "base_uri": "https://localhost:8080/",
          "height": 916
        },
        "id": "HMg68Vn6Vefa",
        "outputId": "8d5d72ad-5587-4a1e-ef96-b8e587f87445"
      },
      "execution_count": 86,
      "outputs": [
        {
          "output_type": "execute_result",
          "data": {
            "text/plain": [
              "<class 'statsmodels.iolib.summary.Summary'>\n",
              "\"\"\"\n",
              "                            OLS Regression Results                            \n",
              "==============================================================================\n",
              "Dep. Variable:                 RetYTD   R-squared:                       0.326\n",
              "Model:                            OLS   Adj. R-squared:                  0.317\n",
              "Method:                 Least Squares   F-statistic:                     39.07\n",
              "Date:                Wed, 27 Apr 2022   Prob (F-statistic):          6.29e-141\n",
              "Time:                        01:37:17   Log-Likelihood:                 357.63\n",
              "No. Observations:                1886   AIC:                            -667.3\n",
              "Df Residuals:                    1862   BIC:                            -534.2\n",
              "Df Model:                          23                                         \n",
              "Covariance Type:            nonrobust                                         \n",
              "===============================================================================\n",
              "                  coef    std err          t      P>|t|      [0.025      0.975]\n",
              "-------------------------------------------------------------------------------\n",
              "const          -0.0358      0.018     -2.035      0.042      -0.070      -0.001\n",
              "ggroup_1010     0.5509      0.029     18.884      0.000       0.494       0.608\n",
              "ggroup_1510     0.0937      0.027      3.450      0.001       0.040       0.147\n",
              "ggroup_2010    -0.0547      0.023     -2.373      0.018      -0.100      -0.010\n",
              "ggroup_2020     0.0007      0.031      0.022      0.983      -0.060       0.061\n",
              "ggroup_2030    -0.0316      0.037     -0.861      0.390      -0.104       0.040\n",
              "ggroup_2510    -0.1722      0.044     -3.916      0.000      -0.258      -0.086\n",
              "ggroup_2520    -0.1728      0.031     -5.594      0.000      -0.233      -0.112\n",
              "ggroup_2530    -0.0268      0.031     -0.871      0.384      -0.087       0.034\n",
              "ggroup_2550    -0.1154      0.028     -4.127      0.000      -0.170      -0.061\n",
              "ggroup_3010     0.1141      0.052      2.198      0.028       0.012       0.216\n",
              "ggroup_3020     0.0746      0.035      2.125      0.034       0.006       0.143\n",
              "ggroup_3030    -0.1179      0.052     -2.271      0.023      -0.220      -0.016\n",
              "ggroup_3510    -0.0306      0.025     -1.205      0.228      -0.080       0.019\n",
              "ggroup_3520    -0.1281      0.024     -5.419      0.000      -0.174      -0.082\n",
              "ggroup_4010    -0.0520      0.023     -2.245      0.025      -0.097      -0.007\n",
              "ggroup_4020    -0.0867      0.027     -3.163      0.002      -0.140      -0.033\n",
              "ggroup_4030     0.0396      0.031      1.268      0.205      -0.022       0.101\n",
              "ggroup_4510    -0.0728      0.026     -2.848      0.004      -0.123      -0.023\n",
              "ggroup_4520    -0.1362      0.028     -4.802      0.000      -0.192      -0.081\n",
              "ggroup_4530    -0.2170      0.032     -6.704      0.000      -0.280      -0.154\n",
              "ggroup_5010     0.0477      0.059      0.814      0.416      -0.067       0.163\n",
              "ggroup_5020    -0.0350      0.036     -0.981      0.327      -0.105       0.035\n",
              "ggroup_5510     0.0766      0.032      2.410      0.016       0.014       0.139\n",
              "==============================================================================\n",
              "Omnibus:                      403.265   Durbin-Watson:                   2.038\n",
              "Prob(Omnibus):                  0.000   Jarque-Bera (JB):             2314.656\n",
              "Skew:                           0.877   Prob(JB):                         0.00\n",
              "Kurtosis:                       8.136   Cond. No.                         20.2\n",
              "==============================================================================\n",
              "\n",
              "Warnings:\n",
              "[1] Standard Errors assume that the covariance matrix of the errors is correctly specified.\n",
              "\"\"\""
            ],
            "text/html": [
              "<table class=\"simpletable\">\n",
              "<caption>OLS Regression Results</caption>\n",
              "<tr>\n",
              "  <th>Dep. Variable:</th>         <td>RetYTD</td>      <th>  R-squared:         </th> <td>   0.326</td> \n",
              "</tr>\n",
              "<tr>\n",
              "  <th>Model:</th>                   <td>OLS</td>       <th>  Adj. R-squared:    </th> <td>   0.317</td> \n",
              "</tr>\n",
              "<tr>\n",
              "  <th>Method:</th>             <td>Least Squares</td>  <th>  F-statistic:       </th> <td>   39.07</td> \n",
              "</tr>\n",
              "<tr>\n",
              "  <th>Date:</th>             <td>Wed, 27 Apr 2022</td> <th>  Prob (F-statistic):</th> <td>6.29e-141</td>\n",
              "</tr>\n",
              "<tr>\n",
              "  <th>Time:</th>                 <td>01:37:17</td>     <th>  Log-Likelihood:    </th> <td>  357.63</td> \n",
              "</tr>\n",
              "<tr>\n",
              "  <th>No. Observations:</th>      <td>  1886</td>      <th>  AIC:               </th> <td>  -667.3</td> \n",
              "</tr>\n",
              "<tr>\n",
              "  <th>Df Residuals:</th>          <td>  1862</td>      <th>  BIC:               </th> <td>  -534.2</td> \n",
              "</tr>\n",
              "<tr>\n",
              "  <th>Df Model:</th>              <td>    23</td>      <th>                     </th>     <td> </td>    \n",
              "</tr>\n",
              "<tr>\n",
              "  <th>Covariance Type:</th>      <td>nonrobust</td>    <th>                     </th>     <td> </td>    \n",
              "</tr>\n",
              "</table>\n",
              "<table class=\"simpletable\">\n",
              "<tr>\n",
              "       <td></td>          <th>coef</th>     <th>std err</th>      <th>t</th>      <th>P>|t|</th>  <th>[0.025</th>    <th>0.975]</th>  \n",
              "</tr>\n",
              "<tr>\n",
              "  <th>const</th>       <td>   -0.0358</td> <td>    0.018</td> <td>   -2.035</td> <td> 0.042</td> <td>   -0.070</td> <td>   -0.001</td>\n",
              "</tr>\n",
              "<tr>\n",
              "  <th>ggroup_1010</th> <td>    0.5509</td> <td>    0.029</td> <td>   18.884</td> <td> 0.000</td> <td>    0.494</td> <td>    0.608</td>\n",
              "</tr>\n",
              "<tr>\n",
              "  <th>ggroup_1510</th> <td>    0.0937</td> <td>    0.027</td> <td>    3.450</td> <td> 0.001</td> <td>    0.040</td> <td>    0.147</td>\n",
              "</tr>\n",
              "<tr>\n",
              "  <th>ggroup_2010</th> <td>   -0.0547</td> <td>    0.023</td> <td>   -2.373</td> <td> 0.018</td> <td>   -0.100</td> <td>   -0.010</td>\n",
              "</tr>\n",
              "<tr>\n",
              "  <th>ggroup_2020</th> <td>    0.0007</td> <td>    0.031</td> <td>    0.022</td> <td> 0.983</td> <td>   -0.060</td> <td>    0.061</td>\n",
              "</tr>\n",
              "<tr>\n",
              "  <th>ggroup_2030</th> <td>   -0.0316</td> <td>    0.037</td> <td>   -0.861</td> <td> 0.390</td> <td>   -0.104</td> <td>    0.040</td>\n",
              "</tr>\n",
              "<tr>\n",
              "  <th>ggroup_2510</th> <td>   -0.1722</td> <td>    0.044</td> <td>   -3.916</td> <td> 0.000</td> <td>   -0.258</td> <td>   -0.086</td>\n",
              "</tr>\n",
              "<tr>\n",
              "  <th>ggroup_2520</th> <td>   -0.1728</td> <td>    0.031</td> <td>   -5.594</td> <td> 0.000</td> <td>   -0.233</td> <td>   -0.112</td>\n",
              "</tr>\n",
              "<tr>\n",
              "  <th>ggroup_2530</th> <td>   -0.0268</td> <td>    0.031</td> <td>   -0.871</td> <td> 0.384</td> <td>   -0.087</td> <td>    0.034</td>\n",
              "</tr>\n",
              "<tr>\n",
              "  <th>ggroup_2550</th> <td>   -0.1154</td> <td>    0.028</td> <td>   -4.127</td> <td> 0.000</td> <td>   -0.170</td> <td>   -0.061</td>\n",
              "</tr>\n",
              "<tr>\n",
              "  <th>ggroup_3010</th> <td>    0.1141</td> <td>    0.052</td> <td>    2.198</td> <td> 0.028</td> <td>    0.012</td> <td>    0.216</td>\n",
              "</tr>\n",
              "<tr>\n",
              "  <th>ggroup_3020</th> <td>    0.0746</td> <td>    0.035</td> <td>    2.125</td> <td> 0.034</td> <td>    0.006</td> <td>    0.143</td>\n",
              "</tr>\n",
              "<tr>\n",
              "  <th>ggroup_3030</th> <td>   -0.1179</td> <td>    0.052</td> <td>   -2.271</td> <td> 0.023</td> <td>   -0.220</td> <td>   -0.016</td>\n",
              "</tr>\n",
              "<tr>\n",
              "  <th>ggroup_3510</th> <td>   -0.0306</td> <td>    0.025</td> <td>   -1.205</td> <td> 0.228</td> <td>   -0.080</td> <td>    0.019</td>\n",
              "</tr>\n",
              "<tr>\n",
              "  <th>ggroup_3520</th> <td>   -0.1281</td> <td>    0.024</td> <td>   -5.419</td> <td> 0.000</td> <td>   -0.174</td> <td>   -0.082</td>\n",
              "</tr>\n",
              "<tr>\n",
              "  <th>ggroup_4010</th> <td>   -0.0520</td> <td>    0.023</td> <td>   -2.245</td> <td> 0.025</td> <td>   -0.097</td> <td>   -0.007</td>\n",
              "</tr>\n",
              "<tr>\n",
              "  <th>ggroup_4020</th> <td>   -0.0867</td> <td>    0.027</td> <td>   -3.163</td> <td> 0.002</td> <td>   -0.140</td> <td>   -0.033</td>\n",
              "</tr>\n",
              "<tr>\n",
              "  <th>ggroup_4030</th> <td>    0.0396</td> <td>    0.031</td> <td>    1.268</td> <td> 0.205</td> <td>   -0.022</td> <td>    0.101</td>\n",
              "</tr>\n",
              "<tr>\n",
              "  <th>ggroup_4510</th> <td>   -0.0728</td> <td>    0.026</td> <td>   -2.848</td> <td> 0.004</td> <td>   -0.123</td> <td>   -0.023</td>\n",
              "</tr>\n",
              "<tr>\n",
              "  <th>ggroup_4520</th> <td>   -0.1362</td> <td>    0.028</td> <td>   -4.802</td> <td> 0.000</td> <td>   -0.192</td> <td>   -0.081</td>\n",
              "</tr>\n",
              "<tr>\n",
              "  <th>ggroup_4530</th> <td>   -0.2170</td> <td>    0.032</td> <td>   -6.704</td> <td> 0.000</td> <td>   -0.280</td> <td>   -0.154</td>\n",
              "</tr>\n",
              "<tr>\n",
              "  <th>ggroup_5010</th> <td>    0.0477</td> <td>    0.059</td> <td>    0.814</td> <td> 0.416</td> <td>   -0.067</td> <td>    0.163</td>\n",
              "</tr>\n",
              "<tr>\n",
              "  <th>ggroup_5020</th> <td>   -0.0350</td> <td>    0.036</td> <td>   -0.981</td> <td> 0.327</td> <td>   -0.105</td> <td>    0.035</td>\n",
              "</tr>\n",
              "<tr>\n",
              "  <th>ggroup_5510</th> <td>    0.0766</td> <td>    0.032</td> <td>    2.410</td> <td> 0.016</td> <td>    0.014</td> <td>    0.139</td>\n",
              "</tr>\n",
              "</table>\n",
              "<table class=\"simpletable\">\n",
              "<tr>\n",
              "  <th>Omnibus:</th>       <td>403.265</td> <th>  Durbin-Watson:     </th> <td>   2.038</td>\n",
              "</tr>\n",
              "<tr>\n",
              "  <th>Prob(Omnibus):</th> <td> 0.000</td>  <th>  Jarque-Bera (JB):  </th> <td>2314.656</td>\n",
              "</tr>\n",
              "<tr>\n",
              "  <th>Skew:</th>          <td> 0.877</td>  <th>  Prob(JB):          </th> <td>    0.00</td>\n",
              "</tr>\n",
              "<tr>\n",
              "  <th>Kurtosis:</th>      <td> 8.136</td>  <th>  Cond. No.          </th> <td>    20.2</td>\n",
              "</tr>\n",
              "</table><br/><br/>Warnings:<br/>[1] Standard Errors assume that the covariance matrix of the errors is correctly specified."
            ]
          },
          "metadata": {},
          "execution_count": 86
        }
      ]
    },
    {
      "cell_type": "markdown",
      "source": [
        "### Interpretations\n",
        "\n",
        "With the 23 dummy variables as industry indicators, the fixed effect regression model returns with an r-squared as 0.326 and the adjusted r-squared is 0.317.\n",
        "\n",
        "These regression outputs indicate the explanatory power of industry indicators of 2021 for early 2022's stock return is in a moderate range but is relatively high if compared with other two regression models. The fixed effects regressions with industry indicators as dummy variables capture much more variance in companies' stock returns in early 2022, which means a higher correlation between industry indicators in 2021 and the early 2022's stock return prediction. \n",
        "\n",
        "This is because even if stock returns are driven by a variety of factors, but ultimately the price at any given moment is due to the supply and demand at that point in time in the market, and the industry indicators do better in terms of capturing these changes caused by political factors outside the stock market.\n",
        "\n",
        "\n",
        "For the coefs of regression model, we can interpret as the following:\n",
        "- The constant represents early 2022's average stock return in ggroup 6010: average early 2022's stock return for companies within Real Estate industry group is -0.0358;\n",
        "- Sum of the coef of other dummy variables and the constant represents early 2022's average stock return in their corresponding industry group.\n",
        "> For example, for dummy variable `ggroup_1010`, we can make an inference that the average early 2022's stock return for companies within Eneergy industry group is 0.5151.\n",
        "\n",
        "We can also figure out that:\n",
        "\n",
        "- The highest return industry with industry indicator as 1010 which is Energy Industry Group, this makes sense as in early 2022 stock returns because of the 2022 Russian invasion of Ukraine. Russia and Ukraine are important suppliers of global energy, thus the breakout of the war cut off the supply chain which lead to the interruption of raw material supply, the shortage of parts and components, and the blockage of logistics.\n",
        "\n",
        "- The lowest return industry with industry indicator as 4530 which is Semiconductors & Semiconductor Equipment, this also makes sense because semiconductor or chip factories have soared chip prices due to supply chain shortages and low production capacity due to epidemic shutdowns. However,\n",
        "due to consumption downgrades and the increased risk of consumer spending, the demand has decreased dramatically and thus the stock price of semiconductors industry has falling.\n"
      ],
      "metadata": {
        "id": "LXbAEP_V7lch"
      }
    },
    {
      "cell_type": "markdown",
      "source": [
        "##d. Combined Regressions:\n",
        "i. Combine the various regressions in steps (a-c) above.\n",
        "\n",
        "ii. Interpret and explain your findings (focus on R2, Adj R2 and\n",
        "coefficients)"
      ],
      "metadata": {
        "id": "JqzdOCg1FguU"
      }
    },
    {
      "cell_type": "markdown",
      "source": [
        "Putting all previous variables into Xs."
      ],
      "metadata": {
        "id": "3u5AhP7ZnZ3W"
      }
    },
    {
      "cell_type": "code",
      "source": [
        "# concating Xs from above 3 reg models\n",
        "X = pd.concat([risk_regression_data.iloc[:, -3:], \n",
        "               fin_char_data.iloc[:, 4:], \n",
        "               industry_dummies[industry_dummies.columns[-24:]]], axis=1, join=\"inner\")\n",
        "# add constant\n",
        "X = sm.add_constant(X)"
      ],
      "metadata": {
        "id": "WuhO7taEFiXL"
      },
      "execution_count": 87,
      "outputs": []
    },
    {
      "cell_type": "code",
      "source": [
        "# pass x as a dataframe, while pass y as a series\n",
        "sm.OLS(y, X).fit().summary()"
      ],
      "metadata": {
        "colab": {
          "base_uri": "https://localhost:8080/",
          "height": 1000
        },
        "id": "ARgi0WxKQRab",
        "outputId": "7fa94611-3793-4332-cfaa-b88504aae774"
      },
      "execution_count": 88,
      "outputs": [
        {
          "output_type": "execute_result",
          "data": {
            "text/plain": [
              "<class 'statsmodels.iolib.summary.Summary'>\n",
              "\"\"\"\n",
              "                            OLS Regression Results                            \n",
              "==============================================================================\n",
              "Dep. Variable:                 RetYTD   R-squared:                       0.384\n",
              "Model:                            OLS   Adj. R-squared:                  0.372\n",
              "Method:                 Least Squares   F-statistic:                     31.14\n",
              "Date:                Wed, 27 Apr 2022   Prob (F-statistic):          1.21e-165\n",
              "Time:                        01:37:17   Log-Likelihood:                 443.25\n",
              "No. Observations:                1886   AIC:                            -810.5\n",
              "Df Residuals:                    1848   BIC:                            -599.9\n",
              "Df Model:                          37                                         \n",
              "Covariance Type:            nonrobust                                         \n",
              "=========================================================================================\n",
              "                            coef    std err          t      P>|t|      [0.025      0.975]\n",
              "-----------------------------------------------------------------------------------------\n",
              "const                    -0.0804      0.014     -5.592      0.000      -0.109      -0.052\n",
              "mktrf                    -0.0155      0.008     -1.893      0.058      -0.032       0.001\n",
              "smb                      -0.0176      0.004     -4.178      0.000      -0.026      -0.009\n",
              "hml                       0.0661      0.009      7.736      0.000       0.049       0.083\n",
              "ROA                       0.0332      0.021      1.609      0.108      -0.007       0.074\n",
              "Net Profit Margin         0.0332      0.021      1.609      0.108      -0.007       0.074\n",
              "Inventory Turnover     1.859e-05   3.42e-05      0.544      0.586   -4.84e-05    8.56e-05\n",
              "Dividend Payout Ratio    -0.0007      0.001     -0.506      0.613      -0.003       0.002\n",
              "Dividend Yield            0.2147      0.205      1.045      0.296      -0.188       0.617\n",
              "B/P                       0.0587      0.014      4.231      0.000       0.031       0.086\n",
              "E/P                      -0.0508      0.054     -0.948      0.343      -0.156       0.054\n",
              "EBIT/P                    0.0264      0.066      0.402      0.688      -0.102       0.155\n",
              "S/P                       0.0032      0.004      0.838      0.402      -0.004       0.011\n",
              "CF/P                      0.1227      0.042      2.932      0.003       0.041       0.205\n",
              "1/Financial Leverage     -0.0373      0.020     -1.838      0.066      -0.077       0.003\n",
              "1/ROE                   3.19e-05   1.41e-05      2.262      0.024    4.25e-06    5.96e-05\n",
              "ggroup_1010               0.5176      0.025     20.924      0.000       0.469       0.566\n",
              "ggroup_1510               0.0930      0.020      4.634      0.000       0.054       0.132\n",
              "ggroup_2010              -0.0321      0.015     -2.118      0.034      -0.062      -0.002\n",
              "ggroup_2020               0.0164      0.024      0.682      0.495      -0.031       0.064\n",
              "ggroup_2030              -0.0478      0.031     -1.553      0.121      -0.108       0.013\n",
              "ggroup_2510              -0.1626      0.038     -4.254      0.000      -0.238      -0.088\n",
              "ggroup_2520              -0.1541      0.024     -6.291      0.000      -0.202      -0.106\n",
              "ggroup_2530              -0.0025      0.025     -0.103      0.918      -0.051       0.046\n",
              "ggroup_2550              -0.1038      0.022     -4.744      0.000      -0.147      -0.061\n",
              "ggroup_3010               0.1104      0.048      2.295      0.022       0.016       0.205\n",
              "ggroup_3020               0.0833      0.029      2.888      0.004       0.027       0.140\n",
              "ggroup_3030              -0.0944      0.046     -2.072      0.038      -0.184      -0.005\n",
              "ggroup_3510               0.0422      0.019      2.257      0.024       0.006       0.079\n",
              "ggroup_3520               0.0102      0.019      0.535      0.593      -0.027       0.048\n",
              "ggroup_4010              -0.1062      0.019     -5.737      0.000      -0.143      -0.070\n",
              "ggroup_4020              -0.1051      0.022     -4.870      0.000      -0.147      -0.063\n",
              "ggroup_4030              -0.0192      0.027     -0.722      0.471      -0.071       0.033\n",
              "ggroup_4510               0.0074      0.019      0.390      0.697      -0.030       0.045\n",
              "ggroup_4520              -0.0922      0.022     -4.279      0.000      -0.134      -0.050\n",
              "ggroup_4530              -0.1484      0.027     -5.598      0.000      -0.200      -0.096\n",
              "ggroup_5010               0.0226      0.053      0.426      0.670      -0.082       0.127\n",
              "ggroup_5020               0.0036      0.029      0.123      0.902      -0.054       0.061\n",
              "ggroup_5510               0.0740      0.026      2.843      0.005       0.023       0.125\n",
              "ggroup_6010               0.0074      0.018      0.413      0.680      -0.028       0.042\n",
              "==============================================================================\n",
              "Omnibus:                      460.721   Durbin-Watson:                   2.031\n",
              "Prob(Omnibus):                  0.000   Jarque-Bera (JB):             2743.333\n",
              "Skew:                           1.009   Prob(JB):                         0.00\n",
              "Kurtosis:                       8.553   Cond. No.                     3.38e+16\n",
              "==============================================================================\n",
              "\n",
              "Warnings:\n",
              "[1] Standard Errors assume that the covariance matrix of the errors is correctly specified.\n",
              "[2] The smallest eigenvalue is 1.67e-25. This might indicate that there are\n",
              "strong multicollinearity problems or that the design matrix is singular.\n",
              "\"\"\""
            ],
            "text/html": [
              "<table class=\"simpletable\">\n",
              "<caption>OLS Regression Results</caption>\n",
              "<tr>\n",
              "  <th>Dep. Variable:</th>         <td>RetYTD</td>      <th>  R-squared:         </th> <td>   0.384</td> \n",
              "</tr>\n",
              "<tr>\n",
              "  <th>Model:</th>                   <td>OLS</td>       <th>  Adj. R-squared:    </th> <td>   0.372</td> \n",
              "</tr>\n",
              "<tr>\n",
              "  <th>Method:</th>             <td>Least Squares</td>  <th>  F-statistic:       </th> <td>   31.14</td> \n",
              "</tr>\n",
              "<tr>\n",
              "  <th>Date:</th>             <td>Wed, 27 Apr 2022</td> <th>  Prob (F-statistic):</th> <td>1.21e-165</td>\n",
              "</tr>\n",
              "<tr>\n",
              "  <th>Time:</th>                 <td>01:37:17</td>     <th>  Log-Likelihood:    </th> <td>  443.25</td> \n",
              "</tr>\n",
              "<tr>\n",
              "  <th>No. Observations:</th>      <td>  1886</td>      <th>  AIC:               </th> <td>  -810.5</td> \n",
              "</tr>\n",
              "<tr>\n",
              "  <th>Df Residuals:</th>          <td>  1848</td>      <th>  BIC:               </th> <td>  -599.9</td> \n",
              "</tr>\n",
              "<tr>\n",
              "  <th>Df Model:</th>              <td>    37</td>      <th>                     </th>     <td> </td>    \n",
              "</tr>\n",
              "<tr>\n",
              "  <th>Covariance Type:</th>      <td>nonrobust</td>    <th>                     </th>     <td> </td>    \n",
              "</tr>\n",
              "</table>\n",
              "<table class=\"simpletable\">\n",
              "<tr>\n",
              "            <td></td>               <th>coef</th>     <th>std err</th>      <th>t</th>      <th>P>|t|</th>  <th>[0.025</th>    <th>0.975]</th>  \n",
              "</tr>\n",
              "<tr>\n",
              "  <th>const</th>                 <td>   -0.0804</td> <td>    0.014</td> <td>   -5.592</td> <td> 0.000</td> <td>   -0.109</td> <td>   -0.052</td>\n",
              "</tr>\n",
              "<tr>\n",
              "  <th>mktrf</th>                 <td>   -0.0155</td> <td>    0.008</td> <td>   -1.893</td> <td> 0.058</td> <td>   -0.032</td> <td>    0.001</td>\n",
              "</tr>\n",
              "<tr>\n",
              "  <th>smb</th>                   <td>   -0.0176</td> <td>    0.004</td> <td>   -4.178</td> <td> 0.000</td> <td>   -0.026</td> <td>   -0.009</td>\n",
              "</tr>\n",
              "<tr>\n",
              "  <th>hml</th>                   <td>    0.0661</td> <td>    0.009</td> <td>    7.736</td> <td> 0.000</td> <td>    0.049</td> <td>    0.083</td>\n",
              "</tr>\n",
              "<tr>\n",
              "  <th>ROA</th>                   <td>    0.0332</td> <td>    0.021</td> <td>    1.609</td> <td> 0.108</td> <td>   -0.007</td> <td>    0.074</td>\n",
              "</tr>\n",
              "<tr>\n",
              "  <th>Net Profit Margin</th>     <td>    0.0332</td> <td>    0.021</td> <td>    1.609</td> <td> 0.108</td> <td>   -0.007</td> <td>    0.074</td>\n",
              "</tr>\n",
              "<tr>\n",
              "  <th>Inventory Turnover</th>    <td> 1.859e-05</td> <td> 3.42e-05</td> <td>    0.544</td> <td> 0.586</td> <td>-4.84e-05</td> <td> 8.56e-05</td>\n",
              "</tr>\n",
              "<tr>\n",
              "  <th>Dividend Payout Ratio</th> <td>   -0.0007</td> <td>    0.001</td> <td>   -0.506</td> <td> 0.613</td> <td>   -0.003</td> <td>    0.002</td>\n",
              "</tr>\n",
              "<tr>\n",
              "  <th>Dividend Yield</th>        <td>    0.2147</td> <td>    0.205</td> <td>    1.045</td> <td> 0.296</td> <td>   -0.188</td> <td>    0.617</td>\n",
              "</tr>\n",
              "<tr>\n",
              "  <th>B/P</th>                   <td>    0.0587</td> <td>    0.014</td> <td>    4.231</td> <td> 0.000</td> <td>    0.031</td> <td>    0.086</td>\n",
              "</tr>\n",
              "<tr>\n",
              "  <th>E/P</th>                   <td>   -0.0508</td> <td>    0.054</td> <td>   -0.948</td> <td> 0.343</td> <td>   -0.156</td> <td>    0.054</td>\n",
              "</tr>\n",
              "<tr>\n",
              "  <th>EBIT/P</th>                <td>    0.0264</td> <td>    0.066</td> <td>    0.402</td> <td> 0.688</td> <td>   -0.102</td> <td>    0.155</td>\n",
              "</tr>\n",
              "<tr>\n",
              "  <th>S/P</th>                   <td>    0.0032</td> <td>    0.004</td> <td>    0.838</td> <td> 0.402</td> <td>   -0.004</td> <td>    0.011</td>\n",
              "</tr>\n",
              "<tr>\n",
              "  <th>CF/P</th>                  <td>    0.1227</td> <td>    0.042</td> <td>    2.932</td> <td> 0.003</td> <td>    0.041</td> <td>    0.205</td>\n",
              "</tr>\n",
              "<tr>\n",
              "  <th>1/Financial Leverage</th>  <td>   -0.0373</td> <td>    0.020</td> <td>   -1.838</td> <td> 0.066</td> <td>   -0.077</td> <td>    0.003</td>\n",
              "</tr>\n",
              "<tr>\n",
              "  <th>1/ROE</th>                 <td>  3.19e-05</td> <td> 1.41e-05</td> <td>    2.262</td> <td> 0.024</td> <td> 4.25e-06</td> <td> 5.96e-05</td>\n",
              "</tr>\n",
              "<tr>\n",
              "  <th>ggroup_1010</th>           <td>    0.5176</td> <td>    0.025</td> <td>   20.924</td> <td> 0.000</td> <td>    0.469</td> <td>    0.566</td>\n",
              "</tr>\n",
              "<tr>\n",
              "  <th>ggroup_1510</th>           <td>    0.0930</td> <td>    0.020</td> <td>    4.634</td> <td> 0.000</td> <td>    0.054</td> <td>    0.132</td>\n",
              "</tr>\n",
              "<tr>\n",
              "  <th>ggroup_2010</th>           <td>   -0.0321</td> <td>    0.015</td> <td>   -2.118</td> <td> 0.034</td> <td>   -0.062</td> <td>   -0.002</td>\n",
              "</tr>\n",
              "<tr>\n",
              "  <th>ggroup_2020</th>           <td>    0.0164</td> <td>    0.024</td> <td>    0.682</td> <td> 0.495</td> <td>   -0.031</td> <td>    0.064</td>\n",
              "</tr>\n",
              "<tr>\n",
              "  <th>ggroup_2030</th>           <td>   -0.0478</td> <td>    0.031</td> <td>   -1.553</td> <td> 0.121</td> <td>   -0.108</td> <td>    0.013</td>\n",
              "</tr>\n",
              "<tr>\n",
              "  <th>ggroup_2510</th>           <td>   -0.1626</td> <td>    0.038</td> <td>   -4.254</td> <td> 0.000</td> <td>   -0.238</td> <td>   -0.088</td>\n",
              "</tr>\n",
              "<tr>\n",
              "  <th>ggroup_2520</th>           <td>   -0.1541</td> <td>    0.024</td> <td>   -6.291</td> <td> 0.000</td> <td>   -0.202</td> <td>   -0.106</td>\n",
              "</tr>\n",
              "<tr>\n",
              "  <th>ggroup_2530</th>           <td>   -0.0025</td> <td>    0.025</td> <td>   -0.103</td> <td> 0.918</td> <td>   -0.051</td> <td>    0.046</td>\n",
              "</tr>\n",
              "<tr>\n",
              "  <th>ggroup_2550</th>           <td>   -0.1038</td> <td>    0.022</td> <td>   -4.744</td> <td> 0.000</td> <td>   -0.147</td> <td>   -0.061</td>\n",
              "</tr>\n",
              "<tr>\n",
              "  <th>ggroup_3010</th>           <td>    0.1104</td> <td>    0.048</td> <td>    2.295</td> <td> 0.022</td> <td>    0.016</td> <td>    0.205</td>\n",
              "</tr>\n",
              "<tr>\n",
              "  <th>ggroup_3020</th>           <td>    0.0833</td> <td>    0.029</td> <td>    2.888</td> <td> 0.004</td> <td>    0.027</td> <td>    0.140</td>\n",
              "</tr>\n",
              "<tr>\n",
              "  <th>ggroup_3030</th>           <td>   -0.0944</td> <td>    0.046</td> <td>   -2.072</td> <td> 0.038</td> <td>   -0.184</td> <td>   -0.005</td>\n",
              "</tr>\n",
              "<tr>\n",
              "  <th>ggroup_3510</th>           <td>    0.0422</td> <td>    0.019</td> <td>    2.257</td> <td> 0.024</td> <td>    0.006</td> <td>    0.079</td>\n",
              "</tr>\n",
              "<tr>\n",
              "  <th>ggroup_3520</th>           <td>    0.0102</td> <td>    0.019</td> <td>    0.535</td> <td> 0.593</td> <td>   -0.027</td> <td>    0.048</td>\n",
              "</tr>\n",
              "<tr>\n",
              "  <th>ggroup_4010</th>           <td>   -0.1062</td> <td>    0.019</td> <td>   -5.737</td> <td> 0.000</td> <td>   -0.143</td> <td>   -0.070</td>\n",
              "</tr>\n",
              "<tr>\n",
              "  <th>ggroup_4020</th>           <td>   -0.1051</td> <td>    0.022</td> <td>   -4.870</td> <td> 0.000</td> <td>   -0.147</td> <td>   -0.063</td>\n",
              "</tr>\n",
              "<tr>\n",
              "  <th>ggroup_4030</th>           <td>   -0.0192</td> <td>    0.027</td> <td>   -0.722</td> <td> 0.471</td> <td>   -0.071</td> <td>    0.033</td>\n",
              "</tr>\n",
              "<tr>\n",
              "  <th>ggroup_4510</th>           <td>    0.0074</td> <td>    0.019</td> <td>    0.390</td> <td> 0.697</td> <td>   -0.030</td> <td>    0.045</td>\n",
              "</tr>\n",
              "<tr>\n",
              "  <th>ggroup_4520</th>           <td>   -0.0922</td> <td>    0.022</td> <td>   -4.279</td> <td> 0.000</td> <td>   -0.134</td> <td>   -0.050</td>\n",
              "</tr>\n",
              "<tr>\n",
              "  <th>ggroup_4530</th>           <td>   -0.1484</td> <td>    0.027</td> <td>   -5.598</td> <td> 0.000</td> <td>   -0.200</td> <td>   -0.096</td>\n",
              "</tr>\n",
              "<tr>\n",
              "  <th>ggroup_5010</th>           <td>    0.0226</td> <td>    0.053</td> <td>    0.426</td> <td> 0.670</td> <td>   -0.082</td> <td>    0.127</td>\n",
              "</tr>\n",
              "<tr>\n",
              "  <th>ggroup_5020</th>           <td>    0.0036</td> <td>    0.029</td> <td>    0.123</td> <td> 0.902</td> <td>   -0.054</td> <td>    0.061</td>\n",
              "</tr>\n",
              "<tr>\n",
              "  <th>ggroup_5510</th>           <td>    0.0740</td> <td>    0.026</td> <td>    2.843</td> <td> 0.005</td> <td>    0.023</td> <td>    0.125</td>\n",
              "</tr>\n",
              "<tr>\n",
              "  <th>ggroup_6010</th>           <td>    0.0074</td> <td>    0.018</td> <td>    0.413</td> <td> 0.680</td> <td>   -0.028</td> <td>    0.042</td>\n",
              "</tr>\n",
              "</table>\n",
              "<table class=\"simpletable\">\n",
              "<tr>\n",
              "  <th>Omnibus:</th>       <td>460.721</td> <th>  Durbin-Watson:     </th> <td>   2.031</td>\n",
              "</tr>\n",
              "<tr>\n",
              "  <th>Prob(Omnibus):</th> <td> 0.000</td>  <th>  Jarque-Bera (JB):  </th> <td>2743.333</td>\n",
              "</tr>\n",
              "<tr>\n",
              "  <th>Skew:</th>          <td> 1.009</td>  <th>  Prob(JB):          </th> <td>    0.00</td>\n",
              "</tr>\n",
              "<tr>\n",
              "  <th>Kurtosis:</th>      <td> 8.553</td>  <th>  Cond. No.          </th> <td>3.38e+16</td>\n",
              "</tr>\n",
              "</table><br/><br/>Warnings:<br/>[1] Standard Errors assume that the covariance matrix of the errors is correctly specified.<br/>[2] The smallest eigenvalue is 1.67e-25. This might indicate that there are<br/>strong multicollinearity problems or that the design matrix is singular."
            ]
          },
          "metadata": {},
          "execution_count": 88
        }
      ]
    },
    {
      "cell_type": "markdown",
      "source": [
        "Remove several statistically insignificant variables, the r-squared and adj r-squared are exactly the same. Thus we keep the second one.\n",
        "\n"
      ],
      "metadata": {
        "id": "AK0sZbIDoW4l"
      }
    },
    {
      "cell_type": "code",
      "source": [
        "# concating Xs from above 3 reg models\n",
        "X = pd.concat([risk_regression_data.iloc[:, -3:], \n",
        "               fin_char_data[['ROA', \n",
        "                              # 'Net Profit Margin', 'Inventory Turnover', 'EBIT/P',\n",
        "                              'Dividend Payout Ratio', 'Dividend Yield', 'B/P', 'E/P',\n",
        "                              'S/P', 'CF/P', '1/Financial Leverage', '1/ROE']], \n",
        "               industry_dummies[industry_dummies.columns[-24:]]], axis=1, join=\"inner\")\n",
        "# add constant\n",
        "X = sm.add_constant(X)\n",
        "\n",
        "# pass x as a dataframe, while pass y as a series\n",
        "sm.OLS(y, X).fit().summary()"
      ],
      "metadata": {
        "colab": {
          "base_uri": "https://localhost:8080/",
          "height": 1000
        },
        "id": "feHhqbdaGqaK",
        "outputId": "b8a60b03-54d8-4ef7-8ca8-a587e0eb125e"
      },
      "execution_count": 89,
      "outputs": [
        {
          "output_type": "execute_result",
          "data": {
            "text/plain": [
              "<class 'statsmodels.iolib.summary.Summary'>\n",
              "\"\"\"\n",
              "                            OLS Regression Results                            \n",
              "==============================================================================\n",
              "Dep. Variable:                 RetYTD   R-squared:                       0.384\n",
              "Model:                            OLS   Adj. R-squared:                  0.372\n",
              "Method:                 Least Squares   F-statistic:                     32.93\n",
              "Date:                Wed, 27 Apr 2022   Prob (F-statistic):          4.57e-167\n",
              "Time:                        01:37:17   Log-Likelihood:                 443.01\n",
              "No. Observations:                1886   AIC:                            -814.0\n",
              "Df Residuals:                    1850   BIC:                            -614.5\n",
              "Df Model:                          35                                         \n",
              "Covariance Type:            nonrobust                                         \n",
              "=========================================================================================\n",
              "                            coef    std err          t      P>|t|      [0.025      0.975]\n",
              "-----------------------------------------------------------------------------------------\n",
              "const                    -0.0793      0.014     -5.566      0.000      -0.107      -0.051\n",
              "mktrf                    -0.0154      0.008     -1.897      0.058      -0.031       0.001\n",
              "smb                      -0.0176      0.004     -4.192      0.000      -0.026      -0.009\n",
              "hml                       0.0663      0.009      7.784      0.000       0.050       0.083\n",
              "ROA                       0.0710      0.040      1.798      0.072      -0.006       0.149\n",
              "Dividend Payout Ratio    -0.0007      0.001     -0.524      0.601      -0.003       0.002\n",
              "Dividend Yield            0.2131      0.205      1.038      0.299      -0.189       0.616\n",
              "B/P                       0.0586      0.014      4.229      0.000       0.031       0.086\n",
              "E/P                      -0.0377      0.043     -0.871      0.384      -0.123       0.047\n",
              "S/P                       0.0036      0.004      0.975      0.329      -0.004       0.011\n",
              "CF/P                      0.1280      0.040      3.233      0.001       0.050       0.206\n",
              "1/Financial Leverage     -0.0384      0.020     -1.901      0.058      -0.078       0.001\n",
              "1/ROE                  3.206e-05   1.41e-05      2.275      0.023    4.42e-06    5.97e-05\n",
              "ggroup_1010               0.5175      0.025     20.935      0.000       0.469       0.566\n",
              "ggroup_1510               0.0928      0.020      4.637      0.000       0.054       0.132\n",
              "ggroup_2010              -0.0325      0.015     -2.144      0.032      -0.062      -0.003\n",
              "ggroup_2020               0.0164      0.024      0.683      0.495      -0.031       0.064\n",
              "ggroup_2030              -0.0484      0.030     -1.590      0.112      -0.108       0.011\n",
              "ggroup_2510              -0.1625      0.038     -4.254      0.000      -0.237      -0.088\n",
              "ggroup_2520              -0.1541      0.024     -6.302      0.000      -0.202      -0.106\n",
              "ggroup_2530              -0.0025      0.025     -0.102      0.919      -0.051       0.046\n",
              "ggroup_2550              -0.1051      0.022     -4.844      0.000      -0.148      -0.063\n",
              "ggroup_3010               0.1085      0.048      2.263      0.024       0.014       0.203\n",
              "ggroup_3020               0.0831      0.029      2.882      0.004       0.027       0.140\n",
              "ggroup_3030              -0.0950      0.046     -2.087      0.037      -0.184      -0.006\n",
              "ggroup_3510               0.0435      0.019      2.340      0.019       0.007       0.080\n",
              "ggroup_3520               0.0103      0.019      0.540      0.589      -0.027       0.048\n",
              "ggroup_4010              -0.1050      0.018     -5.842      0.000      -0.140      -0.070\n",
              "ggroup_4020              -0.1037      0.021     -4.879      0.000      -0.145      -0.062\n",
              "ggroup_4030              -0.0167      0.026     -0.635      0.525      -0.068       0.035\n",
              "ggroup_4510               0.0072      0.019      0.382      0.703      -0.030       0.044\n",
              "ggroup_4520              -0.0927      0.022     -4.308      0.000      -0.135      -0.051\n",
              "ggroup_4530              -0.1491      0.026     -5.631      0.000      -0.201      -0.097\n",
              "ggroup_5010               0.0216      0.053      0.407      0.684      -0.083       0.126\n",
              "ggroup_5020               0.0053      0.029      0.181      0.856      -0.052       0.063\n",
              "ggroup_5510               0.0743      0.026      2.869      0.004       0.024       0.125\n",
              "ggroup_6010               0.0075      0.018      0.417      0.677      -0.028       0.043\n",
              "==============================================================================\n",
              "Omnibus:                      456.951   Durbin-Watson:                   2.030\n",
              "Prob(Omnibus):                  0.000   Jarque-Bera (JB):             2710.028\n",
              "Skew:                           1.001   Prob(JB):                         0.00\n",
              "Kurtosis:                       8.521   Cond. No.                     3.34e+16\n",
              "==============================================================================\n",
              "\n",
              "Warnings:\n",
              "[1] Standard Errors assume that the covariance matrix of the errors is correctly specified.\n",
              "[2] The smallest eigenvalue is 1.72e-25. This might indicate that there are\n",
              "strong multicollinearity problems or that the design matrix is singular.\n",
              "\"\"\""
            ],
            "text/html": [
              "<table class=\"simpletable\">\n",
              "<caption>OLS Regression Results</caption>\n",
              "<tr>\n",
              "  <th>Dep. Variable:</th>         <td>RetYTD</td>      <th>  R-squared:         </th> <td>   0.384</td> \n",
              "</tr>\n",
              "<tr>\n",
              "  <th>Model:</th>                   <td>OLS</td>       <th>  Adj. R-squared:    </th> <td>   0.372</td> \n",
              "</tr>\n",
              "<tr>\n",
              "  <th>Method:</th>             <td>Least Squares</td>  <th>  F-statistic:       </th> <td>   32.93</td> \n",
              "</tr>\n",
              "<tr>\n",
              "  <th>Date:</th>             <td>Wed, 27 Apr 2022</td> <th>  Prob (F-statistic):</th> <td>4.57e-167</td>\n",
              "</tr>\n",
              "<tr>\n",
              "  <th>Time:</th>                 <td>01:37:17</td>     <th>  Log-Likelihood:    </th> <td>  443.01</td> \n",
              "</tr>\n",
              "<tr>\n",
              "  <th>No. Observations:</th>      <td>  1886</td>      <th>  AIC:               </th> <td>  -814.0</td> \n",
              "</tr>\n",
              "<tr>\n",
              "  <th>Df Residuals:</th>          <td>  1850</td>      <th>  BIC:               </th> <td>  -614.5</td> \n",
              "</tr>\n",
              "<tr>\n",
              "  <th>Df Model:</th>              <td>    35</td>      <th>                     </th>     <td> </td>    \n",
              "</tr>\n",
              "<tr>\n",
              "  <th>Covariance Type:</th>      <td>nonrobust</td>    <th>                     </th>     <td> </td>    \n",
              "</tr>\n",
              "</table>\n",
              "<table class=\"simpletable\">\n",
              "<tr>\n",
              "            <td></td>               <th>coef</th>     <th>std err</th>      <th>t</th>      <th>P>|t|</th>  <th>[0.025</th>    <th>0.975]</th>  \n",
              "</tr>\n",
              "<tr>\n",
              "  <th>const</th>                 <td>   -0.0793</td> <td>    0.014</td> <td>   -5.566</td> <td> 0.000</td> <td>   -0.107</td> <td>   -0.051</td>\n",
              "</tr>\n",
              "<tr>\n",
              "  <th>mktrf</th>                 <td>   -0.0154</td> <td>    0.008</td> <td>   -1.897</td> <td> 0.058</td> <td>   -0.031</td> <td>    0.001</td>\n",
              "</tr>\n",
              "<tr>\n",
              "  <th>smb</th>                   <td>   -0.0176</td> <td>    0.004</td> <td>   -4.192</td> <td> 0.000</td> <td>   -0.026</td> <td>   -0.009</td>\n",
              "</tr>\n",
              "<tr>\n",
              "  <th>hml</th>                   <td>    0.0663</td> <td>    0.009</td> <td>    7.784</td> <td> 0.000</td> <td>    0.050</td> <td>    0.083</td>\n",
              "</tr>\n",
              "<tr>\n",
              "  <th>ROA</th>                   <td>    0.0710</td> <td>    0.040</td> <td>    1.798</td> <td> 0.072</td> <td>   -0.006</td> <td>    0.149</td>\n",
              "</tr>\n",
              "<tr>\n",
              "  <th>Dividend Payout Ratio</th> <td>   -0.0007</td> <td>    0.001</td> <td>   -0.524</td> <td> 0.601</td> <td>   -0.003</td> <td>    0.002</td>\n",
              "</tr>\n",
              "<tr>\n",
              "  <th>Dividend Yield</th>        <td>    0.2131</td> <td>    0.205</td> <td>    1.038</td> <td> 0.299</td> <td>   -0.189</td> <td>    0.616</td>\n",
              "</tr>\n",
              "<tr>\n",
              "  <th>B/P</th>                   <td>    0.0586</td> <td>    0.014</td> <td>    4.229</td> <td> 0.000</td> <td>    0.031</td> <td>    0.086</td>\n",
              "</tr>\n",
              "<tr>\n",
              "  <th>E/P</th>                   <td>   -0.0377</td> <td>    0.043</td> <td>   -0.871</td> <td> 0.384</td> <td>   -0.123</td> <td>    0.047</td>\n",
              "</tr>\n",
              "<tr>\n",
              "  <th>S/P</th>                   <td>    0.0036</td> <td>    0.004</td> <td>    0.975</td> <td> 0.329</td> <td>   -0.004</td> <td>    0.011</td>\n",
              "</tr>\n",
              "<tr>\n",
              "  <th>CF/P</th>                  <td>    0.1280</td> <td>    0.040</td> <td>    3.233</td> <td> 0.001</td> <td>    0.050</td> <td>    0.206</td>\n",
              "</tr>\n",
              "<tr>\n",
              "  <th>1/Financial Leverage</th>  <td>   -0.0384</td> <td>    0.020</td> <td>   -1.901</td> <td> 0.058</td> <td>   -0.078</td> <td>    0.001</td>\n",
              "</tr>\n",
              "<tr>\n",
              "  <th>1/ROE</th>                 <td> 3.206e-05</td> <td> 1.41e-05</td> <td>    2.275</td> <td> 0.023</td> <td> 4.42e-06</td> <td> 5.97e-05</td>\n",
              "</tr>\n",
              "<tr>\n",
              "  <th>ggroup_1010</th>           <td>    0.5175</td> <td>    0.025</td> <td>   20.935</td> <td> 0.000</td> <td>    0.469</td> <td>    0.566</td>\n",
              "</tr>\n",
              "<tr>\n",
              "  <th>ggroup_1510</th>           <td>    0.0928</td> <td>    0.020</td> <td>    4.637</td> <td> 0.000</td> <td>    0.054</td> <td>    0.132</td>\n",
              "</tr>\n",
              "<tr>\n",
              "  <th>ggroup_2010</th>           <td>   -0.0325</td> <td>    0.015</td> <td>   -2.144</td> <td> 0.032</td> <td>   -0.062</td> <td>   -0.003</td>\n",
              "</tr>\n",
              "<tr>\n",
              "  <th>ggroup_2020</th>           <td>    0.0164</td> <td>    0.024</td> <td>    0.683</td> <td> 0.495</td> <td>   -0.031</td> <td>    0.064</td>\n",
              "</tr>\n",
              "<tr>\n",
              "  <th>ggroup_2030</th>           <td>   -0.0484</td> <td>    0.030</td> <td>   -1.590</td> <td> 0.112</td> <td>   -0.108</td> <td>    0.011</td>\n",
              "</tr>\n",
              "<tr>\n",
              "  <th>ggroup_2510</th>           <td>   -0.1625</td> <td>    0.038</td> <td>   -4.254</td> <td> 0.000</td> <td>   -0.237</td> <td>   -0.088</td>\n",
              "</tr>\n",
              "<tr>\n",
              "  <th>ggroup_2520</th>           <td>   -0.1541</td> <td>    0.024</td> <td>   -6.302</td> <td> 0.000</td> <td>   -0.202</td> <td>   -0.106</td>\n",
              "</tr>\n",
              "<tr>\n",
              "  <th>ggroup_2530</th>           <td>   -0.0025</td> <td>    0.025</td> <td>   -0.102</td> <td> 0.919</td> <td>   -0.051</td> <td>    0.046</td>\n",
              "</tr>\n",
              "<tr>\n",
              "  <th>ggroup_2550</th>           <td>   -0.1051</td> <td>    0.022</td> <td>   -4.844</td> <td> 0.000</td> <td>   -0.148</td> <td>   -0.063</td>\n",
              "</tr>\n",
              "<tr>\n",
              "  <th>ggroup_3010</th>           <td>    0.1085</td> <td>    0.048</td> <td>    2.263</td> <td> 0.024</td> <td>    0.014</td> <td>    0.203</td>\n",
              "</tr>\n",
              "<tr>\n",
              "  <th>ggroup_3020</th>           <td>    0.0831</td> <td>    0.029</td> <td>    2.882</td> <td> 0.004</td> <td>    0.027</td> <td>    0.140</td>\n",
              "</tr>\n",
              "<tr>\n",
              "  <th>ggroup_3030</th>           <td>   -0.0950</td> <td>    0.046</td> <td>   -2.087</td> <td> 0.037</td> <td>   -0.184</td> <td>   -0.006</td>\n",
              "</tr>\n",
              "<tr>\n",
              "  <th>ggroup_3510</th>           <td>    0.0435</td> <td>    0.019</td> <td>    2.340</td> <td> 0.019</td> <td>    0.007</td> <td>    0.080</td>\n",
              "</tr>\n",
              "<tr>\n",
              "  <th>ggroup_3520</th>           <td>    0.0103</td> <td>    0.019</td> <td>    0.540</td> <td> 0.589</td> <td>   -0.027</td> <td>    0.048</td>\n",
              "</tr>\n",
              "<tr>\n",
              "  <th>ggroup_4010</th>           <td>   -0.1050</td> <td>    0.018</td> <td>   -5.842</td> <td> 0.000</td> <td>   -0.140</td> <td>   -0.070</td>\n",
              "</tr>\n",
              "<tr>\n",
              "  <th>ggroup_4020</th>           <td>   -0.1037</td> <td>    0.021</td> <td>   -4.879</td> <td> 0.000</td> <td>   -0.145</td> <td>   -0.062</td>\n",
              "</tr>\n",
              "<tr>\n",
              "  <th>ggroup_4030</th>           <td>   -0.0167</td> <td>    0.026</td> <td>   -0.635</td> <td> 0.525</td> <td>   -0.068</td> <td>    0.035</td>\n",
              "</tr>\n",
              "<tr>\n",
              "  <th>ggroup_4510</th>           <td>    0.0072</td> <td>    0.019</td> <td>    0.382</td> <td> 0.703</td> <td>   -0.030</td> <td>    0.044</td>\n",
              "</tr>\n",
              "<tr>\n",
              "  <th>ggroup_4520</th>           <td>   -0.0927</td> <td>    0.022</td> <td>   -4.308</td> <td> 0.000</td> <td>   -0.135</td> <td>   -0.051</td>\n",
              "</tr>\n",
              "<tr>\n",
              "  <th>ggroup_4530</th>           <td>   -0.1491</td> <td>    0.026</td> <td>   -5.631</td> <td> 0.000</td> <td>   -0.201</td> <td>   -0.097</td>\n",
              "</tr>\n",
              "<tr>\n",
              "  <th>ggroup_5010</th>           <td>    0.0216</td> <td>    0.053</td> <td>    0.407</td> <td> 0.684</td> <td>   -0.083</td> <td>    0.126</td>\n",
              "</tr>\n",
              "<tr>\n",
              "  <th>ggroup_5020</th>           <td>    0.0053</td> <td>    0.029</td> <td>    0.181</td> <td> 0.856</td> <td>   -0.052</td> <td>    0.063</td>\n",
              "</tr>\n",
              "<tr>\n",
              "  <th>ggroup_5510</th>           <td>    0.0743</td> <td>    0.026</td> <td>    2.869</td> <td> 0.004</td> <td>    0.024</td> <td>    0.125</td>\n",
              "</tr>\n",
              "<tr>\n",
              "  <th>ggroup_6010</th>           <td>    0.0075</td> <td>    0.018</td> <td>    0.417</td> <td> 0.677</td> <td>   -0.028</td> <td>    0.043</td>\n",
              "</tr>\n",
              "</table>\n",
              "<table class=\"simpletable\">\n",
              "<tr>\n",
              "  <th>Omnibus:</th>       <td>456.951</td> <th>  Durbin-Watson:     </th> <td>   2.030</td>\n",
              "</tr>\n",
              "<tr>\n",
              "  <th>Prob(Omnibus):</th> <td> 0.000</td>  <th>  Jarque-Bera (JB):  </th> <td>2710.028</td>\n",
              "</tr>\n",
              "<tr>\n",
              "  <th>Skew:</th>          <td> 1.001</td>  <th>  Prob(JB):          </th> <td>    0.00</td>\n",
              "</tr>\n",
              "<tr>\n",
              "  <th>Kurtosis:</th>      <td> 8.521</td>  <th>  Cond. No.          </th> <td>3.34e+16</td>\n",
              "</tr>\n",
              "</table><br/><br/>Warnings:<br/>[1] Standard Errors assume that the covariance matrix of the errors is correctly specified.<br/>[2] The smallest eigenvalue is 1.72e-25. This might indicate that there are<br/>strong multicollinearity problems or that the design matrix is singular."
            ]
          },
          "metadata": {},
          "execution_count": 89
        }
      ]
    },
    {
      "cell_type": "markdown",
      "source": [
        "### Interpretations:\n",
        "\n",
        "With the 3 risk exposure factors, 9 financial ratios, and 23 dummy variables as industry indicators, the final regression model returns with an r-squared as 0.384 and the adjusted r-squared is 0.372.\n",
        "\n",
        "These regression outputs indicate the explanatory power of all the 35 predictors of 2021 on early 2022's stock return is higher than each single one of the previous 3 models. \n",
        "\n",
        "Also, the higher adjust r-squared illustrates the new term compared with industry dummies fixed effect regression (risk exposure & financial ratios) improves the model more than would be expected by chance.\n",
        "\n",
        "\n",
        "From all these predictors:\n",
        "- 6 of 9 financial ratios with a p-value greater than 0.05 are not statistically significant, which are ROA, Divident Payout Ratio, Dividend Yield, E/P, S/P, 1/Financial Leverage. Still, this may caused because financial ratios only measures company operation performance, but it cannot capture factors outside stock market in advance.\n",
        "\n",
        "- Dummy variable ggroup_1010 has the highest impact on early 2022's stock return change, the difference between whether a stock is in Energy sector or not is 0.5175.\n",
        "- Dividend Yield has the second largest correlation on stock return change, specifically, a 1% change in this ratio would lead to 21.31% increase in stock return.\n",
        "\n",
        "\n",
        "Conclusions:\n",
        "- A company’s stock return in early 2022 tends to be dominated by its corresponding industry sector\n",
        "- Many financial ratios are not statistically significant when running regression on stock return, because these ratios can only explain the operating performance of companies, but cannot capture the uncertainties outside the stock market\n",
        "\n",
        "Recommendations for Investors:\n",
        "- To minimize the loss when there is a stock market shock caused by external factors outside the market, better to diversify stock portfolio \n",
        "- Select dividends-paying stocks (strong positive correlation with stock return in early 2022)\n",
        "- Choose high-quality stocks (valued stocks are more prone to generate a higher stock return in early 2022)\n",
        "\n",
        "\n",
        "\n",
        "\n",
        "\n"
      ],
      "metadata": {
        "id": "W1VjhwuetHeV"
      }
    }
  ]
}